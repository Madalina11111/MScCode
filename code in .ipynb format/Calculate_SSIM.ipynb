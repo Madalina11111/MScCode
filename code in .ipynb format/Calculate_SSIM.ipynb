{
  "nbformat": 4,
  "nbformat_minor": 0,
  "metadata": {
    "colab": {
      "name": "Calculate SSIM.ipynb",
      "provenance": [],
      "collapsed_sections": []
    },
    "kernelspec": {
      "display_name": "Python 3",
      "name": "python3"
    },
    "language_info": {
      "name": "python"
    }
  },
  "cells": [
    {
      "cell_type": "code",
      "metadata": {
        "id": "IYx0rmys1kLn"
      },
      "source": [
        "from skimage.measure import compare_ssim as ssim\n",
        "import cv2\n",
        "import os"
      ],
      "execution_count": null,
      "outputs": []
    },
    {
      "cell_type": "code",
      "metadata": {
        "colab": {
          "base_uri": "https://localhost:8080/"
        },
        "id": "mHHG6DnR3OfP",
        "outputId": "1e6f60c3-284c-4062-ac68-9de7586b2165"
      },
      "source": [
        "from google.colab import drive\n",
        "drive.mount('/content/gdrive')"
      ],
      "execution_count": null,
      "outputs": [
        {
          "output_type": "stream",
          "text": [
            "Mounted at /content/gdrive\n"
          ],
          "name": "stdout"
        }
      ]
    },
    {
      "cell_type": "code",
      "metadata": {
        "id": "Gkiod10e1uym"
      },
      "source": [
        "directory_real_class_4 = \"/content/gdrive/My Drive/Kaggle/randomly selected preprocessed/class 3/\"\n",
        "directory_fake = \"/content/gdrive/My Drive/Kaggle/randomly selected preprocessed/class 1/\"\n",
        "ssim_average = 0\n",
        "i = 0\n",
        "for real_image in os.listdir(directory_real_class_4):\n",
        "  for fake_image in os.listdir(directory_fake):\n",
        "    img_real = cv2.imread(directory_real_class_4 + real_image)\n",
        "    img_real = cv2.cvtColor(img_real, cv2.COLOR_BGR2RGB)\n",
        "    img_fake = cv2.imread(directory_fake + fake_image)\n",
        "    img_fake = cv2.cvtColor(img_fake, cv2.COLOR_BGR2RGB)\n",
        "    img_real = cv2.resize(img_real, (128, 128))\n",
        "    img_fake = cv2.resize(img_fake, (128, 128))\n",
        "    ssim_none = ssim(img_real, img_fake, multichannel=True)\n",
        "    ssim_average += ssim_none\n",
        "    i+=1\n",
        "    print(i)\n",
        "ssim_average = ssim_average/i\n",
        "print(\"---------------\")\n",
        "print(ssim_average)"
      ],
      "execution_count": null,
      "outputs": []
    },
    {
      "cell_type": "code",
      "metadata": {
        "id": "N1l4RbQOysOA"
      },
      "source": [
        "directory_IDRID = r\"/content/gdrive/My Drive/Kaggle/fake 89\"\n",
        "directory_Kaggle = r\"/content/gdrive/My Drive/Kaggle/preprocessing class 4\"\n",
        "\n",
        "ssim_sum = 0\n",
        "iter = 0\n",
        "for filename_IDRiD in os.listdir(directory_IDRID):\n",
        "  img1 = cv2.imread(directory_IDRID + '/' + filename_IDRiD)\n",
        "  img1 = cv2.resize(img1, (128, 128))\n",
        "  for filename_Kaggle in os.listdir(directory_Kaggle):\n",
        "    img2 = cv2.imread(directory_Kaggle + '/' + filename_Kaggle)\n",
        "    try:\n",
        "        img2 = cv2.resize(img2, (128, 128))\n",
        "        ssim_none = ssim(img1, img2, multichannel=True)\n",
        "        ssim_sum += ssim_none\n",
        "        print(ssim_none)\n",
        "        print(iter)\n",
        "        iter += 1\n",
        "        print(\"----------\")\n",
        "    except:\n",
        "      print(\"filename_Kaggle\")\n",
        "    "
      ],
      "execution_count": null,
      "outputs": []
    },
    {
      "cell_type": "code",
      "metadata": {
        "id": "05YqWnRiiVCB"
      },
      "source": [
        "print(ssim_sum/iter)"
      ],
      "execution_count": null,
      "outputs": []
    }
  ]
}