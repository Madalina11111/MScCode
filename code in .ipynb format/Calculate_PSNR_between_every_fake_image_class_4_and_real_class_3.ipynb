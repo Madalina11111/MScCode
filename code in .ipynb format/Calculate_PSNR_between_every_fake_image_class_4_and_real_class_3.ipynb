{
  "nbformat": 4,
  "nbformat_minor": 0,
  "metadata": {
    "colab": {
      "name": "Calculate PSNR between every fake image class 4 and real class 3.ipynb",
      "provenance": [],
      "collapsed_sections": []
    },
    "kernelspec": {
      "name": "python3",
      "display_name": "Python 3"
    },
    "language_info": {
      "name": "python"
    }
  },
  "cells": [
    {
      "cell_type": "code",
      "metadata": {
        "id": "B9T9LxjY64qz"
      },
      "source": [
        "from math import log10, sqrt\n",
        "import cv2\n",
        "import numpy as np\n",
        "import os"
      ],
      "execution_count": null,
      "outputs": []
    },
    {
      "cell_type": "code",
      "metadata": {
        "colab": {
          "base_uri": "https://localhost:8080/"
        },
        "id": "I4R8305n7ESP",
        "outputId": "1d1be10a-df61-4c78-c33c-d515533056b8"
      },
      "source": [
        "from google.colab import drive\n",
        "drive.mount('/content/gdrive')"
      ],
      "execution_count": null,
      "outputs": [
        {
          "output_type": "stream",
          "text": [
            "Mounted at /content/gdrive\n"
          ],
          "name": "stdout"
        }
      ]
    },
    {
      "cell_type": "code",
      "metadata": {
        "id": "MfCgXe9V6yMJ"
      },
      "source": [
        "def PSNR(original, to_compare_with):\n",
        "    mse = np.mean((original - to_compare_with) ** 2)\n",
        "    if(mse == 0):\n",
        "        return 100\n",
        "    max_pixel = 255.0\n",
        "    psnr = 20 * log10(max_pixel / sqrt(mse))\n",
        "    return psnr"
      ],
      "execution_count": null,
      "outputs": []
    },
    {
      "cell_type": "code",
      "metadata": {
        "id": "MzAdT1zc7Jgh",
        "colab": {
          "base_uri": "https://localhost:8080/"
        },
        "outputId": "7e5db73b-7aa2-4f98-f4ee-d8d29d4cadcb"
      },
      "source": [
        "directory_real_class_4 = \"/content/gdrive/My Drive/Kaggle/randomly selected preprocessed/class 3/\"\n",
        "directory_fake = \"/content/gdrive/My Drive/img_retina_Kaggle_class_4_state_of_art_GAN/9/\"\n",
        "psnr_averages = []\n",
        "for fake_image in os.listdir(directory_fake):\n",
        "  PSNR_average = 0\n",
        "  i = 0\n",
        "  for real_image in os.listdir(directory_real_class_4):\n",
        "    img_real = cv2.imread(directory_real_class_4 + real_image)\n",
        "    img_fake = cv2.imread(directory_fake + fake_image)\n",
        "    img_real = cv2.resize(img_real, (128, 128))\n",
        "    img_fake = cv2.resize(img_fake, (128, 128))\n",
        "    PSNR_none = PSNR(img_real, img_fake)\n",
        "    PSNR_average += PSNR_none\n",
        "    i+=1\n",
        "  PSNR_average = PSNR_average/i\n",
        "  psnr_averages.append(PSNR_average)\n",
        "  #print(fake_image + \" \" + str(PSNR_average))\n",
        "print(min(psnr_averages))\n",
        "print(max(psnr_averages))"
      ],
      "execution_count": null,
      "outputs": [
        {
          "output_type": "stream",
          "text": [
            "28.427783197539576\n",
            "28.516438363002298\n"
          ],
          "name": "stdout"
        }
      ]
    },
    {
      "cell_type": "code",
      "metadata": {
        "id": "bP5einoYu5gD",
        "colab": {
          "base_uri": "https://localhost:8080/"
        },
        "outputId": "bdf909e1-b043-4afd-94e8-c0a0125b8b51"
      },
      "source": [
        "directory_real_class_4 = \"/content/gdrive/My Drive/Kaggle/randomly selected preprocessed/class 3/\"\n",
        "directory_fake = \"/content/gdrive/My Drive/img_retina_Kaggle_class_4_state_of_art_GAN/19/\"\n",
        "psnr_averages = []\n",
        "for fake_image in os.listdir(directory_fake):\n",
        "  PSNR_average = 0\n",
        "  i = 0\n",
        "  for real_image in os.listdir(directory_real_class_4):\n",
        "    img_real = cv2.imread(directory_real_class_4 + real_image)\n",
        "    img_fake = cv2.imread(directory_fake + fake_image)\n",
        "    img_real = cv2.resize(img_real, (128, 128))\n",
        "    img_fake = cv2.resize(img_fake, (128, 128))\n",
        "    PSNR_none = PSNR(img_real, img_fake)\n",
        "    PSNR_average += PSNR_none\n",
        "    i+=1\n",
        "  PSNR_average = PSNR_average/i\n",
        "  psnr_averages.append(PSNR_average)\n",
        "  #print(fake_image + \" \" + str(PSNR_average))\n",
        "print(min(psnr_averages))\n",
        "print(max(psnr_averages))"
      ],
      "execution_count": null,
      "outputs": [
        {
          "output_type": "stream",
          "text": [
            "28.28042001660097\n",
            "28.31748883398801\n"
          ],
          "name": "stdout"
        }
      ]
    },
    {
      "cell_type": "code",
      "metadata": {
        "id": "wMDwKBJ6xA47",
        "colab": {
          "base_uri": "https://localhost:8080/"
        },
        "outputId": "7ff6f20d-d6f0-457f-cd24-51d85f8bed19"
      },
      "source": [
        "directory_real_class_4 = \"/content/gdrive/My Drive/Kaggle/randomly selected preprocessed/class 3/\"\n",
        "directory_fake = \"/content/gdrive/My Drive/img_retina_Kaggle_class_4_state_of_art_GAN/29/\"\n",
        "psnr_averages = []\n",
        "for fake_image in os.listdir(directory_fake):\n",
        "  PSNR_average = 0\n",
        "  i = 0\n",
        "  for real_image in os.listdir(directory_real_class_4):\n",
        "    img_real = cv2.imread(directory_real_class_4 + real_image)\n",
        "    img_fake = cv2.imread(directory_fake + fake_image)\n",
        "    img_real = cv2.resize(img_real, (128, 128))\n",
        "    img_fake = cv2.resize(img_fake, (128, 128))\n",
        "    PSNR_none = PSNR(img_real, img_fake)\n",
        "    PSNR_average += PSNR_none\n",
        "    i+=1\n",
        "  PSNR_average = PSNR_average/i\n",
        "  psnr_averages.append(PSNR_average)\n",
        "  #print(fake_image + \" \" + str(PSNR_average))\n",
        "print(min(psnr_averages))\n",
        "print(max(psnr_averages))"
      ],
      "execution_count": null,
      "outputs": [
        {
          "output_type": "stream",
          "text": [
            "28.274239991858526\n",
            "28.311020992614125\n"
          ],
          "name": "stdout"
        }
      ]
    },
    {
      "cell_type": "code",
      "metadata": {
        "id": "KcIm71-fxBeH",
        "colab": {
          "base_uri": "https://localhost:8080/"
        },
        "outputId": "609b1166-a40b-4df5-9b0f-f5e8ab1af913"
      },
      "source": [
        "directory_real_class_4 = \"/content/gdrive/My Drive/Kaggle/randomly selected preprocessed/class 3/\"\n",
        "directory_fake = \"/content/gdrive/My Drive/img_retina_Kaggle_class_4_state_of_art_GAN/39/\"\n",
        "psnr_averages = []\n",
        "for fake_image in os.listdir(directory_fake):\n",
        "  PSNR_average = 0\n",
        "  i = 0\n",
        "  for real_image in os.listdir(directory_real_class_4):\n",
        "    img_real = cv2.imread(directory_real_class_4 + real_image)\n",
        "    img_fake = cv2.imread(directory_fake + fake_image)\n",
        "    img_real = cv2.resize(img_real, (128, 128))\n",
        "    img_fake = cv2.resize(img_fake, (128, 128))\n",
        "    PSNR_none = PSNR(img_real, img_fake)\n",
        "    PSNR_average += PSNR_none\n",
        "    i+=1\n",
        "  PSNR_average = PSNR_average/i\n",
        "  psnr_averages.append(PSNR_average)\n",
        "  #print(fake_image + \" \" + str(PSNR_average))\n",
        "print(min(psnr_averages))\n",
        "print(max(psnr_averages))"
      ],
      "execution_count": null,
      "outputs": [
        {
          "output_type": "stream",
          "text": [
            "28.21942957108713\n",
            "28.254721254402494\n"
          ],
          "name": "stdout"
        }
      ]
    },
    {
      "cell_type": "code",
      "metadata": {
        "id": "tbEIPBoXxB7w",
        "colab": {
          "base_uri": "https://localhost:8080/"
        },
        "outputId": "7d004fe6-3d84-4498-9abc-d26bef13fee2"
      },
      "source": [
        "directory_real_class_4 = \"/content/gdrive/My Drive/Kaggle/randomly selected preprocessed/class 3/\"\n",
        "directory_fake = \"/content/gdrive/My Drive/img_retina_Kaggle_class_4_state_of_art_GAN/49/\"\n",
        "psnr_averages = []\n",
        "for fake_image in os.listdir(directory_fake):\n",
        "  PSNR_average = 0\n",
        "  i = 0\n",
        "  for real_image in os.listdir(directory_real_class_4):\n",
        "    img_real = cv2.imread(directory_real_class_4 + real_image)\n",
        "    img_fake = cv2.imread(directory_fake + fake_image)\n",
        "    img_real = cv2.resize(img_real, (128, 128))\n",
        "    img_fake = cv2.resize(img_fake, (128, 128))\n",
        "    PSNR_none = PSNR(img_real, img_fake)\n",
        "    PSNR_average += PSNR_none\n",
        "    i+=1\n",
        "  PSNR_average = PSNR_average/i\n",
        "  psnr_averages.append(PSNR_average)\n",
        "  #print(fake_image + \" \" + str(PSNR_average))\n",
        "print(min(psnr_averages))\n",
        "print(max(psnr_averages))"
      ],
      "execution_count": null,
      "outputs": [
        {
          "output_type": "stream",
          "text": [
            "28.09027239151596\n",
            "28.12033039473775\n"
          ],
          "name": "stdout"
        }
      ]
    },
    {
      "cell_type": "code",
      "metadata": {
        "id": "59_e3PnFxCle",
        "colab": {
          "base_uri": "https://localhost:8080/"
        },
        "outputId": "ce12fddb-539b-4abe-8373-d7dfbfd32d37"
      },
      "source": [
        "directory_real_class_4 = \"/content/gdrive/My Drive/Kaggle/randomly selected preprocessed/class 3/\"\n",
        "directory_fake = \"/content/gdrive/My Drive/img_retina_Kaggle_class_4_state_of_art_GAN/59/\"\n",
        "psnr_averages = []\n",
        "for fake_image in os.listdir(directory_fake):\n",
        "  PSNR_average = 0\n",
        "  i = 0\n",
        "  for real_image in os.listdir(directory_real_class_4):\n",
        "    img_real = cv2.imread(directory_real_class_4 + real_image)\n",
        "    img_fake = cv2.imread(directory_fake + fake_image)\n",
        "    img_real = cv2.resize(img_real, (128, 128))\n",
        "    img_fake = cv2.resize(img_fake, (128, 128))\n",
        "    PSNR_none = PSNR(img_real, img_fake)\n",
        "    PSNR_average += PSNR_none\n",
        "    i+=1\n",
        "  PSNR_average = PSNR_average/i\n",
        "  psnr_averages.append(PSNR_average)\n",
        "  #print(fake_image + \" \" + str(PSNR_average))\n",
        "print(min(psnr_averages))\n",
        "print(max(psnr_averages))"
      ],
      "execution_count": null,
      "outputs": [
        {
          "output_type": "stream",
          "text": [
            "28.12958952373859\n",
            "28.160622083058378\n"
          ],
          "name": "stdout"
        }
      ]
    },
    {
      "cell_type": "code",
      "metadata": {
        "id": "8ye_5KdzxC8f",
        "colab": {
          "base_uri": "https://localhost:8080/"
        },
        "outputId": "2bb8acd2-1567-4592-d079-c53f4dbe9485"
      },
      "source": [
        "directory_real_class_4 = \"/content/gdrive/My Drive/Kaggle/randomly selected preprocessed/class 3/\"\n",
        "directory_fake = \"/content/gdrive/My Drive/img_retina_Kaggle_class_4_state_of_art_GAN/69/\"\n",
        "psnr_averages = []\n",
        "for fake_image in os.listdir(directory_fake):\n",
        "  PSNR_average = 0\n",
        "  i = 0\n",
        "  for real_image in os.listdir(directory_real_class_4):\n",
        "    img_real = cv2.imread(directory_real_class_4 + real_image)\n",
        "    img_fake = cv2.imread(directory_fake + fake_image)\n",
        "    img_real = cv2.resize(img_real, (128, 128))\n",
        "    img_fake = cv2.resize(img_fake, (128, 128))\n",
        "    PSNR_none = PSNR(img_real, img_fake)\n",
        "    PSNR_average += PSNR_none\n",
        "    i+=1\n",
        "  PSNR_average = PSNR_average/i\n",
        "  psnr_averages.append(PSNR_average)\n",
        "  #print(fake_image + \" \" + str(PSNR_average))\n",
        "print(min(psnr_averages))\n",
        "print(max(psnr_averages))"
      ],
      "execution_count": null,
      "outputs": [
        {
          "output_type": "stream",
          "text": [
            "28.121804397295797\n",
            "28.147722295071286\n"
          ],
          "name": "stdout"
        }
      ]
    },
    {
      "cell_type": "code",
      "metadata": {
        "id": "VxlJXLA6xDSq",
        "colab": {
          "base_uri": "https://localhost:8080/"
        },
        "outputId": "826509e0-b09f-47db-f873-a6785b2b7392"
      },
      "source": [
        "directory_real_class_4 = \"/content/gdrive/My Drive/Kaggle/randomly selected preprocessed/class 3/\"\n",
        "directory_fake = \"/content/gdrive/My Drive/img_retina_Kaggle_class_4_state_of_art_GAN/79/\"\n",
        "psnr_averages = []\n",
        "for fake_image in os.listdir(directory_fake):\n",
        "  PSNR_average = 0\n",
        "  i = 0\n",
        "  for real_image in os.listdir(directory_real_class_4):\n",
        "    img_real = cv2.imread(directory_real_class_4 + real_image)\n",
        "    img_fake = cv2.imread(directory_fake + fake_image)\n",
        "    img_real = cv2.resize(img_real, (128, 128))\n",
        "    img_fake = cv2.resize(img_fake, (128, 128))\n",
        "    PSNR_none = PSNR(img_real, img_fake)\n",
        "    PSNR_average += PSNR_none\n",
        "    i+=1\n",
        "  PSNR_average = PSNR_average/i\n",
        "  psnr_averages.append(PSNR_average)\n",
        "  #print(fake_image + \" \" + str(PSNR_average))\n",
        "print(min(psnr_averages))\n",
        "print(max(psnr_averages))"
      ],
      "execution_count": null,
      "outputs": [
        {
          "output_type": "stream",
          "text": [
            "28.110078426783993\n",
            "28.136047150566025\n"
          ],
          "name": "stdout"
        }
      ]
    },
    {
      "cell_type": "code",
      "metadata": {
        "id": "yaSCm2S_xDoV",
        "colab": {
          "base_uri": "https://localhost:8080/"
        },
        "outputId": "dcbeeb19-0059-4563-8f36-67071c0c7226"
      },
      "source": [
        "directory_real_class_4 = \"/content/gdrive/My Drive/Kaggle/randomly selected preprocessed/class 3/\"\n",
        "directory_fake = \"/content/gdrive/My Drive/img_retina_Kaggle_class_4_state_of_art_GAN/89/\"\n",
        "psnr_averages = []\n",
        "for fake_image in os.listdir(directory_fake):\n",
        "  PSNR_average = 0\n",
        "  i = 0\n",
        "  for real_image in os.listdir(directory_real_class_4):\n",
        "    img_real = cv2.imread(directory_real_class_4 + real_image)\n",
        "    img_fake = cv2.imread(directory_fake + fake_image)\n",
        "    img_real = cv2.resize(img_real, (128, 128))\n",
        "    img_fake = cv2.resize(img_fake, (128, 128))\n",
        "    PSNR_none = PSNR(img_real, img_fake)\n",
        "    PSNR_average += PSNR_none\n",
        "    i+=1\n",
        "  PSNR_average = PSNR_average/i\n",
        "  psnr_averages.append(PSNR_average)\n",
        "  #print(fake_image + \" \" + str(PSNR_average))\n",
        "print(min(psnr_averages))\n",
        "print(max(psnr_averages))"
      ],
      "execution_count": null,
      "outputs": [
        {
          "output_type": "stream",
          "text": [
            "28.080171104239884\n",
            "28.103728412544065\n"
          ],
          "name": "stdout"
        }
      ]
    },
    {
      "cell_type": "code",
      "metadata": {
        "id": "pqgWLvaqxD8a",
        "colab": {
          "base_uri": "https://localhost:8080/"
        },
        "outputId": "afbac603-3ce1-463f-d113-9bafec1ef436"
      },
      "source": [
        "directory_real_class_4 = \"/content/gdrive/My Drive/Kaggle/randomly selected preprocessed/class 3/\"\n",
        "directory_fake = \"/content/gdrive/My Drive/img_retina_Kaggle_class_4_state_of_art_GAN/99/\"\n",
        "psnr_averages = []\n",
        "for fake_image in os.listdir(directory_fake):\n",
        "  PSNR_average = 0\n",
        "  i = 0\n",
        "  for real_image in os.listdir(directory_real_class_4):\n",
        "    img_real = cv2.imread(directory_real_class_4 + real_image)\n",
        "    img_fake = cv2.imread(directory_fake + fake_image)\n",
        "    img_real = cv2.resize(img_real, (128, 128))\n",
        "    img_fake = cv2.resize(img_fake, (128, 128))\n",
        "    PSNR_none = PSNR(img_real, img_fake)\n",
        "    PSNR_average += PSNR_none\n",
        "    i+=1\n",
        "  PSNR_average = PSNR_average/i\n",
        "  psnr_averages.append(PSNR_average)\n",
        "  #print(fake_image + \" \" + str(PSNR_average))\n",
        "print(min(psnr_averages))\n",
        "print(max(psnr_averages))"
      ],
      "execution_count": null,
      "outputs": [
        {
          "output_type": "stream",
          "text": [
            "28.064244206487597\n",
            "28.08338310832445\n"
          ],
          "name": "stdout"
        }
      ]
    },
    {
      "cell_type": "code",
      "metadata": {
        "id": "tfrz7fy7xEPy",
        "colab": {
          "base_uri": "https://localhost:8080/"
        },
        "outputId": "fa079c71-bd43-4402-dbe6-44201c0ac17c"
      },
      "source": [
        "directory_real_class_4 = \"/content/gdrive/My Drive/Kaggle/randomly selected preprocessed/class 3/\"\n",
        "directory_fake = \"/content/gdrive/My Drive/img_retina_Kaggle_class_4_state_of_art_GAN/109/\"\n",
        "psnr_averages = []\n",
        "for fake_image in os.listdir(directory_fake):\n",
        "  PSNR_average = 0\n",
        "  i = 0\n",
        "  for real_image in os.listdir(directory_real_class_4):\n",
        "    img_real = cv2.imread(directory_real_class_4 + real_image)\n",
        "    img_fake = cv2.imread(directory_fake + fake_image)\n",
        "    img_real = cv2.resize(img_real, (128, 128))\n",
        "    img_fake = cv2.resize(img_fake, (128, 128))\n",
        "    PSNR_none = PSNR(img_real, img_fake)\n",
        "    PSNR_average += PSNR_none\n",
        "    i+=1\n",
        "  PSNR_average = PSNR_average/i\n",
        "  psnr_averages.append(PSNR_average)\n",
        "  #print(fake_image + \" \" + str(PSNR_average))\n",
        "print(min(psnr_averages))\n",
        "print(max(psnr_averages))"
      ],
      "execution_count": null,
      "outputs": [
        {
          "output_type": "stream",
          "text": [
            "28.089546580429424\n",
            "28.11070967467307\n"
          ],
          "name": "stdout"
        }
      ]
    },
    {
      "cell_type": "code",
      "metadata": {
        "id": "0kIRJph9xE6y",
        "colab": {
          "base_uri": "https://localhost:8080/"
        },
        "outputId": "fbbd4ca7-a5cb-46a5-fe6a-02ef409c2614"
      },
      "source": [
        "directory_real_class_4 = \"/content/gdrive/My Drive/Kaggle/randomly selected preprocessed/class 3/\"\n",
        "directory_fake = \"/content/gdrive/My Drive/img_retina_Kaggle_class_4_state_of_art_GAN/119/\"\n",
        "psnr_averages = []\n",
        "for fake_image in os.listdir(directory_fake):\n",
        "  PSNR_average = 0\n",
        "  i = 0\n",
        "  for real_image in os.listdir(directory_real_class_4):\n",
        "    img_real = cv2.imread(directory_real_class_4 + real_image)\n",
        "    img_fake = cv2.imread(directory_fake + fake_image)\n",
        "    img_real = cv2.resize(img_real, (128, 128))\n",
        "    img_fake = cv2.resize(img_fake, (128, 128))\n",
        "    PSNR_none = PSNR(img_real, img_fake)\n",
        "    PSNR_average += PSNR_none\n",
        "    i+=1\n",
        "  PSNR_average = PSNR_average/i\n",
        "  psnr_averages.append(PSNR_average)\n",
        "  #print(fake_image + \" \" + str(PSNR_average))\n",
        "print(min(psnr_averages))\n",
        "print(max(psnr_averages))"
      ],
      "execution_count": null,
      "outputs": [
        {
          "output_type": "stream",
          "text": [
            "28.06120812286687\n",
            "28.08454943142569\n"
          ],
          "name": "stdout"
        }
      ]
    },
    {
      "cell_type": "code",
      "metadata": {
        "id": "N1KV4xl4xGFI",
        "colab": {
          "base_uri": "https://localhost:8080/"
        },
        "outputId": "6a9bca11-e58b-4ea4-fed2-3a3778c130fd"
      },
      "source": [
        "directory_real_class_4 = \"/content/gdrive/My Drive/Kaggle/randomly selected preprocessed/class 3/\"\n",
        "directory_fake = \"/content/gdrive/My Drive/img_retina_Kaggle_class_4_state_of_art_GAN/129/\"\n",
        "psnr_averages = []\n",
        "for fake_image in os.listdir(directory_fake):\n",
        "  PSNR_average = 0\n",
        "  i = 0\n",
        "  for real_image in os.listdir(directory_real_class_4):\n",
        "    img_real = cv2.imread(directory_real_class_4 + real_image)\n",
        "    img_fake = cv2.imread(directory_fake + fake_image)\n",
        "    img_real = cv2.resize(img_real, (128, 128))\n",
        "    img_fake = cv2.resize(img_fake, (128, 128))\n",
        "    PSNR_none = PSNR(img_real, img_fake)\n",
        "    PSNR_average += PSNR_none\n",
        "    i+=1\n",
        "  PSNR_average = PSNR_average/i\n",
        "  psnr_averages.append(PSNR_average)\n",
        "  #print(fake_image + \" \" + str(PSNR_average))\n",
        "print(min(psnr_averages))\n",
        "print(max(psnr_averages))"
      ],
      "execution_count": null,
      "outputs": [
        {
          "output_type": "stream",
          "text": [
            "28.055384898169027\n",
            "28.077066630482026\n"
          ],
          "name": "stdout"
        }
      ]
    },
    {
      "cell_type": "code",
      "metadata": {
        "id": "P7hDmKSLxGba",
        "colab": {
          "base_uri": "https://localhost:8080/"
        },
        "outputId": "776d0419-69f8-4013-b2da-4d00dcda62f1"
      },
      "source": [
        "directory_real_class_4 = \"/content/gdrive/My Drive/Kaggle/randomly selected preprocessed/class 4/\"\n",
        "directory_fake = \"/content/gdrive/My Drive/img_retina_Kaggle_class_4_state_of_art_GAN/139/\"\n",
        "psnr_averages = []\n",
        "for fake_image in os.listdir(directory_fake):\n",
        "  PSNR_average = 0\n",
        "  i = 0\n",
        "  for real_image in os.listdir(directory_real_class_4):\n",
        "    img_real = cv2.imread(directory_real_class_4 + real_image)\n",
        "    img_fake = cv2.imread(directory_fake + fake_image)\n",
        "    img_real = cv2.resize(img_real, (128, 128))\n",
        "    img_fake = cv2.resize(img_fake, (128, 128))\n",
        "    PSNR_none = PSNR(img_real, img_fake)\n",
        "    PSNR_average += PSNR_none\n",
        "    i+=1\n",
        "  PSNR_average = PSNR_average/i\n",
        "  psnr_averages.append(PSNR_average)\n",
        "  #print(fake_image + \" \" + str(PSNR_average))\n",
        "print(min(psnr_averages))\n",
        "print(max(psnr_averages))"
      ],
      "execution_count": null,
      "outputs": [
        {
          "output_type": "stream",
          "text": [
            "28.075642294622256\n",
            "28.094308709447038\n"
          ],
          "name": "stdout"
        }
      ]
    },
    {
      "cell_type": "code",
      "metadata": {
        "id": "gjTM3y96xG4e",
        "colab": {
          "base_uri": "https://localhost:8080/"
        },
        "outputId": "3d00fbb0-4067-482d-a0f0-b9ed44e320df"
      },
      "source": [
        "directory_real_class_4 = \"/content/gdrive/My Drive/Kaggle/randomly selected preprocessed/class 3/\"\n",
        "directory_fake = \"/content/gdrive/My Drive/img_retina_Kaggle_class_4_state_of_art_GAN/149/\"\n",
        "psnr_averages = []\n",
        "for fake_image in os.listdir(directory_fake):\n",
        "  PSNR_average = 0\n",
        "  i = 0\n",
        "  for real_image in os.listdir(directory_real_class_4):\n",
        "    img_real = cv2.imread(directory_real_class_4 + real_image)\n",
        "    img_fake = cv2.imread(directory_fake + fake_image)\n",
        "    img_real = cv2.resize(img_real, (128, 128))\n",
        "    img_fake = cv2.resize(img_fake, (128, 128))\n",
        "    PSNR_none = PSNR(img_real, img_fake)\n",
        "    PSNR_average += PSNR_none\n",
        "    i+=1\n",
        "  PSNR_average = PSNR_average/i\n",
        "  psnr_averages.append(PSNR_average)\n",
        "  #print(fake_image + \" \" + str(PSNR_average))\n",
        "print(min(psnr_averages))\n",
        "print(max(psnr_averages))"
      ],
      "execution_count": null,
      "outputs": [
        {
          "output_type": "stream",
          "text": [
            "28.07577983415763\n",
            "28.09465757695107\n"
          ],
          "name": "stdout"
        }
      ]
    },
    {
      "cell_type": "code",
      "metadata": {
        "id": "6C7tk-mXxVSO",
        "colab": {
          "base_uri": "https://localhost:8080/"
        },
        "outputId": "523ef9ce-ebce-4534-d2a3-f23758c19716"
      },
      "source": [
        "directory_real_class_4 = \"/content/gdrive/My Drive/Kaggle/randomly selected preprocessed/class 3/\"\n",
        "directory_fake = \"/content/gdrive/My Drive/img_retina_Kaggle_class_4_state_of_art_GAN/159/\"\n",
        "psnr_averages = []\n",
        "for fake_image in os.listdir(directory_fake):\n",
        "  PSNR_average = 0\n",
        "  i = 0\n",
        "  for real_image in os.listdir(directory_real_class_4):\n",
        "    img_real = cv2.imread(directory_real_class_4 + real_image)\n",
        "    img_fake = cv2.imread(directory_fake + fake_image)\n",
        "    img_real = cv2.resize(img_real, (128, 128))\n",
        "    img_fake = cv2.resize(img_fake, (128, 128))\n",
        "    PSNR_none = PSNR(img_real, img_fake)\n",
        "    PSNR_average += PSNR_none\n",
        "    i+=1\n",
        "  PSNR_average = PSNR_average/i\n",
        "  psnr_averages.append(PSNR_average)\n",
        "  #print(fake_image + \" \" + str(PSNR_average))\n",
        "print(min(psnr_averages))\n",
        "print(max(psnr_averages))"
      ],
      "execution_count": null,
      "outputs": [
        {
          "output_type": "stream",
          "text": [
            "28.079404876103666\n",
            "28.09943601301079\n"
          ],
          "name": "stdout"
        }
      ]
    },
    {
      "cell_type": "code",
      "metadata": {
        "id": "YG8qL6CIxVdd",
        "colab": {
          "base_uri": "https://localhost:8080/"
        },
        "outputId": "94dfb74d-cfd6-4801-96eb-453321c26593"
      },
      "source": [
        "directory_real_class_4 = \"/content/gdrive/My Drive/Kaggle/randomly selected preprocessed/class 3/\"\n",
        "directory_fake = \"/content/gdrive/My Drive/img_retina_Kaggle_class_4_state_of_art_GAN/169/\"\n",
        "psnr_averages = []\n",
        "for fake_image in os.listdir(directory_fake):\n",
        "  PSNR_average = 0\n",
        "  i = 0\n",
        "  for real_image in os.listdir(directory_real_class_4):\n",
        "    img_real = cv2.imread(directory_real_class_4 + real_image)\n",
        "    img_fake = cv2.imread(directory_fake + fake_image)\n",
        "    img_real = cv2.resize(img_real, (128, 128))\n",
        "    img_fake = cv2.resize(img_fake, (128, 128))\n",
        "    PSNR_none = PSNR(img_real, img_fake)\n",
        "    PSNR_average += PSNR_none\n",
        "    i+=1\n",
        "  PSNR_average = PSNR_average/i\n",
        "  psnr_averages.append(PSNR_average)\n",
        "  #print(fake_image + \" \" + str(PSNR_average))\n",
        "print(min(psnr_averages))\n",
        "print(max(psnr_averages))"
      ],
      "execution_count": null,
      "outputs": [
        {
          "output_type": "stream",
          "text": [
            "28.085117073559786\n",
            "28.101707500352823\n"
          ],
          "name": "stdout"
        }
      ]
    },
    {
      "cell_type": "code",
      "metadata": {
        "id": "Ccd_vlzmxVhv",
        "colab": {
          "base_uri": "https://localhost:8080/"
        },
        "outputId": "5bf722db-0356-4ee6-ba09-518606ad9aba"
      },
      "source": [
        "directory_real_class_4 = \"/content/gdrive/My Drive/Kaggle/randomly selected preprocessed/class 3/\"\n",
        "directory_fake = \"/content/gdrive/My Drive/img_retina_Kaggle_class_4_state_of_art_GAN/179/\"\n",
        "psnr_averages = []\n",
        "for fake_image in os.listdir(directory_fake):\n",
        "  PSNR_average = 0\n",
        "  i = 0\n",
        "  for real_image in os.listdir(directory_real_class_4):\n",
        "    img_real = cv2.imread(directory_real_class_4 + real_image)\n",
        "    img_fake = cv2.imread(directory_fake + fake_image)\n",
        "    img_real = cv2.resize(img_real, (128, 128))\n",
        "    img_fake = cv2.resize(img_fake, (128, 128))\n",
        "    PSNR_none = PSNR(img_real, img_fake)\n",
        "    PSNR_average += PSNR_none\n",
        "    i+=1\n",
        "  PSNR_average = PSNR_average/i\n",
        "  psnr_averages.append(PSNR_average)\n",
        "  #print(fake_image + \" \" + str(PSNR_average))\n",
        "print(min(psnr_averages))\n",
        "print(max(psnr_averages))"
      ],
      "execution_count": null,
      "outputs": [
        {
          "output_type": "stream",
          "text": [
            "28.088144990109196\n",
            "28.106493538871533\n"
          ],
          "name": "stdout"
        }
      ]
    },
    {
      "cell_type": "code",
      "metadata": {
        "id": "IjtwX928xVkt",
        "colab": {
          "base_uri": "https://localhost:8080/"
        },
        "outputId": "32e1149e-a9f9-4ac6-bf8f-6f6f4f5368a4"
      },
      "source": [
        "directory_real_class_4 = \"/content/gdrive/My Drive/Kaggle/randomly selected preprocessed/class 3/\"\n",
        "directory_fake = \"/content/gdrive/My Drive/img_retina_Kaggle_class_4_state_of_art_GAN/189/\"\n",
        "psnr_averages = []\n",
        "for fake_image in os.listdir(directory_fake):\n",
        "  PSNR_average = 0\n",
        "  i = 0\n",
        "  for real_image in os.listdir(directory_real_class_4):\n",
        "    img_real = cv2.imread(directory_real_class_4 + real_image)\n",
        "    img_fake = cv2.imread(directory_fake + fake_image)\n",
        "    img_real = cv2.resize(img_real, (128, 128))\n",
        "    img_fake = cv2.resize(img_fake, (128, 128))\n",
        "    PSNR_none = PSNR(img_real, img_fake)\n",
        "    PSNR_average += PSNR_none\n",
        "    i+=1\n",
        "  PSNR_average = PSNR_average/i\n",
        "  psnr_averages.append(PSNR_average)\n",
        "  #print(fake_image + \" \" + str(PSNR_average))\n",
        "print(min(psnr_averages))\n",
        "print(max(psnr_averages))"
      ],
      "execution_count": null,
      "outputs": [
        {
          "output_type": "stream",
          "text": [
            "28.101329079361292\n",
            "28.122128071053854\n"
          ],
          "name": "stdout"
        }
      ]
    },
    {
      "cell_type": "code",
      "metadata": {
        "id": "raZoJYUuxVn-",
        "colab": {
          "base_uri": "https://localhost:8080/"
        },
        "outputId": "74845ad5-b90d-4ca4-dcce-e22825b0b79b"
      },
      "source": [
        "directory_real_class_4 = \"/content/gdrive/My Drive/Kaggle/randomly selected preprocessed/class 3/\"\n",
        "directory_fake = \"/content/gdrive/My Drive/img_retina_Kaggle_class_4_state_of_art_GAN/199/\"\n",
        "psnr_averages = []\n",
        "for fake_image in os.listdir(directory_fake):\n",
        "  PSNR_average = 0\n",
        "  i = 0\n",
        "  for real_image in os.listdir(directory_real_class_4):\n",
        "    img_real = cv2.imread(directory_real_class_4 + real_image)\n",
        "    img_fake = cv2.imread(directory_fake + fake_image)\n",
        "    img_real = cv2.resize(img_real, (128, 128))\n",
        "    img_fake = cv2.resize(img_fake, (128, 128))\n",
        "    PSNR_none = PSNR(img_real, img_fake)\n",
        "    PSNR_average += PSNR_none\n",
        "    i+=1\n",
        "  PSNR_average = PSNR_average/i\n",
        "  psnr_averages.append(PSNR_average)\n",
        "  #print(fake_image + \" \" + str(PSNR_average))\n",
        "print(min(psnr_averages))\n",
        "print(max(psnr_averages))"
      ],
      "execution_count": null,
      "outputs": [
        {
          "output_type": "stream",
          "text": [
            "28.107685381199936\n",
            "28.125380287754588\n"
          ],
          "name": "stdout"
        }
      ]
    },
    {
      "cell_type": "code",
      "metadata": {
        "id": "rmbqOSTkxVqx",
        "colab": {
          "base_uri": "https://localhost:8080/"
        },
        "outputId": "aa0f2327-16b3-48de-8f85-103022442f63"
      },
      "source": [
        "directory_real_class_4 = \"/content/gdrive/My Drive/Kaggle/randomly selected preprocessed/class 3/\"\n",
        "directory_fake = \"/content/gdrive/My Drive/img_retina_Kaggle_class_4_state_of_art_GAN/209/\"\n",
        "psnr_averages = []\n",
        "for fake_image in os.listdir(directory_fake):\n",
        "  PSNR_average = 0\n",
        "  i = 0\n",
        "  for real_image in os.listdir(directory_real_class_4):\n",
        "    img_real = cv2.imread(directory_real_class_4 + real_image)\n",
        "    img_fake = cv2.imread(directory_fake + fake_image)\n",
        "    img_real = cv2.resize(img_real, (128, 128))\n",
        "    img_fake = cv2.resize(img_fake, (128, 128))\n",
        "    PSNR_none = PSNR(img_real, img_fake)\n",
        "    PSNR_average += PSNR_none\n",
        "    i+=1\n",
        "  PSNR_average = PSNR_average/i\n",
        "  psnr_averages.append(PSNR_average)\n",
        "  #print(fake_image + \" \" + str(PSNR_average))\n",
        "print(min(psnr_averages))\n",
        "print(max(psnr_averages))"
      ],
      "execution_count": null,
      "outputs": [
        {
          "output_type": "stream",
          "text": [
            "28.105835375832655\n",
            "28.12522141746294\n"
          ],
          "name": "stdout"
        }
      ]
    },
    {
      "cell_type": "code",
      "metadata": {
        "id": "HCF1QHtyxVte",
        "colab": {
          "base_uri": "https://localhost:8080/"
        },
        "outputId": "11f57613-9f3a-4e4d-9a18-c68fd65ea153"
      },
      "source": [
        "directory_real_class_4 = \"/content/gdrive/My Drive/Kaggle/randomly selected preprocessed/class 3/\"\n",
        "directory_fake = \"/content/gdrive/My Drive/img_retina_Kaggle_class_4_state_of_art_GAN/219/\"\n",
        "psnr_averages = []\n",
        "for fake_image in os.listdir(directory_fake):\n",
        "  PSNR_average = 0\n",
        "  i = 0\n",
        "  for real_image in os.listdir(directory_real_class_4):\n",
        "    img_real = cv2.imread(directory_real_class_4 + real_image)\n",
        "    img_fake = cv2.imread(directory_fake + fake_image)\n",
        "    img_real = cv2.resize(img_real, (128, 128))\n",
        "    img_fake = cv2.resize(img_fake, (128, 128))\n",
        "    PSNR_none = PSNR(img_real, img_fake)\n",
        "    PSNR_average += PSNR_none\n",
        "    i+=1\n",
        "  PSNR_average = PSNR_average/i\n",
        "  psnr_averages.append(PSNR_average)\n",
        "  #print(fake_image + \" \" + str(PSNR_average))\n",
        "print(min(psnr_averages))\n",
        "print(max(psnr_averages))"
      ],
      "execution_count": null,
      "outputs": [
        {
          "output_type": "stream",
          "text": [
            "28.110415515800497\n",
            "28.129539956218654\n"
          ],
          "name": "stdout"
        }
      ]
    },
    {
      "cell_type": "code",
      "metadata": {
        "id": "mOEH9P-fxVwO",
        "colab": {
          "base_uri": "https://localhost:8080/"
        },
        "outputId": "e85af478-352b-4424-aa90-7aeb71c5452c"
      },
      "source": [
        "directory_real_class_4 = \"/content/gdrive/My Drive/Kaggle/randomly selected preprocessed/class 3/\"\n",
        "directory_fake = \"/content/gdrive/My Drive/img_retina_Kaggle_class_4_state_of_art_GAN/229/\"\n",
        "psnr_averages = []\n",
        "for fake_image in os.listdir(directory_fake):\n",
        "  PSNR_average = 0\n",
        "  i = 0\n",
        "  for real_image in os.listdir(directory_real_class_4):\n",
        "    img_real = cv2.imread(directory_real_class_4 + real_image)\n",
        "    img_fake = cv2.imread(directory_fake + fake_image)\n",
        "    img_real = cv2.resize(img_real, (128, 128))\n",
        "    img_fake = cv2.resize(img_fake, (128, 128))\n",
        "    PSNR_none = PSNR(img_real, img_fake)\n",
        "    PSNR_average += PSNR_none\n",
        "    i+=1\n",
        "  PSNR_average = PSNR_average/i\n",
        "  psnr_averages.append(PSNR_average)\n",
        "  #print(fake_image + \" \" + str(PSNR_average))\n",
        "print(min(psnr_averages))\n",
        "print(max(psnr_averages))"
      ],
      "execution_count": null,
      "outputs": [
        {
          "output_type": "stream",
          "text": [
            "28.102172069595323\n",
            "28.1192918268201\n"
          ],
          "name": "stdout"
        }
      ]
    },
    {
      "cell_type": "code",
      "metadata": {
        "id": "j0zCT8cFxVzO",
        "colab": {
          "base_uri": "https://localhost:8080/"
        },
        "outputId": "c0c90877-3e33-4e8b-fb90-c88b8ec87cc3"
      },
      "source": [
        "directory_real_class_4 = \"/content/gdrive/My Drive/Kaggle/randomly selected preprocessed/class 3/\"\n",
        "directory_fake = \"/content/gdrive/My Drive/img_retina_Kaggle_class_4_state_of_art_GAN/239/\"\n",
        "psnr_averages = []\n",
        "for fake_image in os.listdir(directory_fake):\n",
        "  PSNR_average = 0\n",
        "  i = 0\n",
        "  for real_image in os.listdir(directory_real_class_4):\n",
        "    img_real = cv2.imread(directory_real_class_4 + real_image)\n",
        "    img_fake = cv2.imread(directory_fake + fake_image)\n",
        "    img_real = cv2.resize(img_real, (128, 128))\n",
        "    img_fake = cv2.resize(img_fake, (128, 128))\n",
        "    PSNR_none = PSNR(img_real, img_fake)\n",
        "    PSNR_average += PSNR_none\n",
        "    i+=1\n",
        "  PSNR_average = PSNR_average/i\n",
        "  psnr_averages.append(PSNR_average)\n",
        "  #print(fake_image + \" \" + str(PSNR_average))\n",
        "print(min(psnr_averages))\n",
        "print(max(psnr_averages))"
      ],
      "execution_count": null,
      "outputs": [
        {
          "output_type": "stream",
          "text": [
            "28.1041086442837\n",
            "28.1221849020875\n"
          ],
          "name": "stdout"
        }
      ]
    },
    {
      "cell_type": "code",
      "metadata": {
        "id": "7Yq8OMPRxbk5",
        "colab": {
          "base_uri": "https://localhost:8080/"
        },
        "outputId": "30f74015-44ec-4203-e253-1cc56d53ea9b"
      },
      "source": [
        "directory_real_class_4 = \"/content/gdrive/My Drive/Kaggle/randomly selected preprocessed/class 3/\"\n",
        "directory_fake = \"/content/gdrive/My Drive/img_retina_Kaggle_class_4_state_of_art_GAN/249/\"\n",
        "psnr_averages = []\n",
        "for fake_image in os.listdir(directory_fake):\n",
        "  PSNR_average = 0\n",
        "  i = 0\n",
        "  for real_image in os.listdir(directory_real_class_4):\n",
        "    img_real = cv2.imread(directory_real_class_4 + real_image)\n",
        "    img_fake = cv2.imread(directory_fake + fake_image)\n",
        "    img_real = cv2.resize(img_real, (128, 128))\n",
        "    img_fake = cv2.resize(img_fake, (128, 128))\n",
        "    PSNR_none = PSNR(img_real, img_fake)\n",
        "    PSNR_average += PSNR_none\n",
        "    i+=1\n",
        "  PSNR_average = PSNR_average/i\n",
        "  psnr_averages.append(PSNR_average)\n",
        "  #print(fake_image + \" \" + str(PSNR_average))\n",
        "print(min(psnr_averages))\n",
        "print(max(psnr_averages))"
      ],
      "execution_count": null,
      "outputs": [
        {
          "output_type": "stream",
          "text": [
            "28.10147697573033\n",
            "28.12063630861696\n"
          ],
          "name": "stdout"
        }
      ]
    },
    {
      "cell_type": "code",
      "metadata": {
        "id": "PgBvVxZ2xbqM",
        "colab": {
          "base_uri": "https://localhost:8080/"
        },
        "outputId": "099bf457-948a-4842-bbc5-efedba303761"
      },
      "source": [
        "directory_real_class_4 = \"/content/gdrive/My Drive/Kaggle/randomly selected preprocessed/class 3/\"\n",
        "directory_fake = \"/content/gdrive/My Drive/img_retina_Kaggle_class_4_state_of_art_GAN/259/\"\n",
        "psnr_averages = []\n",
        "for fake_image in os.listdir(directory_fake):\n",
        "  PSNR_average = 0\n",
        "  i = 0\n",
        "  for real_image in os.listdir(directory_real_class_4):\n",
        "    img_real = cv2.imread(directory_real_class_4 + real_image)\n",
        "    img_fake = cv2.imread(directory_fake + fake_image)\n",
        "    img_real = cv2.resize(img_real, (128, 128))\n",
        "    img_fake = cv2.resize(img_fake, (128, 128))\n",
        "    PSNR_none = PSNR(img_real, img_fake)\n",
        "    PSNR_average += PSNR_none\n",
        "    i+=1\n",
        "  PSNR_average = PSNR_average/i\n",
        "  psnr_averages.append(PSNR_average)\n",
        "  #print(fake_image + \" \" + str(PSNR_average))\n",
        "print(min(psnr_averages))\n",
        "print(max(psnr_averages))"
      ],
      "execution_count": null,
      "outputs": [
        {
          "output_type": "stream",
          "text": [
            "28.103349243357457\n",
            "28.121285953853153\n"
          ],
          "name": "stdout"
        }
      ]
    },
    {
      "cell_type": "code",
      "metadata": {
        "id": "Rhtw26Huxbs6",
        "colab": {
          "base_uri": "https://localhost:8080/"
        },
        "outputId": "ca7a0389-db21-4f54-96f2-f3b2e6448836"
      },
      "source": [
        "directory_real_class_4 = \"/content/gdrive/My Drive/Kaggle/randomly selected preprocessed/class 3/\"\n",
        "directory_fake = \"/content/gdrive/My Drive/img_retina_Kaggle_class_4_state_of_art_GAN/269/\"\n",
        "psnr_averages = []\n",
        "for fake_image in os.listdir(directory_fake):\n",
        "  PSNR_average = 0\n",
        "  i = 0\n",
        "  for real_image in os.listdir(directory_real_class_4):\n",
        "    img_real = cv2.imread(directory_real_class_4 + real_image)\n",
        "    img_fake = cv2.imread(directory_fake + fake_image)\n",
        "    img_real = cv2.resize(img_real, (128, 128))\n",
        "    img_fake = cv2.resize(img_fake, (128, 128))\n",
        "    PSNR_none = PSNR(img_real, img_fake)\n",
        "    PSNR_average += PSNR_none\n",
        "    i+=1\n",
        "  PSNR_average = PSNR_average/i\n",
        "  psnr_averages.append(PSNR_average)\n",
        "  #print(fake_image + \" \" + str(PSNR_average))\n",
        "print(min(psnr_averages))\n",
        "print(max(psnr_averages))"
      ],
      "execution_count": null,
      "outputs": [
        {
          "output_type": "stream",
          "text": [
            "28.108780480614545\n",
            "28.129093195544293\n"
          ],
          "name": "stdout"
        }
      ]
    },
    {
      "cell_type": "code",
      "metadata": {
        "id": "dqUjF0_9xbvt",
        "colab": {
          "base_uri": "https://localhost:8080/"
        },
        "outputId": "c3aeecac-8507-42e0-bb43-2a540cddc56e"
      },
      "source": [
        "directory_real_class_4 = \"/content/gdrive/My Drive/Kaggle/randomly selected preprocessed/class 3/\"\n",
        "directory_fake = \"/content/gdrive/My Drive/img_retina_Kaggle_class_4_state_of_art_GAN/279/\"\n",
        "psnr_averages = []\n",
        "for fake_image in os.listdir(directory_fake):\n",
        "  PSNR_average = 0\n",
        "  i = 0\n",
        "  for real_image in os.listdir(directory_real_class_4):\n",
        "    img_real = cv2.imread(directory_real_class_4 + real_image)\n",
        "    img_fake = cv2.imread(directory_fake + fake_image)\n",
        "    img_real = cv2.resize(img_real, (128, 128))\n",
        "    img_fake = cv2.resize(img_fake, (128, 128))\n",
        "    PSNR_none = PSNR(img_real, img_fake)\n",
        "    PSNR_average += PSNR_none\n",
        "    i+=1\n",
        "  PSNR_average = PSNR_average/i\n",
        "  psnr_averages.append(PSNR_average)\n",
        "  #print(fake_image + \" \" + str(PSNR_average))\n",
        "print(min(psnr_averages))\n",
        "print(max(psnr_averages))"
      ],
      "execution_count": null,
      "outputs": [
        {
          "output_type": "stream",
          "text": [
            "28.10645673108538\n",
            "28.126302152737946\n"
          ],
          "name": "stdout"
        }
      ]
    },
    {
      "cell_type": "code",
      "metadata": {
        "id": "T_R4llCvxbya",
        "colab": {
          "base_uri": "https://localhost:8080/"
        },
        "outputId": "8fa8b273-150b-4640-afe7-6ef9726ea2d7"
      },
      "source": [
        "directory_real_class_4 = \"/content/gdrive/My Drive/Kaggle/randomly selected preprocessed/class 3/\"\n",
        "directory_fake = \"/content/gdrive/My Drive/img_retina_Kaggle_class_4_state_of_art_GAN/289/\"\n",
        "psnr_averages = []\n",
        "for fake_image in os.listdir(directory_fake):\n",
        "  PSNR_average = 0\n",
        "  i = 0\n",
        "  for real_image in os.listdir(directory_real_class_4):\n",
        "    img_real = cv2.imread(directory_real_class_4 + real_image)\n",
        "    img_fake = cv2.imread(directory_fake + fake_image)\n",
        "    img_real = cv2.resize(img_real, (128, 128))\n",
        "    img_fake = cv2.resize(img_fake, (128, 128))\n",
        "    PSNR_none = PSNR(img_real, img_fake)\n",
        "    PSNR_average += PSNR_none\n",
        "    i+=1\n",
        "  PSNR_average = PSNR_average/i\n",
        "  psnr_averages.append(PSNR_average)\n",
        "  #print(fake_image + \" \" + str(PSNR_average))\n",
        "print(min(psnr_averages))\n",
        "print(max(psnr_averages))"
      ],
      "execution_count": null,
      "outputs": [
        {
          "output_type": "stream",
          "text": [
            "28.10608020236806\n",
            "28.12706707830572\n"
          ],
          "name": "stdout"
        }
      ]
    },
    {
      "cell_type": "code",
      "metadata": {
        "id": "hn21Kxesxegn",
        "colab": {
          "base_uri": "https://localhost:8080/"
        },
        "outputId": "120cffed-8992-4feb-ab4d-817f9fc87802"
      },
      "source": [
        "directory_real_class_4 = \"/content/gdrive/My Drive/Kaggle/randomly selected preprocessed/class 3/\"\n",
        "directory_fake = \"/content/gdrive/My Drive/img_retina_Kaggle_class_4_state_of_art_GAN/299/\"\n",
        "psnr_averages = []\n",
        "for fake_image in os.listdir(directory_fake):\n",
        "  PSNR_average = 0\n",
        "  i = 0\n",
        "  for real_image in os.listdir(directory_real_class_4):\n",
        "    img_real = cv2.imread(directory_real_class_4 + real_image)\n",
        "    img_fake = cv2.imread(directory_fake + fake_image)\n",
        "    img_real = cv2.resize(img_real, (128, 128))\n",
        "    img_fake = cv2.resize(img_fake, (128, 128))\n",
        "    PSNR_none = PSNR(img_real, img_fake)\n",
        "    PSNR_average += PSNR_none\n",
        "    i+=1\n",
        "  PSNR_average = PSNR_average/i\n",
        "  psnr_averages.append(PSNR_average)\n",
        "  #print(fake_image + \" \" + str(PSNR_average))\n",
        "print(min(psnr_averages))\n",
        "print(max(psnr_averages))"
      ],
      "execution_count": null,
      "outputs": [
        {
          "output_type": "stream",
          "text": [
            "28.104333424589658\n",
            "28.121245391303802\n"
          ],
          "name": "stdout"
        }
      ]
    },
    {
      "cell_type": "code",
      "metadata": {
        "id": "oMZjUWmcxen9",
        "colab": {
          "base_uri": "https://localhost:8080/"
        },
        "outputId": "c2dd5723-cd5b-42b4-b614-c07e05442b6f"
      },
      "source": [
        "directory_real_class_4 = \"/content/gdrive/My Drive/Kaggle/randomly selected preprocessed/class 3/\"\n",
        "directory_fake = \"/content/gdrive/My Drive/img_retina_Kaggle_class_4_state_of_art_GAN/309/\"\n",
        "psnr_averages = []\n",
        "for fake_image in os.listdir(directory_fake):\n",
        "  PSNR_average = 0\n",
        "  i = 0\n",
        "  for real_image in os.listdir(directory_real_class_4):\n",
        "    img_real = cv2.imread(directory_real_class_4 + real_image)\n",
        "    img_fake = cv2.imread(directory_fake + fake_image)\n",
        "    img_real = cv2.resize(img_real, (128, 128))\n",
        "    img_fake = cv2.resize(img_fake, (128, 128))\n",
        "    PSNR_none = PSNR(img_real, img_fake)\n",
        "    PSNR_average += PSNR_none\n",
        "    i+=1\n",
        "  PSNR_average = PSNR_average/i\n",
        "  psnr_averages.append(PSNR_average)\n",
        "  #print(fake_image + \" \" + str(PSNR_average))\n",
        "print(min(psnr_averages))\n",
        "print(max(psnr_averages))"
      ],
      "execution_count": null,
      "outputs": [
        {
          "output_type": "stream",
          "text": [
            "28.09654917560143\n",
            "28.11491478159657\n"
          ],
          "name": "stdout"
        }
      ]
    },
    {
      "cell_type": "code",
      "metadata": {
        "id": "aEugmaNLxgRP",
        "colab": {
          "base_uri": "https://localhost:8080/"
        },
        "outputId": "6b3c306a-0d2a-4de2-cf2a-9064d07d4364"
      },
      "source": [
        "directory_real_class_4 = \"/content/gdrive/My Drive/Kaggle/randomly selected preprocessed/class 3/\"\n",
        "directory_fake = \"/content/gdrive/My Drive/img_retina_Kaggle_class_4_state_of_art_GAN/319/\"\n",
        "psnr_averages = []\n",
        "for fake_image in os.listdir(directory_fake):\n",
        "  PSNR_average = 0\n",
        "  i = 0\n",
        "  for real_image in os.listdir(directory_real_class_4):\n",
        "    img_real = cv2.imread(directory_real_class_4 + real_image)\n",
        "    img_fake = cv2.imread(directory_fake + fake_image)\n",
        "    img_real = cv2.resize(img_real, (128, 128))\n",
        "    img_fake = cv2.resize(img_fake, (128, 128))\n",
        "    PSNR_none = PSNR(img_real, img_fake)\n",
        "    PSNR_average += PSNR_none\n",
        "    i+=1\n",
        "  PSNR_average = PSNR_average/i\n",
        "  psnr_averages.append(PSNR_average)\n",
        "  #print(fake_image + \" \" + str(PSNR_average))\n",
        "print(min(psnr_averages))\n",
        "print(max(psnr_averages))"
      ],
      "execution_count": null,
      "outputs": [
        {
          "output_type": "stream",
          "text": [
            "28.103300103626594\n",
            "28.118348844887624\n"
          ],
          "name": "stdout"
        }
      ]
    },
    {
      "cell_type": "code",
      "metadata": {
        "id": "YcJebbTfxgXd",
        "colab": {
          "base_uri": "https://localhost:8080/"
        },
        "outputId": "9ff931a3-2e28-41f4-ee6c-08586cbd8974"
      },
      "source": [
        "directory_real_class_4 = \"/content/gdrive/My Drive/Kaggle/randomly selected preprocessed/class 3/\"\n",
        "directory_fake = \"/content/gdrive/My Drive/img_retina_Kaggle_class_4_state_of_art_GAN/329/\"\n",
        "psnr_averages = []\n",
        "for fake_image in os.listdir(directory_fake):\n",
        "  PSNR_average = 0\n",
        "  i = 0\n",
        "  for real_image in os.listdir(directory_real_class_4):\n",
        "    img_real = cv2.imread(directory_real_class_4 + real_image)\n",
        "    img_fake = cv2.imread(directory_fake + fake_image)\n",
        "    img_real = cv2.resize(img_real, (128, 128))\n",
        "    img_fake = cv2.resize(img_fake, (128, 128))\n",
        "    PSNR_none = PSNR(img_real, img_fake)\n",
        "    PSNR_average += PSNR_none\n",
        "    i+=1\n",
        "  PSNR_average = PSNR_average/i\n",
        "  psnr_averages.append(PSNR_average)\n",
        "  #print(fake_image + \" \" + str(PSNR_average))\n",
        "print(min(psnr_averages))\n",
        "print(max(psnr_averages))"
      ],
      "execution_count": null,
      "outputs": [
        {
          "output_type": "stream",
          "text": [
            "28.086777316620665\n",
            "28.103442266946818\n"
          ],
          "name": "stdout"
        }
      ]
    },
    {
      "cell_type": "code",
      "metadata": {
        "id": "JddEmfPYx6kT",
        "colab": {
          "base_uri": "https://localhost:8080/"
        },
        "outputId": "efbbcd78-d955-49c0-de17-b1305e5e3db2"
      },
      "source": [
        "directory_real_class_4 = \"/content/gdrive/My Drive/Kaggle/randomly selected preprocessed/class 3/\"\n",
        "directory_fake = \"/content/gdrive/My Drive/img_retina_Kaggle_class_4_state_of_art_GAN/339/\"\n",
        "psnr_averages = []\n",
        "for fake_image in os.listdir(directory_fake):\n",
        "  PSNR_average = 0\n",
        "  i = 0\n",
        "  for real_image in os.listdir(directory_real_class_4):\n",
        "    img_real = cv2.imread(directory_real_class_4 + real_image)\n",
        "    img_fake = cv2.imread(directory_fake + fake_image)\n",
        "    img_real = cv2.resize(img_real, (128, 128))\n",
        "    img_fake = cv2.resize(img_fake, (128, 128))\n",
        "    PSNR_none = PSNR(img_real, img_fake)\n",
        "    PSNR_average += PSNR_none\n",
        "    i+=1\n",
        "  PSNR_average = PSNR_average/i\n",
        "  psnr_averages.append(PSNR_average)\n",
        "  #print(fake_image + \" \" + str(PSNR_average))\n",
        "print(min(psnr_averages))\n",
        "print(max(psnr_averages))"
      ],
      "execution_count": null,
      "outputs": [
        {
          "output_type": "stream",
          "text": [
            "28.08998258999698\n",
            "28.108697100754142\n"
          ],
          "name": "stdout"
        }
      ]
    },
    {
      "cell_type": "code",
      "metadata": {
        "id": "U8Ne2po5x6t6",
        "colab": {
          "base_uri": "https://localhost:8080/"
        },
        "outputId": "7dd16b8f-07d7-42ff-96c8-61d949cec195"
      },
      "source": [
        "directory_real_class_4 = \"/content/gdrive/My Drive/Kaggle/randomly selected preprocessed/class 3/\"\n",
        "directory_fake = \"/content/gdrive/My Drive/img_retina_Kaggle_class_4_state_of_art_GAN/349/\"\n",
        "psnr_averages = []\n",
        "for fake_image in os.listdir(directory_fake):\n",
        "  PSNR_average = 0\n",
        "  i = 0\n",
        "  for real_image in os.listdir(directory_real_class_4):\n",
        "    img_real = cv2.imread(directory_real_class_4 + real_image)\n",
        "    img_fake = cv2.imread(directory_fake + fake_image)\n",
        "    img_real = cv2.resize(img_real, (128, 128))\n",
        "    img_fake = cv2.resize(img_fake, (128, 128))\n",
        "    PSNR_none = PSNR(img_real, img_fake)\n",
        "    PSNR_average += PSNR_none\n",
        "    i+=1\n",
        "  PSNR_average = PSNR_average/i\n",
        "  psnr_averages.append(PSNR_average)\n",
        "  #print(fake_image + \" \" + str(PSNR_average))\n",
        "print(min(psnr_averages))\n",
        "print(max(psnr_averages))"
      ],
      "execution_count": null,
      "outputs": [
        {
          "output_type": "stream",
          "text": [
            "28.089032104640236\n",
            "28.104165756694186\n"
          ],
          "name": "stdout"
        }
      ]
    },
    {
      "cell_type": "code",
      "metadata": {
        "id": "UeNb2a1ox60O",
        "colab": {
          "base_uri": "https://localhost:8080/"
        },
        "outputId": "62b5e9cb-6238-4058-9b94-5eb73bdf56cd"
      },
      "source": [
        "directory_real_class_4 = \"/content/gdrive/My Drive/Kaggle/randomly selected preprocessed/class 3/\"\n",
        "directory_fake = \"/content/gdrive/My Drive/img_retina_Kaggle_class_4_state_of_art_GAN/359/\"\n",
        "psnr_averages = []\n",
        "for fake_image in os.listdir(directory_fake):\n",
        "  PSNR_average = 0\n",
        "  i = 0\n",
        "  for real_image in os.listdir(directory_real_class_4):\n",
        "    img_real = cv2.imread(directory_real_class_4 + real_image)\n",
        "    img_fake = cv2.imread(directory_fake + fake_image)\n",
        "    img_real = cv2.resize(img_real, (128, 128))\n",
        "    img_fake = cv2.resize(img_fake, (128, 128))\n",
        "    PSNR_none = PSNR(img_real, img_fake)\n",
        "    PSNR_average += PSNR_none\n",
        "    i+=1\n",
        "  PSNR_average = PSNR_average/i\n",
        "  psnr_averages.append(PSNR_average)\n",
        "  #print(fake_image + \" \" + str(PSNR_average))\n",
        "print(min(psnr_averages))\n",
        "print(max(psnr_averages))"
      ],
      "execution_count": null,
      "outputs": [
        {
          "output_type": "stream",
          "text": [
            "28.078000723136206\n",
            "28.094426747507587\n"
          ],
          "name": "stdout"
        }
      ]
    },
    {
      "cell_type": "code",
      "metadata": {
        "id": "FjF-NCfox64M",
        "colab": {
          "base_uri": "https://localhost:8080/"
        },
        "outputId": "8f757ab9-50e4-4729-d766-4e37045faf12"
      },
      "source": [
        "directory_real_class_4 = \"/content/gdrive/My Drive/Kaggle/randomly selected preprocessed/class 3/\"\n",
        "directory_fake = \"/content/gdrive/My Drive/img_retina_Kaggle_class_4_state_of_art_GAN/369/\"\n",
        "psnr_averages = []\n",
        "for fake_image in os.listdir(directory_fake):\n",
        "  PSNR_average = 0\n",
        "  i = 0\n",
        "  for real_image in os.listdir(directory_real_class_4):\n",
        "    img_real = cv2.imread(directory_real_class_4 + real_image)\n",
        "    img_fake = cv2.imread(directory_fake + fake_image)\n",
        "    img_real = cv2.resize(img_real, (128, 128))\n",
        "    img_fake = cv2.resize(img_fake, (128, 128))\n",
        "    PSNR_none = PSNR(img_real, img_fake)\n",
        "    PSNR_average += PSNR_none\n",
        "    i+=1\n",
        "  PSNR_average = PSNR_average/i\n",
        "  psnr_averages.append(PSNR_average)\n",
        "  #print(fake_image + \" \" + str(PSNR_average))\n",
        "print(min(psnr_averages))\n",
        "print(max(psnr_averages))"
      ],
      "execution_count": null,
      "outputs": [
        {
          "output_type": "stream",
          "text": [
            "28.084060500033726\n",
            "28.098659930560014\n"
          ],
          "name": "stdout"
        }
      ]
    },
    {
      "cell_type": "code",
      "metadata": {
        "id": "WND_DsQZx6_D",
        "colab": {
          "base_uri": "https://localhost:8080/"
        },
        "outputId": "afeedabe-7f82-40a6-948b-673268e5233f"
      },
      "source": [
        "directory_real_class_4 = \"/content/gdrive/My Drive/Kaggle/randomly selected preprocessed/class 3/\"\n",
        "directory_fake = \"/content/gdrive/My Drive/img_retina_Kaggle_class_4_state_of_art_GAN/379/\"\n",
        "psnr_averages = []\n",
        "for fake_image in os.listdir(directory_fake):\n",
        "  PSNR_average = 0\n",
        "  i = 0\n",
        "  for real_image in os.listdir(directory_real_class_4):\n",
        "    img_real = cv2.imread(directory_real_class_4 + real_image)\n",
        "    img_fake = cv2.imread(directory_fake + fake_image)\n",
        "    img_real = cv2.resize(img_real, (128, 128))\n",
        "    img_fake = cv2.resize(img_fake, (128, 128))\n",
        "    PSNR_none = PSNR(img_real, img_fake)\n",
        "    PSNR_average += PSNR_none\n",
        "    i+=1\n",
        "  PSNR_average = PSNR_average/i\n",
        "  psnr_averages.append(PSNR_average)\n",
        "  #print(fake_image + \" \" + str(PSNR_average))\n",
        "print(min(psnr_averages))\n",
        "print(max(psnr_averages))"
      ],
      "execution_count": null,
      "outputs": [
        {
          "output_type": "stream",
          "text": [
            "28.078723957341285\n",
            "28.095070767026442\n"
          ],
          "name": "stdout"
        }
      ]
    },
    {
      "cell_type": "code",
      "metadata": {
        "id": "0RTh-eRtx7F8",
        "colab": {
          "base_uri": "https://localhost:8080/"
        },
        "outputId": "249c42b4-de98-4ecd-edd8-9ba69b6eaeba"
      },
      "source": [
        "directory_real_class_4 = \"/content/gdrive/My Drive/Kaggle/randomly selected preprocessed/class 3/\"\n",
        "directory_fake = \"/content/gdrive/My Drive/img_retina_Kaggle_class_4_state_of_art_GAN/389/\"\n",
        "psnr_averages = []\n",
        "for fake_image in os.listdir(directory_fake):\n",
        "  PSNR_average = 0\n",
        "  i = 0\n",
        "  for real_image in os.listdir(directory_real_class_4):\n",
        "    img_real = cv2.imread(directory_real_class_4 + real_image)\n",
        "    img_fake = cv2.imread(directory_fake + fake_image)\n",
        "    img_real = cv2.resize(img_real, (128, 128))\n",
        "    img_fake = cv2.resize(img_fake, (128, 128))\n",
        "    PSNR_none = PSNR(img_real, img_fake)\n",
        "    PSNR_average += PSNR_none\n",
        "    i+=1\n",
        "  PSNR_average = PSNR_average/i\n",
        "  psnr_averages.append(PSNR_average)\n",
        "  #print(fake_image + \" \" + str(PSNR_average))\n",
        "print(min(psnr_averages))\n",
        "print(max(psnr_averages))"
      ],
      "execution_count": null,
      "outputs": [
        {
          "output_type": "stream",
          "text": [
            "28.077636220624754\n",
            "28.094127751295705\n"
          ],
          "name": "stdout"
        }
      ]
    },
    {
      "cell_type": "code",
      "metadata": {
        "id": "267IxTqvx-ia",
        "colab": {
          "base_uri": "https://localhost:8080/"
        },
        "outputId": "e4daa256-8ab7-4a2e-c504-21d7ada52429"
      },
      "source": [
        "directory_real_class_4 = \"/content/gdrive/My Drive/Kaggle/randomly selected preprocessed/class 3/\"\n",
        "directory_fake = \"/content/gdrive/My Drive/img_retina_Kaggle_class_4_state_of_art_GAN/399/\"\n",
        "psnr_averages = []\n",
        "for fake_image in os.listdir(directory_fake):\n",
        "  PSNR_average = 0\n",
        "  i = 0\n",
        "  for real_image in os.listdir(directory_real_class_4):\n",
        "    img_real = cv2.imread(directory_real_class_4 + real_image)\n",
        "    img_fake = cv2.imread(directory_fake + fake_image)\n",
        "    img_real = cv2.resize(img_real, (128, 128))\n",
        "    img_fake = cv2.resize(img_fake, (128, 128))\n",
        "    PSNR_none = PSNR(img_real, img_fake)\n",
        "    PSNR_average += PSNR_none\n",
        "    i+=1\n",
        "  PSNR_average = PSNR_average/i\n",
        "  psnr_averages.append(PSNR_average)\n",
        "  #print(fake_image + \" \" + str(PSNR_average))\n",
        "print(min(psnr_averages))\n",
        "print(max(psnr_averages))"
      ],
      "execution_count": null,
      "outputs": [
        {
          "output_type": "stream",
          "text": [
            "28.067028774879432\n",
            "28.08637390208039\n"
          ],
          "name": "stdout"
        }
      ]
    },
    {
      "cell_type": "code",
      "metadata": {
        "id": "hK-MSAjyx-qp",
        "colab": {
          "base_uri": "https://localhost:8080/"
        },
        "outputId": "01c3d3d1-a27d-40c7-d047-898e3e487db6"
      },
      "source": [
        "directory_real_class_4 = \"/content/gdrive/My Drive/Kaggle/randomly selected preprocessed/class 3/\"\n",
        "directory_fake = \"/content/gdrive/My Drive/img_retina_Kaggle_class_4_state_of_art_GAN/409/\"\n",
        "psnr_averages = []\n",
        "for fake_image in os.listdir(directory_fake):\n",
        "  PSNR_average = 0\n",
        "  i = 0\n",
        "  for real_image in os.listdir(directory_real_class_4):\n",
        "    img_real = cv2.imread(directory_real_class_4 + real_image)\n",
        "    img_fake = cv2.imread(directory_fake + fake_image)\n",
        "    img_real = cv2.resize(img_real, (128, 128))\n",
        "    img_fake = cv2.resize(img_fake, (128, 128))\n",
        "    PSNR_none = PSNR(img_real, img_fake)\n",
        "    PSNR_average += PSNR_none\n",
        "    i+=1\n",
        "  PSNR_average = PSNR_average/i\n",
        "  psnr_averages.append(PSNR_average)\n",
        "  #print(fake_image + \" \" + str(PSNR_average))\n",
        "print(min(psnr_averages))\n",
        "print(max(psnr_averages))"
      ],
      "execution_count": null,
      "outputs": [
        {
          "output_type": "stream",
          "text": [
            "28.074679741810723\n",
            "28.09246416986472\n"
          ],
          "name": "stdout"
        }
      ]
    },
    {
      "cell_type": "code",
      "metadata": {
        "id": "CC-I4fsex-xi",
        "colab": {
          "base_uri": "https://localhost:8080/"
        },
        "outputId": "b7912d10-0edb-47b7-e11d-5bd32e5e084b"
      },
      "source": [
        "directory_real_class_4 = \"/content/gdrive/My Drive/Kaggle/randomly selected preprocessed/class 3/\"\n",
        "directory_fake = \"/content/gdrive/My Drive/img_retina_Kaggle_class_4_state_of_art_GAN/419/\"\n",
        "psnr_averages = []\n",
        "for fake_image in os.listdir(directory_fake):\n",
        "  PSNR_average = 0\n",
        "  i = 0\n",
        "  for real_image in os.listdir(directory_real_class_4):\n",
        "    img_real = cv2.imread(directory_real_class_4 + real_image)\n",
        "    img_fake = cv2.imread(directory_fake + fake_image)\n",
        "    img_real = cv2.resize(img_real, (128, 128))\n",
        "    img_fake = cv2.resize(img_fake, (128, 128))\n",
        "    PSNR_none = PSNR(img_real, img_fake)\n",
        "    PSNR_average += PSNR_none\n",
        "    i+=1\n",
        "  PSNR_average = PSNR_average/i\n",
        "  psnr_averages.append(PSNR_average)\n",
        "  #print(fake_image + \" \" + str(PSNR_average))\n",
        "print(min(psnr_averages))\n",
        "print(max(psnr_averages))"
      ],
      "execution_count": null,
      "outputs": [
        {
          "output_type": "stream",
          "text": [
            "28.068980001122505\n",
            "28.082487353551393\n"
          ],
          "name": "stdout"
        }
      ]
    },
    {
      "cell_type": "code",
      "metadata": {
        "id": "Kupvi9mmx-0S",
        "colab": {
          "base_uri": "https://localhost:8080/"
        },
        "outputId": "229d3994-ffaa-4f17-fec9-ff87c4853f4d"
      },
      "source": [
        "directory_real_class_4 = \"/content/gdrive/My Drive/Kaggle/randomly selected preprocessed/class 3/\"\n",
        "directory_fake = \"/content/gdrive/My Drive/img_retina_Kaggle_class_4_state_of_art_GAN/429/\"\n",
        "psnr_averages = []\n",
        "for fake_image in os.listdir(directory_fake):\n",
        "  PSNR_average = 0\n",
        "  i = 0\n",
        "  for real_image in os.listdir(directory_real_class_4):\n",
        "    img_real = cv2.imread(directory_real_class_4 + real_image)\n",
        "    img_fake = cv2.imread(directory_fake + fake_image)\n",
        "    img_real = cv2.resize(img_real, (128, 128))\n",
        "    img_fake = cv2.resize(img_fake, (128, 128))\n",
        "    PSNR_none = PSNR(img_real, img_fake)\n",
        "    PSNR_average += PSNR_none\n",
        "    i+=1\n",
        "  PSNR_average = PSNR_average/i\n",
        "  psnr_averages.append(PSNR_average)\n",
        "  #print(fake_image + \" \" + str(PSNR_average))\n",
        "print(min(psnr_averages))\n",
        "print(max(psnr_averages))"
      ],
      "execution_count": null,
      "outputs": [
        {
          "output_type": "stream",
          "text": [
            "28.066127452948344\n",
            "28.08418512346203\n"
          ],
          "name": "stdout"
        }
      ]
    },
    {
      "cell_type": "code",
      "metadata": {
        "id": "dFRxrrkKx-3w",
        "colab": {
          "base_uri": "https://localhost:8080/"
        },
        "outputId": "4c62b27c-7172-45b2-dbce-4adb5401a7fc"
      },
      "source": [
        "directory_real_class_4 = \"/content/gdrive/My Drive/Kaggle/randomly selected preprocessed/class 3/\"\n",
        "directory_fake = \"/content/gdrive/My Drive/img_retina_Kaggle_class_4_state_of_art_GAN/439/\"\n",
        "psnr_averages = []\n",
        "for fake_image in os.listdir(directory_fake):\n",
        "  PSNR_average = 0\n",
        "  i = 0\n",
        "  for real_image in os.listdir(directory_real_class_4):\n",
        "    img_real = cv2.imread(directory_real_class_4 + real_image)\n",
        "    img_fake = cv2.imread(directory_fake + fake_image)\n",
        "    img_real = cv2.resize(img_real, (128, 128))\n",
        "    img_fake = cv2.resize(img_fake, (128, 128))\n",
        "    PSNR_none = PSNR(img_real, img_fake)\n",
        "    PSNR_average += PSNR_none\n",
        "    i+=1\n",
        "  PSNR_average = PSNR_average/i\n",
        "  psnr_averages.append(PSNR_average)\n",
        "  #print(fake_image + \" \" + str(PSNR_average))\n",
        "print(min(psnr_averages))\n",
        "print(max(psnr_averages))"
      ],
      "execution_count": null,
      "outputs": [
        {
          "output_type": "stream",
          "text": [
            "28.06948637558569\n",
            "28.08616397981195\n"
          ],
          "name": "stdout"
        }
      ]
    },
    {
      "cell_type": "code",
      "metadata": {
        "id": "LbuVRfgNyRT6",
        "colab": {
          "base_uri": "https://localhost:8080/"
        },
        "outputId": "8f6b301d-91a7-4782-8fa8-84bc8a079f19"
      },
      "source": [
        "directory_real_class_4 = \"/content/gdrive/My Drive/Kaggle/randomly selected preprocessed/class 3/\"\n",
        "directory_fake = \"/content/gdrive/My Drive/img_retina_Kaggle_class_4_state_of_art_GAN/449/\"\n",
        "psnr_averages = []\n",
        "for fake_image in os.listdir(directory_fake):\n",
        "  PSNR_average = 0\n",
        "  i = 0\n",
        "  for real_image in os.listdir(directory_real_class_4):\n",
        "    img_real = cv2.imread(directory_real_class_4 + real_image)\n",
        "    img_fake = cv2.imread(directory_fake + fake_image)\n",
        "    img_real = cv2.resize(img_real, (128, 128))\n",
        "    img_fake = cv2.resize(img_fake, (128, 128))\n",
        "    PSNR_none = PSNR(img_real, img_fake)\n",
        "    PSNR_average += PSNR_none\n",
        "    i+=1\n",
        "  PSNR_average = PSNR_average/i\n",
        "  psnr_averages.append(PSNR_average)\n",
        "  #print(fake_image + \" \" + str(PSNR_average))\n",
        "print(min(psnr_averages))\n",
        "print(max(psnr_averages))"
      ],
      "execution_count": null,
      "outputs": [
        {
          "output_type": "stream",
          "text": [
            "28.058302551675396\n",
            "28.07642940481437\n"
          ],
          "name": "stdout"
        }
      ]
    },
    {
      "cell_type": "code",
      "metadata": {
        "id": "KRBbj-teyRXq",
        "colab": {
          "base_uri": "https://localhost:8080/"
        },
        "outputId": "22b0461d-e9d9-4820-f070-a8ab24cd69df"
      },
      "source": [
        "directory_real_class_4 = \"/content/gdrive/My Drive/Kaggle/randomly selected preprocessed/class 3/\"\n",
        "directory_fake = \"/content/gdrive/My Drive/img_retina_Kaggle_class_4_state_of_art_GAN/459/\"\n",
        "psnr_averages = []\n",
        "for fake_image in os.listdir(directory_fake):\n",
        "  PSNR_average = 0\n",
        "  i = 0\n",
        "  for real_image in os.listdir(directory_real_class_4):\n",
        "    img_real = cv2.imread(directory_real_class_4 + real_image)\n",
        "    img_fake = cv2.imread(directory_fake + fake_image)\n",
        "    img_real = cv2.resize(img_real, (128, 128))\n",
        "    img_fake = cv2.resize(img_fake, (128, 128))\n",
        "    PSNR_none = PSNR(img_real, img_fake)\n",
        "    PSNR_average += PSNR_none\n",
        "    i+=1\n",
        "  PSNR_average = PSNR_average/i\n",
        "  psnr_averages.append(PSNR_average)\n",
        "  #print(fake_image + \" \" + str(PSNR_average))\n",
        "print(min(psnr_averages))\n",
        "print(max(psnr_averages))"
      ],
      "execution_count": null,
      "outputs": [
        {
          "output_type": "stream",
          "text": [
            "28.072157815276693\n",
            "28.086164616219957\n"
          ],
          "name": "stdout"
        }
      ]
    },
    {
      "cell_type": "code",
      "metadata": {
        "id": "CpJT1Xw1yRa7",
        "colab": {
          "base_uri": "https://localhost:8080/"
        },
        "outputId": "96a4a0e2-3e43-4df5-8986-cfc96976a569"
      },
      "source": [
        "directory_real_class_4 = \"/content/gdrive/My Drive/Kaggle/randomly selected preprocessed/class 3/\"\n",
        "directory_fake = \"/content/gdrive/My Drive/img_retina_Kaggle_class_4_state_of_art_GAN/469/\"\n",
        "psnr_averages = []\n",
        "for fake_image in os.listdir(directory_fake):\n",
        "  PSNR_average = 0\n",
        "  i = 0\n",
        "  for real_image in os.listdir(directory_real_class_4):\n",
        "    img_real = cv2.imread(directory_real_class_4 + real_image)\n",
        "    img_fake = cv2.imread(directory_fake + fake_image)\n",
        "    img_real = cv2.resize(img_real, (128, 128))\n",
        "    img_fake = cv2.resize(img_fake, (128, 128))\n",
        "    PSNR_none = PSNR(img_real, img_fake)\n",
        "    PSNR_average += PSNR_none\n",
        "    i+=1\n",
        "  PSNR_average = PSNR_average/i\n",
        "  psnr_averages.append(PSNR_average)\n",
        "  #print(fake_image + \" \" + str(PSNR_average))\n",
        "print(min(psnr_averages))\n",
        "print(max(psnr_averages))"
      ],
      "execution_count": null,
      "outputs": [
        {
          "output_type": "stream",
          "text": [
            "28.064928804451267\n",
            "28.083263685045036\n"
          ],
          "name": "stdout"
        }
      ]
    },
    {
      "cell_type": "code",
      "metadata": {
        "id": "C-sg2D4YyReC",
        "colab": {
          "base_uri": "https://localhost:8080/"
        },
        "outputId": "7a47c828-cf12-45ad-a321-71a62fd32ad6"
      },
      "source": [
        "directory_real_class_4 = \"/content/gdrive/My Drive/Kaggle/randomly selected preprocessed/class 3/\"\n",
        "directory_fake = \"/content/gdrive/My Drive/img_retina_Kaggle_class_4_state_of_art_GAN/479/\"\n",
        "psnr_averages = []\n",
        "for fake_image in os.listdir(directory_fake):\n",
        "  PSNR_average = 0\n",
        "  i = 0\n",
        "  for real_image in os.listdir(directory_real_class_4):\n",
        "    img_real = cv2.imread(directory_real_class_4 + real_image)\n",
        "    img_fake = cv2.imread(directory_fake + fake_image)\n",
        "    img_real = cv2.resize(img_real, (128, 128))\n",
        "    img_fake = cv2.resize(img_fake, (128, 128))\n",
        "    PSNR_none = PSNR(img_real, img_fake)\n",
        "    PSNR_average += PSNR_none\n",
        "    i+=1\n",
        "  PSNR_average = PSNR_average/i\n",
        "  psnr_averages.append(PSNR_average)\n",
        "  #print(fake_image + \" \" + str(PSNR_average))\n",
        "print(min(psnr_averages))\n",
        "print(max(psnr_averages))"
      ],
      "execution_count": null,
      "outputs": [
        {
          "output_type": "stream",
          "text": [
            "28.063103288444132\n",
            "28.07934335585843\n"
          ],
          "name": "stdout"
        }
      ]
    },
    {
      "cell_type": "code",
      "metadata": {
        "id": "6-y_xMQvyRhR",
        "colab": {
          "base_uri": "https://localhost:8080/"
        },
        "outputId": "04ceeabe-275b-43b1-9240-d9b50d8df237"
      },
      "source": [
        "directory_real_class_4 = \"/content/gdrive/My Drive/Kaggle/randomly selected preprocessed/class 3/\"\n",
        "directory_fake = \"/content/gdrive/My Drive/img_retina_Kaggle_class_4_state_of_art_GAN/489/\"\n",
        "psnr_averages = []\n",
        "for fake_image in os.listdir(directory_fake):\n",
        "  PSNR_average = 0\n",
        "  i = 0\n",
        "  for real_image in os.listdir(directory_real_class_4):\n",
        "    img_real = cv2.imread(directory_real_class_4 + real_image)\n",
        "    img_fake = cv2.imread(directory_fake + fake_image)\n",
        "    img_real = cv2.resize(img_real, (128, 128))\n",
        "    img_fake = cv2.resize(img_fake, (128, 128))\n",
        "    PSNR_none = PSNR(img_real, img_fake)\n",
        "    PSNR_average += PSNR_none\n",
        "    i+=1\n",
        "  PSNR_average = PSNR_average/i\n",
        "  psnr_averages.append(PSNR_average)\n",
        "  #print(fake_image + \" \" + str(PSNR_average))\n",
        "print(min(psnr_averages))\n",
        "print(max(psnr_averages))"
      ],
      "execution_count": null,
      "outputs": [
        {
          "output_type": "stream",
          "text": [
            "28.054894240716923\n",
            "28.073313867618317\n"
          ],
          "name": "stdout"
        }
      ]
    },
    {
      "cell_type": "code",
      "metadata": {
        "id": "UWm9csrlyRjk",
        "colab": {
          "base_uri": "https://localhost:8080/"
        },
        "outputId": "75581281-e55f-4d94-ae36-d8d5ac8d7d60"
      },
      "source": [
        "directory_real_class_4 = \"/content/gdrive/My Drive/Kaggle/randomly selected preprocessed/class 3/\"\n",
        "directory_fake = \"/content/gdrive/My Drive/img_retina_Kaggle_class_4_state_of_art_GAN/499/\"\n",
        "psnr_averages = []\n",
        "for fake_image in os.listdir(directory_fake):\n",
        "  PSNR_average = 0\n",
        "  i = 0\n",
        "  for real_image in os.listdir(directory_real_class_4):\n",
        "    img_real = cv2.imread(directory_real_class_4 + real_image)\n",
        "    img_fake = cv2.imread(directory_fake + fake_image)\n",
        "    img_real = cv2.resize(img_real, (128, 128))\n",
        "    img_fake = cv2.resize(img_fake, (128, 128))\n",
        "    PSNR_none = PSNR(img_real, img_fake)\n",
        "    PSNR_average += PSNR_none\n",
        "    i+=1\n",
        "  PSNR_average = PSNR_average/i\n",
        "  psnr_averages.append(PSNR_average)\n",
        "  #print(fake_image + \" \" + str(PSNR_average))\n",
        "print(min(psnr_averages))\n",
        "print(max(psnr_averages))"
      ],
      "execution_count": null,
      "outputs": [
        {
          "output_type": "stream",
          "text": [
            "28.06335154664545\n",
            "28.081209064965904\n"
          ],
          "name": "stdout"
        }
      ]
    }
  ]
}