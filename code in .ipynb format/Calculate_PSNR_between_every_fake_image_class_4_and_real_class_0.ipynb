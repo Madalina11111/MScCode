{
  "nbformat": 4,
  "nbformat_minor": 0,
  "metadata": {
    "colab": {
      "name": "Calculate PSNR between every fake image class 4 and real class 0.ipynb",
      "provenance": [],
      "collapsed_sections": []
    },
    "kernelspec": {
      "name": "python3",
      "display_name": "Python 3"
    },
    "language_info": {
      "name": "python"
    }
  },
  "cells": [
    {
      "cell_type": "code",
      "metadata": {
        "id": "B9T9LxjY64qz"
      },
      "source": [
        "from math import log10, sqrt\n",
        "import cv2\n",
        "import numpy as np\n",
        "import os"
      ],
      "execution_count": null,
      "outputs": []
    },
    {
      "cell_type": "code",
      "metadata": {
        "colab": {
          "base_uri": "https://localhost:8080/"
        },
        "id": "I4R8305n7ESP",
        "outputId": "c143fed2-4ae6-4dc3-b8f9-df3c16b81f06"
      },
      "source": [
        "from google.colab import drive\n",
        "drive.mount('/content/gdrive')"
      ],
      "execution_count": null,
      "outputs": [
        {
          "output_type": "stream",
          "text": [
            "Mounted at /content/gdrive\n"
          ],
          "name": "stdout"
        }
      ]
    },
    {
      "cell_type": "code",
      "metadata": {
        "id": "MfCgXe9V6yMJ"
      },
      "source": [
        "def PSNR(original, to_compare_with):\n",
        "    mse = np.mean((original - to_compare_with) ** 2)\n",
        "    if(mse == 0):\n",
        "        return 100\n",
        "    max_pixel = 255.0\n",
        "    psnr = 20 * log10(max_pixel / sqrt(mse))\n",
        "    return psnr"
      ],
      "execution_count": null,
      "outputs": []
    },
    {
      "cell_type": "code",
      "metadata": {
        "id": "MzAdT1zc7Jgh",
        "colab": {
          "base_uri": "https://localhost:8080/"
        },
        "outputId": "36975884-150e-4116-a18f-06206feabb6e"
      },
      "source": [
        "directory_real_class_4 = \"/content/gdrive/My Drive/Kaggle/randomly selected preprocessed/class 0/\"\n",
        "directory_fake = \"/content/gdrive/My Drive/img_retina_Kaggle_class_4_state_of_art_GAN/9/\"\n",
        "psnr_averages = []\n",
        "for fake_image in os.listdir(directory_fake):\n",
        "  PSNR_average = 0\n",
        "  i = 0\n",
        "  for real_image in os.listdir(directory_real_class_4):\n",
        "    img_real = cv2.imread(directory_real_class_4 + real_image)\n",
        "    img_fake = cv2.imread(directory_fake + fake_image)\n",
        "    img_real = cv2.resize(img_real, (128, 128))\n",
        "    img_fake = cv2.resize(img_fake, (128, 128))\n",
        "    PSNR_none = PSNR(img_real, img_fake)\n",
        "    PSNR_average += PSNR_none\n",
        "    i+=1\n",
        "  PSNR_average = PSNR_average/i\n",
        "  psnr_averages.append(PSNR_average)\n",
        "  #print(fake_image + \" \" + str(PSNR_average))\n",
        "print(min(psnr_averages))\n",
        "print(max(psnr_averages))"
      ],
      "execution_count": null,
      "outputs": [
        {
          "output_type": "stream",
          "text": [
            "28.425371637336443\n",
            "28.528550046937216\n"
          ],
          "name": "stdout"
        }
      ]
    },
    {
      "cell_type": "code",
      "metadata": {
        "id": "bP5einoYu5gD",
        "colab": {
          "base_uri": "https://localhost:8080/"
        },
        "outputId": "0f8566cd-9384-4f38-ee1a-ded4c250cc09"
      },
      "source": [
        "directory_real_class_4 = \"/content/gdrive/My Drive/Kaggle/randomly selected preprocessed/class 0/\"\n",
        "directory_fake = \"/content/gdrive/My Drive/img_retina_Kaggle_class_4_state_of_art_GAN/19/\"\n",
        "psnr_averages = []\n",
        "for fake_image in os.listdir(directory_fake):\n",
        "  PSNR_average = 0\n",
        "  i = 0\n",
        "  for real_image in os.listdir(directory_real_class_4):\n",
        "    img_real = cv2.imread(directory_real_class_4 + real_image)\n",
        "    img_fake = cv2.imread(directory_fake + fake_image)\n",
        "    img_real = cv2.resize(img_real, (128, 128))\n",
        "    img_fake = cv2.resize(img_fake, (128, 128))\n",
        "    PSNR_none = PSNR(img_real, img_fake)\n",
        "    PSNR_average += PSNR_none\n",
        "    i+=1\n",
        "  PSNR_average = PSNR_average/i\n",
        "  psnr_averages.append(PSNR_average)\n",
        "  #print(fake_image + \" \" + str(PSNR_average))\n",
        "print(min(psnr_averages))\n",
        "print(max(psnr_averages))"
      ],
      "execution_count": null,
      "outputs": [
        {
          "output_type": "stream",
          "text": [
            "28.306070316881247\n",
            "28.354403417632092\n"
          ],
          "name": "stdout"
        }
      ]
    },
    {
      "cell_type": "code",
      "metadata": {
        "id": "wMDwKBJ6xA47",
        "colab": {
          "base_uri": "https://localhost:8080/"
        },
        "outputId": "bb09be24-856a-452b-b61d-5a2dbcaeb22e"
      },
      "source": [
        "directory_real_class_4 = \"/content/gdrive/My Drive/Kaggle/randomly selected preprocessed/class 0/\"\n",
        "directory_fake = \"/content/gdrive/My Drive/img_retina_Kaggle_class_4_state_of_art_GAN/29/\"\n",
        "psnr_averages = []\n",
        "for fake_image in os.listdir(directory_fake):\n",
        "  PSNR_average = 0\n",
        "  i = 0\n",
        "  for real_image in os.listdir(directory_real_class_4):\n",
        "    img_real = cv2.imread(directory_real_class_4 + real_image)\n",
        "    img_fake = cv2.imread(directory_fake + fake_image)\n",
        "    img_real = cv2.resize(img_real, (128, 128))\n",
        "    img_fake = cv2.resize(img_fake, (128, 128))\n",
        "    PSNR_none = PSNR(img_real, img_fake)\n",
        "    PSNR_average += PSNR_none\n",
        "    i+=1\n",
        "  PSNR_average = PSNR_average/i\n",
        "  psnr_averages.append(PSNR_average)\n",
        "  #print(fake_image + \" \" + str(PSNR_average))\n",
        "print(min(psnr_averages))\n",
        "print(max(psnr_averages))"
      ],
      "execution_count": null,
      "outputs": [
        {
          "output_type": "stream",
          "text": [
            "28.310776686140414\n",
            "28.3512118129319\n"
          ],
          "name": "stdout"
        }
      ]
    },
    {
      "cell_type": "code",
      "metadata": {
        "id": "KcIm71-fxBeH",
        "colab": {
          "base_uri": "https://localhost:8080/"
        },
        "outputId": "509e90f5-8d14-457a-adfd-1f70180b1a09"
      },
      "source": [
        "directory_real_class_4 = \"/content/gdrive/My Drive/Kaggle/randomly selected preprocessed/class 0/\"\n",
        "directory_fake = \"/content/gdrive/My Drive/img_retina_Kaggle_class_4_state_of_art_GAN/39/\"\n",
        "psnr_averages = []\n",
        "for fake_image in os.listdir(directory_fake):\n",
        "  PSNR_average = 0\n",
        "  i = 0\n",
        "  for real_image in os.listdir(directory_real_class_4):\n",
        "    img_real = cv2.imread(directory_real_class_4 + real_image)\n",
        "    img_fake = cv2.imread(directory_fake + fake_image)\n",
        "    img_real = cv2.resize(img_real, (128, 128))\n",
        "    img_fake = cv2.resize(img_fake, (128, 128))\n",
        "    PSNR_none = PSNR(img_real, img_fake)\n",
        "    PSNR_average += PSNR_none\n",
        "    i+=1\n",
        "  PSNR_average = PSNR_average/i\n",
        "  psnr_averages.append(PSNR_average)\n",
        "  #print(fake_image + \" \" + str(PSNR_average))\n",
        "print(min(psnr_averages))\n",
        "print(max(psnr_averages))"
      ],
      "execution_count": null,
      "outputs": [
        {
          "output_type": "stream",
          "text": [
            "28.23670709341132\n",
            "28.277437818451236\n"
          ],
          "name": "stdout"
        }
      ]
    },
    {
      "cell_type": "code",
      "metadata": {
        "id": "tbEIPBoXxB7w",
        "colab": {
          "base_uri": "https://localhost:8080/"
        },
        "outputId": "708916b8-aafc-4841-ecf2-db54f43b982d"
      },
      "source": [
        "directory_real_class_4 = \"/content/gdrive/My Drive/Kaggle/randomly selected preprocessed/class 0/\"\n",
        "directory_fake = \"/content/gdrive/My Drive/img_retina_Kaggle_class_4_state_of_art_GAN/49/\"\n",
        "psnr_averages = []\n",
        "for fake_image in os.listdir(directory_fake):\n",
        "  PSNR_average = 0\n",
        "  i = 0\n",
        "  for real_image in os.listdir(directory_real_class_4):\n",
        "    img_real = cv2.imread(directory_real_class_4 + real_image)\n",
        "    img_fake = cv2.imread(directory_fake + fake_image)\n",
        "    img_real = cv2.resize(img_real, (128, 128))\n",
        "    img_fake = cv2.resize(img_fake, (128, 128))\n",
        "    PSNR_none = PSNR(img_real, img_fake)\n",
        "    PSNR_average += PSNR_none\n",
        "    i+=1\n",
        "  PSNR_average = PSNR_average/i\n",
        "  psnr_averages.append(PSNR_average)\n",
        "  #print(fake_image + \" \" + str(PSNR_average))\n",
        "print(min(psnr_averages))\n",
        "print(max(psnr_averages))"
      ],
      "execution_count": null,
      "outputs": [
        {
          "output_type": "stream",
          "text": [
            "28.11501217694667\n",
            "28.147621052244908\n"
          ],
          "name": "stdout"
        }
      ]
    },
    {
      "cell_type": "code",
      "metadata": {
        "id": "59_e3PnFxCle",
        "colab": {
          "base_uri": "https://localhost:8080/"
        },
        "outputId": "31dfd402-0640-4b74-9664-e3e700a80954"
      },
      "source": [
        "directory_real_class_4 = \"/content/gdrive/My Drive/Kaggle/randomly selected preprocessed/class 0/\"\n",
        "directory_fake = \"/content/gdrive/My Drive/img_retina_Kaggle_class_4_state_of_art_GAN/59/\"\n",
        "psnr_averages = []\n",
        "for fake_image in os.listdir(directory_fake):\n",
        "  PSNR_average = 0\n",
        "  i = 0\n",
        "  for real_image in os.listdir(directory_real_class_4):\n",
        "    img_real = cv2.imread(directory_real_class_4 + real_image)\n",
        "    img_fake = cv2.imread(directory_fake + fake_image)\n",
        "    img_real = cv2.resize(img_real, (128, 128))\n",
        "    img_fake = cv2.resize(img_fake, (128, 128))\n",
        "    PSNR_none = PSNR(img_real, img_fake)\n",
        "    PSNR_average += PSNR_none\n",
        "    i+=1\n",
        "  PSNR_average = PSNR_average/i\n",
        "  psnr_averages.append(PSNR_average)\n",
        "  #print(fake_image + \" \" + str(PSNR_average))\n",
        "print(min(psnr_averages))\n",
        "print(max(psnr_averages))"
      ],
      "execution_count": null,
      "outputs": [
        {
          "output_type": "stream",
          "text": [
            "28.145868560252243\n",
            "28.175826580971957\n"
          ],
          "name": "stdout"
        }
      ]
    },
    {
      "cell_type": "code",
      "metadata": {
        "id": "8ye_5KdzxC8f",
        "colab": {
          "base_uri": "https://localhost:8080/"
        },
        "outputId": "1779646c-8f2f-4fcc-c60b-59129f0171dd"
      },
      "source": [
        "directory_real_class_4 = \"/content/gdrive/My Drive/Kaggle/randomly selected preprocessed/class 0/\"\n",
        "directory_fake = \"/content/gdrive/My Drive/img_retina_Kaggle_class_4_state_of_art_GAN/69/\"\n",
        "psnr_averages = []\n",
        "for fake_image in os.listdir(directory_fake):\n",
        "  PSNR_average = 0\n",
        "  i = 0\n",
        "  for real_image in os.listdir(directory_real_class_4):\n",
        "    img_real = cv2.imread(directory_real_class_4 + real_image)\n",
        "    img_fake = cv2.imread(directory_fake + fake_image)\n",
        "    img_real = cv2.resize(img_real, (128, 128))\n",
        "    img_fake = cv2.resize(img_fake, (128, 128))\n",
        "    PSNR_none = PSNR(img_real, img_fake)\n",
        "    PSNR_average += PSNR_none\n",
        "    i+=1\n",
        "  PSNR_average = PSNR_average/i\n",
        "  psnr_averages.append(PSNR_average)\n",
        "  #print(fake_image + \" \" + str(PSNR_average))\n",
        "print(min(psnr_averages))\n",
        "print(max(psnr_averages))"
      ],
      "execution_count": null,
      "outputs": [
        {
          "output_type": "stream",
          "text": [
            "28.134996728619694\n",
            "28.162869965027976\n"
          ],
          "name": "stdout"
        }
      ]
    },
    {
      "cell_type": "code",
      "metadata": {
        "id": "VxlJXLA6xDSq",
        "colab": {
          "base_uri": "https://localhost:8080/"
        },
        "outputId": "d97607aa-693b-4213-b261-09bf9deb4403"
      },
      "source": [
        "directory_real_class_4 = \"/content/gdrive/My Drive/Kaggle/randomly selected preprocessed/class 0/\"\n",
        "directory_fake = \"/content/gdrive/My Drive/img_retina_Kaggle_class_4_state_of_art_GAN/79/\"\n",
        "psnr_averages = []\n",
        "for fake_image in os.listdir(directory_fake):\n",
        "  PSNR_average = 0\n",
        "  i = 0\n",
        "  for real_image in os.listdir(directory_real_class_4):\n",
        "    img_real = cv2.imread(directory_real_class_4 + real_image)\n",
        "    img_fake = cv2.imread(directory_fake + fake_image)\n",
        "    img_real = cv2.resize(img_real, (128, 128))\n",
        "    img_fake = cv2.resize(img_fake, (128, 128))\n",
        "    PSNR_none = PSNR(img_real, img_fake)\n",
        "    PSNR_average += PSNR_none\n",
        "    i+=1\n",
        "  PSNR_average = PSNR_average/i\n",
        "  psnr_averages.append(PSNR_average)\n",
        "  #print(fake_image + \" \" + str(PSNR_average))\n",
        "print(min(psnr_averages))\n",
        "print(max(psnr_averages))"
      ],
      "execution_count": null,
      "outputs": [
        {
          "output_type": "stream",
          "text": [
            "28.12131346439235\n",
            "28.148358373093203\n"
          ],
          "name": "stdout"
        }
      ]
    },
    {
      "cell_type": "code",
      "metadata": {
        "id": "yaSCm2S_xDoV",
        "colab": {
          "base_uri": "https://localhost:8080/"
        },
        "outputId": "0ceb62a4-2f82-44bb-a914-78815140978e"
      },
      "source": [
        "directory_real_class_4 = \"/content/gdrive/My Drive/Kaggle/randomly selected preprocessed/class 0/\"\n",
        "directory_fake = \"/content/gdrive/My Drive/img_retina_Kaggle_class_4_state_of_art_GAN/89/\"\n",
        "psnr_averages = []\n",
        "for fake_image in os.listdir(directory_fake):\n",
        "  PSNR_average = 0\n",
        "  i = 0\n",
        "  for real_image in os.listdir(directory_real_class_4):\n",
        "    img_real = cv2.imread(directory_real_class_4 + real_image)\n",
        "    img_fake = cv2.imread(directory_fake + fake_image)\n",
        "    img_real = cv2.resize(img_real, (128, 128))\n",
        "    img_fake = cv2.resize(img_fake, (128, 128))\n",
        "    PSNR_none = PSNR(img_real, img_fake)\n",
        "    PSNR_average += PSNR_none\n",
        "    i+=1\n",
        "  PSNR_average = PSNR_average/i\n",
        "  psnr_averages.append(PSNR_average)\n",
        "  #print(fake_image + \" \" + str(PSNR_average))\n",
        "print(min(psnr_averages))\n",
        "print(max(psnr_averages))"
      ],
      "execution_count": null,
      "outputs": [
        {
          "output_type": "stream",
          "text": [
            "28.08669285976274\n",
            "28.10964358096552\n"
          ],
          "name": "stdout"
        }
      ]
    },
    {
      "cell_type": "code",
      "metadata": {
        "id": "pqgWLvaqxD8a",
        "colab": {
          "base_uri": "https://localhost:8080/"
        },
        "outputId": "d9d51c99-4b85-47b7-9750-8da23a16f670"
      },
      "source": [
        "directory_real_class_4 = \"/content/gdrive/My Drive/Kaggle/randomly selected preprocessed/class 0/\"\n",
        "directory_fake = \"/content/gdrive/My Drive/img_retina_Kaggle_class_4_state_of_art_GAN/99/\"\n",
        "psnr_averages = []\n",
        "for fake_image in os.listdir(directory_fake):\n",
        "  PSNR_average = 0\n",
        "  i = 0\n",
        "  for real_image in os.listdir(directory_real_class_4):\n",
        "    img_real = cv2.imread(directory_real_class_4 + real_image)\n",
        "    img_fake = cv2.imread(directory_fake + fake_image)\n",
        "    img_real = cv2.resize(img_real, (128, 128))\n",
        "    img_fake = cv2.resize(img_fake, (128, 128))\n",
        "    PSNR_none = PSNR(img_real, img_fake)\n",
        "    PSNR_average += PSNR_none\n",
        "    i+=1\n",
        "  PSNR_average = PSNR_average/i\n",
        "  psnr_averages.append(PSNR_average)\n",
        "  #print(fake_image + \" \" + str(PSNR_average))\n",
        "print(min(psnr_averages))\n",
        "print(max(psnr_averages))"
      ],
      "execution_count": null,
      "outputs": [
        {
          "output_type": "stream",
          "text": [
            "28.073175540015217\n",
            "28.093496724203142\n"
          ],
          "name": "stdout"
        }
      ]
    },
    {
      "cell_type": "code",
      "metadata": {
        "id": "tfrz7fy7xEPy",
        "colab": {
          "base_uri": "https://localhost:8080/"
        },
        "outputId": "51309659-53c4-41e8-9522-ea1eb916f3cb"
      },
      "source": [
        "directory_real_class_4 = \"/content/gdrive/My Drive/Kaggle/randomly selected preprocessed/class 0/\"\n",
        "directory_fake = \"/content/gdrive/My Drive/img_retina_Kaggle_class_4_state_of_art_GAN/109/\"\n",
        "psnr_averages = []\n",
        "for fake_image in os.listdir(directory_fake):\n",
        "  PSNR_average = 0\n",
        "  i = 0\n",
        "  for real_image in os.listdir(directory_real_class_4):\n",
        "    img_real = cv2.imread(directory_real_class_4 + real_image)\n",
        "    img_fake = cv2.imread(directory_fake + fake_image)\n",
        "    img_real = cv2.resize(img_real, (128, 128))\n",
        "    img_fake = cv2.resize(img_fake, (128, 128))\n",
        "    PSNR_none = PSNR(img_real, img_fake)\n",
        "    PSNR_average += PSNR_none\n",
        "    i+=1\n",
        "  PSNR_average = PSNR_average/i\n",
        "  psnr_averages.append(PSNR_average)\n",
        "  #print(fake_image + \" \" + str(PSNR_average))\n",
        "print(min(psnr_averages))\n",
        "print(max(psnr_averages))"
      ],
      "execution_count": null,
      "outputs": [
        {
          "output_type": "stream",
          "text": [
            "28.09107456184696\n",
            "28.111528186325845\n"
          ],
          "name": "stdout"
        }
      ]
    },
    {
      "cell_type": "code",
      "metadata": {
        "id": "0kIRJph9xE6y",
        "colab": {
          "base_uri": "https://localhost:8080/"
        },
        "outputId": "d25e8829-d8f6-4f77-e44a-6929f78bd982"
      },
      "source": [
        "directory_real_class_4 = \"/content/gdrive/My Drive/Kaggle/randomly selected preprocessed/class 0/\"\n",
        "directory_fake = \"/content/gdrive/My Drive/img_retina_Kaggle_class_4_state_of_art_GAN/119/\"\n",
        "psnr_averages = []\n",
        "for fake_image in os.listdir(directory_fake):\n",
        "  PSNR_average = 0\n",
        "  i = 0\n",
        "  for real_image in os.listdir(directory_real_class_4):\n",
        "    img_real = cv2.imread(directory_real_class_4 + real_image)\n",
        "    img_fake = cv2.imread(directory_fake + fake_image)\n",
        "    img_real = cv2.resize(img_real, (128, 128))\n",
        "    img_fake = cv2.resize(img_fake, (128, 128))\n",
        "    PSNR_none = PSNR(img_real, img_fake)\n",
        "    PSNR_average += PSNR_none\n",
        "    i+=1\n",
        "  PSNR_average = PSNR_average/i\n",
        "  psnr_averages.append(PSNR_average)\n",
        "  #print(fake_image + \" \" + str(PSNR_average))\n",
        "print(min(psnr_averages))\n",
        "print(max(psnr_averages))"
      ],
      "execution_count": null,
      "outputs": [
        {
          "output_type": "stream",
          "text": [
            "28.072845796723673\n",
            "28.09598018391488\n"
          ],
          "name": "stdout"
        }
      ]
    },
    {
      "cell_type": "code",
      "metadata": {
        "id": "N1KV4xl4xGFI",
        "colab": {
          "base_uri": "https://localhost:8080/"
        },
        "outputId": "8156bdde-e2ad-4246-e679-c941cce399d0"
      },
      "source": [
        "directory_real_class_4 = \"/content/gdrive/My Drive/Kaggle/randomly selected preprocessed/class 0/\"\n",
        "directory_fake = \"/content/gdrive/My Drive/img_retina_Kaggle_class_4_state_of_art_GAN/129/\"\n",
        "psnr_averages = []\n",
        "for fake_image in os.listdir(directory_fake):\n",
        "  PSNR_average = 0\n",
        "  i = 0\n",
        "  for real_image in os.listdir(directory_real_class_4):\n",
        "    img_real = cv2.imread(directory_real_class_4 + real_image)\n",
        "    img_fake = cv2.imread(directory_fake + fake_image)\n",
        "    img_real = cv2.resize(img_real, (128, 128))\n",
        "    img_fake = cv2.resize(img_fake, (128, 128))\n",
        "    PSNR_none = PSNR(img_real, img_fake)\n",
        "    PSNR_average += PSNR_none\n",
        "    i+=1\n",
        "  PSNR_average = PSNR_average/i\n",
        "  psnr_averages.append(PSNR_average)\n",
        "  #print(fake_image + \" \" + str(PSNR_average))\n",
        "print(min(psnr_averages))\n",
        "print(max(psnr_averages))"
      ],
      "execution_count": null,
      "outputs": [
        {
          "output_type": "stream",
          "text": [
            "28.064957581112385\n",
            "28.087202896277763\n"
          ],
          "name": "stdout"
        }
      ]
    },
    {
      "cell_type": "code",
      "metadata": {
        "id": "P7hDmKSLxGba",
        "colab": {
          "base_uri": "https://localhost:8080/"
        },
        "outputId": "4fdc7509-2875-4373-df54-d998cf27f9b9"
      },
      "source": [
        "directory_real_class_4 = \"/content/gdrive/My Drive/Kaggle/randomly selected preprocessed/class 0/\"\n",
        "directory_fake = \"/content/gdrive/My Drive/img_retina_Kaggle_class_4_state_of_art_GAN/139/\"\n",
        "psnr_averages = []\n",
        "for fake_image in os.listdir(directory_fake):\n",
        "  PSNR_average = 0\n",
        "  i = 0\n",
        "  for real_image in os.listdir(directory_real_class_4):\n",
        "    img_real = cv2.imread(directory_real_class_4 + real_image)\n",
        "    img_fake = cv2.imread(directory_fake + fake_image)\n",
        "    img_real = cv2.resize(img_real, (128, 128))\n",
        "    img_fake = cv2.resize(img_fake, (128, 128))\n",
        "    PSNR_none = PSNR(img_real, img_fake)\n",
        "    PSNR_average += PSNR_none\n",
        "    i+=1\n",
        "  PSNR_average = PSNR_average/i\n",
        "  psnr_averages.append(PSNR_average)\n",
        "  #print(fake_image + \" \" + str(PSNR_average))\n",
        "print(min(psnr_averages))\n",
        "print(max(psnr_averages))"
      ],
      "execution_count": null,
      "outputs": [
        {
          "output_type": "stream",
          "text": [
            "28.071287896833105\n",
            "28.09135121893732\n"
          ],
          "name": "stdout"
        }
      ]
    },
    {
      "cell_type": "code",
      "metadata": {
        "id": "gjTM3y96xG4e",
        "colab": {
          "base_uri": "https://localhost:8080/"
        },
        "outputId": "16ed57d2-3d7e-40aa-beb3-7aeeff1d7d3b"
      },
      "source": [
        "directory_real_class_4 = \"/content/gdrive/My Drive/Kaggle/randomly selected preprocessed/class 0/\"\n",
        "directory_fake = \"/content/gdrive/My Drive/img_retina_Kaggle_class_4_state_of_art_GAN/149/\"\n",
        "psnr_averages = []\n",
        "for fake_image in os.listdir(directory_fake):\n",
        "  PSNR_average = 0\n",
        "  i = 0\n",
        "  for real_image in os.listdir(directory_real_class_4):\n",
        "    img_real = cv2.imread(directory_real_class_4 + real_image)\n",
        "    img_fake = cv2.imread(directory_fake + fake_image)\n",
        "    img_real = cv2.resize(img_real, (128, 128))\n",
        "    img_fake = cv2.resize(img_fake, (128, 128))\n",
        "    PSNR_none = PSNR(img_real, img_fake)\n",
        "    PSNR_average += PSNR_none\n",
        "    i+=1\n",
        "  PSNR_average = PSNR_average/i\n",
        "  psnr_averages.append(PSNR_average)\n",
        "  #print(fake_image + \" \" + str(PSNR_average))\n",
        "print(min(psnr_averages))\n",
        "print(max(psnr_averages))"
      ],
      "execution_count": null,
      "outputs": [
        {
          "output_type": "stream",
          "text": [
            "28.075305441963245\n",
            "28.096814944413694\n"
          ],
          "name": "stdout"
        }
      ]
    },
    {
      "cell_type": "code",
      "metadata": {
        "id": "6C7tk-mXxVSO",
        "colab": {
          "base_uri": "https://localhost:8080/"
        },
        "outputId": "880c8db6-1b4a-441a-9db9-a6f3f0fb183d"
      },
      "source": [
        "directory_real_class_4 = \"/content/gdrive/My Drive/Kaggle/randomly selected preprocessed/class 0/\"\n",
        "directory_fake = \"/content/gdrive/My Drive/img_retina_Kaggle_class_4_state_of_art_GAN/159/\"\n",
        "psnr_averages = []\n",
        "for fake_image in os.listdir(directory_fake):\n",
        "  PSNR_average = 0\n",
        "  i = 0\n",
        "  for real_image in os.listdir(directory_real_class_4):\n",
        "    img_real = cv2.imread(directory_real_class_4 + real_image)\n",
        "    img_fake = cv2.imread(directory_fake + fake_image)\n",
        "    img_real = cv2.resize(img_real, (128, 128))\n",
        "    img_fake = cv2.resize(img_fake, (128, 128))\n",
        "    PSNR_none = PSNR(img_real, img_fake)\n",
        "    PSNR_average += PSNR_none\n",
        "    i+=1\n",
        "  PSNR_average = PSNR_average/i\n",
        "  psnr_averages.append(PSNR_average)\n",
        "  #print(fake_image + \" \" + str(PSNR_average))\n",
        "print(min(psnr_averages))\n",
        "print(max(psnr_averages))"
      ],
      "execution_count": null,
      "outputs": [
        {
          "output_type": "stream",
          "text": [
            "28.075439711268977\n",
            "28.100014893735242\n"
          ],
          "name": "stdout"
        }
      ]
    },
    {
      "cell_type": "code",
      "metadata": {
        "id": "YG8qL6CIxVdd",
        "colab": {
          "base_uri": "https://localhost:8080/"
        },
        "outputId": "bdb0d42d-1a58-4166-d699-ea0c1ea81974"
      },
      "source": [
        "directory_real_class_4 = \"/content/gdrive/My Drive/Kaggle/randomly selected preprocessed/class 0/\"\n",
        "directory_fake = \"/content/gdrive/My Drive/img_retina_Kaggle_class_4_state_of_art_GAN/169/\"\n",
        "psnr_averages = []\n",
        "for fake_image in os.listdir(directory_fake):\n",
        "  PSNR_average = 0\n",
        "  i = 0\n",
        "  for real_image in os.listdir(directory_real_class_4):\n",
        "    img_real = cv2.imread(directory_real_class_4 + real_image)\n",
        "    img_fake = cv2.imread(directory_fake + fake_image)\n",
        "    img_real = cv2.resize(img_real, (128, 128))\n",
        "    img_fake = cv2.resize(img_fake, (128, 128))\n",
        "    PSNR_none = PSNR(img_real, img_fake)\n",
        "    PSNR_average += PSNR_none\n",
        "    i+=1\n",
        "  PSNR_average = PSNR_average/i\n",
        "  psnr_averages.append(PSNR_average)\n",
        "  #print(fake_image + \" \" + str(PSNR_average))\n",
        "print(min(psnr_averages))\n",
        "print(max(psnr_averages))"
      ],
      "execution_count": null,
      "outputs": [
        {
          "output_type": "stream",
          "text": [
            "28.08205255675858\n",
            "28.09947425678019\n"
          ],
          "name": "stdout"
        }
      ]
    },
    {
      "cell_type": "code",
      "metadata": {
        "id": "Ccd_vlzmxVhv",
        "colab": {
          "base_uri": "https://localhost:8080/"
        },
        "outputId": "00440810-47b2-4578-b432-720cc69104da"
      },
      "source": [
        "directory_real_class_4 = \"/content/gdrive/My Drive/Kaggle/randomly selected preprocessed/class 0/\"\n",
        "directory_fake = \"/content/gdrive/My Drive/img_retina_Kaggle_class_4_state_of_art_GAN/179/\"\n",
        "psnr_averages = []\n",
        "for fake_image in os.listdir(directory_fake):\n",
        "  PSNR_average = 0\n",
        "  i = 0\n",
        "  for real_image in os.listdir(directory_real_class_4):\n",
        "    img_real = cv2.imread(directory_real_class_4 + real_image)\n",
        "    img_fake = cv2.imread(directory_fake + fake_image)\n",
        "    img_real = cv2.resize(img_real, (128, 128))\n",
        "    img_fake = cv2.resize(img_fake, (128, 128))\n",
        "    PSNR_none = PSNR(img_real, img_fake)\n",
        "    PSNR_average += PSNR_none\n",
        "    i+=1\n",
        "  PSNR_average = PSNR_average/i\n",
        "  psnr_averages.append(PSNR_average)\n",
        "  #print(fake_image + \" \" + str(PSNR_average))\n",
        "print(min(psnr_averages))\n",
        "print(max(psnr_averages))"
      ],
      "execution_count": null,
      "outputs": [
        {
          "output_type": "stream",
          "text": [
            "28.085765399266243\n",
            "28.105649728263675\n"
          ],
          "name": "stdout"
        }
      ]
    },
    {
      "cell_type": "code",
      "metadata": {
        "id": "IjtwX928xVkt",
        "colab": {
          "base_uri": "https://localhost:8080/"
        },
        "outputId": "9368fbcf-34ea-450e-94df-318028f034ee"
      },
      "source": [
        "directory_real_class_4 = \"/content/gdrive/My Drive/Kaggle/randomly selected preprocessed/class 0/\"\n",
        "directory_fake = \"/content/gdrive/My Drive/img_retina_Kaggle_class_4_state_of_art_GAN/189/\"\n",
        "psnr_averages = []\n",
        "for fake_image in os.listdir(directory_fake):\n",
        "  PSNR_average = 0\n",
        "  i = 0\n",
        "  for real_image in os.listdir(directory_real_class_4):\n",
        "    img_real = cv2.imread(directory_real_class_4 + real_image)\n",
        "    img_fake = cv2.imread(directory_fake + fake_image)\n",
        "    img_real = cv2.resize(img_real, (128, 128))\n",
        "    img_fake = cv2.resize(img_fake, (128, 128))\n",
        "    PSNR_none = PSNR(img_real, img_fake)\n",
        "    PSNR_average += PSNR_none\n",
        "    i+=1\n",
        "  PSNR_average = PSNR_average/i\n",
        "  psnr_averages.append(PSNR_average)\n",
        "  #print(fake_image + \" \" + str(PSNR_average))\n",
        "print(min(psnr_averages))\n",
        "print(max(psnr_averages))"
      ],
      "execution_count": null,
      "outputs": [
        {
          "output_type": "stream",
          "text": [
            "28.099553280790865\n",
            "28.11620198771712\n"
          ],
          "name": "stdout"
        }
      ]
    },
    {
      "cell_type": "code",
      "metadata": {
        "id": "raZoJYUuxVn-",
        "colab": {
          "base_uri": "https://localhost:8080/"
        },
        "outputId": "012793eb-7069-4a31-dad2-4ef80998f2bf"
      },
      "source": [
        "directory_real_class_4 = \"/content/gdrive/My Drive/Kaggle/randomly selected preprocessed/class 0/\"\n",
        "directory_fake = \"/content/gdrive/My Drive/img_retina_Kaggle_class_4_state_of_art_GAN/199/\"\n",
        "psnr_averages = []\n",
        "for fake_image in os.listdir(directory_fake):\n",
        "  PSNR_average = 0\n",
        "  i = 0\n",
        "  for real_image in os.listdir(directory_real_class_4):\n",
        "    img_real = cv2.imread(directory_real_class_4 + real_image)\n",
        "    img_fake = cv2.imread(directory_fake + fake_image)\n",
        "    img_real = cv2.resize(img_real, (128, 128))\n",
        "    img_fake = cv2.resize(img_fake, (128, 128))\n",
        "    PSNR_none = PSNR(img_real, img_fake)\n",
        "    PSNR_average += PSNR_none\n",
        "    i+=1\n",
        "  PSNR_average = PSNR_average/i\n",
        "  psnr_averages.append(PSNR_average)\n",
        "  #print(fake_image + \" \" + str(PSNR_average))\n",
        "print(min(psnr_averages))\n",
        "print(max(psnr_averages))"
      ],
      "execution_count": null,
      "outputs": [
        {
          "output_type": "stream",
          "text": [
            "28.101835402110954\n",
            "28.12069295754334\n"
          ],
          "name": "stdout"
        }
      ]
    },
    {
      "cell_type": "code",
      "metadata": {
        "id": "rmbqOSTkxVqx",
        "colab": {
          "base_uri": "https://localhost:8080/"
        },
        "outputId": "6312cd51-e269-4c2e-f350-84663fda3491"
      },
      "source": [
        "directory_real_class_4 = \"/content/gdrive/My Drive/Kaggle/randomly selected preprocessed/class 0/\"\n",
        "directory_fake = \"/content/gdrive/My Drive/img_retina_Kaggle_class_4_state_of_art_GAN/209/\"\n",
        "psnr_averages = []\n",
        "for fake_image in os.listdir(directory_fake):\n",
        "  PSNR_average = 0\n",
        "  i = 0\n",
        "  for real_image in os.listdir(directory_real_class_4):\n",
        "    img_real = cv2.imread(directory_real_class_4 + real_image)\n",
        "    img_fake = cv2.imread(directory_fake + fake_image)\n",
        "    img_real = cv2.resize(img_real, (128, 128))\n",
        "    img_fake = cv2.resize(img_fake, (128, 128))\n",
        "    PSNR_none = PSNR(img_real, img_fake)\n",
        "    PSNR_average += PSNR_none\n",
        "    i+=1\n",
        "  PSNR_average = PSNR_average/i\n",
        "  psnr_averages.append(PSNR_average)\n",
        "  #print(fake_image + \" \" + str(PSNR_average))\n",
        "print(min(psnr_averages))\n",
        "print(max(psnr_averages))"
      ],
      "execution_count": null,
      "outputs": [
        {
          "output_type": "stream",
          "text": [
            "28.099997887150053\n",
            "28.120375230899427\n"
          ],
          "name": "stdout"
        }
      ]
    },
    {
      "cell_type": "code",
      "metadata": {
        "id": "HCF1QHtyxVte",
        "colab": {
          "base_uri": "https://localhost:8080/"
        },
        "outputId": "564b3346-7450-4259-9f74-2f71a131ddae"
      },
      "source": [
        "directory_real_class_4 = \"/content/gdrive/My Drive/Kaggle/randomly selected preprocessed/class 0/\"\n",
        "directory_fake = \"/content/gdrive/My Drive/img_retina_Kaggle_class_4_state_of_art_GAN/219/\"\n",
        "psnr_averages = []\n",
        "for fake_image in os.listdir(directory_fake):\n",
        "  PSNR_average = 0\n",
        "  i = 0\n",
        "  for real_image in os.listdir(directory_real_class_4):\n",
        "    img_real = cv2.imread(directory_real_class_4 + real_image)\n",
        "    img_fake = cv2.imread(directory_fake + fake_image)\n",
        "    img_real = cv2.resize(img_real, (128, 128))\n",
        "    img_fake = cv2.resize(img_fake, (128, 128))\n",
        "    PSNR_none = PSNR(img_real, img_fake)\n",
        "    PSNR_average += PSNR_none\n",
        "    i+=1\n",
        "  PSNR_average = PSNR_average/i\n",
        "  psnr_averages.append(PSNR_average)\n",
        "  #print(fake_image + \" \" + str(PSNR_average))\n",
        "print(min(psnr_averages))\n",
        "print(max(psnr_averages))"
      ],
      "execution_count": null,
      "outputs": [
        {
          "output_type": "stream",
          "text": [
            "28.102472699240117\n",
            "28.12276387139028\n"
          ],
          "name": "stdout"
        }
      ]
    },
    {
      "cell_type": "code",
      "metadata": {
        "id": "mOEH9P-fxVwO",
        "colab": {
          "base_uri": "https://localhost:8080/"
        },
        "outputId": "21a9bdae-a408-47e0-8131-b6583d14f3ea"
      },
      "source": [
        "directory_real_class_4 = \"/content/gdrive/My Drive/Kaggle/randomly selected preprocessed/class 0/\"\n",
        "directory_fake = \"/content/gdrive/My Drive/img_retina_Kaggle_class_4_state_of_art_GAN/229/\"\n",
        "psnr_averages = []\n",
        "for fake_image in os.listdir(directory_fake):\n",
        "  PSNR_average = 0\n",
        "  i = 0\n",
        "  for real_image in os.listdir(directory_real_class_4):\n",
        "    img_real = cv2.imread(directory_real_class_4 + real_image)\n",
        "    img_fake = cv2.imread(directory_fake + fake_image)\n",
        "    img_real = cv2.resize(img_real, (128, 128))\n",
        "    img_fake = cv2.resize(img_fake, (128, 128))\n",
        "    PSNR_none = PSNR(img_real, img_fake)\n",
        "    PSNR_average += PSNR_none\n",
        "    i+=1\n",
        "  PSNR_average = PSNR_average/i\n",
        "  psnr_averages.append(PSNR_average)\n",
        "  #print(fake_image + \" \" + str(PSNR_average))\n",
        "print(min(psnr_averages))\n",
        "print(max(psnr_averages))"
      ],
      "execution_count": null,
      "outputs": [
        {
          "output_type": "stream",
          "text": [
            "28.09803645631978\n",
            "28.11274797513871\n"
          ],
          "name": "stdout"
        }
      ]
    },
    {
      "cell_type": "code",
      "metadata": {
        "id": "j0zCT8cFxVzO",
        "colab": {
          "base_uri": "https://localhost:8080/"
        },
        "outputId": "f70fb77d-e0b5-495d-f72e-989579c1ec57"
      },
      "source": [
        "directory_real_class_4 = \"/content/gdrive/My Drive/Kaggle/randomly selected preprocessed/class 0/\"\n",
        "directory_fake = \"/content/gdrive/My Drive/img_retina_Kaggle_class_4_state_of_art_GAN/239/\"\n",
        "psnr_averages = []\n",
        "for fake_image in os.listdir(directory_fake):\n",
        "  PSNR_average = 0\n",
        "  i = 0\n",
        "  for real_image in os.listdir(directory_real_class_4):\n",
        "    img_real = cv2.imread(directory_real_class_4 + real_image)\n",
        "    img_fake = cv2.imread(directory_fake + fake_image)\n",
        "    img_real = cv2.resize(img_real, (128, 128))\n",
        "    img_fake = cv2.resize(img_fake, (128, 128))\n",
        "    PSNR_none = PSNR(img_real, img_fake)\n",
        "    PSNR_average += PSNR_none\n",
        "    i+=1\n",
        "  PSNR_average = PSNR_average/i\n",
        "  psnr_averages.append(PSNR_average)\n",
        "  #print(fake_image + \" \" + str(PSNR_average))\n",
        "print(min(psnr_averages))\n",
        "print(max(psnr_averages))"
      ],
      "execution_count": null,
      "outputs": [
        {
          "output_type": "stream",
          "text": [
            "28.095240693323323\n",
            "28.113392033916412\n"
          ],
          "name": "stdout"
        }
      ]
    },
    {
      "cell_type": "code",
      "metadata": {
        "id": "7Yq8OMPRxbk5",
        "colab": {
          "base_uri": "https://localhost:8080/"
        },
        "outputId": "423c29bd-6e08-4500-c0a4-049a06dbeb4d"
      },
      "source": [
        "directory_real_class_4 = \"/content/gdrive/My Drive/Kaggle/randomly selected preprocessed/class 0/\"\n",
        "directory_fake = \"/content/gdrive/My Drive/img_retina_Kaggle_class_4_state_of_art_GAN/249/\"\n",
        "psnr_averages = []\n",
        "for fake_image in os.listdir(directory_fake):\n",
        "  PSNR_average = 0\n",
        "  i = 0\n",
        "  for real_image in os.listdir(directory_real_class_4):\n",
        "    img_real = cv2.imread(directory_real_class_4 + real_image)\n",
        "    img_fake = cv2.imread(directory_fake + fake_image)\n",
        "    img_real = cv2.resize(img_real, (128, 128))\n",
        "    img_fake = cv2.resize(img_fake, (128, 128))\n",
        "    PSNR_none = PSNR(img_real, img_fake)\n",
        "    PSNR_average += PSNR_none\n",
        "    i+=1\n",
        "  PSNR_average = PSNR_average/i\n",
        "  psnr_averages.append(PSNR_average)\n",
        "  #print(fake_image + \" \" + str(PSNR_average))\n",
        "print(min(psnr_averages))\n",
        "print(max(psnr_averages))"
      ],
      "execution_count": null,
      "outputs": [
        {
          "output_type": "stream",
          "text": [
            "28.090393043552545\n",
            "28.11029153145528\n"
          ],
          "name": "stdout"
        }
      ]
    },
    {
      "cell_type": "code",
      "metadata": {
        "id": "PgBvVxZ2xbqM",
        "colab": {
          "base_uri": "https://localhost:8080/"
        },
        "outputId": "c8d5bde8-144a-4968-ab27-3a2b1d92e8c5"
      },
      "source": [
        "directory_real_class_4 = \"/content/gdrive/My Drive/Kaggle/randomly selected preprocessed/class 0/\"\n",
        "directory_fake = \"/content/gdrive/My Drive/img_retina_Kaggle_class_4_state_of_art_GAN/259/\"\n",
        "psnr_averages = []\n",
        "for fake_image in os.listdir(directory_fake):\n",
        "  PSNR_average = 0\n",
        "  i = 0\n",
        "  for real_image in os.listdir(directory_real_class_4):\n",
        "    img_real = cv2.imread(directory_real_class_4 + real_image)\n",
        "    img_fake = cv2.imread(directory_fake + fake_image)\n",
        "    img_real = cv2.resize(img_real, (128, 128))\n",
        "    img_fake = cv2.resize(img_fake, (128, 128))\n",
        "    PSNR_none = PSNR(img_real, img_fake)\n",
        "    PSNR_average += PSNR_none\n",
        "    i+=1\n",
        "  PSNR_average = PSNR_average/i\n",
        "  psnr_averages.append(PSNR_average)\n",
        "  #print(fake_image + \" \" + str(PSNR_average))\n",
        "print(min(psnr_averages))\n",
        "print(max(psnr_averages))"
      ],
      "execution_count": null,
      "outputs": [
        {
          "output_type": "stream",
          "text": [
            "28.08770402933219\n",
            "28.1091854043441\n"
          ],
          "name": "stdout"
        }
      ]
    },
    {
      "cell_type": "code",
      "metadata": {
        "id": "Rhtw26Huxbs6",
        "colab": {
          "base_uri": "https://localhost:8080/"
        },
        "outputId": "451e6a96-dfcc-4aa9-9565-f313c3d46c89"
      },
      "source": [
        "directory_real_class_4 = \"/content/gdrive/My Drive/Kaggle/randomly selected preprocessed/class 0/\"\n",
        "directory_fake = \"/content/gdrive/My Drive/img_retina_Kaggle_class_4_state_of_art_GAN/269/\"\n",
        "psnr_averages = []\n",
        "for fake_image in os.listdir(directory_fake):\n",
        "  PSNR_average = 0\n",
        "  i = 0\n",
        "  for real_image in os.listdir(directory_real_class_4):\n",
        "    img_real = cv2.imread(directory_real_class_4 + real_image)\n",
        "    img_fake = cv2.imread(directory_fake + fake_image)\n",
        "    img_real = cv2.resize(img_real, (128, 128))\n",
        "    img_fake = cv2.resize(img_fake, (128, 128))\n",
        "    PSNR_none = PSNR(img_real, img_fake)\n",
        "    PSNR_average += PSNR_none\n",
        "    i+=1\n",
        "  PSNR_average = PSNR_average/i\n",
        "  psnr_averages.append(PSNR_average)\n",
        "  #print(fake_image + \" \" + str(PSNR_average))\n",
        "print(min(psnr_averages))\n",
        "print(max(psnr_averages))"
      ],
      "execution_count": null,
      "outputs": [
        {
          "output_type": "stream",
          "text": [
            "28.101031626341342\n",
            "28.120310793355365\n"
          ],
          "name": "stdout"
        }
      ]
    },
    {
      "cell_type": "code",
      "metadata": {
        "id": "dqUjF0_9xbvt",
        "colab": {
          "base_uri": "https://localhost:8080/"
        },
        "outputId": "e466ce06-a253-4b7f-d763-31acb9ca9f29"
      },
      "source": [
        "directory_real_class_4 = \"/content/gdrive/My Drive/Kaggle/randomly selected preprocessed/class 0/\"\n",
        "directory_fake = \"/content/gdrive/My Drive/img_retina_Kaggle_class_4_state_of_art_GAN/279/\"\n",
        "psnr_averages = []\n",
        "for fake_image in os.listdir(directory_fake):\n",
        "  PSNR_average = 0\n",
        "  i = 0\n",
        "  for real_image in os.listdir(directory_real_class_4):\n",
        "    img_real = cv2.imread(directory_real_class_4 + real_image)\n",
        "    img_fake = cv2.imread(directory_fake + fake_image)\n",
        "    img_real = cv2.resize(img_real, (128, 128))\n",
        "    img_fake = cv2.resize(img_fake, (128, 128))\n",
        "    PSNR_none = PSNR(img_real, img_fake)\n",
        "    PSNR_average += PSNR_none\n",
        "    i+=1\n",
        "  PSNR_average = PSNR_average/i\n",
        "  psnr_averages.append(PSNR_average)\n",
        "  #print(fake_image + \" \" + str(PSNR_average))\n",
        "print(min(psnr_averages))\n",
        "print(max(psnr_averages))"
      ],
      "execution_count": null,
      "outputs": [
        {
          "output_type": "stream",
          "text": [
            "28.097824270161325\n",
            "28.116628812367914\n"
          ],
          "name": "stdout"
        }
      ]
    },
    {
      "cell_type": "code",
      "metadata": {
        "id": "T_R4llCvxbya",
        "colab": {
          "base_uri": "https://localhost:8080/"
        },
        "outputId": "188f1df4-8d30-4859-b059-bac256bfb567"
      },
      "source": [
        "directory_real_class_4 = \"/content/gdrive/My Drive/Kaggle/randomly selected preprocessed/class 0/\"\n",
        "directory_fake = \"/content/gdrive/My Drive/img_retina_Kaggle_class_4_state_of_art_GAN/289/\"\n",
        "psnr_averages = []\n",
        "for fake_image in os.listdir(directory_fake):\n",
        "  PSNR_average = 0\n",
        "  i = 0\n",
        "  for real_image in os.listdir(directory_real_class_4):\n",
        "    img_real = cv2.imread(directory_real_class_4 + real_image)\n",
        "    img_fake = cv2.imread(directory_fake + fake_image)\n",
        "    img_real = cv2.resize(img_real, (128, 128))\n",
        "    img_fake = cv2.resize(img_fake, (128, 128))\n",
        "    PSNR_none = PSNR(img_real, img_fake)\n",
        "    PSNR_average += PSNR_none\n",
        "    i+=1\n",
        "  PSNR_average = PSNR_average/i\n",
        "  psnr_averages.append(PSNR_average)\n",
        "  #print(fake_image + \" \" + str(PSNR_average))\n",
        "print(min(psnr_averages))\n",
        "print(max(psnr_averages))"
      ],
      "execution_count": null,
      "outputs": [
        {
          "output_type": "stream",
          "text": [
            "28.095175899369757\n",
            "28.11584732803302\n"
          ],
          "name": "stdout"
        }
      ]
    },
    {
      "cell_type": "code",
      "metadata": {
        "id": "hn21Kxesxegn",
        "colab": {
          "base_uri": "https://localhost:8080/"
        },
        "outputId": "8e59f2fa-7404-492b-d0d4-c6cbd6440396"
      },
      "source": [
        "directory_real_class_4 = \"/content/gdrive/My Drive/Kaggle/randomly selected preprocessed/class 0/\"\n",
        "directory_fake = \"/content/gdrive/My Drive/img_retina_Kaggle_class_4_state_of_art_GAN/299/\"\n",
        "psnr_averages = []\n",
        "for fake_image in os.listdir(directory_fake):\n",
        "  PSNR_average = 0\n",
        "  i = 0\n",
        "  for real_image in os.listdir(directory_real_class_4):\n",
        "    img_real = cv2.imread(directory_real_class_4 + real_image)\n",
        "    img_fake = cv2.imread(directory_fake + fake_image)\n",
        "    img_real = cv2.resize(img_real, (128, 128))\n",
        "    img_fake = cv2.resize(img_fake, (128, 128))\n",
        "    PSNR_none = PSNR(img_real, img_fake)\n",
        "    PSNR_average += PSNR_none\n",
        "    i+=1\n",
        "  PSNR_average = PSNR_average/i\n",
        "  psnr_averages.append(PSNR_average)\n",
        "  #print(fake_image + \" \" + str(PSNR_average))\n",
        "print(min(psnr_averages))\n",
        "print(max(psnr_averages))"
      ],
      "execution_count": null,
      "outputs": [
        {
          "output_type": "stream",
          "text": [
            "28.094228506773515\n",
            "28.112269570391394\n"
          ],
          "name": "stdout"
        }
      ]
    },
    {
      "cell_type": "code",
      "metadata": {
        "id": "oMZjUWmcxen9",
        "colab": {
          "base_uri": "https://localhost:8080/"
        },
        "outputId": "d0e5a7b7-b37a-4e11-f9c1-a2500a30b77a"
      },
      "source": [
        "directory_real_class_4 = \"/content/gdrive/My Drive/Kaggle/randomly selected preprocessed/class 0/\"\n",
        "directory_fake = \"/content/gdrive/My Drive/img_retina_Kaggle_class_4_state_of_art_GAN/309/\"\n",
        "psnr_averages = []\n",
        "for fake_image in os.listdir(directory_fake):\n",
        "  PSNR_average = 0\n",
        "  i = 0\n",
        "  for real_image in os.listdir(directory_real_class_4):\n",
        "    img_real = cv2.imread(directory_real_class_4 + real_image)\n",
        "    img_fake = cv2.imread(directory_fake + fake_image)\n",
        "    img_real = cv2.resize(img_real, (128, 128))\n",
        "    img_fake = cv2.resize(img_fake, (128, 128))\n",
        "    PSNR_none = PSNR(img_real, img_fake)\n",
        "    PSNR_average += PSNR_none\n",
        "    i+=1\n",
        "  PSNR_average = PSNR_average/i\n",
        "  psnr_averages.append(PSNR_average)\n",
        "  #print(fake_image + \" \" + str(PSNR_average))\n",
        "print(min(psnr_averages))\n",
        "print(max(psnr_averages))"
      ],
      "execution_count": null,
      "outputs": [
        {
          "output_type": "stream",
          "text": [
            "28.0860886878965\n",
            "28.10599845146538\n"
          ],
          "name": "stdout"
        }
      ]
    },
    {
      "cell_type": "code",
      "metadata": {
        "id": "aEugmaNLxgRP",
        "colab": {
          "base_uri": "https://localhost:8080/"
        },
        "outputId": "882f457d-3dea-4d84-95c0-46593ab27e7a"
      },
      "source": [
        "directory_real_class_4 = \"/content/gdrive/My Drive/Kaggle/randomly selected preprocessed/class 0/\"\n",
        "directory_fake = \"/content/gdrive/My Drive/img_retina_Kaggle_class_4_state_of_art_GAN/319/\"\n",
        "psnr_averages = []\n",
        "for fake_image in os.listdir(directory_fake):\n",
        "  PSNR_average = 0\n",
        "  i = 0\n",
        "  for real_image in os.listdir(directory_real_class_4):\n",
        "    img_real = cv2.imread(directory_real_class_4 + real_image)\n",
        "    img_fake = cv2.imread(directory_fake + fake_image)\n",
        "    img_real = cv2.resize(img_real, (128, 128))\n",
        "    img_fake = cv2.resize(img_fake, (128, 128))\n",
        "    PSNR_none = PSNR(img_real, img_fake)\n",
        "    PSNR_average += PSNR_none\n",
        "    i+=1\n",
        "  PSNR_average = PSNR_average/i\n",
        "  psnr_averages.append(PSNR_average)\n",
        "  #print(fake_image + \" \" + str(PSNR_average))\n",
        "print(min(psnr_averages))\n",
        "print(max(psnr_averages))"
      ],
      "execution_count": null,
      "outputs": [
        {
          "output_type": "stream",
          "text": [
            "28.092606568351247\n",
            "28.107044896473695\n"
          ],
          "name": "stdout"
        }
      ]
    },
    {
      "cell_type": "code",
      "metadata": {
        "id": "YcJebbTfxgXd",
        "colab": {
          "base_uri": "https://localhost:8080/"
        },
        "outputId": "6af3738b-7f29-46d2-cf5a-56fa12f4a959"
      },
      "source": [
        "directory_real_class_4 = \"/content/gdrive/My Drive/Kaggle/randomly selected preprocessed/class 0/\"\n",
        "directory_fake = \"/content/gdrive/My Drive/img_retina_Kaggle_class_4_state_of_art_GAN/329/\"\n",
        "psnr_averages = []\n",
        "for fake_image in os.listdir(directory_fake):\n",
        "  PSNR_average = 0\n",
        "  i = 0\n",
        "  for real_image in os.listdir(directory_real_class_4):\n",
        "    img_real = cv2.imread(directory_real_class_4 + real_image)\n",
        "    img_fake = cv2.imread(directory_fake + fake_image)\n",
        "    img_real = cv2.resize(img_real, (128, 128))\n",
        "    img_fake = cv2.resize(img_fake, (128, 128))\n",
        "    PSNR_none = PSNR(img_real, img_fake)\n",
        "    PSNR_average += PSNR_none\n",
        "    i+=1\n",
        "  PSNR_average = PSNR_average/i\n",
        "  psnr_averages.append(PSNR_average)\n",
        "  #print(fake_image + \" \" + str(PSNR_average))\n",
        "print(min(psnr_averages))\n",
        "print(max(psnr_averages))"
      ],
      "execution_count": null,
      "outputs": [
        {
          "output_type": "stream",
          "text": [
            "28.07284348592966\n",
            "28.091035823763367\n"
          ],
          "name": "stdout"
        }
      ]
    },
    {
      "cell_type": "code",
      "metadata": {
        "id": "JddEmfPYx6kT",
        "colab": {
          "base_uri": "https://localhost:8080/"
        },
        "outputId": "d511a790-21ba-465f-a9b1-d4ffc0feae72"
      },
      "source": [
        "directory_real_class_4 = \"/content/gdrive/My Drive/Kaggle/randomly selected preprocessed/class 0/\"\n",
        "directory_fake = \"/content/gdrive/My Drive/img_retina_Kaggle_class_4_state_of_art_GAN/339/\"\n",
        "psnr_averages = []\n",
        "for fake_image in os.listdir(directory_fake):\n",
        "  PSNR_average = 0\n",
        "  i = 0\n",
        "  for real_image in os.listdir(directory_real_class_4):\n",
        "    img_real = cv2.imread(directory_real_class_4 + real_image)\n",
        "    img_fake = cv2.imread(directory_fake + fake_image)\n",
        "    img_real = cv2.resize(img_real, (128, 128))\n",
        "    img_fake = cv2.resize(img_fake, (128, 128))\n",
        "    PSNR_none = PSNR(img_real, img_fake)\n",
        "    PSNR_average += PSNR_none\n",
        "    i+=1\n",
        "  PSNR_average = PSNR_average/i\n",
        "  psnr_averages.append(PSNR_average)\n",
        "  #print(fake_image + \" \" + str(PSNR_average))\n",
        "print(min(psnr_averages))\n",
        "print(max(psnr_averages))"
      ],
      "execution_count": null,
      "outputs": [
        {
          "output_type": "stream",
          "text": [
            "28.078853642746704\n",
            "28.100062368802078\n"
          ],
          "name": "stdout"
        }
      ]
    },
    {
      "cell_type": "code",
      "metadata": {
        "id": "U8Ne2po5x6t6",
        "colab": {
          "base_uri": "https://localhost:8080/"
        },
        "outputId": "153c12fb-63b8-48c2-d924-f836411482b3"
      },
      "source": [
        "directory_real_class_4 = \"/content/gdrive/My Drive/Kaggle/randomly selected preprocessed/class 0/\"\n",
        "directory_fake = \"/content/gdrive/My Drive/img_retina_Kaggle_class_4_state_of_art_GAN/349/\"\n",
        "psnr_averages = []\n",
        "for fake_image in os.listdir(directory_fake):\n",
        "  PSNR_average = 0\n",
        "  i = 0\n",
        "  for real_image in os.listdir(directory_real_class_4):\n",
        "    img_real = cv2.imread(directory_real_class_4 + real_image)\n",
        "    img_fake = cv2.imread(directory_fake + fake_image)\n",
        "    img_real = cv2.resize(img_real, (128, 128))\n",
        "    img_fake = cv2.resize(img_fake, (128, 128))\n",
        "    PSNR_none = PSNR(img_real, img_fake)\n",
        "    PSNR_average += PSNR_none\n",
        "    i+=1\n",
        "  PSNR_average = PSNR_average/i\n",
        "  psnr_averages.append(PSNR_average)\n",
        "  #print(fake_image + \" \" + str(PSNR_average))\n",
        "print(min(psnr_averages))\n",
        "print(max(psnr_averages))"
      ],
      "execution_count": null,
      "outputs": [
        {
          "output_type": "stream",
          "text": [
            "28.078509774365948\n",
            "28.095758649989357\n"
          ],
          "name": "stdout"
        }
      ]
    },
    {
      "cell_type": "code",
      "metadata": {
        "id": "UeNb2a1ox60O",
        "colab": {
          "base_uri": "https://localhost:8080/"
        },
        "outputId": "559f12c0-d3b2-41e1-fac8-85d4e9f22203"
      },
      "source": [
        "directory_real_class_4 = \"/content/gdrive/My Drive/Kaggle/randomly selected preprocessed/class 0/\"\n",
        "directory_fake = \"/content/gdrive/My Drive/img_retina_Kaggle_class_4_state_of_art_GAN/359/\"\n",
        "psnr_averages = []\n",
        "for fake_image in os.listdir(directory_fake):\n",
        "  PSNR_average = 0\n",
        "  i = 0\n",
        "  for real_image in os.listdir(directory_real_class_4):\n",
        "    img_real = cv2.imread(directory_real_class_4 + real_image)\n",
        "    img_fake = cv2.imread(directory_fake + fake_image)\n",
        "    img_real = cv2.resize(img_real, (128, 128))\n",
        "    img_fake = cv2.resize(img_fake, (128, 128))\n",
        "    PSNR_none = PSNR(img_real, img_fake)\n",
        "    PSNR_average += PSNR_none\n",
        "    i+=1\n",
        "  PSNR_average = PSNR_average/i\n",
        "  psnr_averages.append(PSNR_average)\n",
        "  #print(fake_image + \" \" + str(PSNR_average))\n",
        "print(min(psnr_averages))\n",
        "print(max(psnr_averages))"
      ],
      "execution_count": null,
      "outputs": [
        {
          "output_type": "stream",
          "text": [
            "28.0694638455326\n",
            "28.084368713029104\n"
          ],
          "name": "stdout"
        }
      ]
    },
    {
      "cell_type": "code",
      "metadata": {
        "id": "FjF-NCfox64M",
        "colab": {
          "base_uri": "https://localhost:8080/"
        },
        "outputId": "d2d9f7dc-69f4-4736-d1cf-0d92661163ce"
      },
      "source": [
        "directory_real_class_4 = \"/content/gdrive/My Drive/Kaggle/randomly selected preprocessed/class 0/\"\n",
        "directory_fake = \"/content/gdrive/My Drive/img_retina_Kaggle_class_4_state_of_art_GAN/369/\"\n",
        "psnr_averages = []\n",
        "for fake_image in os.listdir(directory_fake):\n",
        "  PSNR_average = 0\n",
        "  i = 0\n",
        "  for real_image in os.listdir(directory_real_class_4):\n",
        "    img_real = cv2.imread(directory_real_class_4 + real_image)\n",
        "    img_fake = cv2.imread(directory_fake + fake_image)\n",
        "    img_real = cv2.resize(img_real, (128, 128))\n",
        "    img_fake = cv2.resize(img_fake, (128, 128))\n",
        "    PSNR_none = PSNR(img_real, img_fake)\n",
        "    PSNR_average += PSNR_none\n",
        "    i+=1\n",
        "  PSNR_average = PSNR_average/i\n",
        "  psnr_averages.append(PSNR_average)\n",
        "  #print(fake_image + \" \" + str(PSNR_average))\n",
        "print(min(psnr_averages))\n",
        "print(max(psnr_averages))"
      ],
      "execution_count": null,
      "outputs": [
        {
          "output_type": "stream",
          "text": [
            "28.07109918143336\n",
            "28.087275805780642\n"
          ],
          "name": "stdout"
        }
      ]
    },
    {
      "cell_type": "code",
      "metadata": {
        "id": "WND_DsQZx6_D",
        "colab": {
          "base_uri": "https://localhost:8080/"
        },
        "outputId": "f70b48e1-83fd-416a-e478-2b5245fe90fd"
      },
      "source": [
        "directory_real_class_4 = \"/content/gdrive/My Drive/Kaggle/randomly selected preprocessed/class 0/\"\n",
        "directory_fake = \"/content/gdrive/My Drive/img_retina_Kaggle_class_4_state_of_art_GAN/379/\"\n",
        "psnr_averages = []\n",
        "for fake_image in os.listdir(directory_fake):\n",
        "  PSNR_average = 0\n",
        "  i = 0\n",
        "  for real_image in os.listdir(directory_real_class_4):\n",
        "    img_real = cv2.imread(directory_real_class_4 + real_image)\n",
        "    img_fake = cv2.imread(directory_fake + fake_image)\n",
        "    img_real = cv2.resize(img_real, (128, 128))\n",
        "    img_fake = cv2.resize(img_fake, (128, 128))\n",
        "    PSNR_none = PSNR(img_real, img_fake)\n",
        "    PSNR_average += PSNR_none\n",
        "    i+=1\n",
        "  PSNR_average = PSNR_average/i\n",
        "  psnr_averages.append(PSNR_average)\n",
        "  #print(fake_image + \" \" + str(PSNR_average))\n",
        "print(min(psnr_averages))\n",
        "print(max(psnr_averages))"
      ],
      "execution_count": null,
      "outputs": [
        {
          "output_type": "stream",
          "text": [
            "28.06569436799633\n",
            "28.083581652205922\n"
          ],
          "name": "stdout"
        }
      ]
    },
    {
      "cell_type": "code",
      "metadata": {
        "id": "0RTh-eRtx7F8",
        "colab": {
          "base_uri": "https://localhost:8080/"
        },
        "outputId": "b8421902-4c25-4a37-df43-255775365f42"
      },
      "source": [
        "directory_real_class_4 = \"/content/gdrive/My Drive/Kaggle/randomly selected preprocessed/class 0/\"\n",
        "directory_fake = \"/content/gdrive/My Drive/img_retina_Kaggle_class_4_state_of_art_GAN/389/\"\n",
        "psnr_averages = []\n",
        "for fake_image in os.listdir(directory_fake):\n",
        "  PSNR_average = 0\n",
        "  i = 0\n",
        "  for real_image in os.listdir(directory_real_class_4):\n",
        "    img_real = cv2.imread(directory_real_class_4 + real_image)\n",
        "    img_fake = cv2.imread(directory_fake + fake_image)\n",
        "    img_real = cv2.resize(img_real, (128, 128))\n",
        "    img_fake = cv2.resize(img_fake, (128, 128))\n",
        "    PSNR_none = PSNR(img_real, img_fake)\n",
        "    PSNR_average += PSNR_none\n",
        "    i+=1\n",
        "  PSNR_average = PSNR_average/i\n",
        "  psnr_averages.append(PSNR_average)\n",
        "  #print(fake_image + \" \" + str(PSNR_average))\n",
        "print(min(psnr_averages))\n",
        "print(max(psnr_averages))"
      ],
      "execution_count": null,
      "outputs": [
        {
          "output_type": "stream",
          "text": [
            "28.06510853634971\n",
            "28.083541711988904\n"
          ],
          "name": "stdout"
        }
      ]
    },
    {
      "cell_type": "code",
      "metadata": {
        "id": "267IxTqvx-ia",
        "colab": {
          "base_uri": "https://localhost:8080/"
        },
        "outputId": "85cf4429-f090-4aeb-cbc8-f5d3efc5b3ee"
      },
      "source": [
        "directory_real_class_4 = \"/content/gdrive/My Drive/Kaggle/randomly selected preprocessed/class 0/\"\n",
        "directory_fake = \"/content/gdrive/My Drive/img_retina_Kaggle_class_4_state_of_art_GAN/399/\"\n",
        "psnr_averages = []\n",
        "for fake_image in os.listdir(directory_fake):\n",
        "  PSNR_average = 0\n",
        "  i = 0\n",
        "  for real_image in os.listdir(directory_real_class_4):\n",
        "    img_real = cv2.imread(directory_real_class_4 + real_image)\n",
        "    img_fake = cv2.imread(directory_fake + fake_image)\n",
        "    img_real = cv2.resize(img_real, (128, 128))\n",
        "    img_fake = cv2.resize(img_fake, (128, 128))\n",
        "    PSNR_none = PSNR(img_real, img_fake)\n",
        "    PSNR_average += PSNR_none\n",
        "    i+=1\n",
        "  PSNR_average = PSNR_average/i\n",
        "  psnr_averages.append(PSNR_average)\n",
        "  #print(fake_image + \" \" + str(PSNR_average))\n",
        "print(min(psnr_averages))\n",
        "print(max(psnr_averages))"
      ],
      "execution_count": null,
      "outputs": [
        {
          "output_type": "stream",
          "text": [
            "28.0617318780665\n",
            "28.080287856547756\n"
          ],
          "name": "stdout"
        }
      ]
    },
    {
      "cell_type": "code",
      "metadata": {
        "id": "hK-MSAjyx-qp",
        "colab": {
          "base_uri": "https://localhost:8080/"
        },
        "outputId": "59de7439-634c-460b-b658-a3cc27a702b7"
      },
      "source": [
        "directory_real_class_4 = \"/content/gdrive/My Drive/Kaggle/randomly selected preprocessed/class 0/\"\n",
        "directory_fake = \"/content/gdrive/My Drive/img_retina_Kaggle_class_4_state_of_art_GAN/409/\"\n",
        "psnr_averages = []\n",
        "for fake_image in os.listdir(directory_fake):\n",
        "  PSNR_average = 0\n",
        "  i = 0\n",
        "  for real_image in os.listdir(directory_real_class_4):\n",
        "    img_real = cv2.imread(directory_real_class_4 + real_image)\n",
        "    img_fake = cv2.imread(directory_fake + fake_image)\n",
        "    img_real = cv2.resize(img_real, (128, 128))\n",
        "    img_fake = cv2.resize(img_fake, (128, 128))\n",
        "    PSNR_none = PSNR(img_real, img_fake)\n",
        "    PSNR_average += PSNR_none\n",
        "    i+=1\n",
        "  PSNR_average = PSNR_average/i\n",
        "  psnr_averages.append(PSNR_average)\n",
        "  #print(fake_image + \" \" + str(PSNR_average))\n",
        "print(min(psnr_averages))\n",
        "print(max(psnr_averages))"
      ],
      "execution_count": null,
      "outputs": [
        {
          "output_type": "stream",
          "text": [
            "28.065010505057174\n",
            "28.08534870525502\n"
          ],
          "name": "stdout"
        }
      ]
    },
    {
      "cell_type": "code",
      "metadata": {
        "id": "CC-I4fsex-xi",
        "colab": {
          "base_uri": "https://localhost:8080/"
        },
        "outputId": "29d1b9da-ac68-4944-ab15-4a0deb988411"
      },
      "source": [
        "directory_real_class_4 = \"/content/gdrive/My Drive/Kaggle/randomly selected preprocessed/class 0/\"\n",
        "directory_fake = \"/content/gdrive/My Drive/img_retina_Kaggle_class_4_state_of_art_GAN/419/\"\n",
        "psnr_averages = []\n",
        "for fake_image in os.listdir(directory_fake):\n",
        "  PSNR_average = 0\n",
        "  i = 0\n",
        "  for real_image in os.listdir(directory_real_class_4):\n",
        "    img_real = cv2.imread(directory_real_class_4 + real_image)\n",
        "    img_fake = cv2.imread(directory_fake + fake_image)\n",
        "    img_real = cv2.resize(img_real, (128, 128))\n",
        "    img_fake = cv2.resize(img_fake, (128, 128))\n",
        "    PSNR_none = PSNR(img_real, img_fake)\n",
        "    PSNR_average += PSNR_none\n",
        "    i+=1\n",
        "  PSNR_average = PSNR_average/i\n",
        "  psnr_averages.append(PSNR_average)\n",
        "  #print(fake_image + \" \" + str(PSNR_average))\n",
        "print(min(psnr_averages))\n",
        "print(max(psnr_averages))"
      ],
      "execution_count": null,
      "outputs": [
        {
          "output_type": "stream",
          "text": [
            "28.058873910699763\n",
            "28.075576821729946\n"
          ],
          "name": "stdout"
        }
      ]
    },
    {
      "cell_type": "code",
      "metadata": {
        "id": "Kupvi9mmx-0S",
        "colab": {
          "base_uri": "https://localhost:8080/"
        },
        "outputId": "77a33d46-6756-46a0-afc8-8bcc93bb53c7"
      },
      "source": [
        "directory_real_class_4 = \"/content/gdrive/My Drive/Kaggle/randomly selected preprocessed/class 0/\"\n",
        "directory_fake = \"/content/gdrive/My Drive/img_retina_Kaggle_class_4_state_of_art_GAN/429/\"\n",
        "psnr_averages = []\n",
        "for fake_image in os.listdir(directory_fake):\n",
        "  PSNR_average = 0\n",
        "  i = 0\n",
        "  for real_image in os.listdir(directory_real_class_4):\n",
        "    img_real = cv2.imread(directory_real_class_4 + real_image)\n",
        "    img_fake = cv2.imread(directory_fake + fake_image)\n",
        "    img_real = cv2.resize(img_real, (128, 128))\n",
        "    img_fake = cv2.resize(img_fake, (128, 128))\n",
        "    PSNR_none = PSNR(img_real, img_fake)\n",
        "    PSNR_average += PSNR_none\n",
        "    i+=1\n",
        "  PSNR_average = PSNR_average/i\n",
        "  psnr_averages.append(PSNR_average)\n",
        "  #print(fake_image + \" \" + str(PSNR_average))\n",
        "print(min(psnr_averages))\n",
        "print(max(psnr_averages))"
      ],
      "execution_count": null,
      "outputs": [
        {
          "output_type": "stream",
          "text": [
            "28.058867219548034\n",
            "28.076761580115694\n"
          ],
          "name": "stdout"
        }
      ]
    },
    {
      "cell_type": "code",
      "metadata": {
        "id": "dFRxrrkKx-3w",
        "colab": {
          "base_uri": "https://localhost:8080/"
        },
        "outputId": "4f9f3abd-ab32-4ea7-ad8a-f46dc2425c02"
      },
      "source": [
        "directory_real_class_4 = \"/content/gdrive/My Drive/Kaggle/randomly selected preprocessed/class 0/\"\n",
        "directory_fake = \"/content/gdrive/My Drive/img_retina_Kaggle_class_4_state_of_art_GAN/439/\"\n",
        "psnr_averages = []\n",
        "for fake_image in os.listdir(directory_fake):\n",
        "  PSNR_average = 0\n",
        "  i = 0\n",
        "  for real_image in os.listdir(directory_real_class_4):\n",
        "    img_real = cv2.imread(directory_real_class_4 + real_image)\n",
        "    img_fake = cv2.imread(directory_fake + fake_image)\n",
        "    img_real = cv2.resize(img_real, (128, 128))\n",
        "    img_fake = cv2.resize(img_fake, (128, 128))\n",
        "    PSNR_none = PSNR(img_real, img_fake)\n",
        "    PSNR_average += PSNR_none\n",
        "    i+=1\n",
        "  PSNR_average = PSNR_average/i\n",
        "  psnr_averages.append(PSNR_average)\n",
        "  #print(fake_image + \" \" + str(PSNR_average))\n",
        "print(min(psnr_averages))\n",
        "print(max(psnr_averages))"
      ],
      "execution_count": null,
      "outputs": [
        {
          "output_type": "stream",
          "text": [
            "28.06250648381808\n",
            "28.078273416084556\n"
          ],
          "name": "stdout"
        }
      ]
    },
    {
      "cell_type": "code",
      "metadata": {
        "id": "LbuVRfgNyRT6",
        "colab": {
          "base_uri": "https://localhost:8080/"
        },
        "outputId": "bfb8c5cf-ebec-491f-ff2b-95ad906074da"
      },
      "source": [
        "directory_real_class_4 = \"/content/gdrive/My Drive/Kaggle/randomly selected preprocessed/class 0/\"\n",
        "directory_fake = \"/content/gdrive/My Drive/img_retina_Kaggle_class_4_state_of_art_GAN/449/\"\n",
        "psnr_averages = []\n",
        "for fake_image in os.listdir(directory_fake):\n",
        "  PSNR_average = 0\n",
        "  i = 0\n",
        "  for real_image in os.listdir(directory_real_class_4):\n",
        "    img_real = cv2.imread(directory_real_class_4 + real_image)\n",
        "    img_fake = cv2.imread(directory_fake + fake_image)\n",
        "    img_real = cv2.resize(img_real, (128, 128))\n",
        "    img_fake = cv2.resize(img_fake, (128, 128))\n",
        "    PSNR_none = PSNR(img_real, img_fake)\n",
        "    PSNR_average += PSNR_none\n",
        "    i+=1\n",
        "  PSNR_average = PSNR_average/i\n",
        "  psnr_averages.append(PSNR_average)\n",
        "  #print(fake_image + \" \" + str(PSNR_average))\n",
        "print(min(psnr_averages))\n",
        "print(max(psnr_averages))"
      ],
      "execution_count": null,
      "outputs": [
        {
          "output_type": "stream",
          "text": [
            "28.050156638396032\n",
            "28.067456378460598\n"
          ],
          "name": "stdout"
        }
      ]
    },
    {
      "cell_type": "code",
      "metadata": {
        "id": "KRBbj-teyRXq",
        "colab": {
          "base_uri": "https://localhost:8080/"
        },
        "outputId": "69294ab7-e6b9-4837-cf24-aa258626e58e"
      },
      "source": [
        "directory_real_class_4 = \"/content/gdrive/My Drive/Kaggle/randomly selected preprocessed/class 0/\"\n",
        "directory_fake = \"/content/gdrive/My Drive/img_retina_Kaggle_class_4_state_of_art_GAN/459/\"\n",
        "psnr_averages = []\n",
        "for fake_image in os.listdir(directory_fake):\n",
        "  PSNR_average = 0\n",
        "  i = 0\n",
        "  for real_image in os.listdir(directory_real_class_4):\n",
        "    img_real = cv2.imread(directory_real_class_4 + real_image)\n",
        "    img_fake = cv2.imread(directory_fake + fake_image)\n",
        "    img_real = cv2.resize(img_real, (128, 128))\n",
        "    img_fake = cv2.resize(img_fake, (128, 128))\n",
        "    PSNR_none = PSNR(img_real, img_fake)\n",
        "    PSNR_average += PSNR_none\n",
        "    i+=1\n",
        "  PSNR_average = PSNR_average/i\n",
        "  psnr_averages.append(PSNR_average)\n",
        "  #print(fake_image + \" \" + str(PSNR_average))\n",
        "print(min(psnr_averages))\n",
        "print(max(psnr_averages))"
      ],
      "execution_count": null,
      "outputs": [
        {
          "output_type": "stream",
          "text": [
            "28.06383554255496\n",
            "28.080694660627074\n"
          ],
          "name": "stdout"
        }
      ]
    },
    {
      "cell_type": "code",
      "metadata": {
        "id": "CpJT1Xw1yRa7",
        "colab": {
          "base_uri": "https://localhost:8080/"
        },
        "outputId": "4dd802f6-9117-4665-8b9e-60dc69b66bd4"
      },
      "source": [
        "directory_real_class_4 = \"/content/gdrive/My Drive/Kaggle/randomly selected preprocessed/class 0/\"\n",
        "directory_fake = \"/content/gdrive/My Drive/img_retina_Kaggle_class_4_state_of_art_GAN/469/\"\n",
        "psnr_averages = []\n",
        "for fake_image in os.listdir(directory_fake):\n",
        "  PSNR_average = 0\n",
        "  i = 0\n",
        "  for real_image in os.listdir(directory_real_class_4):\n",
        "    img_real = cv2.imread(directory_real_class_4 + real_image)\n",
        "    img_fake = cv2.imread(directory_fake + fake_image)\n",
        "    img_real = cv2.resize(img_real, (128, 128))\n",
        "    img_fake = cv2.resize(img_fake, (128, 128))\n",
        "    PSNR_none = PSNR(img_real, img_fake)\n",
        "    PSNR_average += PSNR_none\n",
        "    i+=1\n",
        "  PSNR_average = PSNR_average/i\n",
        "  psnr_averages.append(PSNR_average)\n",
        "  #print(fake_image + \" \" + str(PSNR_average))\n",
        "print(min(psnr_averages))\n",
        "print(max(psnr_averages))"
      ],
      "execution_count": null,
      "outputs": [
        {
          "output_type": "stream",
          "text": [
            "28.053826195995843\n",
            "28.076645381893183\n"
          ],
          "name": "stdout"
        }
      ]
    },
    {
      "cell_type": "code",
      "metadata": {
        "id": "C-sg2D4YyReC",
        "colab": {
          "base_uri": "https://localhost:8080/"
        },
        "outputId": "067da2e5-b9c2-4be3-e283-a62ca51075b1"
      },
      "source": [
        "directory_real_class_4 = \"/content/gdrive/My Drive/Kaggle/randomly selected preprocessed/class 0/\"\n",
        "directory_fake = \"/content/gdrive/My Drive/img_retina_Kaggle_class_4_state_of_art_GAN/479/\"\n",
        "psnr_averages = []\n",
        "for fake_image in os.listdir(directory_fake):\n",
        "  PSNR_average = 0\n",
        "  i = 0\n",
        "  for real_image in os.listdir(directory_real_class_4):\n",
        "    img_real = cv2.imread(directory_real_class_4 + real_image)\n",
        "    img_fake = cv2.imread(directory_fake + fake_image)\n",
        "    img_real = cv2.resize(img_real, (128, 128))\n",
        "    img_fake = cv2.resize(img_fake, (128, 128))\n",
        "    PSNR_none = PSNR(img_real, img_fake)\n",
        "    PSNR_average += PSNR_none\n",
        "    i+=1\n",
        "  PSNR_average = PSNR_average/i\n",
        "  psnr_averages.append(PSNR_average)\n",
        "  #print(fake_image + \" \" + str(PSNR_average))\n",
        "print(min(psnr_averages))\n",
        "print(max(psnr_averages))"
      ],
      "execution_count": null,
      "outputs": [
        {
          "output_type": "stream",
          "text": [
            "28.05582187828158\n",
            "28.071819846440103\n"
          ],
          "name": "stdout"
        }
      ]
    },
    {
      "cell_type": "code",
      "metadata": {
        "id": "6-y_xMQvyRhR",
        "colab": {
          "base_uri": "https://localhost:8080/"
        },
        "outputId": "35d8b860-f5f9-484e-f3a7-9d56cf7ebc84"
      },
      "source": [
        "directory_real_class_4 = \"/content/gdrive/My Drive/Kaggle/randomly selected preprocessed/class 0/\"\n",
        "directory_fake = \"/content/gdrive/My Drive/img_retina_Kaggle_class_4_state_of_art_GAN/489/\"\n",
        "psnr_averages = []\n",
        "for fake_image in os.listdir(directory_fake):\n",
        "  PSNR_average = 0\n",
        "  i = 0\n",
        "  for real_image in os.listdir(directory_real_class_4):\n",
        "    img_real = cv2.imread(directory_real_class_4 + real_image)\n",
        "    img_fake = cv2.imread(directory_fake + fake_image)\n",
        "    img_real = cv2.resize(img_real, (128, 128))\n",
        "    img_fake = cv2.resize(img_fake, (128, 128))\n",
        "    PSNR_none = PSNR(img_real, img_fake)\n",
        "    PSNR_average += PSNR_none\n",
        "    i+=1\n",
        "  PSNR_average = PSNR_average/i\n",
        "  psnr_averages.append(PSNR_average)\n",
        "  #print(fake_image + \" \" + str(PSNR_average))\n",
        "print(min(psnr_averages))\n",
        "print(max(psnr_averages))"
      ],
      "execution_count": null,
      "outputs": [
        {
          "output_type": "stream",
          "text": [
            "28.047328812096612\n",
            "28.065712305108867\n"
          ],
          "name": "stdout"
        }
      ]
    },
    {
      "cell_type": "code",
      "metadata": {
        "id": "UWm9csrlyRjk",
        "colab": {
          "base_uri": "https://localhost:8080/"
        },
        "outputId": "b6d3758c-9253-4779-c341-425e4afd92c8"
      },
      "source": [
        "directory_real_class_4 = \"/content/gdrive/My Drive/Kaggle/randomly selected preprocessed/class 0/\"\n",
        "directory_fake = \"/content/gdrive/My Drive/img_retina_Kaggle_class_4_state_of_art_GAN/499/\"\n",
        "psnr_averages = []\n",
        "for fake_image in os.listdir(directory_fake):\n",
        "  PSNR_average = 0\n",
        "  i = 0\n",
        "  for real_image in os.listdir(directory_real_class_4):\n",
        "    img_real = cv2.imread(directory_real_class_4 + real_image)\n",
        "    img_fake = cv2.imread(directory_fake + fake_image)\n",
        "    img_real = cv2.resize(img_real, (128, 128))\n",
        "    img_fake = cv2.resize(img_fake, (128, 128))\n",
        "    PSNR_none = PSNR(img_real, img_fake)\n",
        "    PSNR_average += PSNR_none\n",
        "    i+=1\n",
        "  PSNR_average = PSNR_average/i\n",
        "  psnr_averages.append(PSNR_average)\n",
        "  #print(fake_image + \" \" + str(PSNR_average))\n",
        "print(min(psnr_averages))\n",
        "print(max(psnr_averages))"
      ],
      "execution_count": null,
      "outputs": [
        {
          "output_type": "stream",
          "text": [
            "28.05523390567058\n",
            "28.073447950610813\n"
          ],
          "name": "stdout"
        }
      ]
    }
  ]
}