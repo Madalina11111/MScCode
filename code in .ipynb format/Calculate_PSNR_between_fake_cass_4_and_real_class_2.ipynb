{
  "nbformat": 4,
  "nbformat_minor": 0,
  "metadata": {
    "colab": {
      "name": "Calculate PSNR between fake cass 4 and real class 2.ipynb",
      "provenance": [],
      "collapsed_sections": []
    },
    "kernelspec": {
      "name": "python3",
      "display_name": "Python 3"
    },
    "language_info": {
      "name": "python"
    }
  },
  "cells": [
    {
      "cell_type": "code",
      "metadata": {
        "id": "B9T9LxjY64qz"
      },
      "source": [
        "from math import log10, sqrt\n",
        "import cv2\n",
        "import numpy as np\n",
        "import os"
      ],
      "execution_count": null,
      "outputs": []
    },
    {
      "cell_type": "code",
      "metadata": {
        "colab": {
          "base_uri": "https://localhost:8080/"
        },
        "id": "I4R8305n7ESP",
        "outputId": "acc7a5e1-db26-4e15-c38c-e1d14311d91b"
      },
      "source": [
        "from google.colab import drive\n",
        "drive.mount('/content/gdrive')"
      ],
      "execution_count": null,
      "outputs": [
        {
          "output_type": "stream",
          "text": [
            "Mounted at /content/gdrive\n"
          ],
          "name": "stdout"
        }
      ]
    },
    {
      "cell_type": "code",
      "metadata": {
        "id": "MfCgXe9V6yMJ"
      },
      "source": [
        "def PSNR(original, to_compare_with):\n",
        "    mse = np.mean((original - to_compare_with) ** 2)\n",
        "    if(mse == 0):\n",
        "        return 100\n",
        "    max_pixel = 255.0\n",
        "    psnr = 20 * log10(max_pixel / sqrt(mse))\n",
        "    return psnr"
      ],
      "execution_count": null,
      "outputs": []
    },
    {
      "cell_type": "code",
      "metadata": {
        "colab": {
          "base_uri": "https://localhost:8080/"
        },
        "id": "MzAdT1zc7Jgh",
        "outputId": "2fcff613-f7f2-461d-f2c2-b0c30491757b"
      },
      "source": [
        "directory_real_class_4 = \"/content/gdrive/My Drive/Kaggle/randomly selected preprocessed/class 2/\"\n",
        "directory_fake = \"/content/gdrive/My Drive/img_retina_Kaggle_class_4_state_of_art_GAN/9/\"\n",
        "PSNR_average = 0\n",
        "i = 0\n",
        "for real_image in os.listdir(directory_real_class_4):\n",
        "  for fake_image in os.listdir(directory_fake):\n",
        "    img_real = cv2.imread(directory_real_class_4 + real_image)\n",
        "    img_fake = cv2.imread(directory_fake + fake_image)\n",
        "    img_real = cv2.resize(img_real, (128, 128))\n",
        "    img_fake = cv2.resize(img_fake, (128, 128))\n",
        "    PSNR_none = PSNR(img_real, img_fake)\n",
        "    PSNR_average += PSNR_none\n",
        "    i+=1\n",
        "    #print(i)\n",
        "PSNR_average = PSNR_average/i\n",
        "print(\"---------------\")\n",
        "print(PSNR_average)"
      ],
      "execution_count": null,
      "outputs": [
        {
          "output_type": "stream",
          "text": [
            "---------------\n",
            "28.479284269556626\n"
          ],
          "name": "stdout"
        }
      ]
    },
    {
      "cell_type": "code",
      "metadata": {
        "colab": {
          "base_uri": "https://localhost:8080/"
        },
        "id": "bP5einoYu5gD",
        "outputId": "69426ed0-ff4b-4c61-aabc-ee376af2e7d8"
      },
      "source": [
        "directory_real_class_4 = \"/content/gdrive/My Drive/Kaggle/randomly selected preprocessed/class 2/\"\n",
        "directory_fake = \"/content/gdrive/My Drive/img_retina_Kaggle_class_4_state_of_art_GAN/19/\"\n",
        "PSNR_average = 0\n",
        "i = 0\n",
        "for real_image in os.listdir(directory_real_class_4):\n",
        "  for fake_image in os.listdir(directory_fake):\n",
        "    img_real = cv2.imread(directory_real_class_4 + real_image)\n",
        "    img_fake = cv2.imread(directory_fake + fake_image)\n",
        "    img_real = cv2.resize(img_real, (128, 128))\n",
        "    img_fake = cv2.resize(img_fake, (128, 128))\n",
        "    PSNR_none = PSNR(img_real, img_fake)\n",
        "    PSNR_average += PSNR_none\n",
        "    i+=1\n",
        "    #print(i)\n",
        "PSNR_average = PSNR_average/i\n",
        "print(\"---------------\")\n",
        "print(PSNR_average)"
      ],
      "execution_count": null,
      "outputs": [
        {
          "output_type": "stream",
          "text": [
            "---------------\n",
            "28.336795867816043\n"
          ],
          "name": "stdout"
        }
      ]
    },
    {
      "cell_type": "code",
      "metadata": {
        "colab": {
          "base_uri": "https://localhost:8080/"
        },
        "id": "wMDwKBJ6xA47",
        "outputId": "599a1a29-c121-479e-ef94-b2ee4b708c3f"
      },
      "source": [
        "directory_real_class_4 = \"/content/gdrive/My Drive/Kaggle/randomly selected preprocessed/class 2/\"\n",
        "directory_fake = \"/content/gdrive/My Drive/img_retina_Kaggle_class_4_state_of_art_GAN/29/\"\n",
        "PSNR_average = 0\n",
        "i = 0\n",
        "for real_image in os.listdir(directory_real_class_4):\n",
        "  for fake_image in os.listdir(directory_fake):\n",
        "    img_real = cv2.imread(directory_real_class_4 + real_image)\n",
        "    img_fake = cv2.imread(directory_fake + fake_image)\n",
        "    img_real = cv2.resize(img_real, (128, 128))\n",
        "    img_fake = cv2.resize(img_fake, (128, 128))\n",
        "    PSNR_none = PSNR(img_real, img_fake)\n",
        "    PSNR_average += PSNR_none\n",
        "    i+=1\n",
        "    #print(i)\n",
        "PSNR_average = PSNR_average/i\n",
        "print(\"---------------\")\n",
        "print(PSNR_average)"
      ],
      "execution_count": null,
      "outputs": [
        {
          "output_type": "stream",
          "text": [
            "---------------\n",
            "28.357337743071607\n"
          ],
          "name": "stdout"
        }
      ]
    },
    {
      "cell_type": "code",
      "metadata": {
        "colab": {
          "base_uri": "https://localhost:8080/"
        },
        "id": "KcIm71-fxBeH",
        "outputId": "03d76fe8-85c8-469a-996e-e5ac6ec72fe1"
      },
      "source": [
        "directory_real_class_4 = \"/content/gdrive/My Drive/Kaggle/randomly selected preprocessed/class 2/\"\n",
        "directory_fake = \"/content/gdrive/My Drive/img_retina_Kaggle_class_4_state_of_art_GAN/39/\"\n",
        "PSNR_average = 0\n",
        "i = 0\n",
        "for real_image in os.listdir(directory_real_class_4):\n",
        "  for fake_image in os.listdir(directory_fake):\n",
        "    img_real = cv2.imread(directory_real_class_4 + real_image)\n",
        "    img_fake = cv2.imread(directory_fake + fake_image)\n",
        "    img_real = cv2.resize(img_real, (128, 128))\n",
        "    img_fake = cv2.resize(img_fake, (128, 128))\n",
        "    PSNR_none = PSNR(img_real, img_fake)\n",
        "    PSNR_average += PSNR_none\n",
        "    i+=1\n",
        "    #print(i)\n",
        "PSNR_average = PSNR_average/i\n",
        "print(\"---------------\")\n",
        "print(PSNR_average)"
      ],
      "execution_count": null,
      "outputs": [
        {
          "output_type": "stream",
          "text": [
            "---------------\n",
            "28.24138781229285\n"
          ],
          "name": "stdout"
        }
      ]
    },
    {
      "cell_type": "code",
      "metadata": {
        "colab": {
          "base_uri": "https://localhost:8080/"
        },
        "id": "tbEIPBoXxB7w",
        "outputId": "8579e9d5-5b97-4a40-ba52-7f6043ce59d7"
      },
      "source": [
        "directory_real_class_4 = \"/content/gdrive/My Drive/Kaggle/randomly selected preprocessed/class 2/\"\n",
        "directory_fake = \"/content/gdrive/My Drive/img_retina_Kaggle_class_4_state_of_art_GAN/49/\"\n",
        "PSNR_average = 0\n",
        "i = 0\n",
        "for real_image in os.listdir(directory_real_class_4):\n",
        "  for fake_image in os.listdir(directory_fake):\n",
        "    img_real = cv2.imread(directory_real_class_4 + real_image)\n",
        "    img_fake = cv2.imread(directory_fake + fake_image)\n",
        "    img_real = cv2.resize(img_real, (128, 128))\n",
        "    img_fake = cv2.resize(img_fake, (128, 128))\n",
        "    PSNR_none = PSNR(img_real, img_fake)\n",
        "    PSNR_average += PSNR_none\n",
        "    i+=1\n",
        "    #print(i)\n",
        "PSNR_average = PSNR_average/i\n",
        "print(\"---------------\")\n",
        "print(PSNR_average)"
      ],
      "execution_count": null,
      "outputs": [
        {
          "output_type": "stream",
          "text": [
            "---------------\n",
            "28.13705789170495\n"
          ],
          "name": "stdout"
        }
      ]
    },
    {
      "cell_type": "code",
      "metadata": {
        "colab": {
          "base_uri": "https://localhost:8080/"
        },
        "id": "59_e3PnFxCle",
        "outputId": "fba0c406-54c3-4625-aaa5-55785bb26848"
      },
      "source": [
        "directory_real_class_4 = \"/content/gdrive/My Drive/Kaggle/randomly selected preprocessed/class 2/\"\n",
        "directory_fake = \"/content/gdrive/My Drive/img_retina_Kaggle_class_4_state_of_art_GAN/59/\"\n",
        "PSNR_average = 0\n",
        "i = 0\n",
        "for real_image in os.listdir(directory_real_class_4):\n",
        "  for fake_image in os.listdir(directory_fake):\n",
        "    img_real = cv2.imread(directory_real_class_4 + real_image)\n",
        "    img_fake = cv2.imread(directory_fake + fake_image)\n",
        "    img_real = cv2.resize(img_real, (128, 128))\n",
        "    img_fake = cv2.resize(img_fake, (128, 128))\n",
        "    PSNR_none = PSNR(img_real, img_fake)\n",
        "    PSNR_average += PSNR_none\n",
        "    i+=1\n",
        "    #print(i)\n",
        "PSNR_average = PSNR_average/i\n",
        "print(\"---------------\")\n",
        "print(PSNR_average)"
      ],
      "execution_count": null,
      "outputs": [
        {
          "output_type": "stream",
          "text": [
            "---------------\n",
            "28.15730786787023\n"
          ],
          "name": "stdout"
        }
      ]
    },
    {
      "cell_type": "code",
      "metadata": {
        "id": "8ye_5KdzxC8f",
        "colab": {
          "base_uri": "https://localhost:8080/"
        },
        "outputId": "8093332b-4f18-4634-a6f7-291be6e12b25"
      },
      "source": [
        "directory_real_class_4 = \"/content/gdrive/My Drive/Kaggle/randomly selected preprocessed/class 2/\"\n",
        "directory_fake = \"/content/gdrive/My Drive/img_retina_Kaggle_class_4_state_of_art_GAN/69/\"\n",
        "PSNR_average = 0\n",
        "i = 0\n",
        "for real_image in os.listdir(directory_real_class_4):\n",
        "  for fake_image in os.listdir(directory_fake):\n",
        "    img_real = cv2.imread(directory_real_class_4 + real_image)\n",
        "    img_fake = cv2.imread(directory_fake + fake_image)\n",
        "    img_real = cv2.resize(img_real, (128, 128))\n",
        "    img_fake = cv2.resize(img_fake, (128, 128))\n",
        "    PSNR_none = PSNR(img_real, img_fake)\n",
        "    PSNR_average += PSNR_none\n",
        "    i+=1\n",
        "    #print(i)\n",
        "PSNR_average = PSNR_average/i\n",
        "print(\"---------------\")\n",
        "print(PSNR_average)"
      ],
      "execution_count": null,
      "outputs": [
        {
          "output_type": "stream",
          "text": [
            "---------------\n",
            "28.14394415875825\n"
          ],
          "name": "stdout"
        }
      ]
    },
    {
      "cell_type": "code",
      "metadata": {
        "id": "VxlJXLA6xDSq",
        "colab": {
          "base_uri": "https://localhost:8080/"
        },
        "outputId": "a1f2f94f-84bc-41cc-f1bd-89858b248448"
      },
      "source": [
        "directory_real_class_4 = \"/content/gdrive/My Drive/Kaggle/randomly selected preprocessed/class 2/\"\n",
        "directory_fake = \"/content/gdrive/My Drive/img_retina_Kaggle_class_4_state_of_art_GAN/79/\"\n",
        "PSNR_average = 0\n",
        "i = 0\n",
        "for real_image in os.listdir(directory_real_class_4):\n",
        "  for fake_image in os.listdir(directory_fake):\n",
        "    img_real = cv2.imread(directory_real_class_4 + real_image)\n",
        "    img_fake = cv2.imread(directory_fake + fake_image)\n",
        "    img_real = cv2.resize(img_real, (128, 128))\n",
        "    img_fake = cv2.resize(img_fake, (128, 128))\n",
        "    PSNR_none = PSNR(img_real, img_fake)\n",
        "    PSNR_average += PSNR_none\n",
        "    i+=1\n",
        "    #print(i)\n",
        "PSNR_average = PSNR_average/i\n",
        "print(\"---------------\")\n",
        "print(PSNR_average)"
      ],
      "execution_count": null,
      "outputs": [
        {
          "output_type": "stream",
          "text": [
            "---------------\n",
            "28.127335821351064\n"
          ],
          "name": "stdout"
        }
      ]
    },
    {
      "cell_type": "code",
      "metadata": {
        "id": "yaSCm2S_xDoV",
        "colab": {
          "base_uri": "https://localhost:8080/"
        },
        "outputId": "589898cc-186a-405f-de5e-db6c1e562148"
      },
      "source": [
        "directory_real_class_4 = \"/content/gdrive/My Drive/Kaggle/randomly selected preprocessed/class 2/\"\n",
        "directory_fake = \"/content/gdrive/My Drive/img_retina_Kaggle_class_4_state_of_art_GAN/89/\"\n",
        "PSNR_average = 0\n",
        "i = 0\n",
        "for real_image in os.listdir(directory_real_class_4):\n",
        "  for fake_image in os.listdir(directory_fake):\n",
        "    img_real = cv2.imread(directory_real_class_4 + real_image)\n",
        "    img_fake = cv2.imread(directory_fake + fake_image)\n",
        "    img_real = cv2.resize(img_real, (128, 128))\n",
        "    img_fake = cv2.resize(img_fake, (128, 128))\n",
        "    PSNR_none = PSNR(img_real, img_fake)\n",
        "    PSNR_average += PSNR_none\n",
        "    i+=1\n",
        "    #print(i)\n",
        "PSNR_average = PSNR_average/i\n",
        "print(\"---------------\")\n",
        "print(PSNR_average)"
      ],
      "execution_count": null,
      "outputs": [
        {
          "output_type": "stream",
          "text": [
            "---------------\n",
            "28.089522276386727\n"
          ],
          "name": "stdout"
        }
      ]
    },
    {
      "cell_type": "code",
      "metadata": {
        "id": "pqgWLvaqxD8a",
        "colab": {
          "base_uri": "https://localhost:8080/"
        },
        "outputId": "e907cb5b-b165-4349-cae0-91d1d1fe05b1"
      },
      "source": [
        "directory_real_class_4 = \"/content/gdrive/My Drive/Kaggle/randomly selected preprocessed/class 2/\"\n",
        "directory_fake = \"/content/gdrive/My Drive/img_retina_Kaggle_class_4_state_of_art_GAN/99/\"\n",
        "PSNR_average = 0\n",
        "i = 0\n",
        "for real_image in os.listdir(directory_real_class_4):\n",
        "  for fake_image in os.listdir(directory_fake):\n",
        "    img_real = cv2.imread(directory_real_class_4 + real_image)\n",
        "    img_fake = cv2.imread(directory_fake + fake_image)\n",
        "    img_real = cv2.resize(img_real, (128, 128))\n",
        "    img_fake = cv2.resize(img_fake, (128, 128))\n",
        "    PSNR_none = PSNR(img_real, img_fake)\n",
        "    PSNR_average += PSNR_none\n",
        "    i+=1\n",
        "    #print(i)\n",
        "PSNR_average = PSNR_average/i\n",
        "print(\"---------------\")\n",
        "print(PSNR_average)"
      ],
      "execution_count": null,
      "outputs": [
        {
          "output_type": "stream",
          "text": [
            "---------------\n",
            "28.078901704029505\n"
          ],
          "name": "stdout"
        }
      ]
    },
    {
      "cell_type": "code",
      "metadata": {
        "id": "tfrz7fy7xEPy",
        "colab": {
          "base_uri": "https://localhost:8080/"
        },
        "outputId": "b558112c-5795-4937-ea55-4c5b6d8fc98d"
      },
      "source": [
        "directory_real_class_4 = \"/content/gdrive/My Drive/Kaggle/randomly selected preprocessed/class 2/\"\n",
        "directory_fake = \"/content/gdrive/My Drive/img_retina_Kaggle_class_4_state_of_art_GAN/109/\"\n",
        "PSNR_average = 0\n",
        "i = 0\n",
        "for real_image in os.listdir(directory_real_class_4):\n",
        "  for fake_image in os.listdir(directory_fake):\n",
        "    img_real = cv2.imread(directory_real_class_4 + real_image)\n",
        "    img_fake = cv2.imread(directory_fake + fake_image)\n",
        "    img_real = cv2.resize(img_real, (128, 128))\n",
        "    img_fake = cv2.resize(img_fake, (128, 128))\n",
        "    PSNR_none = PSNR(img_real, img_fake)\n",
        "    PSNR_average += PSNR_none\n",
        "    i+=1\n",
        "    #print(i)\n",
        "PSNR_average = PSNR_average/i\n",
        "print(\"---------------\")\n",
        "print(PSNR_average)"
      ],
      "execution_count": null,
      "outputs": [
        {
          "output_type": "stream",
          "text": [
            "---------------\n",
            "28.089978096704026\n"
          ],
          "name": "stdout"
        }
      ]
    },
    {
      "cell_type": "code",
      "metadata": {
        "id": "0kIRJph9xE6y",
        "colab": {
          "base_uri": "https://localhost:8080/"
        },
        "outputId": "f9702315-7721-4d1b-fe9d-1b781cd2f70b"
      },
      "source": [
        "directory_real_class_4 = \"/content/gdrive/My Drive/Kaggle/randomly selected preprocessed/class 2/\"\n",
        "directory_fake = \"/content/gdrive/My Drive/img_retina_Kaggle_class_4_state_of_art_GAN/119/\"\n",
        "PSNR_average = 0\n",
        "i = 0\n",
        "for real_image in os.listdir(directory_real_class_4):\n",
        "  for fake_image in os.listdir(directory_fake):\n",
        "    img_real = cv2.imread(directory_real_class_4 + real_image)\n",
        "    img_fake = cv2.imread(directory_fake + fake_image)\n",
        "    img_real = cv2.resize(img_real, (128, 128))\n",
        "    img_fake = cv2.resize(img_fake, (128, 128))\n",
        "    PSNR_none = PSNR(img_real, img_fake)\n",
        "    PSNR_average += PSNR_none\n",
        "    i+=1\n",
        "    #print(i)\n",
        "PSNR_average = PSNR_average/i\n",
        "print(\"---------------\")\n",
        "print(PSNR_average)"
      ],
      "execution_count": null,
      "outputs": [
        {
          "output_type": "stream",
          "text": [
            "---------------\n",
            "28.07457362736775\n"
          ],
          "name": "stdout"
        }
      ]
    },
    {
      "cell_type": "code",
      "metadata": {
        "id": "N1KV4xl4xGFI",
        "colab": {
          "base_uri": "https://localhost:8080/"
        },
        "outputId": "1766e046-2a8a-4b73-aa82-72291f88a2a5"
      },
      "source": [
        "directory_real_class_4 = \"/content/gdrive/My Drive/Kaggle/randomly selected preprocessed/class 2/\"\n",
        "directory_fake = \"/content/gdrive/My Drive/img_retina_Kaggle_class_4_state_of_art_GAN/129/\"\n",
        "PSNR_average = 0\n",
        "i = 0\n",
        "for real_image in os.listdir(directory_real_class_4):\n",
        "  for fake_image in os.listdir(directory_fake):\n",
        "    img_real = cv2.imread(directory_real_class_4 + real_image)\n",
        "    img_fake = cv2.imread(directory_fake + fake_image)\n",
        "    img_real = cv2.resize(img_real, (128, 128))\n",
        "    img_fake = cv2.resize(img_fake, (128, 128))\n",
        "    PSNR_none = PSNR(img_real, img_fake)\n",
        "    PSNR_average += PSNR_none\n",
        "    i+=1\n",
        "    #print(i)\n",
        "PSNR_average = PSNR_average/i\n",
        "print(\"---------------\")\n",
        "print(PSNR_average)"
      ],
      "execution_count": null,
      "outputs": [
        {
          "output_type": "stream",
          "text": [
            "---------------\n",
            "28.066745145085864\n"
          ],
          "name": "stdout"
        }
      ]
    },
    {
      "cell_type": "code",
      "metadata": {
        "id": "P7hDmKSLxGba",
        "colab": {
          "base_uri": "https://localhost:8080/"
        },
        "outputId": "3478932a-c415-44b9-c19b-e53f609722a5"
      },
      "source": [
        "directory_real_class_4 = \"/content/gdrive/My Drive/Kaggle/randomly selected preprocessed/class 2/\"\n",
        "directory_fake = \"/content/gdrive/My Drive/img_retina_Kaggle_class_4_state_of_art_GAN/139/\"\n",
        "PSNR_average = 0\n",
        "i = 0\n",
        "for real_image in os.listdir(directory_real_class_4):\n",
        "  for fake_image in os.listdir(directory_fake):\n",
        "    img_real = cv2.imread(directory_real_class_4 + real_image)\n",
        "    img_fake = cv2.imread(directory_fake + fake_image)\n",
        "    img_real = cv2.resize(img_real, (128, 128))\n",
        "    img_fake = cv2.resize(img_fake, (128, 128))\n",
        "    PSNR_none = PSNR(img_real, img_fake)\n",
        "    PSNR_average += PSNR_none\n",
        "    i+=1\n",
        "    #print(i)\n",
        "PSNR_average = PSNR_average/i\n",
        "print(\"---------------\")\n",
        "print(PSNR_average)"
      ],
      "execution_count": null,
      "outputs": [
        {
          "output_type": "stream",
          "text": [
            "---------------\n",
            "28.071026344493646\n"
          ],
          "name": "stdout"
        }
      ]
    },
    {
      "cell_type": "code",
      "metadata": {
        "id": "gjTM3y96xG4e",
        "colab": {
          "base_uri": "https://localhost:8080/"
        },
        "outputId": "14a3560e-5393-4fcd-8f3f-ad806c48459c"
      },
      "source": [
        "directory_real_class_4 = \"/content/gdrive/My Drive/Kaggle/randomly selected preprocessed/class 2/\"\n",
        "directory_fake = \"/content/gdrive/My Drive/img_retina_Kaggle_class_4_state_of_art_GAN/149/\"\n",
        "PSNR_average = 0\n",
        "i = 0\n",
        "for real_image in os.listdir(directory_real_class_4):\n",
        "  for fake_image in os.listdir(directory_fake):\n",
        "    img_real = cv2.imread(directory_real_class_4 + real_image)\n",
        "    img_fake = cv2.imread(directory_fake + fake_image)\n",
        "    img_real = cv2.resize(img_real, (128, 128))\n",
        "    img_fake = cv2.resize(img_fake, (128, 128))\n",
        "    PSNR_none = PSNR(img_real, img_fake)\n",
        "    PSNR_average += PSNR_none\n",
        "    i+=1\n",
        "    #print(i)\n",
        "PSNR_average = PSNR_average/i\n",
        "print(\"---------------\")\n",
        "print(PSNR_average)"
      ],
      "execution_count": null,
      "outputs": [
        {
          "output_type": "stream",
          "text": [
            "---------------\n",
            "28.078357234449765\n"
          ],
          "name": "stdout"
        }
      ]
    },
    {
      "cell_type": "code",
      "metadata": {
        "id": "6C7tk-mXxVSO",
        "colab": {
          "base_uri": "https://localhost:8080/"
        },
        "outputId": "72352c8f-7400-453f-d00a-2a868936a530"
      },
      "source": [
        "directory_real_class_4 = \"/content/gdrive/My Drive/Kaggle/randomly selected preprocessed/class 2/\"\n",
        "directory_fake = \"/content/gdrive/My Drive/img_retina_Kaggle_class_4_state_of_art_GAN/159/\"\n",
        "PSNR_average = 0\n",
        "i = 0\n",
        "for real_image in os.listdir(directory_real_class_4):\n",
        "  for fake_image in os.listdir(directory_fake):\n",
        "    img_real = cv2.imread(directory_real_class_4 + real_image)\n",
        "    img_fake = cv2.imread(directory_fake + fake_image)\n",
        "    img_real = cv2.resize(img_real, (128, 128))\n",
        "    img_fake = cv2.resize(img_fake, (128, 128))\n",
        "    PSNR_none = PSNR(img_real, img_fake)\n",
        "    PSNR_average += PSNR_none\n",
        "    i+=1\n",
        "    #print(i)\n",
        "PSNR_average = PSNR_average/i\n",
        "print(\"---------------\")\n",
        "print(PSNR_average)"
      ],
      "execution_count": null,
      "outputs": [
        {
          "output_type": "stream",
          "text": [
            "---------------\n",
            "28.08057922410177\n"
          ],
          "name": "stdout"
        }
      ]
    },
    {
      "cell_type": "code",
      "metadata": {
        "id": "YG8qL6CIxVdd",
        "colab": {
          "base_uri": "https://localhost:8080/"
        },
        "outputId": "88c577a4-2646-418a-f3c4-42039ddbd19b"
      },
      "source": [
        "directory_real_class_4 = \"/content/gdrive/My Drive/Kaggle/randomly selected preprocessed/class 2/\"\n",
        "directory_fake = \"/content/gdrive/My Drive/img_retina_Kaggle_class_4_state_of_art_GAN/169/\"\n",
        "PSNR_average = 0\n",
        "i = 0\n",
        "for real_image in os.listdir(directory_real_class_4):\n",
        "  for fake_image in os.listdir(directory_fake):\n",
        "    img_real = cv2.imread(directory_real_class_4 + real_image)\n",
        "    img_fake = cv2.imread(directory_fake + fake_image)\n",
        "    img_real = cv2.resize(img_real, (128, 128))\n",
        "    img_fake = cv2.resize(img_fake, (128, 128))\n",
        "    PSNR_none = PSNR(img_real, img_fake)\n",
        "    PSNR_average += PSNR_none\n",
        "    i+=1\n",
        "    #print(i)\n",
        "PSNR_average = PSNR_average/i\n",
        "print(\"---------------\")\n",
        "print(PSNR_average)"
      ],
      "execution_count": null,
      "outputs": [
        {
          "output_type": "stream",
          "text": [
            "---------------\n",
            "28.083421726468814\n"
          ],
          "name": "stdout"
        }
      ]
    },
    {
      "cell_type": "code",
      "metadata": {
        "id": "Ccd_vlzmxVhv",
        "colab": {
          "base_uri": "https://localhost:8080/"
        },
        "outputId": "836edc03-fb07-4014-95d0-27898db8d83a"
      },
      "source": [
        "directory_real_class_4 = \"/content/gdrive/My Drive/Kaggle/randomly selected preprocessed/class 2/\"\n",
        "directory_fake = \"/content/gdrive/My Drive/img_retina_Kaggle_class_4_state_of_art_GAN/179/\"\n",
        "PSNR_average = 0\n",
        "i = 0\n",
        "for real_image in os.listdir(directory_real_class_4):\n",
        "  for fake_image in os.listdir(directory_fake):\n",
        "    img_real = cv2.imread(directory_real_class_4 + real_image)\n",
        "    img_fake = cv2.imread(directory_fake + fake_image)\n",
        "    img_real = cv2.resize(img_real, (128, 128))\n",
        "    img_fake = cv2.resize(img_fake, (128, 128))\n",
        "    PSNR_none = PSNR(img_real, img_fake)\n",
        "    PSNR_average += PSNR_none\n",
        "    i+=1\n",
        "    #print(i)\n",
        "PSNR_average = PSNR_average/i\n",
        "print(\"---------------\")\n",
        "print(PSNR_average)"
      ],
      "execution_count": null,
      "outputs": [
        {
          "output_type": "stream",
          "text": [
            "---------------\n",
            "28.089033500466925\n"
          ],
          "name": "stdout"
        }
      ]
    },
    {
      "cell_type": "code",
      "metadata": {
        "id": "IjtwX928xVkt",
        "colab": {
          "base_uri": "https://localhost:8080/"
        },
        "outputId": "a0c4e8b0-514b-41b9-abba-d6817f8289a4"
      },
      "source": [
        "directory_real_class_4 = \"/content/gdrive/My Drive/Kaggle/randomly selected preprocessed/class 2/\"\n",
        "directory_fake = \"/content/gdrive/My Drive/img_retina_Kaggle_class_4_state_of_art_GAN/189/\"\n",
        "PSNR_average = 0\n",
        "i = 0\n",
        "for real_image in os.listdir(directory_real_class_4):\n",
        "  for fake_image in os.listdir(directory_fake):\n",
        "    img_real = cv2.imread(directory_real_class_4 + real_image)\n",
        "    img_fake = cv2.imread(directory_fake + fake_image)\n",
        "    img_real = cv2.resize(img_real, (128, 128))\n",
        "    img_fake = cv2.resize(img_fake, (128, 128))\n",
        "    PSNR_none = PSNR(img_real, img_fake)\n",
        "    PSNR_average += PSNR_none\n",
        "    i+=1\n",
        "    #print(i)\n",
        "PSNR_average = PSNR_average/i\n",
        "print(\"---------------\")\n",
        "print(PSNR_average)"
      ],
      "execution_count": null,
      "outputs": [
        {
          "output_type": "stream",
          "text": [
            "---------------\n",
            "28.098481428206245\n"
          ],
          "name": "stdout"
        }
      ]
    },
    {
      "cell_type": "code",
      "metadata": {
        "id": "raZoJYUuxVn-",
        "colab": {
          "base_uri": "https://localhost:8080/"
        },
        "outputId": "dc4369af-0fdf-4227-a2e8-18f75e363371"
      },
      "source": [
        "directory_real_class_4 = \"/content/gdrive/My Drive/Kaggle/randomly selected preprocessed/class 2/\"\n",
        "directory_fake = \"/content/gdrive/My Drive/img_retina_Kaggle_class_4_state_of_art_GAN/199/\"\n",
        "PSNR_average = 0\n",
        "i = 0\n",
        "for real_image in os.listdir(directory_real_class_4):\n",
        "  for fake_image in os.listdir(directory_fake):\n",
        "    img_real = cv2.imread(directory_real_class_4 + real_image)\n",
        "    img_fake = cv2.imread(directory_fake + fake_image)\n",
        "    img_real = cv2.resize(img_real, (128, 128))\n",
        "    img_fake = cv2.resize(img_fake, (128, 128))\n",
        "    PSNR_none = PSNR(img_real, img_fake)\n",
        "    PSNR_average += PSNR_none\n",
        "    i+=1\n",
        "    #print(i)\n",
        "PSNR_average = PSNR_average/i\n",
        "print(\"---------------\")\n",
        "print(PSNR_average)"
      ],
      "execution_count": null,
      "outputs": [
        {
          "output_type": "stream",
          "text": [
            "---------------\n",
            "28.102451964934637\n"
          ],
          "name": "stdout"
        }
      ]
    },
    {
      "cell_type": "code",
      "metadata": {
        "id": "rmbqOSTkxVqx",
        "colab": {
          "base_uri": "https://localhost:8080/"
        },
        "outputId": "4ef0bd73-f3d9-429d-94d0-70338483cb6f"
      },
      "source": [
        "directory_real_class_4 = \"/content/gdrive/My Drive/Kaggle/randomly selected preprocessed/class 2/\"\n",
        "directory_fake = \"/content/gdrive/My Drive/img_retina_Kaggle_class_4_state_of_art_GAN/209/\"\n",
        "PSNR_average = 0\n",
        "i = 0\n",
        "for real_image in os.listdir(directory_real_class_4):\n",
        "  for fake_image in os.listdir(directory_fake):\n",
        "    img_real = cv2.imread(directory_real_class_4 + real_image)\n",
        "    img_fake = cv2.imread(directory_fake + fake_image)\n",
        "    img_real = cv2.resize(img_real, (128, 128))\n",
        "    img_fake = cv2.resize(img_fake, (128, 128))\n",
        "    PSNR_none = PSNR(img_real, img_fake)\n",
        "    PSNR_average += PSNR_none\n",
        "    i+=1\n",
        "    #print(i)\n",
        "PSNR_average = PSNR_average/i\n",
        "print(\"---------------\")\n",
        "print(PSNR_average)"
      ],
      "execution_count": null,
      "outputs": [
        {
          "output_type": "stream",
          "text": [
            "---------------\n",
            "28.10619335496551\n"
          ],
          "name": "stdout"
        }
      ]
    },
    {
      "cell_type": "code",
      "metadata": {
        "id": "HCF1QHtyxVte",
        "colab": {
          "base_uri": "https://localhost:8080/"
        },
        "outputId": "520d85df-77a1-4aed-e6fe-efad953e849b"
      },
      "source": [
        "directory_real_class_4 = \"/content/gdrive/My Drive/Kaggle/randomly selected preprocessed/class 2/\"\n",
        "directory_fake = \"/content/gdrive/My Drive/img_retina_Kaggle_class_4_state_of_art_GAN/219/\"\n",
        "PSNR_average = 0\n",
        "i = 0\n",
        "for real_image in os.listdir(directory_real_class_4):\n",
        "  for fake_image in os.listdir(directory_fake):\n",
        "    img_real = cv2.imread(directory_real_class_4 + real_image)\n",
        "    img_fake = cv2.imread(directory_fake + fake_image)\n",
        "    img_real = cv2.resize(img_real, (128, 128))\n",
        "    img_fake = cv2.resize(img_fake, (128, 128))\n",
        "    PSNR_none = PSNR(img_real, img_fake)\n",
        "    PSNR_average += PSNR_none\n",
        "    i+=1\n",
        "    #print(i)\n",
        "PSNR_average = PSNR_average/i\n",
        "print(\"---------------\")\n",
        "print(PSNR_average)"
      ],
      "execution_count": null,
      "outputs": [
        {
          "output_type": "stream",
          "text": [
            "---------------\n",
            "28.10744723798115\n"
          ],
          "name": "stdout"
        }
      ]
    },
    {
      "cell_type": "code",
      "metadata": {
        "id": "mOEH9P-fxVwO",
        "colab": {
          "base_uri": "https://localhost:8080/"
        },
        "outputId": "47e22d06-f1b1-4062-bea1-df16827341c9"
      },
      "source": [
        "directory_real_class_4 = \"/content/gdrive/My Drive/Kaggle/randomly selected preprocessed/class 2/\"\n",
        "directory_fake = \"/content/gdrive/My Drive/img_retina_Kaggle_class_4_state_of_art_GAN/229/\"\n",
        "PSNR_average = 0\n",
        "i = 0\n",
        "for real_image in os.listdir(directory_real_class_4):\n",
        "  for fake_image in os.listdir(directory_fake):\n",
        "    img_real = cv2.imread(directory_real_class_4 + real_image)\n",
        "    img_fake = cv2.imread(directory_fake + fake_image)\n",
        "    img_real = cv2.resize(img_real, (128, 128))\n",
        "    img_fake = cv2.resize(img_fake, (128, 128))\n",
        "    PSNR_none = PSNR(img_real, img_fake)\n",
        "    PSNR_average += PSNR_none\n",
        "    i+=1\n",
        "    #print(i)\n",
        "PSNR_average = PSNR_average/i\n",
        "print(\"---------------\")\n",
        "print(PSNR_average)"
      ],
      "execution_count": null,
      "outputs": [
        {
          "output_type": "stream",
          "text": [
            "---------------\n",
            "28.101588196263123\n"
          ],
          "name": "stdout"
        }
      ]
    },
    {
      "cell_type": "code",
      "metadata": {
        "id": "j0zCT8cFxVzO",
        "colab": {
          "base_uri": "https://localhost:8080/"
        },
        "outputId": "9491e43b-e651-414f-e492-7c955d9e612b"
      },
      "source": [
        "directory_real_class_4 = \"/content/gdrive/My Drive/Kaggle/randomly selected preprocessed/class 2/\"\n",
        "directory_fake = \"/content/gdrive/My Drive/img_retina_Kaggle_class_4_state_of_art_GAN/239/\"\n",
        "PSNR_average = 0\n",
        "i = 0\n",
        "for real_image in os.listdir(directory_real_class_4):\n",
        "  for fake_image in os.listdir(directory_fake):\n",
        "    img_real = cv2.imread(directory_real_class_4 + real_image)\n",
        "    img_fake = cv2.imread(directory_fake + fake_image)\n",
        "    img_real = cv2.resize(img_real, (128, 128))\n",
        "    img_fake = cv2.resize(img_fake, (128, 128))\n",
        "    PSNR_none = PSNR(img_real, img_fake)\n",
        "    PSNR_average += PSNR_none\n",
        "    i+=1\n",
        "    #print(i)\n",
        "PSNR_average = PSNR_average/i\n",
        "print(\"---------------\")\n",
        "print(PSNR_average)"
      ],
      "execution_count": null,
      "outputs": [
        {
          "output_type": "stream",
          "text": [
            "---------------\n",
            "28.100729415130377\n"
          ],
          "name": "stdout"
        }
      ]
    },
    {
      "cell_type": "code",
      "metadata": {
        "id": "7Yq8OMPRxbk5",
        "colab": {
          "base_uri": "https://localhost:8080/"
        },
        "outputId": "b47450d8-3483-42ac-fb19-4e64b889ec84"
      },
      "source": [
        "directory_real_class_4 = \"/content/gdrive/My Drive/Kaggle/randomly selected preprocessed/class 2/\"\n",
        "directory_fake = \"/content/gdrive/My Drive/img_retina_Kaggle_class_4_state_of_art_GAN/249/\"\n",
        "PSNR_average = 0\n",
        "i = 0\n",
        "for real_image in os.listdir(directory_real_class_4):\n",
        "  for fake_image in os.listdir(directory_fake):\n",
        "    img_real = cv2.imread(directory_real_class_4 + real_image)\n",
        "    img_fake = cv2.imread(directory_fake + fake_image)\n",
        "    img_real = cv2.resize(img_real, (128, 128))\n",
        "    img_fake = cv2.resize(img_fake, (128, 128))\n",
        "    PSNR_none = PSNR(img_real, img_fake)\n",
        "    PSNR_average += PSNR_none\n",
        "    i+=1\n",
        "    #print(i)\n",
        "PSNR_average = PSNR_average/i\n",
        "print(\"---------------\")\n",
        "print(PSNR_average)"
      ],
      "execution_count": null,
      "outputs": [
        {
          "output_type": "stream",
          "text": [
            "---------------\n",
            "28.09818501465139\n"
          ],
          "name": "stdout"
        }
      ]
    },
    {
      "cell_type": "code",
      "metadata": {
        "id": "PgBvVxZ2xbqM",
        "colab": {
          "base_uri": "https://localhost:8080/"
        },
        "outputId": "14dd95b8-68e8-409c-c7a0-72c7bc00c905"
      },
      "source": [
        "directory_real_class_4 = \"/content/gdrive/My Drive/Kaggle/randomly selected preprocessed/class 2/\"\n",
        "directory_fake = \"/content/gdrive/My Drive/img_retina_Kaggle_class_4_state_of_art_GAN/259/\"\n",
        "PSNR_average = 0\n",
        "i = 0\n",
        "for real_image in os.listdir(directory_real_class_4):\n",
        "  for fake_image in os.listdir(directory_fake):\n",
        "    img_real = cv2.imread(directory_real_class_4 + real_image)\n",
        "    img_fake = cv2.imread(directory_fake + fake_image)\n",
        "    img_real = cv2.resize(img_real, (128, 128))\n",
        "    img_fake = cv2.resize(img_fake, (128, 128))\n",
        "    PSNR_none = PSNR(img_real, img_fake)\n",
        "    PSNR_average += PSNR_none\n",
        "    i+=1\n",
        "    #print(i)\n",
        "PSNR_average = PSNR_average/i\n",
        "print(\"---------------\")\n",
        "print(PSNR_average)"
      ],
      "execution_count": null,
      "outputs": [
        {
          "output_type": "stream",
          "text": [
            "---------------\n",
            "28.10007814638036\n"
          ],
          "name": "stdout"
        }
      ]
    },
    {
      "cell_type": "code",
      "metadata": {
        "id": "Rhtw26Huxbs6",
        "colab": {
          "base_uri": "https://localhost:8080/"
        },
        "outputId": "6c81c83d-a360-4e3f-9db5-52529981ad81"
      },
      "source": [
        "directory_real_class_4 = \"/content/gdrive/My Drive/Kaggle/randomly selected preprocessed/class 2/\"\n",
        "directory_fake = \"/content/gdrive/My Drive/img_retina_Kaggle_class_4_state_of_art_GAN/269/\"\n",
        "PSNR_average = 0\n",
        "i = 0\n",
        "for real_image in os.listdir(directory_real_class_4):\n",
        "  for fake_image in os.listdir(directory_fake):\n",
        "    img_real = cv2.imread(directory_real_class_4 + real_image)\n",
        "    img_fake = cv2.imread(directory_fake + fake_image)\n",
        "    img_real = cv2.resize(img_real, (128, 128))\n",
        "    img_fake = cv2.resize(img_fake, (128, 128))\n",
        "    PSNR_none = PSNR(img_real, img_fake)\n",
        "    PSNR_average += PSNR_none\n",
        "    i+=1\n",
        "    #print(i)\n",
        "PSNR_average = PSNR_average/i\n",
        "print(\"---------------\")\n",
        "print(PSNR_average)"
      ],
      "execution_count": null,
      "outputs": [
        {
          "output_type": "stream",
          "text": [
            "---------------\n",
            "28.107369677717887\n"
          ],
          "name": "stdout"
        }
      ]
    },
    {
      "cell_type": "code",
      "metadata": {
        "id": "dqUjF0_9xbvt",
        "colab": {
          "base_uri": "https://localhost:8080/"
        },
        "outputId": "55a8eab8-cf71-4cb8-8a89-7afffd879751"
      },
      "source": [
        "directory_real_class_4 = \"/content/gdrive/My Drive/Kaggle/randomly selected preprocessed/class 2/\"\n",
        "directory_fake = \"/content/gdrive/My Drive/img_retina_Kaggle_class_4_state_of_art_GAN/279/\"\n",
        "PSNR_average = 0\n",
        "i = 0\n",
        "for real_image in os.listdir(directory_real_class_4):\n",
        "  for fake_image in os.listdir(directory_fake):\n",
        "    img_real = cv2.imread(directory_real_class_4 + real_image)\n",
        "    img_fake = cv2.imread(directory_fake + fake_image)\n",
        "    img_real = cv2.resize(img_real, (128, 128))\n",
        "    img_fake = cv2.resize(img_fake, (128, 128))\n",
        "    PSNR_none = PSNR(img_real, img_fake)\n",
        "    PSNR_average += PSNR_none\n",
        "    i+=1\n",
        "    #print(i)\n",
        "PSNR_average = PSNR_average/i\n",
        "print(\"---------------\")\n",
        "print(PSNR_average)"
      ],
      "execution_count": null,
      "outputs": [
        {
          "output_type": "stream",
          "text": [
            "---------------\n",
            "28.105187032268027\n"
          ],
          "name": "stdout"
        }
      ]
    },
    {
      "cell_type": "code",
      "metadata": {
        "id": "T_R4llCvxbya",
        "colab": {
          "base_uri": "https://localhost:8080/"
        },
        "outputId": "c2b674e3-c6d4-4c33-8d43-9e87dd603f5f"
      },
      "source": [
        "directory_real_class_4 = \"/content/gdrive/My Drive/Kaggle/randomly selected preprocessed/class 2/\"\n",
        "directory_fake = \"/content/gdrive/My Drive/img_retina_Kaggle_class_4_state_of_art_GAN/289/\"\n",
        "PSNR_average = 0\n",
        "i = 0\n",
        "for real_image in os.listdir(directory_real_class_4):\n",
        "  for fake_image in os.listdir(directory_fake):\n",
        "    img_real = cv2.imread(directory_real_class_4 + real_image)\n",
        "    img_fake = cv2.imread(directory_fake + fake_image)\n",
        "    img_real = cv2.resize(img_real, (128, 128))\n",
        "    img_fake = cv2.resize(img_fake, (128, 128))\n",
        "    PSNR_none = PSNR(img_real, img_fake)\n",
        "    PSNR_average += PSNR_none\n",
        "    i+=1\n",
        "    #print(i)\n",
        "PSNR_average = PSNR_average/i\n",
        "print(\"---------------\")\n",
        "print(PSNR_average)"
      ],
      "execution_count": null,
      "outputs": [
        {
          "output_type": "stream",
          "text": [
            "---------------\n",
            "28.10395518182742\n"
          ],
          "name": "stdout"
        }
      ]
    },
    {
      "cell_type": "code",
      "metadata": {
        "id": "hn21Kxesxegn",
        "colab": {
          "base_uri": "https://localhost:8080/"
        },
        "outputId": "df295b68-858f-4951-b818-adebd853886c"
      },
      "source": [
        "directory_real_class_4 = \"/content/gdrive/My Drive/Kaggle/randomly selected preprocessed/class 2/\"\n",
        "directory_fake = \"/content/gdrive/My Drive/img_retina_Kaggle_class_4_state_of_art_GAN/299/\"\n",
        "PSNR_average = 0\n",
        "i = 0\n",
        "for real_image in os.listdir(directory_real_class_4):\n",
        "  for fake_image in os.listdir(directory_fake):\n",
        "    img_real = cv2.imread(directory_real_class_4 + real_image)\n",
        "    img_fake = cv2.imread(directory_fake + fake_image)\n",
        "    img_real = cv2.resize(img_real, (128, 128))\n",
        "    img_fake = cv2.resize(img_fake, (128, 128))\n",
        "    PSNR_none = PSNR(img_real, img_fake)\n",
        "    PSNR_average += PSNR_none\n",
        "    i+=1\n",
        "    #print(i)\n",
        "PSNR_average = PSNR_average/i\n",
        "print(\"---------------\")\n",
        "print(PSNR_average)"
      ],
      "execution_count": null,
      "outputs": [
        {
          "output_type": "stream",
          "text": [
            "---------------\n",
            "28.101292946047163\n"
          ],
          "name": "stdout"
        }
      ]
    },
    {
      "cell_type": "code",
      "metadata": {
        "id": "oMZjUWmcxen9",
        "colab": {
          "base_uri": "https://localhost:8080/"
        },
        "outputId": "ff18aea0-907f-4d23-e9a9-95186d68415f"
      },
      "source": [
        "directory_real_class_4 = \"/content/gdrive/My Drive/Kaggle/randomly selected preprocessed/class 2/\"\n",
        "directory_fake = \"/content/gdrive/My Drive/img_retina_Kaggle_class_4_state_of_art_GAN/309/\"\n",
        "PSNR_average = 0\n",
        "i = 0\n",
        "for real_image in os.listdir(directory_real_class_4):\n",
        "  for fake_image in os.listdir(directory_fake):\n",
        "    img_real = cv2.imread(directory_real_class_4 + real_image)\n",
        "    img_fake = cv2.imread(directory_fake + fake_image)\n",
        "    img_real = cv2.resize(img_real, (128, 128))\n",
        "    img_fake = cv2.resize(img_fake, (128, 128))\n",
        "    PSNR_none = PSNR(img_real, img_fake)\n",
        "    PSNR_average += PSNR_none\n",
        "    i+=1\n",
        "    #print(i)\n",
        "PSNR_average = PSNR_average/i\n",
        "print(\"---------------\")\n",
        "print(PSNR_average)"
      ],
      "execution_count": null,
      "outputs": [
        {
          "output_type": "stream",
          "text": [
            "---------------\n",
            "28.093913015990005\n"
          ],
          "name": "stdout"
        }
      ]
    },
    {
      "cell_type": "code",
      "metadata": {
        "id": "aEugmaNLxgRP",
        "colab": {
          "base_uri": "https://localhost:8080/"
        },
        "outputId": "7bae6b57-cf12-40d5-ce73-f8d6714b2ac4"
      },
      "source": [
        "directory_real_class_4 = \"/content/gdrive/My Drive/Kaggle/randomly selected preprocessed/class 2/\"\n",
        "directory_fake = \"/content/gdrive/My Drive/img_retina_Kaggle_class_4_state_of_art_GAN/319/\"\n",
        "PSNR_average = 0\n",
        "i = 0\n",
        "for real_image in os.listdir(directory_real_class_4):\n",
        "  for fake_image in os.listdir(directory_fake):\n",
        "    img_real = cv2.imread(directory_real_class_4 + real_image)\n",
        "    img_fake = cv2.imread(directory_fake + fake_image)\n",
        "    img_real = cv2.resize(img_real, (128, 128))\n",
        "    img_fake = cv2.resize(img_fake, (128, 128))\n",
        "    PSNR_none = PSNR(img_real, img_fake)\n",
        "    PSNR_average += PSNR_none\n",
        "    i+=1\n",
        "    #print(i)\n",
        "PSNR_average = PSNR_average/i\n",
        "print(\"---------------\")\n",
        "print(PSNR_average)"
      ],
      "execution_count": null,
      "outputs": [
        {
          "output_type": "stream",
          "text": [
            "---------------\n",
            "28.098410189586374\n"
          ],
          "name": "stdout"
        }
      ]
    },
    {
      "cell_type": "code",
      "metadata": {
        "id": "YcJebbTfxgXd",
        "colab": {
          "base_uri": "https://localhost:8080/"
        },
        "outputId": "1a4afb01-4fe4-47af-b71e-c0ab9c8fe64e"
      },
      "source": [
        "directory_real_class_4 = \"/content/gdrive/My Drive/Kaggle/randomly selected preprocessed/class 2/\"\n",
        "directory_fake = \"/content/gdrive/My Drive/img_retina_Kaggle_class_4_state_of_art_GAN/329/\"\n",
        "PSNR_average = 0\n",
        "i = 0\n",
        "for real_image in os.listdir(directory_real_class_4):\n",
        "  for fake_image in os.listdir(directory_fake):\n",
        "    img_real = cv2.imread(directory_real_class_4 + real_image)\n",
        "    img_fake = cv2.imread(directory_fake + fake_image)\n",
        "    img_real = cv2.resize(img_real, (128, 128))\n",
        "    img_fake = cv2.resize(img_fake, (128, 128))\n",
        "    PSNR_none = PSNR(img_real, img_fake)\n",
        "    PSNR_average += PSNR_none\n",
        "    i+=1\n",
        "    #print(i)\n",
        "PSNR_average = PSNR_average/i\n",
        "print(\"---------------\")\n",
        "print(PSNR_average)"
      ],
      "execution_count": null,
      "outputs": [
        {
          "output_type": "stream",
          "text": [
            "---------------\n",
            "28.082344088855848\n"
          ],
          "name": "stdout"
        }
      ]
    },
    {
      "cell_type": "code",
      "metadata": {
        "id": "JddEmfPYx6kT",
        "colab": {
          "base_uri": "https://localhost:8080/"
        },
        "outputId": "e64bcedd-a0e6-436d-e004-6bcd30770526"
      },
      "source": [
        "directory_real_class_4 = \"/content/gdrive/My Drive/Kaggle/randomly selected preprocessed/class 2/\"\n",
        "directory_fake = \"/content/gdrive/My Drive/img_retina_Kaggle_class_4_state_of_art_GAN/339/\"\n",
        "PSNR_average = 0\n",
        "i = 0\n",
        "for real_image in os.listdir(directory_real_class_4):\n",
        "  for fake_image in os.listdir(directory_fake):\n",
        "    img_real = cv2.imread(directory_real_class_4 + real_image)\n",
        "    img_fake = cv2.imread(directory_fake + fake_image)\n",
        "    img_real = cv2.resize(img_real, (128, 128))\n",
        "    img_fake = cv2.resize(img_fake, (128, 128))\n",
        "    PSNR_none = PSNR(img_real, img_fake)\n",
        "    PSNR_average += PSNR_none\n",
        "    i+=1\n",
        "    #print(i)\n",
        "PSNR_average = PSNR_average/i\n",
        "print(\"---------------\")\n",
        "print(PSNR_average)"
      ],
      "execution_count": null,
      "outputs": [
        {
          "output_type": "stream",
          "text": [
            "---------------\n",
            "28.0875705058229\n"
          ],
          "name": "stdout"
        }
      ]
    },
    {
      "cell_type": "code",
      "metadata": {
        "id": "U8Ne2po5x6t6",
        "colab": {
          "base_uri": "https://localhost:8080/"
        },
        "outputId": "0258e3ad-ee7c-4825-9869-5924a64a0eb6"
      },
      "source": [
        "directory_real_class_4 = \"/content/gdrive/My Drive/Kaggle/randomly selected preprocessed/class 2/\"\n",
        "directory_fake = \"/content/gdrive/My Drive/img_retina_Kaggle_class_4_state_of_art_GAN/349/\"\n",
        "PSNR_average = 0\n",
        "i = 0\n",
        "for real_image in os.listdir(directory_real_class_4):\n",
        "  for fake_image in os.listdir(directory_fake):\n",
        "    img_real = cv2.imread(directory_real_class_4 + real_image)\n",
        "    img_fake = cv2.imread(directory_fake + fake_image)\n",
        "    img_real = cv2.resize(img_real, (128, 128))\n",
        "    img_fake = cv2.resize(img_fake, (128, 128))\n",
        "    PSNR_none = PSNR(img_real, img_fake)\n",
        "    PSNR_average += PSNR_none\n",
        "    i+=1\n",
        "    #print(i)\n",
        "PSNR_average = PSNR_average/i\n",
        "print(\"---------------\")\n",
        "print(PSNR_average)"
      ],
      "execution_count": null,
      "outputs": [
        {
          "output_type": "stream",
          "text": [
            "---------------\n",
            "28.085515292540318\n"
          ],
          "name": "stdout"
        }
      ]
    },
    {
      "cell_type": "code",
      "metadata": {
        "id": "UeNb2a1ox60O",
        "colab": {
          "base_uri": "https://localhost:8080/"
        },
        "outputId": "20d89171-5414-4711-b2cf-904e088e9597"
      },
      "source": [
        "directory_real_class_4 = \"/content/gdrive/My Drive/Kaggle/randomly selected preprocessed/class 2/\"\n",
        "directory_fake = \"/content/gdrive/My Drive/img_retina_Kaggle_class_4_state_of_art_GAN/359/\"\n",
        "PSNR_average = 0\n",
        "i = 0\n",
        "for real_image in os.listdir(directory_real_class_4):\n",
        "  for fake_image in os.listdir(directory_fake):\n",
        "    img_real = cv2.imread(directory_real_class_4 + real_image)\n",
        "    img_fake = cv2.imread(directory_fake + fake_image)\n",
        "    img_real = cv2.resize(img_real, (128, 128))\n",
        "    img_fake = cv2.resize(img_fake, (128, 128))\n",
        "    PSNR_none = PSNR(img_real, img_fake)\n",
        "    PSNR_average += PSNR_none\n",
        "    i+=1\n",
        "    #print(i)\n",
        "PSNR_average = PSNR_average/i\n",
        "print(\"---------------\")\n",
        "print(PSNR_average)"
      ],
      "execution_count": null,
      "outputs": [
        {
          "output_type": "stream",
          "text": [
            "---------------\n",
            "28.074746681052897\n"
          ],
          "name": "stdout"
        }
      ]
    },
    {
      "cell_type": "code",
      "metadata": {
        "id": "FjF-NCfox64M",
        "colab": {
          "base_uri": "https://localhost:8080/"
        },
        "outputId": "1fd0648e-63fb-4b5b-e166-ed5f2a1d43d1"
      },
      "source": [
        "directory_real_class_4 = \"/content/gdrive/My Drive/Kaggle/randomly selected preprocessed/class 2/\"\n",
        "directory_fake = \"/content/gdrive/My Drive/img_retina_Kaggle_class_4_state_of_art_GAN/369/\"\n",
        "PSNR_average = 0\n",
        "i = 0\n",
        "for real_image in os.listdir(directory_real_class_4):\n",
        "  for fake_image in os.listdir(directory_fake):\n",
        "    img_real = cv2.imread(directory_real_class_4 + real_image)\n",
        "    img_fake = cv2.imread(directory_fake + fake_image)\n",
        "    img_real = cv2.resize(img_real, (128, 128))\n",
        "    img_fake = cv2.resize(img_fake, (128, 128))\n",
        "    PSNR_none = PSNR(img_real, img_fake)\n",
        "    PSNR_average += PSNR_none\n",
        "    i+=1\n",
        "    #print(i)\n",
        "PSNR_average = PSNR_average/i\n",
        "print(\"---------------\")\n",
        "print(PSNR_average)"
      ],
      "execution_count": null,
      "outputs": [
        {
          "output_type": "stream",
          "text": [
            "---------------\n",
            "28.078880964606284\n"
          ],
          "name": "stdout"
        }
      ]
    },
    {
      "cell_type": "code",
      "metadata": {
        "id": "WND_DsQZx6_D",
        "colab": {
          "base_uri": "https://localhost:8080/"
        },
        "outputId": "68b1000a-54b9-450a-81ef-ff31a566ebab"
      },
      "source": [
        "directory_real_class_4 = \"/content/gdrive/My Drive/Kaggle/randomly selected preprocessed/class 2/\"\n",
        "directory_fake = \"/content/gdrive/My Drive/img_retina_Kaggle_class_4_state_of_art_GAN/379/\"\n",
        "PSNR_average = 0\n",
        "i = 0\n",
        "for real_image in os.listdir(directory_real_class_4):\n",
        "  for fake_image in os.listdir(directory_fake):\n",
        "    img_real = cv2.imread(directory_real_class_4 + real_image)\n",
        "    img_fake = cv2.imread(directory_fake + fake_image)\n",
        "    img_real = cv2.resize(img_real, (128, 128))\n",
        "    img_fake = cv2.resize(img_fake, (128, 128))\n",
        "    PSNR_none = PSNR(img_real, img_fake)\n",
        "    PSNR_average += PSNR_none\n",
        "    i+=1\n",
        "    #print(i)\n",
        "PSNR_average = PSNR_average/i\n",
        "print(\"---------------\")\n",
        "print(PSNR_average)"
      ],
      "execution_count": null,
      "outputs": [
        {
          "output_type": "stream",
          "text": [
            "---------------\n",
            "28.074982452420656\n"
          ],
          "name": "stdout"
        }
      ]
    },
    {
      "cell_type": "code",
      "metadata": {
        "id": "0RTh-eRtx7F8",
        "colab": {
          "base_uri": "https://localhost:8080/"
        },
        "outputId": "fc7de2d0-c0a7-4b29-84c4-765ddf5fb869"
      },
      "source": [
        "directory_real_class_4 = \"/content/gdrive/My Drive/Kaggle/randomly selected preprocessed/class 2/\"\n",
        "directory_fake = \"/content/gdrive/My Drive/img_retina_Kaggle_class_4_state_of_art_GAN/389/\"\n",
        "PSNR_average = 0\n",
        "i = 0\n",
        "for real_image in os.listdir(directory_real_class_4):\n",
        "  for fake_image in os.listdir(directory_fake):\n",
        "    img_real = cv2.imread(directory_real_class_4 + real_image)\n",
        "    img_fake = cv2.imread(directory_fake + fake_image)\n",
        "    img_real = cv2.resize(img_real, (128, 128))\n",
        "    img_fake = cv2.resize(img_fake, (128, 128))\n",
        "    PSNR_none = PSNR(img_real, img_fake)\n",
        "    PSNR_average += PSNR_none\n",
        "    i+=1\n",
        "    #print(i)\n",
        "PSNR_average = PSNR_average/i\n",
        "print(\"---------------\")\n",
        "print(PSNR_average)"
      ],
      "execution_count": null,
      "outputs": [
        {
          "output_type": "stream",
          "text": [
            "---------------\n",
            "28.072579209104546\n"
          ],
          "name": "stdout"
        }
      ]
    },
    {
      "cell_type": "code",
      "metadata": {
        "id": "267IxTqvx-ia",
        "colab": {
          "base_uri": "https://localhost:8080/"
        },
        "outputId": "b43c6234-f558-460e-8684-0a8c232cae6c"
      },
      "source": [
        "directory_real_class_4 = \"/content/gdrive/My Drive/Kaggle/randomly selected preprocessed/class 2/\"\n",
        "directory_fake = \"/content/gdrive/My Drive/img_retina_Kaggle_class_4_state_of_art_GAN/399/\"\n",
        "PSNR_average = 0\n",
        "i = 0\n",
        "for real_image in os.listdir(directory_real_class_4):\n",
        "  for fake_image in os.listdir(directory_fake):\n",
        "    img_real = cv2.imread(directory_real_class_4 + real_image)\n",
        "    img_fake = cv2.imread(directory_fake + fake_image)\n",
        "    img_real = cv2.resize(img_real, (128, 128))\n",
        "    img_fake = cv2.resize(img_fake, (128, 128))\n",
        "    PSNR_none = PSNR(img_real, img_fake)\n",
        "    PSNR_average += PSNR_none\n",
        "    i+=1\n",
        "    #print(i)\n",
        "PSNR_average = PSNR_average/i\n",
        "print(\"---------------\")\n",
        "print(PSNR_average)"
      ],
      "execution_count": null,
      "outputs": [
        {
          "output_type": "stream",
          "text": [
            "---------------\n",
            "28.069836533802146\n"
          ],
          "name": "stdout"
        }
      ]
    },
    {
      "cell_type": "code",
      "metadata": {
        "id": "hK-MSAjyx-qp",
        "colab": {
          "base_uri": "https://localhost:8080/"
        },
        "outputId": "e9c394c4-a578-4277-fd58-c7aa5c052874"
      },
      "source": [
        "directory_real_class_4 = \"/content/gdrive/My Drive/Kaggle/randomly selected preprocessed/class 2/\"\n",
        "directory_fake = \"/content/gdrive/My Drive/img_retina_Kaggle_class_4_state_of_art_GAN/409/\"\n",
        "PSNR_average = 0\n",
        "i = 0\n",
        "for real_image in os.listdir(directory_real_class_4):\n",
        "  for fake_image in os.listdir(directory_fake):\n",
        "    img_real = cv2.imread(directory_real_class_4 + real_image)\n",
        "    img_fake = cv2.imread(directory_fake + fake_image)\n",
        "    img_real = cv2.resize(img_real, (128, 128))\n",
        "    img_fake = cv2.resize(img_fake, (128, 128))\n",
        "    PSNR_none = PSNR(img_real, img_fake)\n",
        "    PSNR_average += PSNR_none\n",
        "    i+=1\n",
        "    #print(i)\n",
        "PSNR_average = PSNR_average/i\n",
        "print(\"---------------\")\n",
        "print(PSNR_average)"
      ],
      "execution_count": null,
      "outputs": [
        {
          "output_type": "stream",
          "text": [
            "---------------\n",
            "28.072569482241157\n"
          ],
          "name": "stdout"
        }
      ]
    },
    {
      "cell_type": "code",
      "metadata": {
        "id": "CC-I4fsex-xi",
        "colab": {
          "base_uri": "https://localhost:8080/"
        },
        "outputId": "4a8c5b4c-486d-4fbb-eb93-7e15b865f386"
      },
      "source": [
        "directory_real_class_4 = \"/content/gdrive/My Drive/Kaggle/randomly selected preprocessed/class 2/\"\n",
        "directory_fake = \"/content/gdrive/My Drive/img_retina_Kaggle_class_4_state_of_art_GAN/419/\"\n",
        "PSNR_average = 0\n",
        "i = 0\n",
        "for real_image in os.listdir(directory_real_class_4):\n",
        "  for fake_image in os.listdir(directory_fake):\n",
        "    img_real = cv2.imread(directory_real_class_4 + real_image)\n",
        "    img_fake = cv2.imread(directory_fake + fake_image)\n",
        "    img_real = cv2.resize(img_real, (128, 128))\n",
        "    img_fake = cv2.resize(img_fake, (128, 128))\n",
        "    PSNR_none = PSNR(img_real, img_fake)\n",
        "    PSNR_average += PSNR_none\n",
        "    i+=1\n",
        "    #print(i)\n",
        "PSNR_average = PSNR_average/i\n",
        "print(\"---------------\")\n",
        "print(PSNR_average)"
      ],
      "execution_count": null,
      "outputs": [
        {
          "output_type": "stream",
          "text": [
            "---------------\n",
            "28.06720894645774\n"
          ],
          "name": "stdout"
        }
      ]
    },
    {
      "cell_type": "code",
      "metadata": {
        "id": "Kupvi9mmx-0S",
        "colab": {
          "base_uri": "https://localhost:8080/"
        },
        "outputId": "9b3c9c31-4b1f-4263-c928-015bed0bc49c"
      },
      "source": [
        "directory_real_class_4 = \"/content/gdrive/My Drive/Kaggle/randomly selected preprocessed/class 2/\"\n",
        "directory_fake = \"/content/gdrive/My Drive/img_retina_Kaggle_class_4_state_of_art_GAN/429/\"\n",
        "PSNR_average = 0\n",
        "i = 0\n",
        "for real_image in os.listdir(directory_real_class_4):\n",
        "  for fake_image in os.listdir(directory_fake):\n",
        "    img_real = cv2.imread(directory_real_class_4 + real_image)\n",
        "    img_fake = cv2.imread(directory_fake + fake_image)\n",
        "    img_real = cv2.resize(img_real, (128, 128))\n",
        "    img_fake = cv2.resize(img_fake, (128, 128))\n",
        "    PSNR_none = PSNR(img_real, img_fake)\n",
        "    PSNR_average += PSNR_none\n",
        "    i+=1\n",
        "    #print(i)\n",
        "PSNR_average = PSNR_average/i\n",
        "print(\"---------------\")\n",
        "print(PSNR_average)"
      ],
      "execution_count": null,
      "outputs": [
        {
          "output_type": "stream",
          "text": [
            "---------------\n",
            "28.065333654847656\n"
          ],
          "name": "stdout"
        }
      ]
    },
    {
      "cell_type": "code",
      "metadata": {
        "id": "dFRxrrkKx-3w",
        "colab": {
          "base_uri": "https://localhost:8080/"
        },
        "outputId": "f7f2dc80-186e-4fdc-bf0d-a29547dd56ba"
      },
      "source": [
        "directory_real_class_4 = \"/content/gdrive/My Drive/Kaggle/randomly selected preprocessed/class 2/\"\n",
        "directory_fake = \"/content/gdrive/My Drive/img_retina_Kaggle_class_4_state_of_art_GAN/439/\"\n",
        "PSNR_average = 0\n",
        "i = 0\n",
        "for real_image in os.listdir(directory_real_class_4):\n",
        "  for fake_image in os.listdir(directory_fake):\n",
        "    img_real = cv2.imread(directory_real_class_4 + real_image)\n",
        "    img_fake = cv2.imread(directory_fake + fake_image)\n",
        "    img_real = cv2.resize(img_real, (128, 128))\n",
        "    img_fake = cv2.resize(img_fake, (128, 128))\n",
        "    PSNR_none = PSNR(img_real, img_fake)\n",
        "    PSNR_average += PSNR_none\n",
        "    i+=1\n",
        "    #print(i)\n",
        "PSNR_average = PSNR_average/i\n",
        "print(\"---------------\")\n",
        "print(PSNR_average)"
      ],
      "execution_count": null,
      "outputs": [
        {
          "output_type": "stream",
          "text": [
            "---------------\n",
            "28.069650809192737\n"
          ],
          "name": "stdout"
        }
      ]
    },
    {
      "cell_type": "code",
      "metadata": {
        "id": "LbuVRfgNyRT6",
        "colab": {
          "base_uri": "https://localhost:8080/"
        },
        "outputId": "e9e96268-3b9e-4aef-a1a5-10fc5b131a5a"
      },
      "source": [
        "directory_real_class_4 = \"/content/gdrive/My Drive/Kaggle/randomly selected preprocessed/class 2/\"\n",
        "directory_fake = \"/content/gdrive/My Drive/img_retina_Kaggle_class_4_state_of_art_GAN/449/\"\n",
        "PSNR_average = 0\n",
        "i = 0\n",
        "for real_image in os.listdir(directory_real_class_4):\n",
        "  for fake_image in os.listdir(directory_fake):\n",
        "    img_real = cv2.imread(directory_real_class_4 + real_image)\n",
        "    img_fake = cv2.imread(directory_fake + fake_image)\n",
        "    img_real = cv2.resize(img_real, (128, 128))\n",
        "    img_fake = cv2.resize(img_fake, (128, 128))\n",
        "    PSNR_none = PSNR(img_real, img_fake)\n",
        "    PSNR_average += PSNR_none\n",
        "    i+=1\n",
        "    #print(i)\n",
        "PSNR_average = PSNR_average/i\n",
        "print(\"---------------\")\n",
        "print(PSNR_average)"
      ],
      "execution_count": null,
      "outputs": [
        {
          "output_type": "stream",
          "text": [
            "---------------\n",
            "28.057545894751648\n"
          ],
          "name": "stdout"
        }
      ]
    },
    {
      "cell_type": "code",
      "metadata": {
        "id": "KRBbj-teyRXq",
        "colab": {
          "base_uri": "https://localhost:8080/"
        },
        "outputId": "8741c525-2ff9-42c2-c2b3-b54c1178dc2e"
      },
      "source": [
        "directory_real_class_4 = \"/content/gdrive/My Drive/Kaggle/randomly selected preprocessed/class 2/\"\n",
        "directory_fake = \"/content/gdrive/My Drive/img_retina_Kaggle_class_4_state_of_art_GAN/459/\"\n",
        "PSNR_average = 0\n",
        "i = 0\n",
        "for real_image in os.listdir(directory_real_class_4):\n",
        "  for fake_image in os.listdir(directory_fake):\n",
        "    img_real = cv2.imread(directory_real_class_4 + real_image)\n",
        "    img_fake = cv2.imread(directory_fake + fake_image)\n",
        "    img_real = cv2.resize(img_real, (128, 128))\n",
        "    img_fake = cv2.resize(img_fake, (128, 128))\n",
        "    PSNR_none = PSNR(img_real, img_fake)\n",
        "    PSNR_average += PSNR_none\n",
        "    i+=1\n",
        "    #print(i)\n",
        "PSNR_average = PSNR_average/i\n",
        "print(\"---------------\")\n",
        "print(PSNR_average)"
      ],
      "execution_count": null,
      "outputs": [
        {
          "output_type": "stream",
          "text": [
            "---------------\n",
            "28.0705125653576\n"
          ],
          "name": "stdout"
        }
      ]
    },
    {
      "cell_type": "code",
      "metadata": {
        "id": "CpJT1Xw1yRa7",
        "colab": {
          "base_uri": "https://localhost:8080/"
        },
        "outputId": "cdf7b4cd-1ab7-446b-bba7-0af013247ff8"
      },
      "source": [
        "directory_real_class_4 = \"/content/gdrive/My Drive/Kaggle/randomly selected preprocessed/class 2/\"\n",
        "directory_fake = \"/content/gdrive/My Drive/img_retina_Kaggle_class_4_state_of_art_GAN/469/\"\n",
        "PSNR_average = 0\n",
        "i = 0\n",
        "for real_image in os.listdir(directory_real_class_4):\n",
        "  for fake_image in os.listdir(directory_fake):\n",
        "    img_real = cv2.imread(directory_real_class_4 + real_image)\n",
        "    img_fake = cv2.imread(directory_fake + fake_image)\n",
        "    img_real = cv2.resize(img_real, (128, 128))\n",
        "    img_fake = cv2.resize(img_fake, (128, 128))\n",
        "    PSNR_none = PSNR(img_real, img_fake)\n",
        "    PSNR_average += PSNR_none\n",
        "    i+=1\n",
        "    #print(i)\n",
        "PSNR_average = PSNR_average/i\n",
        "print(\"---------------\")\n",
        "print(PSNR_average)"
      ],
      "execution_count": null,
      "outputs": [
        {
          "output_type": "stream",
          "text": [
            "---------------\n",
            "28.06782362171201\n"
          ],
          "name": "stdout"
        }
      ]
    },
    {
      "cell_type": "code",
      "metadata": {
        "id": "C-sg2D4YyReC",
        "colab": {
          "base_uri": "https://localhost:8080/"
        },
        "outputId": "57dbc19c-64b2-4b4b-f9eb-ed29721fe76e"
      },
      "source": [
        "directory_real_class_4 = \"/content/gdrive/My Drive/Kaggle/randomly selected preprocessed/class 2/\"\n",
        "directory_fake = \"/content/gdrive/My Drive/img_retina_Kaggle_class_4_state_of_art_GAN/479/\"\n",
        "PSNR_average = 0\n",
        "i = 0\n",
        "for real_image in os.listdir(directory_real_class_4):\n",
        "  for fake_image in os.listdir(directory_fake):\n",
        "    img_real = cv2.imread(directory_real_class_4 + real_image)\n",
        "    img_fake = cv2.imread(directory_fake + fake_image)\n",
        "    img_real = cv2.resize(img_real, (128, 128))\n",
        "    img_fake = cv2.resize(img_fake, (128, 128))\n",
        "    PSNR_none = PSNR(img_real, img_fake)\n",
        "    PSNR_average += PSNR_none\n",
        "    i+=1\n",
        "    #print(i)\n",
        "PSNR_average = PSNR_average/i\n",
        "print(\"---------------\")\n",
        "print(PSNR_average)"
      ],
      "execution_count": null,
      "outputs": [
        {
          "output_type": "stream",
          "text": [
            "---------------\n",
            "28.062316202186782\n"
          ],
          "name": "stdout"
        }
      ]
    },
    {
      "cell_type": "code",
      "metadata": {
        "id": "6-y_xMQvyRhR",
        "colab": {
          "base_uri": "https://localhost:8080/"
        },
        "outputId": "457b5b5b-8d17-4a7a-bfef-9d8ea8e5c0e3"
      },
      "source": [
        "directory_real_class_4 = \"/content/gdrive/My Drive/Kaggle/randomly selected preprocessed/class 2/\"\n",
        "directory_fake = \"/content/gdrive/My Drive/img_retina_Kaggle_class_4_state_of_art_GAN/489/\"\n",
        "PSNR_average = 0\n",
        "i = 0\n",
        "for real_image in os.listdir(directory_real_class_4):\n",
        "  for fake_image in os.listdir(directory_fake):\n",
        "    img_real = cv2.imread(directory_real_class_4 + real_image)\n",
        "    img_fake = cv2.imread(directory_fake + fake_image)\n",
        "    img_real = cv2.resize(img_real, (128, 128))\n",
        "    img_fake = cv2.resize(img_fake, (128, 128))\n",
        "    PSNR_none = PSNR(img_real, img_fake)\n",
        "    PSNR_average += PSNR_none\n",
        "    i+=1\n",
        "    #print(i)\n",
        "PSNR_average = PSNR_average/i\n",
        "print(\"---------------\")\n",
        "print(PSNR_average)"
      ],
      "execution_count": null,
      "outputs": [
        {
          "output_type": "stream",
          "text": [
            "---------------\n",
            "28.056246959164344\n"
          ],
          "name": "stdout"
        }
      ]
    },
    {
      "cell_type": "code",
      "metadata": {
        "id": "UWm9csrlyRjk",
        "colab": {
          "base_uri": "https://localhost:8080/"
        },
        "outputId": "5665dd29-a296-44cd-f1f7-cbe0b1d1dca7"
      },
      "source": [
        "directory_real_class_4 = \"/content/gdrive/My Drive/Kaggle/randomly selected preprocessed/class 2/\"\n",
        "directory_fake = \"/content/gdrive/My Drive/img_retina_Kaggle_class_4_state_of_art_GAN/499/\"\n",
        "PSNR_average = 0\n",
        "i = 0\n",
        "for real_image in os.listdir(directory_real_class_4):\n",
        "  for fake_image in os.listdir(directory_fake):\n",
        "    img_real = cv2.imread(directory_real_class_4 + real_image)\n",
        "    img_fake = cv2.imread(directory_fake + fake_image)\n",
        "    img_real = cv2.resize(img_real, (128, 128))\n",
        "    img_fake = cv2.resize(img_fake, (128, 128))\n",
        "    PSNR_none = PSNR(img_real, img_fake)\n",
        "    PSNR_average += PSNR_none\n",
        "    i+=1\n",
        "    #print(i)\n",
        "PSNR_average = PSNR_average/i\n",
        "print(\"---------------\")\n",
        "print(PSNR_average)"
      ],
      "execution_count": null,
      "outputs": [
        {
          "output_type": "stream",
          "text": [
            "---------------\n",
            "28.064468664368025\n"
          ],
          "name": "stdout"
        }
      ]
    },
    {
      "cell_type": "code",
      "metadata": {
        "id": "9CNCXkEEyRmQ"
      },
      "source": [
        ""
      ],
      "execution_count": null,
      "outputs": []
    },
    {
      "cell_type": "code",
      "metadata": {
        "id": "8M2K5_gHyRpv"
      },
      "source": [
        ""
      ],
      "execution_count": null,
      "outputs": []
    }
  ]
}