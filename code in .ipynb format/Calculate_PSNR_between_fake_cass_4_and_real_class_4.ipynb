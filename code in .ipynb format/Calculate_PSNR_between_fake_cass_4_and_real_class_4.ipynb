{
  "nbformat": 4,
  "nbformat_minor": 0,
  "metadata": {
    "colab": {
      "name": "Calculate PSNR between fake cass 4 and real class 4.ipynb",
      "provenance": [],
      "collapsed_sections": []
    },
    "kernelspec": {
      "name": "python3",
      "display_name": "Python 3"
    },
    "language_info": {
      "name": "python"
    }
  },
  "cells": [
    {
      "cell_type": "code",
      "metadata": {
        "id": "B9T9LxjY64qz"
      },
      "source": [
        "from math import log10, sqrt\n",
        "import cv2\n",
        "import numpy as np\n",
        "import os"
      ],
      "execution_count": null,
      "outputs": []
    },
    {
      "cell_type": "code",
      "metadata": {
        "colab": {
          "base_uri": "https://localhost:8080/"
        },
        "id": "I4R8305n7ESP",
        "outputId": "2ea39618-2f48-4ea6-9879-03525f77e9ba"
      },
      "source": [
        "from google.colab import drive\n",
        "drive.mount('/content/gdrive')"
      ],
      "execution_count": null,
      "outputs": [
        {
          "output_type": "stream",
          "text": [
            "Mounted at /content/gdrive\n"
          ],
          "name": "stdout"
        }
      ]
    },
    {
      "cell_type": "code",
      "metadata": {
        "id": "MfCgXe9V6yMJ"
      },
      "source": [
        "def PSNR(original, to_compare_with):\n",
        "    mse = np.mean((original - to_compare_with) ** 2)\n",
        "    if(mse == 0):\n",
        "        return 100\n",
        "    max_pixel = 255.0\n",
        "    psnr = 20 * log10(max_pixel / sqrt(mse))\n",
        "    return psnr"
      ],
      "execution_count": null,
      "outputs": []
    },
    {
      "cell_type": "code",
      "metadata": {
        "id": "MzAdT1zc7Jgh",
        "colab": {
          "base_uri": "https://localhost:8080/"
        },
        "outputId": "3a5f1bcc-4409-4fd0-da49-70801bfed2ff"
      },
      "source": [
        "directory_real_class_4 = \"/content/gdrive/My Drive/Kaggle/randomly selected preprocessed/class 4/\"\n",
        "directory_fake = \"/content/gdrive/My Drive/img_retina_Kaggle_class_4_state_of_art_GAN/9/\"\n",
        "PSNR_average = 0\n",
        "i = 0\n",
        "for real_image in os.listdir(directory_real_class_4):\n",
        "  for fake_image in os.listdir(directory_fake):\n",
        "    img_real = cv2.imread(directory_real_class_4 + real_image)\n",
        "    img_fake = cv2.imread(directory_fake + fake_image)\n",
        "    img_real = cv2.resize(img_real, (128, 128))\n",
        "    img_fake = cv2.resize(img_fake, (128, 128))\n",
        "    PSNR_none = PSNR(img_real, img_fake)\n",
        "    PSNR_average += PSNR_none\n",
        "    i+=1\n",
        "    #print(i)\n",
        "PSNR_average = PSNR_average/i\n",
        "print(\"---------------\")\n",
        "print(PSNR_average)"
      ],
      "execution_count": null,
      "outputs": [
        {
          "output_type": "stream",
          "text": [
            "---------------\n",
            "28.479499415649666\n"
          ],
          "name": "stdout"
        }
      ]
    },
    {
      "cell_type": "code",
      "metadata": {
        "id": "bP5einoYu5gD",
        "colab": {
          "base_uri": "https://localhost:8080/"
        },
        "outputId": "55683fee-c4a3-4f17-906b-e70dc4ccd200"
      },
      "source": [
        "directory_real_class_4 = \"/content/gdrive/My Drive/Kaggle/randomly selected preprocessed/class 4/\"\n",
        "directory_fake = \"/content/gdrive/My Drive/img_retina_Kaggle_class_4_state_of_art_GAN/19/\"\n",
        "PSNR_average = 0\n",
        "i = 0\n",
        "for real_image in os.listdir(directory_real_class_4):\n",
        "  for fake_image in os.listdir(directory_fake):\n",
        "    img_real = cv2.imread(directory_real_class_4 + real_image)\n",
        "    img_fake = cv2.imread(directory_fake + fake_image)\n",
        "    img_real = cv2.resize(img_real, (128, 128))\n",
        "    img_fake = cv2.resize(img_fake, (128, 128))\n",
        "    PSNR_none = PSNR(img_real, img_fake)\n",
        "    PSNR_average += PSNR_none\n",
        "    i+=1\n",
        "    #print(i)\n",
        "PSNR_average = PSNR_average/i\n",
        "print(\"---------------\")\n",
        "print(PSNR_average)"
      ],
      "execution_count": null,
      "outputs": [
        {
          "output_type": "stream",
          "text": [
            "---------------\n",
            "28.32671849384022\n"
          ],
          "name": "stdout"
        }
      ]
    },
    {
      "cell_type": "code",
      "metadata": {
        "id": "wMDwKBJ6xA47",
        "colab": {
          "base_uri": "https://localhost:8080/"
        },
        "outputId": "f479fee4-1a09-424c-ee01-fb4ab9ec2098"
      },
      "source": [
        "directory_real_class_4 = \"/content/gdrive/My Drive/Kaggle/randomly selected preprocessed/class 4/\"\n",
        "directory_fake = \"/content/gdrive/My Drive/img_retina_Kaggle_class_4_state_of_art_GAN/29/\"\n",
        "PSNR_average = 0\n",
        "i = 0\n",
        "for real_image in os.listdir(directory_real_class_4):\n",
        "  for fake_image in os.listdir(directory_fake):\n",
        "    img_real = cv2.imread(directory_real_class_4 + real_image)\n",
        "    img_fake = cv2.imread(directory_fake + fake_image)\n",
        "    img_real = cv2.resize(img_real, (128, 128))\n",
        "    img_fake = cv2.resize(img_fake, (128, 128))\n",
        "    PSNR_none = PSNR(img_real, img_fake)\n",
        "    PSNR_average += PSNR_none\n",
        "    i+=1\n",
        "    #print(i)\n",
        "PSNR_average = PSNR_average/i\n",
        "print(\"---------------\")\n",
        "print(PSNR_average)"
      ],
      "execution_count": null,
      "outputs": [
        {
          "output_type": "stream",
          "text": [
            "---------------\n",
            "28.33398058973601\n"
          ],
          "name": "stdout"
        }
      ]
    },
    {
      "cell_type": "code",
      "metadata": {
        "id": "KcIm71-fxBeH",
        "colab": {
          "base_uri": "https://localhost:8080/"
        },
        "outputId": "eb80a26b-cc09-44e0-f135-d7aeab44f4bc"
      },
      "source": [
        "directory_real_class_4 = \"/content/gdrive/My Drive/Kaggle/randomly selected preprocessed/class 4/\"\n",
        "directory_fake = \"/content/gdrive/My Drive/img_retina_Kaggle_class_4_state_of_art_GAN/39/\"\n",
        "PSNR_average = 0\n",
        "i = 0\n",
        "for real_image in os.listdir(directory_real_class_4):\n",
        "  for fake_image in os.listdir(directory_fake):\n",
        "    img_real = cv2.imread(directory_real_class_4 + real_image)\n",
        "    img_fake = cv2.imread(directory_fake + fake_image)\n",
        "    img_real = cv2.resize(img_real, (128, 128))\n",
        "    img_fake = cv2.resize(img_fake, (128, 128))\n",
        "    PSNR_none = PSNR(img_real, img_fake)\n",
        "    PSNR_average += PSNR_none\n",
        "    i+=1\n",
        "    #print(i)\n",
        "PSNR_average = PSNR_average/i\n",
        "print(\"---------------\")\n",
        "print(PSNR_average)"
      ],
      "execution_count": null,
      "outputs": [
        {
          "output_type": "stream",
          "text": [
            "---------------\n",
            "28.231347441936837\n"
          ],
          "name": "stdout"
        }
      ]
    },
    {
      "cell_type": "code",
      "metadata": {
        "id": "tbEIPBoXxB7w",
        "colab": {
          "base_uri": "https://localhost:8080/"
        },
        "outputId": "57232787-1a0a-4087-94f7-dec7c005c4f0"
      },
      "source": [
        "directory_real_class_4 = \"/content/gdrive/My Drive/Kaggle/randomly selected preprocessed/class 4/\"\n",
        "directory_fake = \"/content/gdrive/My Drive/img_retina_Kaggle_class_4_state_of_art_GAN/49/\"\n",
        "PSNR_average = 0\n",
        "i = 0\n",
        "for real_image in os.listdir(directory_real_class_4):\n",
        "  for fake_image in os.listdir(directory_fake):\n",
        "    img_real = cv2.imread(directory_real_class_4 + real_image)\n",
        "    img_fake = cv2.imread(directory_fake + fake_image)\n",
        "    img_real = cv2.resize(img_real, (128, 128))\n",
        "    img_fake = cv2.resize(img_fake, (128, 128))\n",
        "    PSNR_none = PSNR(img_real, img_fake)\n",
        "    PSNR_average += PSNR_none\n",
        "    i+=1\n",
        "    #print(i)\n",
        "PSNR_average = PSNR_average/i\n",
        "print(\"---------------\")\n",
        "print(PSNR_average)"
      ],
      "execution_count": null,
      "outputs": [
        {
          "output_type": "stream",
          "text": [
            "---------------\n",
            "28.13308707292486\n"
          ],
          "name": "stdout"
        }
      ]
    },
    {
      "cell_type": "code",
      "metadata": {
        "id": "59_e3PnFxCle",
        "colab": {
          "base_uri": "https://localhost:8080/"
        },
        "outputId": "63cf2d1e-fafd-43a9-c29b-ac94303c7936"
      },
      "source": [
        "directory_real_class_4 = \"/content/gdrive/My Drive/Kaggle/randomly selected preprocessed/class 4/\"\n",
        "directory_fake = \"/content/gdrive/My Drive/img_retina_Kaggle_class_4_state_of_art_GAN/59/\"\n",
        "PSNR_average = 0\n",
        "i = 0\n",
        "for real_image in os.listdir(directory_real_class_4):\n",
        "  for fake_image in os.listdir(directory_fake):\n",
        "    img_real = cv2.imread(directory_real_class_4 + real_image)\n",
        "    img_fake = cv2.imread(directory_fake + fake_image)\n",
        "    img_real = cv2.resize(img_real, (128, 128))\n",
        "    img_fake = cv2.resize(img_fake, (128, 128))\n",
        "    PSNR_none = PSNR(img_real, img_fake)\n",
        "    PSNR_average += PSNR_none\n",
        "    i+=1\n",
        "    #print(i)\n",
        "PSNR_average = PSNR_average/i\n",
        "print(\"---------------\")\n",
        "print(PSNR_average)"
      ],
      "execution_count": null,
      "outputs": [
        {
          "output_type": "stream",
          "text": [
            "---------------\n",
            "28.160490434546727\n"
          ],
          "name": "stdout"
        }
      ]
    },
    {
      "cell_type": "code",
      "metadata": {
        "id": "8ye_5KdzxC8f",
        "colab": {
          "base_uri": "https://localhost:8080/"
        },
        "outputId": "61951676-28ac-4766-8efe-e83b14f5843d"
      },
      "source": [
        "directory_real_class_4 = \"/content/gdrive/My Drive/Kaggle/randomly selected preprocessed/class 4/\"\n",
        "directory_fake = \"/content/gdrive/My Drive/img_retina_Kaggle_class_4_state_of_art_GAN/69/\"\n",
        "PSNR_average = 0\n",
        "i = 0\n",
        "for real_image in os.listdir(directory_real_class_4):\n",
        "  for fake_image in os.listdir(directory_fake):\n",
        "    img_real = cv2.imread(directory_real_class_4 + real_image)\n",
        "    img_fake = cv2.imread(directory_fake + fake_image)\n",
        "    img_real = cv2.resize(img_real, (128, 128))\n",
        "    img_fake = cv2.resize(img_fake, (128, 128))\n",
        "    PSNR_none = PSNR(img_real, img_fake)\n",
        "    PSNR_average += PSNR_none\n",
        "    i+=1\n",
        "    #print(i)\n",
        "PSNR_average = PSNR_average/i\n",
        "print(\"---------------\")\n",
        "print(PSNR_average)"
      ],
      "execution_count": null,
      "outputs": [
        {
          "output_type": "stream",
          "text": [
            "---------------\n",
            "28.152431999775278\n"
          ],
          "name": "stdout"
        }
      ]
    },
    {
      "cell_type": "code",
      "metadata": {
        "id": "VxlJXLA6xDSq",
        "colab": {
          "base_uri": "https://localhost:8080/"
        },
        "outputId": "13abe5bd-9e06-475e-bda9-ea7f0e4a0cc4"
      },
      "source": [
        "directory_real_class_4 = \"/content/gdrive/My Drive/Kaggle/randomly selected preprocessed/class 4/\"\n",
        "directory_fake = \"/content/gdrive/My Drive/img_retina_Kaggle_class_4_state_of_art_GAN/79/\"\n",
        "PSNR_average = 0\n",
        "i = 0\n",
        "for real_image in os.listdir(directory_real_class_4):\n",
        "  for fake_image in os.listdir(directory_fake):\n",
        "    img_real = cv2.imread(directory_real_class_4 + real_image)\n",
        "    img_fake = cv2.imread(directory_fake + fake_image)\n",
        "    img_real = cv2.resize(img_real, (128, 128))\n",
        "    img_fake = cv2.resize(img_fake, (128, 128))\n",
        "    PSNR_none = PSNR(img_real, img_fake)\n",
        "    PSNR_average += PSNR_none\n",
        "    i+=1\n",
        "    #print(i)\n",
        "PSNR_average = PSNR_average/i\n",
        "print(\"---------------\")\n",
        "print(PSNR_average)"
      ],
      "execution_count": null,
      "outputs": [
        {
          "output_type": "stream",
          "text": [
            "---------------\n",
            "28.14052869984759\n"
          ],
          "name": "stdout"
        }
      ]
    },
    {
      "cell_type": "code",
      "metadata": {
        "id": "yaSCm2S_xDoV",
        "colab": {
          "base_uri": "https://localhost:8080/"
        },
        "outputId": "8ca033f9-e51b-498d-930c-e143786627c0"
      },
      "source": [
        "directory_real_class_4 = \"/content/gdrive/My Drive/Kaggle/randomly selected preprocessed/class 4/\"\n",
        "directory_fake = \"/content/gdrive/My Drive/img_retina_Kaggle_class_4_state_of_art_GAN/89/\"\n",
        "PSNR_average = 0\n",
        "i = 0\n",
        "for real_image in os.listdir(directory_real_class_4):\n",
        "  for fake_image in os.listdir(directory_fake):\n",
        "    img_real = cv2.imread(directory_real_class_4 + real_image)\n",
        "    img_fake = cv2.imread(directory_fake + fake_image)\n",
        "    img_real = cv2.resize(img_real, (128, 128))\n",
        "    img_fake = cv2.resize(img_fake, (128, 128))\n",
        "    PSNR_none = PSNR(img_real, img_fake)\n",
        "    PSNR_average += PSNR_none\n",
        "    i+=1\n",
        "    #print(i)\n",
        "PSNR_average = PSNR_average/i\n",
        "print(\"---------------\")\n",
        "print(PSNR_average)"
      ],
      "execution_count": null,
      "outputs": [
        {
          "output_type": "stream",
          "text": [
            "---------------\n",
            "28.105438885897552\n"
          ],
          "name": "stdout"
        }
      ]
    },
    {
      "cell_type": "code",
      "metadata": {
        "id": "pqgWLvaqxD8a",
        "colab": {
          "base_uri": "https://localhost:8080/"
        },
        "outputId": "676b54d8-d082-4278-caa6-55248ea00012"
      },
      "source": [
        "directory_real_class_4 = \"/content/gdrive/My Drive/Kaggle/randomly selected preprocessed/class 4/\"\n",
        "directory_fake = \"/content/gdrive/My Drive/img_retina_Kaggle_class_4_state_of_art_GAN/99/\"\n",
        "PSNR_average = 0\n",
        "i = 0\n",
        "for real_image in os.listdir(directory_real_class_4):\n",
        "  for fake_image in os.listdir(directory_fake):\n",
        "    img_real = cv2.imread(directory_real_class_4 + real_image)\n",
        "    img_fake = cv2.imread(directory_fake + fake_image)\n",
        "    img_real = cv2.resize(img_real, (128, 128))\n",
        "    img_fake = cv2.resize(img_fake, (128, 128))\n",
        "    PSNR_none = PSNR(img_real, img_fake)\n",
        "    PSNR_average += PSNR_none\n",
        "    i+=1\n",
        "    #print(i)\n",
        "PSNR_average = PSNR_average/i\n",
        "print(\"---------------\")\n",
        "print(PSNR_average)"
      ],
      "execution_count": null,
      "outputs": [
        {
          "output_type": "stream",
          "text": [
            "---------------\n",
            "28.09104492322164\n"
          ],
          "name": "stdout"
        }
      ]
    },
    {
      "cell_type": "code",
      "metadata": {
        "id": "tfrz7fy7xEPy",
        "colab": {
          "base_uri": "https://localhost:8080/"
        },
        "outputId": "c9163ac9-1d6d-4669-c094-bd9abaff4460"
      },
      "source": [
        "directory_real_class_4 = \"/content/gdrive/My Drive/Kaggle/randomly selected preprocessed/class 4/\"\n",
        "directory_fake = \"/content/gdrive/My Drive/img_retina_Kaggle_class_4_state_of_art_GAN/109/\"\n",
        "PSNR_average = 0\n",
        "i = 0\n",
        "for real_image in os.listdir(directory_real_class_4):\n",
        "  for fake_image in os.listdir(directory_fake):\n",
        "    img_real = cv2.imread(directory_real_class_4 + real_image)\n",
        "    img_fake = cv2.imread(directory_fake + fake_image)\n",
        "    img_real = cv2.resize(img_real, (128, 128))\n",
        "    img_fake = cv2.resize(img_fake, (128, 128))\n",
        "    PSNR_none = PSNR(img_real, img_fake)\n",
        "    PSNR_average += PSNR_none\n",
        "    i+=1\n",
        "    #print(i)\n",
        "PSNR_average = PSNR_average/i\n",
        "print(\"---------------\")\n",
        "print(PSNR_average)"
      ],
      "execution_count": null,
      "outputs": [
        {
          "output_type": "stream",
          "text": [
            "---------------\n",
            "28.10439216091049\n"
          ],
          "name": "stdout"
        }
      ]
    },
    {
      "cell_type": "code",
      "metadata": {
        "id": "0kIRJph9xE6y",
        "colab": {
          "base_uri": "https://localhost:8080/"
        },
        "outputId": "ef19ce7d-7902-4f36-ced7-160bd431cbe7"
      },
      "source": [
        "directory_real_class_4 = \"/content/gdrive/My Drive/Kaggle/randomly selected preprocessed/class 4/\"\n",
        "directory_fake = \"/content/gdrive/My Drive/img_retina_Kaggle_class_4_state_of_art_GAN/119/\"\n",
        "PSNR_average = 0\n",
        "i = 0\n",
        "for real_image in os.listdir(directory_real_class_4):\n",
        "  for fake_image in os.listdir(directory_fake):\n",
        "    img_real = cv2.imread(directory_real_class_4 + real_image)\n",
        "    img_fake = cv2.imread(directory_fake + fake_image)\n",
        "    img_real = cv2.resize(img_real, (128, 128))\n",
        "    img_fake = cv2.resize(img_fake, (128, 128))\n",
        "    PSNR_none = PSNR(img_real, img_fake)\n",
        "    PSNR_average += PSNR_none\n",
        "    i+=1\n",
        "    #print(i)\n",
        "PSNR_average = PSNR_average/i\n",
        "print(\"---------------\")\n",
        "print(PSNR_average)"
      ],
      "execution_count": null,
      "outputs": [
        {
          "output_type": "stream",
          "text": [
            "---------------\n",
            "28.08449764992106\n"
          ],
          "name": "stdout"
        }
      ]
    },
    {
      "cell_type": "code",
      "metadata": {
        "id": "N1KV4xl4xGFI",
        "colab": {
          "base_uri": "https://localhost:8080/"
        },
        "outputId": "c7ab0f04-fdb6-4334-f22c-2c9f5427f056"
      },
      "source": [
        "directory_real_class_4 = \"/content/gdrive/My Drive/Kaggle/randomly selected preprocessed/class 4/\"\n",
        "directory_fake = \"/content/gdrive/My Drive/img_retina_Kaggle_class_4_state_of_art_GAN/129/\"\n",
        "PSNR_average = 0\n",
        "i = 0\n",
        "for real_image in os.listdir(directory_real_class_4):\n",
        "  for fake_image in os.listdir(directory_fake):\n",
        "    img_real = cv2.imread(directory_real_class_4 + real_image)\n",
        "    img_fake = cv2.imread(directory_fake + fake_image)\n",
        "    img_real = cv2.resize(img_real, (128, 128))\n",
        "    img_fake = cv2.resize(img_fake, (128, 128))\n",
        "    PSNR_none = PSNR(img_real, img_fake)\n",
        "    PSNR_average += PSNR_none\n",
        "    i+=1\n",
        "    #print(i)\n",
        "PSNR_average = PSNR_average/i\n",
        "print(\"---------------\")\n",
        "print(PSNR_average)"
      ],
      "execution_count": null,
      "outputs": [
        {
          "output_type": "stream",
          "text": [
            "---------------\n",
            "28.07907696884657\n"
          ],
          "name": "stdout"
        }
      ]
    },
    {
      "cell_type": "code",
      "metadata": {
        "id": "P7hDmKSLxGba",
        "colab": {
          "base_uri": "https://localhost:8080/"
        },
        "outputId": "47bb847e-ca92-46e1-c8d3-4a51da655c8a"
      },
      "source": [
        "directory_real_class_4 = \"/content/gdrive/My Drive/Kaggle/randomly selected preprocessed/class 4/\"\n",
        "directory_fake = \"/content/gdrive/My Drive/img_retina_Kaggle_class_4_state_of_art_GAN/139/\"\n",
        "PSNR_average = 0\n",
        "i = 0\n",
        "for real_image in os.listdir(directory_real_class_4):\n",
        "  for fake_image in os.listdir(directory_fake):\n",
        "    img_real = cv2.imread(directory_real_class_4 + real_image)\n",
        "    img_fake = cv2.imread(directory_fake + fake_image)\n",
        "    img_real = cv2.resize(img_real, (128, 128))\n",
        "    img_fake = cv2.resize(img_fake, (128, 128))\n",
        "    PSNR_none = PSNR(img_real, img_fake)\n",
        "    PSNR_average += PSNR_none\n",
        "    i+=1\n",
        "    #print(i)\n",
        "PSNR_average = PSNR_average/i\n",
        "print(\"---------------\")\n",
        "print(PSNR_average)"
      ],
      "execution_count": null,
      "outputs": [
        {
          "output_type": "stream",
          "text": [
            "---------------\n",
            "28.084483191985885\n"
          ],
          "name": "stdout"
        }
      ]
    },
    {
      "cell_type": "code",
      "metadata": {
        "id": "gjTM3y96xG4e",
        "colab": {
          "base_uri": "https://localhost:8080/"
        },
        "outputId": "0fd779b3-fa21-4427-9ca6-3910e8b0856a"
      },
      "source": [
        "directory_real_class_4 = \"/content/gdrive/My Drive/Kaggle/randomly selected preprocessed/class 4/\"\n",
        "directory_fake = \"/content/gdrive/My Drive/img_retina_Kaggle_class_4_state_of_art_GAN/149/\"\n",
        "PSNR_average = 0\n",
        "i = 0\n",
        "for real_image in os.listdir(directory_real_class_4):\n",
        "  for fake_image in os.listdir(directory_fake):\n",
        "    img_real = cv2.imread(directory_real_class_4 + real_image)\n",
        "    img_fake = cv2.imread(directory_fake + fake_image)\n",
        "    img_real = cv2.resize(img_real, (128, 128))\n",
        "    img_fake = cv2.resize(img_fake, (128, 128))\n",
        "    PSNR_none = PSNR(img_real, img_fake)\n",
        "    PSNR_average += PSNR_none\n",
        "    i+=1\n",
        "    #print(i)\n",
        "PSNR_average = PSNR_average/i\n",
        "print(\"---------------\")\n",
        "print(PSNR_average)"
      ],
      "execution_count": null,
      "outputs": [
        {
          "output_type": "stream",
          "text": [
            "---------------\n",
            "28.090485927196234\n"
          ],
          "name": "stdout"
        }
      ]
    },
    {
      "cell_type": "code",
      "metadata": {
        "id": "6C7tk-mXxVSO",
        "colab": {
          "base_uri": "https://localhost:8080/"
        },
        "outputId": "086e17da-64b7-49e8-a0bb-e75021192065"
      },
      "source": [
        "directory_real_class_4 = \"/content/gdrive/My Drive/Kaggle/randomly selected preprocessed/class 4/\"\n",
        "directory_fake = \"/content/gdrive/My Drive/img_retina_Kaggle_class_4_state_of_art_GAN/159/\"\n",
        "PSNR_average = 0\n",
        "i = 0\n",
        "for real_image in os.listdir(directory_real_class_4):\n",
        "  for fake_image in os.listdir(directory_fake):\n",
        "    img_real = cv2.imread(directory_real_class_4 + real_image)\n",
        "    img_fake = cv2.imread(directory_fake + fake_image)\n",
        "    img_real = cv2.resize(img_real, (128, 128))\n",
        "    img_fake = cv2.resize(img_fake, (128, 128))\n",
        "    PSNR_none = PSNR(img_real, img_fake)\n",
        "    PSNR_average += PSNR_none\n",
        "    i+=1\n",
        "    #print(i)\n",
        "PSNR_average = PSNR_average/i\n",
        "print(\"---------------\")\n",
        "print(PSNR_average)"
      ],
      "execution_count": null,
      "outputs": [
        {
          "output_type": "stream",
          "text": [
            "---------------\n",
            "28.092523907868987\n"
          ],
          "name": "stdout"
        }
      ]
    },
    {
      "cell_type": "code",
      "metadata": {
        "id": "YG8qL6CIxVdd",
        "colab": {
          "base_uri": "https://localhost:8080/"
        },
        "outputId": "7ee60627-a52c-4432-bfd9-04f25e35bb42"
      },
      "source": [
        "directory_real_class_4 = \"/content/gdrive/My Drive/Kaggle/randomly selected preprocessed/class 4/\"\n",
        "directory_fake = \"/content/gdrive/My Drive/img_retina_Kaggle_class_4_state_of_art_GAN/169/\"\n",
        "PSNR_average = 0\n",
        "i = 0\n",
        "for real_image in os.listdir(directory_real_class_4):\n",
        "  for fake_image in os.listdir(directory_fake):\n",
        "    img_real = cv2.imread(directory_real_class_4 + real_image)\n",
        "    img_fake = cv2.imread(directory_fake + fake_image)\n",
        "    img_real = cv2.resize(img_real, (128, 128))\n",
        "    img_fake = cv2.resize(img_fake, (128, 128))\n",
        "    PSNR_none = PSNR(img_real, img_fake)\n",
        "    PSNR_average += PSNR_none\n",
        "    i+=1\n",
        "    #print(i)\n",
        "PSNR_average = PSNR_average/i\n",
        "print(\"---------------\")\n",
        "print(PSNR_average)"
      ],
      "execution_count": null,
      "outputs": [
        {
          "output_type": "stream",
          "text": [
            "---------------\n",
            "28.09565251932013\n"
          ],
          "name": "stdout"
        }
      ]
    },
    {
      "cell_type": "code",
      "metadata": {
        "id": "Ccd_vlzmxVhv",
        "colab": {
          "base_uri": "https://localhost:8080/"
        },
        "outputId": "1e84b0d7-2f5d-4d28-df78-63310540ab2f"
      },
      "source": [
        "directory_real_class_4 = \"/content/gdrive/My Drive/Kaggle/randomly selected preprocessed/class 4/\"\n",
        "directory_fake = \"/content/gdrive/My Drive/img_retina_Kaggle_class_4_state_of_art_GAN/179/\"\n",
        "PSNR_average = 0\n",
        "i = 0\n",
        "for real_image in os.listdir(directory_real_class_4):\n",
        "  for fake_image in os.listdir(directory_fake):\n",
        "    img_real = cv2.imread(directory_real_class_4 + real_image)\n",
        "    img_fake = cv2.imread(directory_fake + fake_image)\n",
        "    img_real = cv2.resize(img_real, (128, 128))\n",
        "    img_fake = cv2.resize(img_fake, (128, 128))\n",
        "    PSNR_none = PSNR(img_real, img_fake)\n",
        "    PSNR_average += PSNR_none\n",
        "    i+=1\n",
        "    #print(i)\n",
        "PSNR_average = PSNR_average/i\n",
        "print(\"---------------\")\n",
        "print(PSNR_average)"
      ],
      "execution_count": null,
      "outputs": [
        {
          "output_type": "stream",
          "text": [
            "---------------\n",
            "28.101078758720316\n"
          ],
          "name": "stdout"
        }
      ]
    },
    {
      "cell_type": "code",
      "metadata": {
        "id": "IjtwX928xVkt",
        "colab": {
          "base_uri": "https://localhost:8080/"
        },
        "outputId": "f93e2caf-792c-4702-9590-e17be5c021e8"
      },
      "source": [
        "directory_real_class_4 = \"/content/gdrive/My Drive/Kaggle/randomly selected preprocessed/class 4/\"\n",
        "directory_fake = \"/content/gdrive/My Drive/img_retina_Kaggle_class_4_state_of_art_GAN/189/\"\n",
        "PSNR_average = 0\n",
        "i = 0\n",
        "for real_image in os.listdir(directory_real_class_4):\n",
        "  for fake_image in os.listdir(directory_fake):\n",
        "    img_real = cv2.imread(directory_real_class_4 + real_image)\n",
        "    img_fake = cv2.imread(directory_fake + fake_image)\n",
        "    img_real = cv2.resize(img_real, (128, 128))\n",
        "    img_fake = cv2.resize(img_fake, (128, 128))\n",
        "    PSNR_none = PSNR(img_real, img_fake)\n",
        "    PSNR_average += PSNR_none\n",
        "    i+=1\n",
        "    #print(i)\n",
        "PSNR_average = PSNR_average/i\n",
        "print(\"---------------\")\n",
        "print(PSNR_average)"
      ],
      "execution_count": null,
      "outputs": [
        {
          "output_type": "stream",
          "text": [
            "---------------\n",
            "28.109733352394024\n"
          ],
          "name": "stdout"
        }
      ]
    },
    {
      "cell_type": "code",
      "metadata": {
        "id": "raZoJYUuxVn-",
        "colab": {
          "base_uri": "https://localhost:8080/"
        },
        "outputId": "fb8c2da1-a04d-4090-bcd3-8e5a87e5bd73"
      },
      "source": [
        "directory_real_class_4 = \"/content/gdrive/My Drive/Kaggle/randomly selected preprocessed/class 4/\"\n",
        "directory_fake = \"/content/gdrive/My Drive/img_retina_Kaggle_class_4_state_of_art_GAN/199/\"\n",
        "PSNR_average = 0\n",
        "i = 0\n",
        "for real_image in os.listdir(directory_real_class_4):\n",
        "  for fake_image in os.listdir(directory_fake):\n",
        "    img_real = cv2.imread(directory_real_class_4 + real_image)\n",
        "    img_fake = cv2.imread(directory_fake + fake_image)\n",
        "    img_real = cv2.resize(img_real, (128, 128))\n",
        "    img_fake = cv2.resize(img_fake, (128, 128))\n",
        "    PSNR_none = PSNR(img_real, img_fake)\n",
        "    PSNR_average += PSNR_none\n",
        "    i+=1\n",
        "    #print(i)\n",
        "PSNR_average = PSNR_average/i\n",
        "print(\"---------------\")\n",
        "print(PSNR_average)"
      ],
      "execution_count": null,
      "outputs": [
        {
          "output_type": "stream",
          "text": [
            "---------------\n",
            "28.116200553544605\n"
          ],
          "name": "stdout"
        }
      ]
    },
    {
      "cell_type": "code",
      "metadata": {
        "id": "rmbqOSTkxVqx",
        "colab": {
          "base_uri": "https://localhost:8080/"
        },
        "outputId": "96f2eee0-13fe-4d18-e9ee-3160d5347a89"
      },
      "source": [
        "directory_real_class_4 = \"/content/gdrive/My Drive/Kaggle/randomly selected preprocessed/class 4/\"\n",
        "directory_fake = \"/content/gdrive/My Drive/img_retina_Kaggle_class_4_state_of_art_GAN/209/\"\n",
        "PSNR_average = 0\n",
        "i = 0\n",
        "for real_image in os.listdir(directory_real_class_4):\n",
        "  for fake_image in os.listdir(directory_fake):\n",
        "    img_real = cv2.imread(directory_real_class_4 + real_image)\n",
        "    img_fake = cv2.imread(directory_fake + fake_image)\n",
        "    img_real = cv2.resize(img_real, (128, 128))\n",
        "    img_fake = cv2.resize(img_fake, (128, 128))\n",
        "    PSNR_none = PSNR(img_real, img_fake)\n",
        "    PSNR_average += PSNR_none\n",
        "    i+=1\n",
        "    #print(i)\n",
        "PSNR_average = PSNR_average/i\n",
        "print(\"---------------\")\n",
        "print(PSNR_average)"
      ],
      "execution_count": null,
      "outputs": [
        {
          "output_type": "stream",
          "text": [
            "---------------\n",
            "28.116911713949918\n"
          ],
          "name": "stdout"
        }
      ]
    },
    {
      "cell_type": "code",
      "metadata": {
        "id": "HCF1QHtyxVte",
        "colab": {
          "base_uri": "https://localhost:8080/"
        },
        "outputId": "12ece57a-f317-4573-d426-c33ae362e4a3"
      },
      "source": [
        "directory_real_class_4 = \"/content/gdrive/My Drive/Kaggle/randomly selected preprocessed/class 4/\"\n",
        "directory_fake = \"/content/gdrive/My Drive/img_retina_Kaggle_class_4_state_of_art_GAN/219/\"\n",
        "PSNR_average = 0\n",
        "i = 0\n",
        "for real_image in os.listdir(directory_real_class_4):\n",
        "  for fake_image in os.listdir(directory_fake):\n",
        "    img_real = cv2.imread(directory_real_class_4 + real_image)\n",
        "    img_fake = cv2.imread(directory_fake + fake_image)\n",
        "    img_real = cv2.resize(img_real, (128, 128))\n",
        "    img_fake = cv2.resize(img_fake, (128, 128))\n",
        "    PSNR_none = PSNR(img_real, img_fake)\n",
        "    PSNR_average += PSNR_none\n",
        "    i+=1\n",
        "    #print(i)\n",
        "PSNR_average = PSNR_average/i\n",
        "print(\"---------------\")\n",
        "print(PSNR_average)"
      ],
      "execution_count": null,
      "outputs": [
        {
          "output_type": "stream",
          "text": [
            "---------------\n",
            "28.119629821771948\n"
          ],
          "name": "stdout"
        }
      ]
    },
    {
      "cell_type": "code",
      "metadata": {
        "id": "mOEH9P-fxVwO",
        "colab": {
          "base_uri": "https://localhost:8080/"
        },
        "outputId": "e230aab4-8318-427f-d3a5-9ec5f3045474"
      },
      "source": [
        "directory_real_class_4 = \"/content/gdrive/My Drive/Kaggle/randomly selected preprocessed/class 4/\"\n",
        "directory_fake = \"/content/gdrive/My Drive/img_retina_Kaggle_class_4_state_of_art_GAN/229/\"\n",
        "PSNR_average = 0\n",
        "i = 0\n",
        "for real_image in os.listdir(directory_real_class_4):\n",
        "  for fake_image in os.listdir(directory_fake):\n",
        "    img_real = cv2.imread(directory_real_class_4 + real_image)\n",
        "    img_fake = cv2.imread(directory_fake + fake_image)\n",
        "    img_real = cv2.resize(img_real, (128, 128))\n",
        "    img_fake = cv2.resize(img_fake, (128, 128))\n",
        "    PSNR_none = PSNR(img_real, img_fake)\n",
        "    PSNR_average += PSNR_none\n",
        "    i+=1\n",
        "    #print(i)\n",
        "PSNR_average = PSNR_average/i\n",
        "print(\"---------------\")\n",
        "print(PSNR_average)"
      ],
      "execution_count": null,
      "outputs": [
        {
          "output_type": "stream",
          "text": [
            "---------------\n",
            "28.112603333652892\n"
          ],
          "name": "stdout"
        }
      ]
    },
    {
      "cell_type": "code",
      "metadata": {
        "id": "j0zCT8cFxVzO",
        "colab": {
          "base_uri": "https://localhost:8080/"
        },
        "outputId": "e3aedd32-2257-44e1-8c76-dcb0fcc943ed"
      },
      "source": [
        "directory_real_class_4 = \"/content/gdrive/My Drive/Kaggle/randomly selected preprocessed/class 4/\"\n",
        "directory_fake = \"/content/gdrive/My Drive/img_retina_Kaggle_class_4_state_of_art_GAN/239/\"\n",
        "PSNR_average = 0\n",
        "i = 0\n",
        "for real_image in os.listdir(directory_real_class_4):\n",
        "  for fake_image in os.listdir(directory_fake):\n",
        "    img_real = cv2.imread(directory_real_class_4 + real_image)\n",
        "    img_fake = cv2.imread(directory_fake + fake_image)\n",
        "    img_real = cv2.resize(img_real, (128, 128))\n",
        "    img_fake = cv2.resize(img_fake, (128, 128))\n",
        "    PSNR_none = PSNR(img_real, img_fake)\n",
        "    PSNR_average += PSNR_none\n",
        "    i+=1\n",
        "    #print(i)\n",
        "PSNR_average = PSNR_average/i\n",
        "print(\"---------------\")\n",
        "print(PSNR_average)"
      ],
      "execution_count": null,
      "outputs": [
        {
          "output_type": "stream",
          "text": [
            "---------------\n",
            "28.112754515446678\n"
          ],
          "name": "stdout"
        }
      ]
    },
    {
      "cell_type": "code",
      "metadata": {
        "id": "7Yq8OMPRxbk5",
        "colab": {
          "base_uri": "https://localhost:8080/"
        },
        "outputId": "114c87e7-ea8c-4050-a6ff-0a3f6966405e"
      },
      "source": [
        "directory_real_class_4 = \"/content/gdrive/My Drive/Kaggle/randomly selected preprocessed/class 4/\"\n",
        "directory_fake = \"/content/gdrive/My Drive/img_retina_Kaggle_class_4_state_of_art_GAN/249/\"\n",
        "PSNR_average = 0\n",
        "i = 0\n",
        "for real_image in os.listdir(directory_real_class_4):\n",
        "  for fake_image in os.listdir(directory_fake):\n",
        "    img_real = cv2.imread(directory_real_class_4 + real_image)\n",
        "    img_fake = cv2.imread(directory_fake + fake_image)\n",
        "    img_real = cv2.resize(img_real, (128, 128))\n",
        "    img_fake = cv2.resize(img_fake, (128, 128))\n",
        "    PSNR_none = PSNR(img_real, img_fake)\n",
        "    PSNR_average += PSNR_none\n",
        "    i+=1\n",
        "    #print(i)\n",
        "PSNR_average = PSNR_average/i\n",
        "print(\"---------------\")\n",
        "print(PSNR_average)"
      ],
      "execution_count": null,
      "outputs": [
        {
          "output_type": "stream",
          "text": [
            "---------------\n",
            "28.112199249182094\n"
          ],
          "name": "stdout"
        }
      ]
    },
    {
      "cell_type": "code",
      "metadata": {
        "id": "PgBvVxZ2xbqM",
        "colab": {
          "base_uri": "https://localhost:8080/"
        },
        "outputId": "f2472523-d978-4412-ae4c-beae6e472177"
      },
      "source": [
        "directory_real_class_4 = \"/content/gdrive/My Drive/Kaggle/randomly selected preprocessed/class 4/\"\n",
        "directory_fake = \"/content/gdrive/My Drive/img_retina_Kaggle_class_4_state_of_art_GAN/259/\"\n",
        "PSNR_average = 0\n",
        "i = 0\n",
        "for real_image in os.listdir(directory_real_class_4):\n",
        "  for fake_image in os.listdir(directory_fake):\n",
        "    img_real = cv2.imread(directory_real_class_4 + real_image)\n",
        "    img_fake = cv2.imread(directory_fake + fake_image)\n",
        "    img_real = cv2.resize(img_real, (128, 128))\n",
        "    img_fake = cv2.resize(img_fake, (128, 128))\n",
        "    PSNR_none = PSNR(img_real, img_fake)\n",
        "    PSNR_average += PSNR_none\n",
        "    i+=1\n",
        "    #print(i)\n",
        "PSNR_average = PSNR_average/i\n",
        "print(\"---------------\")\n",
        "print(PSNR_average)"
      ],
      "execution_count": null,
      "outputs": [
        {
          "output_type": "stream",
          "text": [
            "---------------\n",
            "28.112574544199123\n"
          ],
          "name": "stdout"
        }
      ]
    },
    {
      "cell_type": "code",
      "metadata": {
        "id": "Rhtw26Huxbs6",
        "colab": {
          "base_uri": "https://localhost:8080/"
        },
        "outputId": "a9d6a36b-efd0-48b6-e375-3b31d5d171e4"
      },
      "source": [
        "directory_real_class_4 = \"/content/gdrive/My Drive/Kaggle/randomly selected preprocessed/class 4/\"\n",
        "directory_fake = \"/content/gdrive/My Drive/img_retina_Kaggle_class_4_state_of_art_GAN/269/\"\n",
        "PSNR_average = 0\n",
        "i = 0\n",
        "for real_image in os.listdir(directory_real_class_4):\n",
        "  for fake_image in os.listdir(directory_fake):\n",
        "    img_real = cv2.imread(directory_real_class_4 + real_image)\n",
        "    img_fake = cv2.imread(directory_fake + fake_image)\n",
        "    img_real = cv2.resize(img_real, (128, 128))\n",
        "    img_fake = cv2.resize(img_fake, (128, 128))\n",
        "    PSNR_none = PSNR(img_real, img_fake)\n",
        "    PSNR_average += PSNR_none\n",
        "    i+=1\n",
        "    #print(i)\n",
        "PSNR_average = PSNR_average/i\n",
        "print(\"---------------\")\n",
        "print(PSNR_average)"
      ],
      "execution_count": null,
      "outputs": [
        {
          "output_type": "stream",
          "text": [
            "---------------\n",
            "28.12212989967964\n"
          ],
          "name": "stdout"
        }
      ]
    },
    {
      "cell_type": "code",
      "metadata": {
        "id": "dqUjF0_9xbvt",
        "colab": {
          "base_uri": "https://localhost:8080/"
        },
        "outputId": "ed47ceed-e50c-45a4-d4cb-5eceb911d361"
      },
      "source": [
        "directory_real_class_4 = \"/content/gdrive/My Drive/Kaggle/randomly selected preprocessed/class 4/\"\n",
        "directory_fake = \"/content/gdrive/My Drive/img_retina_Kaggle_class_4_state_of_art_GAN/279/\"\n",
        "PSNR_average = 0\n",
        "i = 0\n",
        "for real_image in os.listdir(directory_real_class_4):\n",
        "  for fake_image in os.listdir(directory_fake):\n",
        "    img_real = cv2.imread(directory_real_class_4 + real_image)\n",
        "    img_fake = cv2.imread(directory_fake + fake_image)\n",
        "    img_real = cv2.resize(img_real, (128, 128))\n",
        "    img_fake = cv2.resize(img_fake, (128, 128))\n",
        "    PSNR_none = PSNR(img_real, img_fake)\n",
        "    PSNR_average += PSNR_none\n",
        "    i+=1\n",
        "    #print(i)\n",
        "PSNR_average = PSNR_average/i\n",
        "print(\"---------------\")\n",
        "print(PSNR_average)"
      ],
      "execution_count": null,
      "outputs": [
        {
          "output_type": "stream",
          "text": [
            "---------------\n",
            "28.12016404357406\n"
          ],
          "name": "stdout"
        }
      ]
    },
    {
      "cell_type": "code",
      "metadata": {
        "id": "T_R4llCvxbya",
        "colab": {
          "base_uri": "https://localhost:8080/"
        },
        "outputId": "4d79e951-990c-4858-c156-dab64ca9eaab"
      },
      "source": [
        "directory_real_class_4 = \"/content/gdrive/My Drive/Kaggle/randomly selected preprocessed/class 4/\"\n",
        "directory_fake = \"/content/gdrive/My Drive/img_retina_Kaggle_class_4_state_of_art_GAN/289/\"\n",
        "PSNR_average = 0\n",
        "i = 0\n",
        "for real_image in os.listdir(directory_real_class_4):\n",
        "  for fake_image in os.listdir(directory_fake):\n",
        "    img_real = cv2.imread(directory_real_class_4 + real_image)\n",
        "    img_fake = cv2.imread(directory_fake + fake_image)\n",
        "    img_real = cv2.resize(img_real, (128, 128))\n",
        "    img_fake = cv2.resize(img_fake, (128, 128))\n",
        "    PSNR_none = PSNR(img_real, img_fake)\n",
        "    PSNR_average += PSNR_none\n",
        "    i+=1\n",
        "    #print(i)\n",
        "PSNR_average = PSNR_average/i\n",
        "print(\"---------------\")\n",
        "print(PSNR_average)"
      ],
      "execution_count": null,
      "outputs": [
        {
          "output_type": "stream",
          "text": [
            "---------------\n",
            "28.118734301641005\n"
          ],
          "name": "stdout"
        }
      ]
    },
    {
      "cell_type": "code",
      "metadata": {
        "id": "hn21Kxesxegn",
        "colab": {
          "base_uri": "https://localhost:8080/"
        },
        "outputId": "2942a33b-d6d5-4a81-ad63-d2faa7da992f"
      },
      "source": [
        "directory_real_class_4 = \"/content/gdrive/My Drive/Kaggle/randomly selected preprocessed/class 4/\"\n",
        "directory_fake = \"/content/gdrive/My Drive/img_retina_Kaggle_class_4_state_of_art_GAN/299/\"\n",
        "PSNR_average = 0\n",
        "i = 0\n",
        "for real_image in os.listdir(directory_real_class_4):\n",
        "  for fake_image in os.listdir(directory_fake):\n",
        "    img_real = cv2.imread(directory_real_class_4 + real_image)\n",
        "    img_fake = cv2.imread(directory_fake + fake_image)\n",
        "    img_real = cv2.resize(img_real, (128, 128))\n",
        "    img_fake = cv2.resize(img_fake, (128, 128))\n",
        "    PSNR_none = PSNR(img_real, img_fake)\n",
        "    PSNR_average += PSNR_none\n",
        "    i+=1\n",
        "    #print(i)\n",
        "PSNR_average = PSNR_average/i\n",
        "print(\"---------------\")\n",
        "print(PSNR_average)"
      ],
      "execution_count": null,
      "outputs": [
        {
          "output_type": "stream",
          "text": [
            "---------------\n",
            "28.115839301422152\n"
          ],
          "name": "stdout"
        }
      ]
    },
    {
      "cell_type": "code",
      "metadata": {
        "id": "oMZjUWmcxen9",
        "colab": {
          "base_uri": "https://localhost:8080/"
        },
        "outputId": "3808712e-1512-4130-e191-350b38a06406"
      },
      "source": [
        "directory_real_class_4 = \"/content/gdrive/My Drive/Kaggle/randomly selected preprocessed/class 4/\"\n",
        "directory_fake = \"/content/gdrive/My Drive/img_retina_Kaggle_class_4_state_of_art_GAN/309/\"\n",
        "PSNR_average = 0\n",
        "i = 0\n",
        "for real_image in os.listdir(directory_real_class_4):\n",
        "  for fake_image in os.listdir(directory_fake):\n",
        "    img_real = cv2.imread(directory_real_class_4 + real_image)\n",
        "    img_fake = cv2.imread(directory_fake + fake_image)\n",
        "    img_real = cv2.resize(img_real, (128, 128))\n",
        "    img_fake = cv2.resize(img_fake, (128, 128))\n",
        "    PSNR_none = PSNR(img_real, img_fake)\n",
        "    PSNR_average += PSNR_none\n",
        "    i+=1\n",
        "    #print(i)\n",
        "PSNR_average = PSNR_average/i\n",
        "print(\"---------------\")\n",
        "print(PSNR_average)"
      ],
      "execution_count": null,
      "outputs": [
        {
          "output_type": "stream",
          "text": [
            "---------------\n",
            "28.10735456285598\n"
          ],
          "name": "stdout"
        }
      ]
    },
    {
      "cell_type": "code",
      "metadata": {
        "id": "aEugmaNLxgRP",
        "colab": {
          "base_uri": "https://localhost:8080/"
        },
        "outputId": "5d730a99-e7ca-4c78-fdd4-17ea90d0053e"
      },
      "source": [
        "directory_real_class_4 = \"/content/gdrive/My Drive/Kaggle/randomly selected preprocessed/class 4/\"\n",
        "directory_fake = \"/content/gdrive/My Drive/img_retina_Kaggle_class_4_state_of_art_GAN/319/\"\n",
        "PSNR_average = 0\n",
        "i = 0\n",
        "for real_image in os.listdir(directory_real_class_4):\n",
        "  for fake_image in os.listdir(directory_fake):\n",
        "    img_real = cv2.imread(directory_real_class_4 + real_image)\n",
        "    img_fake = cv2.imread(directory_fake + fake_image)\n",
        "    img_real = cv2.resize(img_real, (128, 128))\n",
        "    img_fake = cv2.resize(img_fake, (128, 128))\n",
        "    PSNR_none = PSNR(img_real, img_fake)\n",
        "    PSNR_average += PSNR_none\n",
        "    i+=1\n",
        "    #print(i)\n",
        "PSNR_average = PSNR_average/i\n",
        "print(\"---------------\")\n",
        "print(PSNR_average)"
      ],
      "execution_count": null,
      "outputs": [
        {
          "output_type": "stream",
          "text": [
            "---------------\n",
            "28.11142686175167\n"
          ],
          "name": "stdout"
        }
      ]
    },
    {
      "cell_type": "code",
      "metadata": {
        "id": "YcJebbTfxgXd",
        "colab": {
          "base_uri": "https://localhost:8080/"
        },
        "outputId": "20acbdf4-3f15-46dc-f081-8c83014ee410"
      },
      "source": [
        "directory_real_class_4 = \"/content/gdrive/My Drive/Kaggle/randomly selected preprocessed/class 4/\"\n",
        "directory_fake = \"/content/gdrive/My Drive/img_retina_Kaggle_class_4_state_of_art_GAN/329/\"\n",
        "PSNR_average = 0\n",
        "i = 0\n",
        "for real_image in os.listdir(directory_real_class_4):\n",
        "  for fake_image in os.listdir(directory_fake):\n",
        "    img_real = cv2.imread(directory_real_class_4 + real_image)\n",
        "    img_fake = cv2.imread(directory_fake + fake_image)\n",
        "    img_real = cv2.resize(img_real, (128, 128))\n",
        "    img_fake = cv2.resize(img_fake, (128, 128))\n",
        "    PSNR_none = PSNR(img_real, img_fake)\n",
        "    PSNR_average += PSNR_none\n",
        "    i+=1\n",
        "    #print(i)\n",
        "PSNR_average = PSNR_average/i\n",
        "print(\"---------------\")\n",
        "print(PSNR_average)"
      ],
      "execution_count": null,
      "outputs": [
        {
          "output_type": "stream",
          "text": [
            "---------------\n",
            "28.09812384331756\n"
          ],
          "name": "stdout"
        }
      ]
    },
    {
      "cell_type": "code",
      "metadata": {
        "id": "JddEmfPYx6kT",
        "colab": {
          "base_uri": "https://localhost:8080/"
        },
        "outputId": "fc03ffcd-e6c8-4ab8-e084-0a4580b86254"
      },
      "source": [
        "directory_real_class_4 = \"/content/gdrive/My Drive/Kaggle/randomly selected preprocessed/class 4/\"\n",
        "directory_fake = \"/content/gdrive/My Drive/img_retina_Kaggle_class_4_state_of_art_GAN/339/\"\n",
        "PSNR_average = 0\n",
        "i = 0\n",
        "for real_image in os.listdir(directory_real_class_4):\n",
        "  for fake_image in os.listdir(directory_fake):\n",
        "    img_real = cv2.imread(directory_real_class_4 + real_image)\n",
        "    img_fake = cv2.imread(directory_fake + fake_image)\n",
        "    img_real = cv2.resize(img_real, (128, 128))\n",
        "    img_fake = cv2.resize(img_fake, (128, 128))\n",
        "    PSNR_none = PSNR(img_real, img_fake)\n",
        "    PSNR_average += PSNR_none\n",
        "    i+=1\n",
        "    #print(i)\n",
        "PSNR_average = PSNR_average/i\n",
        "print(\"---------------\")\n",
        "print(PSNR_average)"
      ],
      "execution_count": null,
      "outputs": [
        {
          "output_type": "stream",
          "text": [
            "---------------\n",
            "28.10220702469001\n"
          ],
          "name": "stdout"
        }
      ]
    },
    {
      "cell_type": "code",
      "metadata": {
        "id": "U8Ne2po5x6t6",
        "colab": {
          "base_uri": "https://localhost:8080/"
        },
        "outputId": "303ed822-5175-45aa-f163-800d66d87aac"
      },
      "source": [
        "directory_real_class_4 = \"/content/gdrive/My Drive/Kaggle/randomly selected preprocessed/class 4/\"\n",
        "directory_fake = \"/content/gdrive/My Drive/img_retina_Kaggle_class_4_state_of_art_GAN/349/\"\n",
        "PSNR_average = 0\n",
        "i = 0\n",
        "for real_image in os.listdir(directory_real_class_4):\n",
        "  for fake_image in os.listdir(directory_fake):\n",
        "    img_real = cv2.imread(directory_real_class_4 + real_image)\n",
        "    img_fake = cv2.imread(directory_fake + fake_image)\n",
        "    img_real = cv2.resize(img_real, (128, 128))\n",
        "    img_fake = cv2.resize(img_fake, (128, 128))\n",
        "    PSNR_none = PSNR(img_real, img_fake)\n",
        "    PSNR_average += PSNR_none\n",
        "    i+=1\n",
        "    #print(i)\n",
        "PSNR_average = PSNR_average/i\n",
        "print(\"---------------\")\n",
        "print(PSNR_average)"
      ],
      "execution_count": null,
      "outputs": [
        {
          "output_type": "stream",
          "text": [
            "---------------\n",
            "28.100469322034055\n"
          ],
          "name": "stdout"
        }
      ]
    },
    {
      "cell_type": "code",
      "metadata": {
        "id": "UeNb2a1ox60O",
        "colab": {
          "base_uri": "https://localhost:8080/"
        },
        "outputId": "a5b0360e-c0f6-4dfb-e708-49ad7a96d9af"
      },
      "source": [
        "directory_real_class_4 = \"/content/gdrive/My Drive/Kaggle/randomly selected preprocessed/class 4/\"\n",
        "directory_fake = \"/content/gdrive/My Drive/img_retina_Kaggle_class_4_state_of_art_GAN/359/\"\n",
        "PSNR_average = 0\n",
        "i = 0\n",
        "for real_image in os.listdir(directory_real_class_4):\n",
        "  for fake_image in os.listdir(directory_fake):\n",
        "    img_real = cv2.imread(directory_real_class_4 + real_image)\n",
        "    img_fake = cv2.imread(directory_fake + fake_image)\n",
        "    img_real = cv2.resize(img_real, (128, 128))\n",
        "    img_fake = cv2.resize(img_fake, (128, 128))\n",
        "    PSNR_none = PSNR(img_real, img_fake)\n",
        "    PSNR_average += PSNR_none\n",
        "    i+=1\n",
        "    #print(i)\n",
        "PSNR_average = PSNR_average/i\n",
        "print(\"---------------\")\n",
        "print(PSNR_average)"
      ],
      "execution_count": null,
      "outputs": [
        {
          "output_type": "stream",
          "text": [
            "---------------\n",
            "28.08824478427534\n"
          ],
          "name": "stdout"
        }
      ]
    },
    {
      "cell_type": "code",
      "metadata": {
        "id": "FjF-NCfox64M",
        "colab": {
          "base_uri": "https://localhost:8080/"
        },
        "outputId": "b63ba620-8531-4ca9-afea-9bdfd5de457e"
      },
      "source": [
        "directory_real_class_4 = \"/content/gdrive/My Drive/Kaggle/randomly selected preprocessed/class 4/\"\n",
        "directory_fake = \"/content/gdrive/My Drive/img_retina_Kaggle_class_4_state_of_art_GAN/369/\"\n",
        "PSNR_average = 0\n",
        "i = 0\n",
        "for real_image in os.listdir(directory_real_class_4):\n",
        "  for fake_image in os.listdir(directory_fake):\n",
        "    img_real = cv2.imread(directory_real_class_4 + real_image)\n",
        "    img_fake = cv2.imread(directory_fake + fake_image)\n",
        "    img_real = cv2.resize(img_real, (128, 128))\n",
        "    img_fake = cv2.resize(img_fake, (128, 128))\n",
        "    PSNR_none = PSNR(img_real, img_fake)\n",
        "    PSNR_average += PSNR_none\n",
        "    i+=1\n",
        "    #print(i)\n",
        "PSNR_average = PSNR_average/i\n",
        "print(\"---------------\")\n",
        "print(PSNR_average)"
      ],
      "execution_count": null,
      "outputs": [
        {
          "output_type": "stream",
          "text": [
            "---------------\n",
            "28.094030138023925\n"
          ],
          "name": "stdout"
        }
      ]
    },
    {
      "cell_type": "code",
      "metadata": {
        "id": "WND_DsQZx6_D",
        "colab": {
          "base_uri": "https://localhost:8080/"
        },
        "outputId": "ae6bb9e9-80e1-4e2c-e25e-6d248711d5b1"
      },
      "source": [
        "directory_real_class_4 = \"/content/gdrive/My Drive/Kaggle/randomly selected preprocessed/class 4/\"\n",
        "directory_fake = \"/content/gdrive/My Drive/img_retina_Kaggle_class_4_state_of_art_GAN/379/\"\n",
        "PSNR_average = 0\n",
        "i = 0\n",
        "for real_image in os.listdir(directory_real_class_4):\n",
        "  for fake_image in os.listdir(directory_fake):\n",
        "    img_real = cv2.imread(directory_real_class_4 + real_image)\n",
        "    img_fake = cv2.imread(directory_fake + fake_image)\n",
        "    img_real = cv2.resize(img_real, (128, 128))\n",
        "    img_fake = cv2.resize(img_fake, (128, 128))\n",
        "    PSNR_none = PSNR(img_real, img_fake)\n",
        "    PSNR_average += PSNR_none\n",
        "    i+=1\n",
        "    #print(i)\n",
        "PSNR_average = PSNR_average/i\n",
        "print(\"---------------\")\n",
        "print(PSNR_average)"
      ],
      "execution_count": null,
      "outputs": [
        {
          "output_type": "stream",
          "text": [
            "---------------\n",
            "28.089462593633225\n"
          ],
          "name": "stdout"
        }
      ]
    },
    {
      "cell_type": "code",
      "metadata": {
        "id": "0RTh-eRtx7F8",
        "colab": {
          "base_uri": "https://localhost:8080/"
        },
        "outputId": "c34bbbf6-70da-49cc-e190-fed9ed5374de"
      },
      "source": [
        "directory_real_class_4 = \"/content/gdrive/My Drive/Kaggle/randomly selected preprocessed/class 4/\"\n",
        "directory_fake = \"/content/gdrive/My Drive/img_retina_Kaggle_class_4_state_of_art_GAN/389/\"\n",
        "PSNR_average = 0\n",
        "i = 0\n",
        "for real_image in os.listdir(directory_real_class_4):\n",
        "  for fake_image in os.listdir(directory_fake):\n",
        "    img_real = cv2.imread(directory_real_class_4 + real_image)\n",
        "    img_fake = cv2.imread(directory_fake + fake_image)\n",
        "    img_real = cv2.resize(img_real, (128, 128))\n",
        "    img_fake = cv2.resize(img_fake, (128, 128))\n",
        "    PSNR_none = PSNR(img_real, img_fake)\n",
        "    PSNR_average += PSNR_none\n",
        "    i+=1\n",
        "    #print(i)\n",
        "PSNR_average = PSNR_average/i\n",
        "print(\"---------------\")\n",
        "print(PSNR_average)"
      ],
      "execution_count": null,
      "outputs": [
        {
          "output_type": "stream",
          "text": [
            "---------------\n",
            "28.086907056212883\n"
          ],
          "name": "stdout"
        }
      ]
    },
    {
      "cell_type": "code",
      "metadata": {
        "id": "267IxTqvx-ia",
        "colab": {
          "base_uri": "https://localhost:8080/"
        },
        "outputId": "d49ad6cc-c0f1-4574-a8dd-8fa5070af69b"
      },
      "source": [
        "directory_real_class_4 = \"/content/gdrive/My Drive/Kaggle/randomly selected preprocessed/class 4/\"\n",
        "directory_fake = \"/content/gdrive/My Drive/img_retina_Kaggle_class_4_state_of_art_GAN/399/\"\n",
        "PSNR_average = 0\n",
        "i = 0\n",
        "for real_image in os.listdir(directory_real_class_4):\n",
        "  for fake_image in os.listdir(directory_fake):\n",
        "    img_real = cv2.imread(directory_real_class_4 + real_image)\n",
        "    img_fake = cv2.imread(directory_fake + fake_image)\n",
        "    img_real = cv2.resize(img_real, (128, 128))\n",
        "    img_fake = cv2.resize(img_fake, (128, 128))\n",
        "    PSNR_none = PSNR(img_real, img_fake)\n",
        "    PSNR_average += PSNR_none\n",
        "    i+=1\n",
        "    #print(i)\n",
        "PSNR_average = PSNR_average/i\n",
        "print(\"---------------\")\n",
        "print(PSNR_average)"
      ],
      "execution_count": null,
      "outputs": [
        {
          "output_type": "stream",
          "text": [
            "---------------\n",
            "28.08401985134241\n"
          ],
          "name": "stdout"
        }
      ]
    },
    {
      "cell_type": "code",
      "metadata": {
        "id": "hK-MSAjyx-qp",
        "colab": {
          "base_uri": "https://localhost:8080/"
        },
        "outputId": "8cacd663-91c6-473d-be9a-5c0a57769029"
      },
      "source": [
        "directory_real_class_4 = \"/content/gdrive/My Drive/Kaggle/randomly selected preprocessed/class 4/\"\n",
        "directory_fake = \"/content/gdrive/My Drive/img_retina_Kaggle_class_4_state_of_art_GAN/409/\"\n",
        "PSNR_average = 0\n",
        "i = 0\n",
        "for real_image in os.listdir(directory_real_class_4):\n",
        "  for fake_image in os.listdir(directory_fake):\n",
        "    img_real = cv2.imread(directory_real_class_4 + real_image)\n",
        "    img_fake = cv2.imread(directory_fake + fake_image)\n",
        "    img_real = cv2.resize(img_real, (128, 128))\n",
        "    img_fake = cv2.resize(img_fake, (128, 128))\n",
        "    PSNR_none = PSNR(img_real, img_fake)\n",
        "    PSNR_average += PSNR_none\n",
        "    i+=1\n",
        "    #print(i)\n",
        "PSNR_average = PSNR_average/i\n",
        "print(\"---------------\")\n",
        "print(PSNR_average)"
      ],
      "execution_count": null,
      "outputs": [
        {
          "output_type": "stream",
          "text": [
            "---------------\n",
            "28.086533166310243\n"
          ],
          "name": "stdout"
        }
      ]
    },
    {
      "cell_type": "code",
      "metadata": {
        "id": "CC-I4fsex-xi",
        "colab": {
          "base_uri": "https://localhost:8080/"
        },
        "outputId": "8286da8d-afb1-4dff-f01d-7e656147273e"
      },
      "source": [
        "directory_real_class_4 = \"/content/gdrive/My Drive/Kaggle/randomly selected preprocessed/class 4/\"\n",
        "directory_fake = \"/content/gdrive/My Drive/img_retina_Kaggle_class_4_state_of_art_GAN/419/\"\n",
        "PSNR_average = 0\n",
        "i = 0\n",
        "for real_image in os.listdir(directory_real_class_4):\n",
        "  for fake_image in os.listdir(directory_fake):\n",
        "    img_real = cv2.imread(directory_real_class_4 + real_image)\n",
        "    img_fake = cv2.imread(directory_fake + fake_image)\n",
        "    img_real = cv2.resize(img_real, (128, 128))\n",
        "    img_fake = cv2.resize(img_fake, (128, 128))\n",
        "    PSNR_none = PSNR(img_real, img_fake)\n",
        "    PSNR_average += PSNR_none\n",
        "    i+=1\n",
        "    #print(i)\n",
        "PSNR_average = PSNR_average/i\n",
        "print(\"---------------\")\n",
        "print(PSNR_average)"
      ],
      "execution_count": null,
      "outputs": [
        {
          "output_type": "stream",
          "text": [
            "---------------\n",
            "28.079600868213493\n"
          ],
          "name": "stdout"
        }
      ]
    },
    {
      "cell_type": "code",
      "metadata": {
        "id": "Kupvi9mmx-0S",
        "colab": {
          "base_uri": "https://localhost:8080/"
        },
        "outputId": "452e32b7-268e-49e5-9384-6f906a68dfdb"
      },
      "source": [
        "directory_real_class_4 = \"/content/gdrive/My Drive/Kaggle/randomly selected preprocessed/class 4/\"\n",
        "directory_fake = \"/content/gdrive/My Drive/img_retina_Kaggle_class_4_state_of_art_GAN/429/\"\n",
        "PSNR_average = 0\n",
        "i = 0\n",
        "for real_image in os.listdir(directory_real_class_4):\n",
        "  for fake_image in os.listdir(directory_fake):\n",
        "    img_real = cv2.imread(directory_real_class_4 + real_image)\n",
        "    img_fake = cv2.imread(directory_fake + fake_image)\n",
        "    img_real = cv2.resize(img_real, (128, 128))\n",
        "    img_fake = cv2.resize(img_fake, (128, 128))\n",
        "    PSNR_none = PSNR(img_real, img_fake)\n",
        "    PSNR_average += PSNR_none\n",
        "    i+=1\n",
        "    #print(i)\n",
        "PSNR_average = PSNR_average/i\n",
        "print(\"---------------\")\n",
        "print(PSNR_average)"
      ],
      "execution_count": null,
      "outputs": [
        {
          "output_type": "stream",
          "text": [
            "---------------\n",
            "28.078288304223875\n"
          ],
          "name": "stdout"
        }
      ]
    },
    {
      "cell_type": "code",
      "metadata": {
        "id": "dFRxrrkKx-3w",
        "colab": {
          "base_uri": "https://localhost:8080/"
        },
        "outputId": "20d4220e-6d06-4188-8ded-f940cc06e632"
      },
      "source": [
        "directory_real_class_4 = \"/content/gdrive/My Drive/Kaggle/randomly selected preprocessed/class 4/\"\n",
        "directory_fake = \"/content/gdrive/My Drive/img_retina_Kaggle_class_4_state_of_art_GAN/439/\"\n",
        "PSNR_average = 0\n",
        "i = 0\n",
        "for real_image in os.listdir(directory_real_class_4):\n",
        "  for fake_image in os.listdir(directory_fake):\n",
        "    img_real = cv2.imread(directory_real_class_4 + real_image)\n",
        "    img_fake = cv2.imread(directory_fake + fake_image)\n",
        "    img_real = cv2.resize(img_real, (128, 128))\n",
        "    img_fake = cv2.resize(img_fake, (128, 128))\n",
        "    PSNR_none = PSNR(img_real, img_fake)\n",
        "    PSNR_average += PSNR_none\n",
        "    i+=1\n",
        "    #print(i)\n",
        "PSNR_average = PSNR_average/i\n",
        "print(\"---------------\")\n",
        "print(PSNR_average)"
      ],
      "execution_count": null,
      "outputs": [
        {
          "output_type": "stream",
          "text": [
            "---------------\n",
            "28.08280736507317\n"
          ],
          "name": "stdout"
        }
      ]
    },
    {
      "cell_type": "code",
      "metadata": {
        "id": "LbuVRfgNyRT6",
        "colab": {
          "base_uri": "https://localhost:8080/"
        },
        "outputId": "a65b48fa-1fcb-4816-843f-7fa64febb424"
      },
      "source": [
        "directory_real_class_4 = \"/content/gdrive/My Drive/Kaggle/randomly selected preprocessed/class 4/\"\n",
        "directory_fake = \"/content/gdrive/My Drive/img_retina_Kaggle_class_4_state_of_art_GAN/449/\"\n",
        "PSNR_average = 0\n",
        "i = 0\n",
        "for real_image in os.listdir(directory_real_class_4):\n",
        "  for fake_image in os.listdir(directory_fake):\n",
        "    img_real = cv2.imread(directory_real_class_4 + real_image)\n",
        "    img_fake = cv2.imread(directory_fake + fake_image)\n",
        "    img_real = cv2.resize(img_real, (128, 128))\n",
        "    img_fake = cv2.resize(img_fake, (128, 128))\n",
        "    PSNR_none = PSNR(img_real, img_fake)\n",
        "    PSNR_average += PSNR_none\n",
        "    i+=1\n",
        "    #print(i)\n",
        "PSNR_average = PSNR_average/i\n",
        "print(\"---------------\")\n",
        "print(PSNR_average)"
      ],
      "execution_count": null,
      "outputs": [
        {
          "output_type": "stream",
          "text": [
            "---------------\n",
            "28.072156058412315\n"
          ],
          "name": "stdout"
        }
      ]
    },
    {
      "cell_type": "code",
      "metadata": {
        "id": "KRBbj-teyRXq",
        "colab": {
          "base_uri": "https://localhost:8080/"
        },
        "outputId": "b8d9bed5-e1b4-4d92-9863-49a910822b09"
      },
      "source": [
        "directory_real_class_4 = \"/content/gdrive/My Drive/Kaggle/randomly selected preprocessed/class 4/\"\n",
        "directory_fake = \"/content/gdrive/My Drive/img_retina_Kaggle_class_4_state_of_art_GAN/459/\"\n",
        "PSNR_average = 0\n",
        "i = 0\n",
        "for real_image in os.listdir(directory_real_class_4):\n",
        "  for fake_image in os.listdir(directory_fake):\n",
        "    img_real = cv2.imread(directory_real_class_4 + real_image)\n",
        "    img_fake = cv2.imread(directory_fake + fake_image)\n",
        "    img_real = cv2.resize(img_real, (128, 128))\n",
        "    img_fake = cv2.resize(img_fake, (128, 128))\n",
        "    PSNR_none = PSNR(img_real, img_fake)\n",
        "    PSNR_average += PSNR_none\n",
        "    i+=1\n",
        "    #print(i)\n",
        "PSNR_average = PSNR_average/i\n",
        "print(\"---------------\")\n",
        "print(PSNR_average)"
      ],
      "execution_count": null,
      "outputs": [
        {
          "output_type": "stream",
          "text": [
            "---------------\n",
            "28.083321396708477\n"
          ],
          "name": "stdout"
        }
      ]
    },
    {
      "cell_type": "code",
      "metadata": {
        "id": "CpJT1Xw1yRa7",
        "colab": {
          "base_uri": "https://localhost:8080/"
        },
        "outputId": "991478e2-9e1c-4aac-bbe9-44ede7cc7966"
      },
      "source": [
        "directory_real_class_4 = \"/content/gdrive/My Drive/Kaggle/randomly selected preprocessed/class 4/\"\n",
        "directory_fake = \"/content/gdrive/My Drive/img_retina_Kaggle_class_4_state_of_art_GAN/469/\"\n",
        "PSNR_average = 0\n",
        "i = 0\n",
        "for real_image in os.listdir(directory_real_class_4):\n",
        "  for fake_image in os.listdir(directory_fake):\n",
        "    img_real = cv2.imread(directory_real_class_4 + real_image)\n",
        "    img_fake = cv2.imread(directory_fake + fake_image)\n",
        "    img_real = cv2.resize(img_real, (128, 128))\n",
        "    img_fake = cv2.resize(img_fake, (128, 128))\n",
        "    PSNR_none = PSNR(img_real, img_fake)\n",
        "    PSNR_average += PSNR_none\n",
        "    i+=1\n",
        "    #print(i)\n",
        "PSNR_average = PSNR_average/i\n",
        "print(\"---------------\")\n",
        "print(PSNR_average)"
      ],
      "execution_count": null,
      "outputs": [
        {
          "output_type": "stream",
          "text": [
            "---------------\n",
            "28.08192208173018\n"
          ],
          "name": "stdout"
        }
      ]
    },
    {
      "cell_type": "code",
      "metadata": {
        "id": "C-sg2D4YyReC",
        "colab": {
          "base_uri": "https://localhost:8080/"
        },
        "outputId": "9842cb09-1f1c-4740-90f4-68174d5d2717"
      },
      "source": [
        "directory_real_class_4 = \"/content/gdrive/My Drive/Kaggle/randomly selected preprocessed/class 4/\"\n",
        "directory_fake = \"/content/gdrive/My Drive/img_retina_Kaggle_class_4_state_of_art_GAN/479/\"\n",
        "PSNR_average = 0\n",
        "i = 0\n",
        "for real_image in os.listdir(directory_real_class_4):\n",
        "  for fake_image in os.listdir(directory_fake):\n",
        "    img_real = cv2.imread(directory_real_class_4 + real_image)\n",
        "    img_fake = cv2.imread(directory_fake + fake_image)\n",
        "    img_real = cv2.resize(img_real, (128, 128))\n",
        "    img_fake = cv2.resize(img_fake, (128, 128))\n",
        "    PSNR_none = PSNR(img_real, img_fake)\n",
        "    PSNR_average += PSNR_none\n",
        "    i+=1\n",
        "    #print(i)\n",
        "PSNR_average = PSNR_average/i\n",
        "print(\"---------------\")\n",
        "print(PSNR_average)"
      ],
      "execution_count": null,
      "outputs": [
        {
          "output_type": "stream",
          "text": [
            "---------------\n",
            "28.07539471637383\n"
          ],
          "name": "stdout"
        }
      ]
    },
    {
      "cell_type": "code",
      "metadata": {
        "id": "6-y_xMQvyRhR",
        "colab": {
          "base_uri": "https://localhost:8080/"
        },
        "outputId": "1eb01f17-b133-490e-a8a0-3bacb6d93b96"
      },
      "source": [
        "directory_real_class_4 = \"/content/gdrive/My Drive/Kaggle/randomly selected preprocessed/class 4/\"\n",
        "directory_fake = \"/content/gdrive/My Drive/img_retina_Kaggle_class_4_state_of_art_GAN/489/\"\n",
        "PSNR_average = 0\n",
        "i = 0\n",
        "for real_image in os.listdir(directory_real_class_4):\n",
        "  for fake_image in os.listdir(directory_fake):\n",
        "    img_real = cv2.imread(directory_real_class_4 + real_image)\n",
        "    img_fake = cv2.imread(directory_fake + fake_image)\n",
        "    img_real = cv2.resize(img_real, (128, 128))\n",
        "    img_fake = cv2.resize(img_fake, (128, 128))\n",
        "    PSNR_none = PSNR(img_real, img_fake)\n",
        "    PSNR_average += PSNR_none\n",
        "    i+=1\n",
        "    #print(i)\n",
        "PSNR_average = PSNR_average/i\n",
        "print(\"---------------\")\n",
        "print(PSNR_average)"
      ],
      "execution_count": null,
      "outputs": [
        {
          "output_type": "stream",
          "text": [
            "---------------\n",
            "28.068212831703\n"
          ],
          "name": "stdout"
        }
      ]
    },
    {
      "cell_type": "code",
      "metadata": {
        "id": "UWm9csrlyRjk",
        "colab": {
          "base_uri": "https://localhost:8080/"
        },
        "outputId": "b3a13788-9eed-4c8c-834a-312130de91a0"
      },
      "source": [
        "directory_real_class_4 = \"/content/gdrive/My Drive/Kaggle/randomly selected preprocessed/class 4/\"\n",
        "directory_fake = \"/content/gdrive/My Drive/img_retina_Kaggle_class_4_state_of_art_GAN/499/\"\n",
        "PSNR_average = 0\n",
        "i = 0\n",
        "for real_image in os.listdir(directory_real_class_4):\n",
        "  for fake_image in os.listdir(directory_fake):\n",
        "    img_real = cv2.imread(directory_real_class_4 + real_image)\n",
        "    img_fake = cv2.imread(directory_fake + fake_image)\n",
        "    img_real = cv2.resize(img_real, (128, 128))\n",
        "    img_fake = cv2.resize(img_fake, (128, 128))\n",
        "    PSNR_none = PSNR(img_real, img_fake)\n",
        "    PSNR_average += PSNR_none\n",
        "    i+=1\n",
        "    #print(i)\n",
        "PSNR_average = PSNR_average/i\n",
        "print(\"---------------\")\n",
        "print(PSNR_average)"
      ],
      "execution_count": null,
      "outputs": [
        {
          "output_type": "stream",
          "text": [
            "---------------\n",
            "28.077634369538174\n"
          ],
          "name": "stdout"
        }
      ]
    },
    {
      "cell_type": "code",
      "metadata": {
        "id": "9CNCXkEEyRmQ"
      },
      "source": [
        ""
      ],
      "execution_count": null,
      "outputs": []
    },
    {
      "cell_type": "code",
      "metadata": {
        "id": "8M2K5_gHyRpv"
      },
      "source": [
        ""
      ],
      "execution_count": null,
      "outputs": []
    }
  ]
}