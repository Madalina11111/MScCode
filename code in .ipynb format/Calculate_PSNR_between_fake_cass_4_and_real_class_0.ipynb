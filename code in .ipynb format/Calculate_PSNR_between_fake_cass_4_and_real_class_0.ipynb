{
  "nbformat": 4,
  "nbformat_minor": 0,
  "metadata": {
    "colab": {
      "name": "Calculate PSNR between fake cass 4 and real class 0.ipynb",
      "provenance": [],
      "collapsed_sections": []
    },
    "kernelspec": {
      "name": "python3",
      "display_name": "Python 3"
    },
    "language_info": {
      "name": "python"
    }
  },
  "cells": [
    {
      "cell_type": "code",
      "metadata": {
        "id": "B9T9LxjY64qz"
      },
      "source": [
        "from math import log10, sqrt\n",
        "import cv2\n",
        "import numpy as np\n",
        "import os"
      ],
      "execution_count": null,
      "outputs": []
    },
    {
      "cell_type": "code",
      "metadata": {
        "colab": {
          "base_uri": "https://localhost:8080/"
        },
        "id": "I4R8305n7ESP",
        "outputId": "6223d38a-81de-4022-dcb1-a7a287d52cf1"
      },
      "source": [
        "from google.colab import drive\n",
        "drive.mount('/content/gdrive')"
      ],
      "execution_count": null,
      "outputs": [
        {
          "output_type": "stream",
          "text": [
            "Mounted at /content/gdrive\n"
          ],
          "name": "stdout"
        }
      ]
    },
    {
      "cell_type": "code",
      "metadata": {
        "id": "MfCgXe9V6yMJ"
      },
      "source": [
        "def PSNR(original, to_compare_with):\n",
        "    mse = np.mean((original - to_compare_with) ** 2)\n",
        "    if(mse == 0):\n",
        "        return 100\n",
        "    max_pixel = 255.0\n",
        "    psnr = 20 * log10(max_pixel / sqrt(mse))\n",
        "    return psnr"
      ],
      "execution_count": null,
      "outputs": []
    },
    {
      "cell_type": "code",
      "metadata": {
        "colab": {
          "base_uri": "https://localhost:8080/"
        },
        "id": "MzAdT1zc7Jgh",
        "outputId": "01518c3f-9699-446a-d456-90561a156ff0"
      },
      "source": [
        "directory_real_class_4 = \"/content/gdrive/My Drive/Kaggle/randomly selected preprocessed/class 0/\"\n",
        "directory_fake = \"/content/gdrive/My Drive/img_retina_Kaggle_class_4_state_of_art_GAN/9/\"\n",
        "PSNR_average = 0\n",
        "i = 0\n",
        "for real_image in os.listdir(directory_real_class_4):\n",
        "  for fake_image in os.listdir(directory_fake):\n",
        "    img_real = cv2.imread(directory_real_class_4 + real_image)\n",
        "    img_fake = cv2.imread(directory_fake + fake_image)\n",
        "    img_real = cv2.resize(img_real, (128, 128))\n",
        "    img_fake = cv2.resize(img_fake, (128, 128))\n",
        "    PSNR_none = PSNR(img_real, img_fake)\n",
        "    PSNR_average += PSNR_none\n",
        "    i+=1\n",
        "    #print(i)\n",
        "PSNR_average = PSNR_average/i\n",
        "print(\"---------------\")\n",
        "print(PSNR_average)"
      ],
      "execution_count": null,
      "outputs": [
        {
          "output_type": "stream",
          "text": [
            "---------------\n",
            "28.4794411246136\n"
          ],
          "name": "stdout"
        }
      ]
    },
    {
      "cell_type": "code",
      "metadata": {
        "colab": {
          "base_uri": "https://localhost:8080/"
        },
        "id": "bP5einoYu5gD",
        "outputId": "a1a1aa85-7778-442b-c6f8-7ea7835d16f4"
      },
      "source": [
        "directory_real_class_4 = \"/content/gdrive/My Drive/Kaggle/randomly selected preprocessed/class 0/\"\n",
        "directory_fake = \"/content/gdrive/My Drive/img_retina_Kaggle_class_4_state_of_art_GAN/19/\"\n",
        "PSNR_average = 0\n",
        "i = 0\n",
        "for real_image in os.listdir(directory_real_class_4):\n",
        "  for fake_image in os.listdir(directory_fake):\n",
        "    img_real = cv2.imread(directory_real_class_4 + real_image)\n",
        "    img_fake = cv2.imread(directory_fake + fake_image)\n",
        "    img_real = cv2.resize(img_real, (128, 128))\n",
        "    img_fake = cv2.resize(img_fake, (128, 128))\n",
        "    PSNR_none = PSNR(img_real, img_fake)\n",
        "    PSNR_average += PSNR_none\n",
        "    i+=1\n",
        "    #print(i)\n",
        "PSNR_average = PSNR_average/i\n",
        "print(\"---------------\")\n",
        "print(PSNR_average)"
      ],
      "execution_count": null,
      "outputs": [
        {
          "output_type": "stream",
          "text": [
            "---------------\n",
            "28.327697517772563\n"
          ],
          "name": "stdout"
        }
      ]
    },
    {
      "cell_type": "code",
      "metadata": {
        "colab": {
          "base_uri": "https://localhost:8080/"
        },
        "id": "wMDwKBJ6xA47",
        "outputId": "48fca445-9ca8-4586-fa87-516b35c56be1"
      },
      "source": [
        "directory_real_class_4 = \"/content/gdrive/My Drive/Kaggle/randomly selected preprocessed/class 0/\"\n",
        "directory_fake = \"/content/gdrive/My Drive/img_retina_Kaggle_class_4_state_of_art_GAN/29/\"\n",
        "PSNR_average = 0\n",
        "i = 0\n",
        "for real_image in os.listdir(directory_real_class_4):\n",
        "  for fake_image in os.listdir(directory_fake):\n",
        "    img_real = cv2.imread(directory_real_class_4 + real_image)\n",
        "    img_fake = cv2.imread(directory_fake + fake_image)\n",
        "    img_real = cv2.resize(img_real, (128, 128))\n",
        "    img_fake = cv2.resize(img_fake, (128, 128))\n",
        "    PSNR_none = PSNR(img_real, img_fake)\n",
        "    PSNR_average += PSNR_none\n",
        "    i+=1\n",
        "    #print(i)\n",
        "PSNR_average = PSNR_average/i\n",
        "print(\"---------------\")\n",
        "print(PSNR_average)"
      ],
      "execution_count": null,
      "outputs": [
        {
          "output_type": "stream",
          "text": [
            "---------------\n",
            "28.33130460759808\n"
          ],
          "name": "stdout"
        }
      ]
    },
    {
      "cell_type": "code",
      "metadata": {
        "colab": {
          "base_uri": "https://localhost:8080/"
        },
        "id": "KcIm71-fxBeH",
        "outputId": "1b357dbf-982d-4479-9f72-c7b1c3a7e5f9"
      },
      "source": [
        "directory_real_class_4 = \"/content/gdrive/My Drive/Kaggle/randomly selected preprocessed/class 0/\"\n",
        "directory_fake = \"/content/gdrive/My Drive/img_retina_Kaggle_class_4_state_of_art_GAN/39/\"\n",
        "PSNR_average = 0\n",
        "i = 0\n",
        "for real_image in os.listdir(directory_real_class_4):\n",
        "  for fake_image in os.listdir(directory_fake):\n",
        "    img_real = cv2.imread(directory_real_class_4 + real_image)\n",
        "    img_fake = cv2.imread(directory_fake + fake_image)\n",
        "    img_real = cv2.resize(img_real, (128, 128))\n",
        "    img_fake = cv2.resize(img_fake, (128, 128))\n",
        "    PSNR_none = PSNR(img_real, img_fake)\n",
        "    PSNR_average += PSNR_none\n",
        "    i+=1\n",
        "    #print(i)\n",
        "PSNR_average = PSNR_average/i\n",
        "print(\"---------------\")\n",
        "print(PSNR_average)"
      ],
      "execution_count": null,
      "outputs": [
        {
          "output_type": "stream",
          "text": [
            "---------------\n",
            "28.253257959937397\n"
          ],
          "name": "stdout"
        }
      ]
    },
    {
      "cell_type": "code",
      "metadata": {
        "colab": {
          "base_uri": "https://localhost:8080/"
        },
        "id": "tbEIPBoXxB7w",
        "outputId": "d3d8bb2f-0c25-4f93-deb0-b9f0e9b9d89d"
      },
      "source": [
        "directory_real_class_4 = \"/content/gdrive/My Drive/Kaggle/randomly selected preprocessed/class 0/\"\n",
        "directory_fake = \"/content/gdrive/My Drive/img_retina_Kaggle_class_4_state_of_art_GAN/49/\"\n",
        "PSNR_average = 0\n",
        "i = 0\n",
        "for real_image in os.listdir(directory_real_class_4):\n",
        "  for fake_image in os.listdir(directory_fake):\n",
        "    img_real = cv2.imread(directory_real_class_4 + real_image)\n",
        "    img_fake = cv2.imread(directory_fake + fake_image)\n",
        "    img_real = cv2.resize(img_real, (128, 128))\n",
        "    img_fake = cv2.resize(img_fake, (128, 128))\n",
        "    PSNR_none = PSNR(img_real, img_fake)\n",
        "    PSNR_average += PSNR_none\n",
        "    i+=1\n",
        "    #print(i)\n",
        "PSNR_average = PSNR_average/i\n",
        "print(\"---------------\")\n",
        "print(PSNR_average)"
      ],
      "execution_count": null,
      "outputs": [
        {
          "output_type": "stream",
          "text": [
            "---------------\n",
            "28.12987616741463\n"
          ],
          "name": "stdout"
        }
      ]
    },
    {
      "cell_type": "code",
      "metadata": {
        "colab": {
          "base_uri": "https://localhost:8080/"
        },
        "id": "59_e3PnFxCle",
        "outputId": "a4d7903c-8904-4c04-fd6b-bfd7a80835a9"
      },
      "source": [
        "directory_real_class_4 = \"/content/gdrive/My Drive/Kaggle/randomly selected preprocessed/class 0/\"\n",
        "directory_fake = \"/content/gdrive/My Drive/img_retina_Kaggle_class_4_state_of_art_GAN/59/\"\n",
        "PSNR_average = 0\n",
        "i = 0\n",
        "for real_image in os.listdir(directory_real_class_4):\n",
        "  for fake_image in os.listdir(directory_fake):\n",
        "    img_real = cv2.imread(directory_real_class_4 + real_image)\n",
        "    img_fake = cv2.imread(directory_fake + fake_image)\n",
        "    img_real = cv2.resize(img_real, (128, 128))\n",
        "    img_fake = cv2.resize(img_fake, (128, 128))\n",
        "    PSNR_none = PSNR(img_real, img_fake)\n",
        "    PSNR_average += PSNR_none\n",
        "    i+=1\n",
        "    #print(i)\n",
        "PSNR_average = PSNR_average/i\n",
        "print(\"---------------\")\n",
        "print(PSNR_average)"
      ],
      "execution_count": null,
      "outputs": [
        {
          "output_type": "stream",
          "text": [
            "---------------\n",
            "28.157458070629367\n"
          ],
          "name": "stdout"
        }
      ]
    },
    {
      "cell_type": "code",
      "metadata": {
        "colab": {
          "base_uri": "https://localhost:8080/"
        },
        "id": "8ye_5KdzxC8f",
        "outputId": "02285452-2fe6-4263-a8cb-b19ab539736b"
      },
      "source": [
        "directory_real_class_4 = \"/content/gdrive/My Drive/Kaggle/randomly selected preprocessed/class 0/\"\n",
        "directory_fake = \"/content/gdrive/My Drive/img_retina_Kaggle_class_4_state_of_art_GAN/69/\"\n",
        "PSNR_average = 0\n",
        "i = 0\n",
        "for real_image in os.listdir(directory_real_class_4):\n",
        "  for fake_image in os.listdir(directory_fake):\n",
        "    img_real = cv2.imread(directory_real_class_4 + real_image)\n",
        "    img_fake = cv2.imread(directory_fake + fake_image)\n",
        "    img_real = cv2.resize(img_real, (128, 128))\n",
        "    img_fake = cv2.resize(img_fake, (128, 128))\n",
        "    PSNR_none = PSNR(img_real, img_fake)\n",
        "    PSNR_average += PSNR_none\n",
        "    i+=1\n",
        "    #print(i)\n",
        "PSNR_average = PSNR_average/i\n",
        "print(\"---------------\")\n",
        "print(PSNR_average)"
      ],
      "execution_count": null,
      "outputs": [
        {
          "output_type": "stream",
          "text": [
            "---------------\n",
            "28.148380882163703\n"
          ],
          "name": "stdout"
        }
      ]
    },
    {
      "cell_type": "code",
      "metadata": {
        "colab": {
          "base_uri": "https://localhost:8080/"
        },
        "id": "VxlJXLA6xDSq",
        "outputId": "27c73d01-e989-4827-f405-559fa83306b5"
      },
      "source": [
        "directory_real_class_4 = \"/content/gdrive/My Drive/Kaggle/randomly selected preprocessed/class 0/\"\n",
        "directory_fake = \"/content/gdrive/My Drive/img_retina_Kaggle_class_4_state_of_art_GAN/79/\"\n",
        "PSNR_average = 0\n",
        "i = 0\n",
        "for real_image in os.listdir(directory_real_class_4):\n",
        "  for fake_image in os.listdir(directory_fake):\n",
        "    img_real = cv2.imread(directory_real_class_4 + real_image)\n",
        "    img_fake = cv2.imread(directory_fake + fake_image)\n",
        "    img_real = cv2.resize(img_real, (128, 128))\n",
        "    img_fake = cv2.resize(img_fake, (128, 128))\n",
        "    PSNR_none = PSNR(img_real, img_fake)\n",
        "    PSNR_average += PSNR_none\n",
        "    i+=1\n",
        "    #print(i)\n",
        "PSNR_average = PSNR_average/i\n",
        "print(\"---------------\")\n",
        "print(PSNR_average)"
      ],
      "execution_count": null,
      "outputs": [
        {
          "output_type": "stream",
          "text": [
            "---------------\n",
            "28.133898177634144\n"
          ],
          "name": "stdout"
        }
      ]
    },
    {
      "cell_type": "code",
      "metadata": {
        "colab": {
          "base_uri": "https://localhost:8080/"
        },
        "id": "yaSCm2S_xDoV",
        "outputId": "27c347e9-623a-4ee8-83eb-f8387450082c"
      },
      "source": [
        "directory_real_class_4 = \"/content/gdrive/My Drive/Kaggle/randomly selected preprocessed/class 0/\"\n",
        "directory_fake = \"/content/gdrive/My Drive/img_retina_Kaggle_class_4_state_of_art_GAN/89/\"\n",
        "PSNR_average = 0\n",
        "i = 0\n",
        "for real_image in os.listdir(directory_real_class_4):\n",
        "  for fake_image in os.listdir(directory_fake):\n",
        "    img_real = cv2.imread(directory_real_class_4 + real_image)\n",
        "    img_fake = cv2.imread(directory_fake + fake_image)\n",
        "    img_real = cv2.resize(img_real, (128, 128))\n",
        "    img_fake = cv2.resize(img_fake, (128, 128))\n",
        "    PSNR_none = PSNR(img_real, img_fake)\n",
        "    PSNR_average += PSNR_none\n",
        "    i+=1\n",
        "    #print(i)\n",
        "PSNR_average = PSNR_average/i\n",
        "print(\"---------------\")\n",
        "print(PSNR_average)"
      ],
      "execution_count": null,
      "outputs": [
        {
          "output_type": "stream",
          "text": [
            "---------------\n",
            "28.0972104726966\n"
          ],
          "name": "stdout"
        }
      ]
    },
    {
      "cell_type": "code",
      "metadata": {
        "colab": {
          "base_uri": "https://localhost:8080/"
        },
        "id": "pqgWLvaqxD8a",
        "outputId": "4a69a48c-5db9-4a1f-80af-89512eb0f572"
      },
      "source": [
        "directory_real_class_4 = \"/content/gdrive/My Drive/Kaggle/randomly selected preprocessed/class 0/\"\n",
        "directory_fake = \"/content/gdrive/My Drive/img_retina_Kaggle_class_4_state_of_art_GAN/99/\"\n",
        "PSNR_average = 0\n",
        "i = 0\n",
        "for real_image in os.listdir(directory_real_class_4):\n",
        "  for fake_image in os.listdir(directory_fake):\n",
        "    img_real = cv2.imread(directory_real_class_4 + real_image)\n",
        "    img_fake = cv2.imread(directory_fake + fake_image)\n",
        "    img_real = cv2.resize(img_real, (128, 128))\n",
        "    img_fake = cv2.resize(img_fake, (128, 128))\n",
        "    PSNR_none = PSNR(img_real, img_fake)\n",
        "    PSNR_average += PSNR_none\n",
        "    i+=1\n",
        "    #print(i)\n",
        "PSNR_average = PSNR_average/i\n",
        "print(\"---------------\")\n",
        "print(PSNR_average)"
      ],
      "execution_count": null,
      "outputs": [
        {
          "output_type": "stream",
          "text": [
            "---------------\n",
            "28.085945114743136\n"
          ],
          "name": "stdout"
        }
      ]
    },
    {
      "cell_type": "code",
      "metadata": {
        "colab": {
          "base_uri": "https://localhost:8080/"
        },
        "id": "tfrz7fy7xEPy",
        "outputId": "d6f6c5d6-c119-4442-aecf-50547e22bc5d"
      },
      "source": [
        "directory_real_class_4 = \"/content/gdrive/My Drive/Kaggle/randomly selected preprocessed/class 0/\"\n",
        "directory_fake = \"/content/gdrive/My Drive/img_retina_Kaggle_class_4_state_of_art_GAN/109/\"\n",
        "PSNR_average = 0\n",
        "i = 0\n",
        "for real_image in os.listdir(directory_real_class_4):\n",
        "  for fake_image in os.listdir(directory_fake):\n",
        "    img_real = cv2.imread(directory_real_class_4 + real_image)\n",
        "    img_fake = cv2.imread(directory_fake + fake_image)\n",
        "    img_real = cv2.resize(img_real, (128, 128))\n",
        "    img_fake = cv2.resize(img_fake, (128, 128))\n",
        "    PSNR_none = PSNR(img_real, img_fake)\n",
        "    PSNR_average += PSNR_none\n",
        "    i+=1\n",
        "    #print(i)\n",
        "PSNR_average = PSNR_average/i\n",
        "print(\"---------------\")\n",
        "print(PSNR_average)"
      ],
      "execution_count": null,
      "outputs": [
        {
          "output_type": "stream",
          "text": [
            "---------------\n",
            "28.100922475773597\n"
          ],
          "name": "stdout"
        }
      ]
    },
    {
      "cell_type": "code",
      "metadata": {
        "colab": {
          "base_uri": "https://localhost:8080/"
        },
        "id": "0kIRJph9xE6y",
        "outputId": "ae75f61d-82a6-44d9-b6b5-ee6375fb05cc"
      },
      "source": [
        "directory_real_class_4 = \"/content/gdrive/My Drive/Kaggle/randomly selected preprocessed/class 0/\"\n",
        "directory_fake = \"/content/gdrive/My Drive/img_retina_Kaggle_class_4_state_of_art_GAN/119/\"\n",
        "PSNR_average = 0\n",
        "i = 0\n",
        "for real_image in os.listdir(directory_real_class_4):\n",
        "  for fake_image in os.listdir(directory_fake):\n",
        "    img_real = cv2.imread(directory_real_class_4 + real_image)\n",
        "    img_fake = cv2.imread(directory_fake + fake_image)\n",
        "    img_real = cv2.resize(img_real, (128, 128))\n",
        "    img_fake = cv2.resize(img_fake, (128, 128))\n",
        "    PSNR_none = PSNR(img_real, img_fake)\n",
        "    PSNR_average += PSNR_none\n",
        "    i+=1\n",
        "    #print(i)\n",
        "PSNR_average = PSNR_average/i\n",
        "print(\"---------------\")\n",
        "print(PSNR_average)"
      ],
      "execution_count": null,
      "outputs": [
        {
          "output_type": "stream",
          "text": [
            "---------------\n",
            "28.083441210103626\n"
          ],
          "name": "stdout"
        }
      ]
    },
    {
      "cell_type": "code",
      "metadata": {
        "colab": {
          "base_uri": "https://localhost:8080/"
        },
        "id": "N1KV4xl4xGFI",
        "outputId": "cc4d2ca2-f541-46c1-8564-62849b7257e3"
      },
      "source": [
        "directory_real_class_4 = \"/content/gdrive/My Drive/Kaggle/randomly selected preprocessed/class 0/\"\n",
        "directory_fake = \"/content/gdrive/My Drive/img_retina_Kaggle_class_4_state_of_art_GAN/129/\"\n",
        "PSNR_average = 0\n",
        "i = 0\n",
        "for real_image in os.listdir(directory_real_class_4):\n",
        "  for fake_image in os.listdir(directory_fake):\n",
        "    img_real = cv2.imread(directory_real_class_4 + real_image)\n",
        "    img_fake = cv2.imread(directory_fake + fake_image)\n",
        "    img_real = cv2.resize(img_real, (128, 128))\n",
        "    img_fake = cv2.resize(img_fake, (128, 128))\n",
        "    PSNR_none = PSNR(img_real, img_fake)\n",
        "    PSNR_average += PSNR_none\n",
        "    i+=1\n",
        "    #print(i)\n",
        "PSNR_average = PSNR_average/i\n",
        "print(\"---------------\")\n",
        "print(PSNR_average)"
      ],
      "execution_count": null,
      "outputs": [
        {
          "output_type": "stream",
          "text": [
            "---------------\n",
            "28.07500607931697\n"
          ],
          "name": "stdout"
        }
      ]
    },
    {
      "cell_type": "code",
      "metadata": {
        "colab": {
          "base_uri": "https://localhost:8080/"
        },
        "id": "P7hDmKSLxGba",
        "outputId": "2133c4dc-60b4-443a-ead1-94e9876464d3"
      },
      "source": [
        "directory_real_class_4 = \"/content/gdrive/My Drive/Kaggle/randomly selected preprocessed/class 0/\"\n",
        "directory_fake = \"/content/gdrive/My Drive/img_retina_Kaggle_class_4_state_of_art_GAN/139/\"\n",
        "PSNR_average = 0\n",
        "i = 0\n",
        "for real_image in os.listdir(directory_real_class_4):\n",
        "  for fake_image in os.listdir(directory_fake):\n",
        "    img_real = cv2.imread(directory_real_class_4 + real_image)\n",
        "    img_fake = cv2.imread(directory_fake + fake_image)\n",
        "    img_real = cv2.resize(img_real, (128, 128))\n",
        "    img_fake = cv2.resize(img_fake, (128, 128))\n",
        "    PSNR_none = PSNR(img_real, img_fake)\n",
        "    PSNR_average += PSNR_none\n",
        "    i+=1\n",
        "    #print(i)\n",
        "PSNR_average = PSNR_average/i\n",
        "print(\"---------------\")\n",
        "print(PSNR_average)"
      ],
      "execution_count": null,
      "outputs": [
        {
          "output_type": "stream",
          "text": [
            "---------------\n",
            "28.081418063201717\n"
          ],
          "name": "stdout"
        }
      ]
    },
    {
      "cell_type": "code",
      "metadata": {
        "colab": {
          "base_uri": "https://localhost:8080/"
        },
        "id": "gjTM3y96xG4e",
        "outputId": "cb597f01-7bcd-4211-807d-5a8702aa746a"
      },
      "source": [
        "directory_real_class_4 = \"/content/gdrive/My Drive/Kaggle/randomly selected preprocessed/class 0/\"\n",
        "directory_fake = \"/content/gdrive/My Drive/img_retina_Kaggle_class_4_state_of_art_GAN/149/\"\n",
        "PSNR_average = 0\n",
        "i = 0\n",
        "for real_image in os.listdir(directory_real_class_4):\n",
        "  for fake_image in os.listdir(directory_fake):\n",
        "    img_real = cv2.imread(directory_real_class_4 + real_image)\n",
        "    img_fake = cv2.imread(directory_fake + fake_image)\n",
        "    img_real = cv2.resize(img_real, (128, 128))\n",
        "    img_fake = cv2.resize(img_fake, (128, 128))\n",
        "    PSNR_none = PSNR(img_real, img_fake)\n",
        "    PSNR_average += PSNR_none\n",
        "    i+=1\n",
        "    #print(i)\n",
        "PSNR_average = PSNR_average/i\n",
        "print(\"---------------\")\n",
        "print(PSNR_average)"
      ],
      "execution_count": null,
      "outputs": [
        {
          "output_type": "stream",
          "text": [
            "---------------\n",
            "28.085738079034343\n"
          ],
          "name": "stdout"
        }
      ]
    },
    {
      "cell_type": "code",
      "metadata": {
        "colab": {
          "base_uri": "https://localhost:8080/"
        },
        "id": "6C7tk-mXxVSO",
        "outputId": "6a891e62-44f4-44c1-c13e-102d531f7c49"
      },
      "source": [
        "directory_real_class_4 = \"/content/gdrive/My Drive/Kaggle/randomly selected preprocessed/class 0/\"\n",
        "directory_fake = \"/content/gdrive/My Drive/img_retina_Kaggle_class_4_state_of_art_GAN/159/\"\n",
        "PSNR_average = 0\n",
        "i = 0\n",
        "for real_image in os.listdir(directory_real_class_4):\n",
        "  for fake_image in os.listdir(directory_fake):\n",
        "    img_real = cv2.imread(directory_real_class_4 + real_image)\n",
        "    img_fake = cv2.imread(directory_fake + fake_image)\n",
        "    img_real = cv2.resize(img_real, (128, 128))\n",
        "    img_fake = cv2.resize(img_fake, (128, 128))\n",
        "    PSNR_none = PSNR(img_real, img_fake)\n",
        "    PSNR_average += PSNR_none\n",
        "    i+=1\n",
        "    #print(i)\n",
        "PSNR_average = PSNR_average/i\n",
        "print(\"---------------\")\n",
        "print(PSNR_average)"
      ],
      "execution_count": null,
      "outputs": [
        {
          "output_type": "stream",
          "text": [
            "---------------\n",
            "28.088210282737993\n"
          ],
          "name": "stdout"
        }
      ]
    },
    {
      "cell_type": "code",
      "metadata": {
        "colab": {
          "base_uri": "https://localhost:8080/"
        },
        "id": "YG8qL6CIxVdd",
        "outputId": "24c27170-a745-4188-f883-f93afedd983f"
      },
      "source": [
        "directory_real_class_4 = \"/content/gdrive/My Drive/Kaggle/randomly selected preprocessed/class 0/\"\n",
        "directory_fake = \"/content/gdrive/My Drive/img_retina_Kaggle_class_4_state_of_art_GAN/169/\"\n",
        "PSNR_average = 0\n",
        "i = 0\n",
        "for real_image in os.listdir(directory_real_class_4):\n",
        "  for fake_image in os.listdir(directory_fake):\n",
        "    img_real = cv2.imread(directory_real_class_4 + real_image)\n",
        "    img_fake = cv2.imread(directory_fake + fake_image)\n",
        "    img_real = cv2.resize(img_real, (128, 128))\n",
        "    img_fake = cv2.resize(img_fake, (128, 128))\n",
        "    PSNR_none = PSNR(img_real, img_fake)\n",
        "    PSNR_average += PSNR_none\n",
        "    i+=1\n",
        "    #print(i)\n",
        "PSNR_average = PSNR_average/i\n",
        "print(\"---------------\")\n",
        "print(PSNR_average)"
      ],
      "execution_count": null,
      "outputs": [
        {
          "output_type": "stream",
          "text": [
            "---------------\n",
            "28.091537933162147\n"
          ],
          "name": "stdout"
        }
      ]
    },
    {
      "cell_type": "code",
      "metadata": {
        "colab": {
          "base_uri": "https://localhost:8080/"
        },
        "id": "Ccd_vlzmxVhv",
        "outputId": "a5d61d5f-7b03-4222-ec64-f49a890b82e3"
      },
      "source": [
        "directory_real_class_4 = \"/content/gdrive/My Drive/Kaggle/randomly selected preprocessed/class 0/\"\n",
        "directory_fake = \"/content/gdrive/My Drive/img_retina_Kaggle_class_4_state_of_art_GAN/179/\"\n",
        "PSNR_average = 0\n",
        "i = 0\n",
        "for real_image in os.listdir(directory_real_class_4):\n",
        "  for fake_image in os.listdir(directory_fake):\n",
        "    img_real = cv2.imread(directory_real_class_4 + real_image)\n",
        "    img_fake = cv2.imread(directory_fake + fake_image)\n",
        "    img_real = cv2.resize(img_real, (128, 128))\n",
        "    img_fake = cv2.resize(img_fake, (128, 128))\n",
        "    PSNR_none = PSNR(img_real, img_fake)\n",
        "    PSNR_average += PSNR_none\n",
        "    i+=1\n",
        "    #print(i)\n",
        "PSNR_average = PSNR_average/i\n",
        "print(\"---------------\")\n",
        "print(PSNR_average)"
      ],
      "execution_count": null,
      "outputs": [
        {
          "output_type": "stream",
          "text": [
            "---------------\n",
            "28.096868781659186\n"
          ],
          "name": "stdout"
        }
      ]
    },
    {
      "cell_type": "code",
      "metadata": {
        "colab": {
          "base_uri": "https://localhost:8080/"
        },
        "id": "IjtwX928xVkt",
        "outputId": "32f55a0f-5054-4c61-f683-4aaa46aff0a1"
      },
      "source": [
        "directory_real_class_4 = \"/content/gdrive/My Drive/Kaggle/randomly selected preprocessed/class 0/\"\n",
        "directory_fake = \"/content/gdrive/My Drive/img_retina_Kaggle_class_4_state_of_art_GAN/189/\"\n",
        "PSNR_average = 0\n",
        "i = 0\n",
        "for real_image in os.listdir(directory_real_class_4):\n",
        "  for fake_image in os.listdir(directory_fake):\n",
        "    img_real = cv2.imread(directory_real_class_4 + real_image)\n",
        "    img_fake = cv2.imread(directory_fake + fake_image)\n",
        "    img_real = cv2.resize(img_real, (128, 128))\n",
        "    img_fake = cv2.resize(img_fake, (128, 128))\n",
        "    PSNR_none = PSNR(img_real, img_fake)\n",
        "    PSNR_average += PSNR_none\n",
        "    i+=1\n",
        "    #print(i)\n",
        "PSNR_average = PSNR_average/i\n",
        "print(\"---------------\")\n",
        "print(PSNR_average)"
      ],
      "execution_count": null,
      "outputs": [
        {
          "output_type": "stream",
          "text": [
            "---------------\n",
            "28.106611408260978\n"
          ],
          "name": "stdout"
        }
      ]
    },
    {
      "cell_type": "code",
      "metadata": {
        "colab": {
          "base_uri": "https://localhost:8080/"
        },
        "id": "raZoJYUuxVn-",
        "outputId": "c64c1c41-25ff-4bea-de2c-db03d4d77d79"
      },
      "source": [
        "directory_real_class_4 = \"/content/gdrive/My Drive/Kaggle/randomly selected preprocessed/class 0/\"\n",
        "directory_fake = \"/content/gdrive/My Drive/img_retina_Kaggle_class_4_state_of_art_GAN/199/\"\n",
        "PSNR_average = 0\n",
        "i = 0\n",
        "for real_image in os.listdir(directory_real_class_4):\n",
        "  for fake_image in os.listdir(directory_fake):\n",
        "    img_real = cv2.imread(directory_real_class_4 + real_image)\n",
        "    img_fake = cv2.imread(directory_fake + fake_image)\n",
        "    img_real = cv2.resize(img_real, (128, 128))\n",
        "    img_fake = cv2.resize(img_fake, (128, 128))\n",
        "    PSNR_none = PSNR(img_real, img_fake)\n",
        "    PSNR_average += PSNR_none\n",
        "    i+=1\n",
        "    #print(i)\n",
        "PSNR_average = PSNR_average/i\n",
        "print(\"---------------\")\n",
        "print(PSNR_average)"
      ],
      "execution_count": null,
      "outputs": [
        {
          "output_type": "stream",
          "text": [
            "---------------\n",
            "28.11089012100331\n"
          ],
          "name": "stdout"
        }
      ]
    },
    {
      "cell_type": "code",
      "metadata": {
        "colab": {
          "base_uri": "https://localhost:8080/"
        },
        "id": "rmbqOSTkxVqx",
        "outputId": "c51bdb62-40ac-4795-8305-0023e17951fc"
      },
      "source": [
        "directory_real_class_4 = \"/content/gdrive/My Drive/Kaggle/randomly selected preprocessed/class 0/\"\n",
        "directory_fake = \"/content/gdrive/My Drive/img_retina_Kaggle_class_4_state_of_art_GAN/209/\"\n",
        "PSNR_average = 0\n",
        "i = 0\n",
        "for real_image in os.listdir(directory_real_class_4):\n",
        "  for fake_image in os.listdir(directory_fake):\n",
        "    img_real = cv2.imread(directory_real_class_4 + real_image)\n",
        "    img_fake = cv2.imread(directory_fake + fake_image)\n",
        "    img_real = cv2.resize(img_real, (128, 128))\n",
        "    img_fake = cv2.resize(img_fake, (128, 128))\n",
        "    PSNR_none = PSNR(img_real, img_fake)\n",
        "    PSNR_average += PSNR_none\n",
        "    i+=1\n",
        "    #print(i)\n",
        "PSNR_average = PSNR_average/i\n",
        "print(\"---------------\")\n",
        "print(PSNR_average)"
      ],
      "execution_count": null,
      "outputs": [
        {
          "output_type": "stream",
          "text": [
            "---------------\n",
            "28.110556771646813\n"
          ],
          "name": "stdout"
        }
      ]
    },
    {
      "cell_type": "code",
      "metadata": {
        "colab": {
          "base_uri": "https://localhost:8080/"
        },
        "id": "HCF1QHtyxVte",
        "outputId": "160e0ff2-0a48-41bd-c349-acca39756500"
      },
      "source": [
        "directory_real_class_4 = \"/content/gdrive/My Drive/Kaggle/randomly selected preprocessed/class 0/\"\n",
        "directory_fake = \"/content/gdrive/My Drive/img_retina_Kaggle_class_4_state_of_art_GAN/219/\"\n",
        "PSNR_average = 0\n",
        "i = 0\n",
        "for real_image in os.listdir(directory_real_class_4):\n",
        "  for fake_image in os.listdir(directory_fake):\n",
        "    img_real = cv2.imread(directory_real_class_4 + real_image)\n",
        "    img_fake = cv2.imread(directory_fake + fake_image)\n",
        "    img_real = cv2.resize(img_real, (128, 128))\n",
        "    img_fake = cv2.resize(img_fake, (128, 128))\n",
        "    PSNR_none = PSNR(img_real, img_fake)\n",
        "    PSNR_average += PSNR_none\n",
        "    i+=1\n",
        "    #print(i)\n",
        "PSNR_average = PSNR_average/i\n",
        "print(\"---------------\")\n",
        "print(PSNR_average)"
      ],
      "execution_count": null,
      "outputs": [
        {
          "output_type": "stream",
          "text": [
            "---------------\n",
            "28.112464800355667\n"
          ],
          "name": "stdout"
        }
      ]
    },
    {
      "cell_type": "code",
      "metadata": {
        "colab": {
          "base_uri": "https://localhost:8080/"
        },
        "id": "mOEH9P-fxVwO",
        "outputId": "d4250377-3c9b-48b8-87dd-de6dce1f7d27"
      },
      "source": [
        "directory_real_class_4 = \"/content/gdrive/My Drive/Kaggle/randomly selected preprocessed/class 0/\"\n",
        "directory_fake = \"/content/gdrive/My Drive/img_retina_Kaggle_class_4_state_of_art_GAN/229/\"\n",
        "PSNR_average = 0\n",
        "i = 0\n",
        "for real_image in os.listdir(directory_real_class_4):\n",
        "  for fake_image in os.listdir(directory_fake):\n",
        "    img_real = cv2.imread(directory_real_class_4 + real_image)\n",
        "    img_fake = cv2.imread(directory_fake + fake_image)\n",
        "    img_real = cv2.resize(img_real, (128, 128))\n",
        "    img_fake = cv2.resize(img_fake, (128, 128))\n",
        "    PSNR_none = PSNR(img_real, img_fake)\n",
        "    PSNR_average += PSNR_none\n",
        "    i+=1\n",
        "    #print(i)\n",
        "PSNR_average = PSNR_average/i\n",
        "print(\"---------------\")\n",
        "print(PSNR_average)"
      ],
      "execution_count": null,
      "outputs": [
        {
          "output_type": "stream",
          "text": [
            "---------------\n",
            "28.10560245826454\n"
          ],
          "name": "stdout"
        }
      ]
    },
    {
      "cell_type": "code",
      "metadata": {
        "colab": {
          "base_uri": "https://localhost:8080/"
        },
        "id": "j0zCT8cFxVzO",
        "outputId": "bd375bda-7260-402a-a3c5-503735152fb6"
      },
      "source": [
        "directory_real_class_4 = \"/content/gdrive/My Drive/Kaggle/randomly selected preprocessed/class 0/\"\n",
        "directory_fake = \"/content/gdrive/My Drive/img_retina_Kaggle_class_4_state_of_art_GAN/239/\"\n",
        "PSNR_average = 0\n",
        "i = 0\n",
        "for real_image in os.listdir(directory_real_class_4):\n",
        "  for fake_image in os.listdir(directory_fake):\n",
        "    img_real = cv2.imread(directory_real_class_4 + real_image)\n",
        "    img_fake = cv2.imread(directory_fake + fake_image)\n",
        "    img_real = cv2.resize(img_real, (128, 128))\n",
        "    img_fake = cv2.resize(img_fake, (128, 128))\n",
        "    PSNR_none = PSNR(img_real, img_fake)\n",
        "    PSNR_average += PSNR_none\n",
        "    i+=1\n",
        "    #print(i)\n",
        "PSNR_average = PSNR_average/i\n",
        "print(\"---------------\")\n",
        "print(PSNR_average)"
      ],
      "execution_count": null,
      "outputs": [
        {
          "output_type": "stream",
          "text": [
            "---------------\n",
            "28.103766518453796\n"
          ],
          "name": "stdout"
        }
      ]
    },
    {
      "cell_type": "code",
      "metadata": {
        "colab": {
          "base_uri": "https://localhost:8080/"
        },
        "id": "7Yq8OMPRxbk5",
        "outputId": "a387708d-87d3-4044-94fe-dd2a22d42499"
      },
      "source": [
        "directory_real_class_4 = \"/content/gdrive/My Drive/Kaggle/randomly selected preprocessed/class 0/\"\n",
        "directory_fake = \"/content/gdrive/My Drive/img_retina_Kaggle_class_4_state_of_art_GAN/249/\"\n",
        "PSNR_average = 0\n",
        "i = 0\n",
        "for real_image in os.listdir(directory_real_class_4):\n",
        "  for fake_image in os.listdir(directory_fake):\n",
        "    img_real = cv2.imread(directory_real_class_4 + real_image)\n",
        "    img_fake = cv2.imread(directory_fake + fake_image)\n",
        "    img_real = cv2.resize(img_real, (128, 128))\n",
        "    img_fake = cv2.resize(img_fake, (128, 128))\n",
        "    PSNR_none = PSNR(img_real, img_fake)\n",
        "    PSNR_average += PSNR_none\n",
        "    i+=1\n",
        "    #print(i)\n",
        "PSNR_average = PSNR_average/i\n",
        "print(\"---------------\")\n",
        "print(PSNR_average)"
      ],
      "execution_count": null,
      "outputs": [
        {
          "output_type": "stream",
          "text": [
            "---------------\n",
            "28.100147150152306\n"
          ],
          "name": "stdout"
        }
      ]
    },
    {
      "cell_type": "code",
      "metadata": {
        "colab": {
          "base_uri": "https://localhost:8080/"
        },
        "id": "PgBvVxZ2xbqM",
        "outputId": "9f18a1e6-863f-408b-eb37-c12f5f409538"
      },
      "source": [
        "directory_real_class_4 = \"/content/gdrive/My Drive/Kaggle/randomly selected preprocessed/class 0/\"\n",
        "directory_fake = \"/content/gdrive/My Drive/img_retina_Kaggle_class_4_state_of_art_GAN/259/\"\n",
        "PSNR_average = 0\n",
        "i = 0\n",
        "for real_image in os.listdir(directory_real_class_4):\n",
        "  for fake_image in os.listdir(directory_fake):\n",
        "    img_real = cv2.imread(directory_real_class_4 + real_image)\n",
        "    img_fake = cv2.imread(directory_fake + fake_image)\n",
        "    img_real = cv2.resize(img_real, (128, 128))\n",
        "    img_fake = cv2.resize(img_fake, (128, 128))\n",
        "    PSNR_none = PSNR(img_real, img_fake)\n",
        "    PSNR_average += PSNR_none\n",
        "    i+=1\n",
        "    #print(i)\n",
        "PSNR_average = PSNR_average/i\n",
        "print(\"---------------\")\n",
        "print(PSNR_average)"
      ],
      "execution_count": null,
      "outputs": [
        {
          "output_type": "stream",
          "text": [
            "---------------\n",
            "28.098706089871666\n"
          ],
          "name": "stdout"
        }
      ]
    },
    {
      "cell_type": "code",
      "metadata": {
        "colab": {
          "base_uri": "https://localhost:8080/"
        },
        "id": "Rhtw26Huxbs6",
        "outputId": "8db748f9-4836-489c-8e94-65e298ceaeca"
      },
      "source": [
        "directory_real_class_4 = \"/content/gdrive/My Drive/Kaggle/randomly selected preprocessed/class 0/\"\n",
        "directory_fake = \"/content/gdrive/My Drive/img_retina_Kaggle_class_4_state_of_art_GAN/269/\"\n",
        "PSNR_average = 0\n",
        "i = 0\n",
        "for real_image in os.listdir(directory_real_class_4):\n",
        "  for fake_image in os.listdir(directory_fake):\n",
        "    img_real = cv2.imread(directory_real_class_4 + real_image)\n",
        "    img_fake = cv2.imread(directory_fake + fake_image)\n",
        "    img_real = cv2.resize(img_real, (128, 128))\n",
        "    img_fake = cv2.resize(img_fake, (128, 128))\n",
        "    PSNR_none = PSNR(img_real, img_fake)\n",
        "    PSNR_average += PSNR_none\n",
        "    i+=1\n",
        "    #print(i)\n",
        "PSNR_average = PSNR_average/i\n",
        "print(\"---------------\")\n",
        "print(PSNR_average)"
      ],
      "execution_count": null,
      "outputs": [
        {
          "output_type": "stream",
          "text": [
            "---------------\n",
            "28.110761839997757\n"
          ],
          "name": "stdout"
        }
      ]
    },
    {
      "cell_type": "code",
      "metadata": {
        "colab": {
          "base_uri": "https://localhost:8080/"
        },
        "id": "dqUjF0_9xbvt",
        "outputId": "d07efed0-9fdd-4b94-b5e1-7020cc8b8399"
      },
      "source": [
        "directory_real_class_4 = \"/content/gdrive/My Drive/Kaggle/randomly selected preprocessed/class 0/\"\n",
        "directory_fake = \"/content/gdrive/My Drive/img_retina_Kaggle_class_4_state_of_art_GAN/279/\"\n",
        "PSNR_average = 0\n",
        "i = 0\n",
        "for real_image in os.listdir(directory_real_class_4):\n",
        "  for fake_image in os.listdir(directory_fake):\n",
        "    img_real = cv2.imread(directory_real_class_4 + real_image)\n",
        "    img_fake = cv2.imread(directory_fake + fake_image)\n",
        "    img_real = cv2.resize(img_real, (128, 128))\n",
        "    img_fake = cv2.resize(img_fake, (128, 128))\n",
        "    PSNR_none = PSNR(img_real, img_fake)\n",
        "    PSNR_average += PSNR_none\n",
        "    i+=1\n",
        "    #print(i)\n",
        "PSNR_average = PSNR_average/i\n",
        "print(\"---------------\")\n",
        "print(PSNR_average)"
      ],
      "execution_count": null,
      "outputs": [
        {
          "output_type": "stream",
          "text": [
            "---------------\n",
            "28.10847769554493\n"
          ],
          "name": "stdout"
        }
      ]
    },
    {
      "cell_type": "code",
      "metadata": {
        "colab": {
          "base_uri": "https://localhost:8080/"
        },
        "id": "T_R4llCvxbya",
        "outputId": "6dd50419-ee96-4639-81e3-0e815f2265cd"
      },
      "source": [
        "directory_real_class_4 = \"/content/gdrive/My Drive/Kaggle/randomly selected preprocessed/class 0/\"\n",
        "directory_fake = \"/content/gdrive/My Drive/img_retina_Kaggle_class_4_state_of_art_GAN/289/\"\n",
        "PSNR_average = 0\n",
        "i = 0\n",
        "for real_image in os.listdir(directory_real_class_4):\n",
        "  for fake_image in os.listdir(directory_fake):\n",
        "    img_real = cv2.imread(directory_real_class_4 + real_image)\n",
        "    img_fake = cv2.imread(directory_fake + fake_image)\n",
        "    img_real = cv2.resize(img_real, (128, 128))\n",
        "    img_fake = cv2.resize(img_fake, (128, 128))\n",
        "    PSNR_none = PSNR(img_real, img_fake)\n",
        "    PSNR_average += PSNR_none\n",
        "    i+=1\n",
        "    #print(i)\n",
        "PSNR_average = PSNR_average/i\n",
        "print(\"---------------\")\n",
        "print(PSNR_average)"
      ],
      "execution_count": null,
      "outputs": [
        {
          "output_type": "stream",
          "text": [
            "---------------\n",
            "28.106144162770228\n"
          ],
          "name": "stdout"
        }
      ]
    },
    {
      "cell_type": "code",
      "metadata": {
        "colab": {
          "base_uri": "https://localhost:8080/"
        },
        "id": "hn21Kxesxegn",
        "outputId": "6a596214-22a7-48b9-b818-82d09a120b2c"
      },
      "source": [
        "directory_real_class_4 = \"/content/gdrive/My Drive/Kaggle/randomly selected preprocessed/class 0/\"\n",
        "directory_fake = \"/content/gdrive/My Drive/img_retina_Kaggle_class_4_state_of_art_GAN/299/\"\n",
        "PSNR_average = 0\n",
        "i = 0\n",
        "for real_image in os.listdir(directory_real_class_4):\n",
        "  for fake_image in os.listdir(directory_fake):\n",
        "    img_real = cv2.imread(directory_real_class_4 + real_image)\n",
        "    img_fake = cv2.imread(directory_fake + fake_image)\n",
        "    img_real = cv2.resize(img_real, (128, 128))\n",
        "    img_fake = cv2.resize(img_fake, (128, 128))\n",
        "    PSNR_none = PSNR(img_real, img_fake)\n",
        "    PSNR_average += PSNR_none\n",
        "    i+=1\n",
        "    #print(i)\n",
        "PSNR_average = PSNR_average/i\n",
        "print(\"---------------\")\n",
        "print(PSNR_average)"
      ],
      "execution_count": null,
      "outputs": [
        {
          "output_type": "stream",
          "text": [
            "---------------\n",
            "28.10330191091383\n"
          ],
          "name": "stdout"
        }
      ]
    },
    {
      "cell_type": "code",
      "metadata": {
        "colab": {
          "base_uri": "https://localhost:8080/"
        },
        "id": "oMZjUWmcxen9",
        "outputId": "7bef8849-5dd5-4d90-a64e-37833f1fc614"
      },
      "source": [
        "directory_real_class_4 = \"/content/gdrive/My Drive/Kaggle/randomly selected preprocessed/class 0/\"\n",
        "directory_fake = \"/content/gdrive/My Drive/img_retina_Kaggle_class_4_state_of_art_GAN/309/\"\n",
        "PSNR_average = 0\n",
        "i = 0\n",
        "for real_image in os.listdir(directory_real_class_4):\n",
        "  for fake_image in os.listdir(directory_fake):\n",
        "    img_real = cv2.imread(directory_real_class_4 + real_image)\n",
        "    img_fake = cv2.imread(directory_fake + fake_image)\n",
        "    img_real = cv2.resize(img_real, (128, 128))\n",
        "    img_fake = cv2.resize(img_fake, (128, 128))\n",
        "    PSNR_none = PSNR(img_real, img_fake)\n",
        "    PSNR_average += PSNR_none\n",
        "    i+=1\n",
        "    #print(i)\n",
        "PSNR_average = PSNR_average/i\n",
        "print(\"---------------\")\n",
        "print(PSNR_average)"
      ],
      "execution_count": null,
      "outputs": [
        {
          "output_type": "stream",
          "text": [
            "---------------\n",
            "28.09554291197225\n"
          ],
          "name": "stdout"
        }
      ]
    },
    {
      "cell_type": "code",
      "metadata": {
        "colab": {
          "base_uri": "https://localhost:8080/"
        },
        "id": "aEugmaNLxgRP",
        "outputId": "fba480e5-dc63-4c03-f7c2-5d7c7daf3744"
      },
      "source": [
        "directory_real_class_4 = \"/content/gdrive/My Drive/Kaggle/randomly selected preprocessed/class 0/\"\n",
        "directory_fake = \"/content/gdrive/My Drive/img_retina_Kaggle_class_4_state_of_art_GAN/319/\"\n",
        "PSNR_average = 0\n",
        "i = 0\n",
        "for real_image in os.listdir(directory_real_class_4):\n",
        "  for fake_image in os.listdir(directory_fake):\n",
        "    img_real = cv2.imread(directory_real_class_4 + real_image)\n",
        "    img_fake = cv2.imread(directory_fake + fake_image)\n",
        "    img_real = cv2.resize(img_real, (128, 128))\n",
        "    img_fake = cv2.resize(img_fake, (128, 128))\n",
        "    PSNR_none = PSNR(img_real, img_fake)\n",
        "    PSNR_average += PSNR_none\n",
        "    i+=1\n",
        "    #print(i)\n",
        "PSNR_average = PSNR_average/i\n",
        "print(\"---------------\")\n",
        "print(PSNR_average)"
      ],
      "execution_count": null,
      "outputs": [
        {
          "output_type": "stream",
          "text": [
            "---------------\n",
            "28.099902602746536\n"
          ],
          "name": "stdout"
        }
      ]
    },
    {
      "cell_type": "code",
      "metadata": {
        "colab": {
          "base_uri": "https://localhost:8080/"
        },
        "id": "YcJebbTfxgXd",
        "outputId": "78f3ebb5-ae71-4889-f89e-6d22a42ea334"
      },
      "source": [
        "directory_real_class_4 = \"/content/gdrive/My Drive/Kaggle/randomly selected preprocessed/class 0/\"\n",
        "directory_fake = \"/content/gdrive/My Drive/img_retina_Kaggle_class_4_state_of_art_GAN/329/\"\n",
        "PSNR_average = 0\n",
        "i = 0\n",
        "for real_image in os.listdir(directory_real_class_4):\n",
        "  for fake_image in os.listdir(directory_fake):\n",
        "    img_real = cv2.imread(directory_real_class_4 + real_image)\n",
        "    img_fake = cv2.imread(directory_fake + fake_image)\n",
        "    img_real = cv2.resize(img_real, (128, 128))\n",
        "    img_fake = cv2.resize(img_fake, (128, 128))\n",
        "    PSNR_none = PSNR(img_real, img_fake)\n",
        "    PSNR_average += PSNR_none\n",
        "    i+=1\n",
        "    #print(i)\n",
        "PSNR_average = PSNR_average/i\n",
        "print(\"---------------\")\n",
        "print(PSNR_average)"
      ],
      "execution_count": null,
      "outputs": [
        {
          "output_type": "stream",
          "text": [
            "---------------\n",
            "28.08338843677453\n"
          ],
          "name": "stdout"
        }
      ]
    },
    {
      "cell_type": "code",
      "metadata": {
        "colab": {
          "base_uri": "https://localhost:8080/"
        },
        "id": "JddEmfPYx6kT",
        "outputId": "7e0e6d68-9355-4b4f-c863-424e1284c17c"
      },
      "source": [
        "directory_real_class_4 = \"/content/gdrive/My Drive/Kaggle/randomly selected preprocessed/class 0/\"\n",
        "directory_fake = \"/content/gdrive/My Drive/img_retina_Kaggle_class_4_state_of_art_GAN/339/\"\n",
        "PSNR_average = 0\n",
        "i = 0\n",
        "for real_image in os.listdir(directory_real_class_4):\n",
        "  for fake_image in os.listdir(directory_fake):\n",
        "    img_real = cv2.imread(directory_real_class_4 + real_image)\n",
        "    img_fake = cv2.imread(directory_fake + fake_image)\n",
        "    img_real = cv2.resize(img_real, (128, 128))\n",
        "    img_fake = cv2.resize(img_fake, (128, 128))\n",
        "    PSNR_none = PSNR(img_real, img_fake)\n",
        "    PSNR_average += PSNR_none\n",
        "    i+=1\n",
        "    #print(i)\n",
        "PSNR_average = PSNR_average/i\n",
        "print(\"---------------\")\n",
        "print(PSNR_average)"
      ],
      "execution_count": null,
      "outputs": [
        {
          "output_type": "stream",
          "text": [
            "---------------\n",
            "28.089153806972085\n"
          ],
          "name": "stdout"
        }
      ]
    },
    {
      "cell_type": "code",
      "metadata": {
        "colab": {
          "base_uri": "https://localhost:8080/"
        },
        "id": "U8Ne2po5x6t6",
        "outputId": "77766b73-3ffa-4034-b117-67627f173b32"
      },
      "source": [
        "directory_real_class_4 = \"/content/gdrive/My Drive/Kaggle/randomly selected preprocessed/class 0/\"\n",
        "directory_fake = \"/content/gdrive/My Drive/img_retina_Kaggle_class_4_state_of_art_GAN/349/\"\n",
        "PSNR_average = 0\n",
        "i = 0\n",
        "for real_image in os.listdir(directory_real_class_4):\n",
        "  for fake_image in os.listdir(directory_fake):\n",
        "    img_real = cv2.imread(directory_real_class_4 + real_image)\n",
        "    img_fake = cv2.imread(directory_fake + fake_image)\n",
        "    img_real = cv2.resize(img_real, (128, 128))\n",
        "    img_fake = cv2.resize(img_fake, (128, 128))\n",
        "    PSNR_none = PSNR(img_real, img_fake)\n",
        "    PSNR_average += PSNR_none\n",
        "    i+=1\n",
        "    #print(i)\n",
        "PSNR_average = PSNR_average/i\n",
        "print(\"---------------\")\n",
        "print(PSNR_average)"
      ],
      "execution_count": null,
      "outputs": [
        {
          "output_type": "stream",
          "text": [
            "---------------\n",
            "28.08647510822802\n"
          ],
          "name": "stdout"
        }
      ]
    },
    {
      "cell_type": "code",
      "metadata": {
        "colab": {
          "base_uri": "https://localhost:8080/"
        },
        "id": "UeNb2a1ox60O",
        "outputId": "49f91abc-f924-4556-da15-61d63633952a"
      },
      "source": [
        "directory_real_class_4 = \"/content/gdrive/My Drive/Kaggle/randomly selected preprocessed/class 0/\"\n",
        "directory_fake = \"/content/gdrive/My Drive/img_retina_Kaggle_class_4_state_of_art_GAN/359/\"\n",
        "PSNR_average = 0\n",
        "i = 0\n",
        "for real_image in os.listdir(directory_real_class_4):\n",
        "  for fake_image in os.listdir(directory_fake):\n",
        "    img_real = cv2.imread(directory_real_class_4 + real_image)\n",
        "    img_fake = cv2.imread(directory_fake + fake_image)\n",
        "    img_real = cv2.resize(img_real, (128, 128))\n",
        "    img_fake = cv2.resize(img_fake, (128, 128))\n",
        "    PSNR_none = PSNR(img_real, img_fake)\n",
        "    PSNR_average += PSNR_none\n",
        "    i+=1\n",
        "    #print(i)\n",
        "PSNR_average = PSNR_average/i\n",
        "print(\"---------------\")\n",
        "print(PSNR_average)"
      ],
      "execution_count": null,
      "outputs": [
        {
          "output_type": "stream",
          "text": [
            "---------------\n",
            "28.076534888384394\n"
          ],
          "name": "stdout"
        }
      ]
    },
    {
      "cell_type": "code",
      "metadata": {
        "colab": {
          "base_uri": "https://localhost:8080/"
        },
        "id": "FjF-NCfox64M",
        "outputId": "4938491b-bf85-485a-dc24-1fdaffc57e67"
      },
      "source": [
        "directory_real_class_4 = \"/content/gdrive/My Drive/Kaggle/randomly selected preprocessed/class 0/\"\n",
        "directory_fake = \"/content/gdrive/My Drive/img_retina_Kaggle_class_4_state_of_art_GAN/369/\"\n",
        "PSNR_average = 0\n",
        "i = 0\n",
        "for real_image in os.listdir(directory_real_class_4):\n",
        "  for fake_image in os.listdir(directory_fake):\n",
        "    img_real = cv2.imread(directory_real_class_4 + real_image)\n",
        "    img_fake = cv2.imread(directory_fake + fake_image)\n",
        "    img_real = cv2.resize(img_real, (128, 128))\n",
        "    img_fake = cv2.resize(img_fake, (128, 128))\n",
        "    PSNR_none = PSNR(img_real, img_fake)\n",
        "    PSNR_average += PSNR_none\n",
        "    i+=1\n",
        "    #print(i)\n",
        "PSNR_average = PSNR_average/i\n",
        "print(\"---------------\")\n",
        "print(PSNR_average)"
      ],
      "execution_count": null,
      "outputs": [
        {
          "output_type": "stream",
          "text": [
            "---------------\n",
            "28.07968052819082\n"
          ],
          "name": "stdout"
        }
      ]
    },
    {
      "cell_type": "code",
      "metadata": {
        "colab": {
          "base_uri": "https://localhost:8080/"
        },
        "id": "WND_DsQZx6_D",
        "outputId": "48b08304-5161-4c51-b325-aed494f9b304"
      },
      "source": [
        "directory_real_class_4 = \"/content/gdrive/My Drive/Kaggle/randomly selected preprocessed/class 0/\"\n",
        "directory_fake = \"/content/gdrive/My Drive/img_retina_Kaggle_class_4_state_of_art_GAN/379/\"\n",
        "PSNR_average = 0\n",
        "i = 0\n",
        "for real_image in os.listdir(directory_real_class_4):\n",
        "  for fake_image in os.listdir(directory_fake):\n",
        "    img_real = cv2.imread(directory_real_class_4 + real_image)\n",
        "    img_fake = cv2.imread(directory_fake + fake_image)\n",
        "    img_real = cv2.resize(img_real, (128, 128))\n",
        "    img_fake = cv2.resize(img_fake, (128, 128))\n",
        "    PSNR_none = PSNR(img_real, img_fake)\n",
        "    PSNR_average += PSNR_none\n",
        "    i+=1\n",
        "    #print(i)\n",
        "PSNR_average = PSNR_average/i\n",
        "print(\"---------------\")\n",
        "print(PSNR_average)"
      ],
      "execution_count": null,
      "outputs": [
        {
          "output_type": "stream",
          "text": [
            "---------------\n",
            "28.075352413515994\n"
          ],
          "name": "stdout"
        }
      ]
    },
    {
      "cell_type": "code",
      "metadata": {
        "colab": {
          "base_uri": "https://localhost:8080/"
        },
        "id": "0RTh-eRtx7F8",
        "outputId": "5bbb893a-c8f5-41be-dac8-6e10c211ac84"
      },
      "source": [
        "directory_real_class_4 = \"/content/gdrive/My Drive/Kaggle/randomly selected preprocessed/class 0/\"\n",
        "directory_fake = \"/content/gdrive/My Drive/img_retina_Kaggle_class_4_state_of_art_GAN/389/\"\n",
        "PSNR_average = 0\n",
        "i = 0\n",
        "for real_image in os.listdir(directory_real_class_4):\n",
        "  for fake_image in os.listdir(directory_fake):\n",
        "    img_real = cv2.imread(directory_real_class_4 + real_image)\n",
        "    img_fake = cv2.imread(directory_fake + fake_image)\n",
        "    img_real = cv2.resize(img_real, (128, 128))\n",
        "    img_fake = cv2.resize(img_fake, (128, 128))\n",
        "    PSNR_none = PSNR(img_real, img_fake)\n",
        "    PSNR_average += PSNR_none\n",
        "    i+=1\n",
        "    #print(i)\n",
        "PSNR_average = PSNR_average/i\n",
        "print(\"---------------\")\n",
        "print(PSNR_average)"
      ],
      "execution_count": null,
      "outputs": [
        {
          "output_type": "stream",
          "text": [
            "---------------\n",
            "28.074110810202104\n"
          ],
          "name": "stdout"
        }
      ]
    },
    {
      "cell_type": "code",
      "metadata": {
        "colab": {
          "base_uri": "https://localhost:8080/"
        },
        "id": "267IxTqvx-ia",
        "outputId": "e5ff8246-5fe4-4bf2-f734-5bb777364b39"
      },
      "source": [
        "directory_real_class_4 = \"/content/gdrive/My Drive/Kaggle/randomly selected preprocessed/class 0/\"\n",
        "directory_fake = \"/content/gdrive/My Drive/img_retina_Kaggle_class_4_state_of_art_GAN/399/\"\n",
        "PSNR_average = 0\n",
        "i = 0\n",
        "for real_image in os.listdir(directory_real_class_4):\n",
        "  for fake_image in os.listdir(directory_fake):\n",
        "    img_real = cv2.imread(directory_real_class_4 + real_image)\n",
        "    img_fake = cv2.imread(directory_fake + fake_image)\n",
        "    img_real = cv2.resize(img_real, (128, 128))\n",
        "    img_fake = cv2.resize(img_fake, (128, 128))\n",
        "    PSNR_none = PSNR(img_real, img_fake)\n",
        "    PSNR_average += PSNR_none\n",
        "    i+=1\n",
        "    #print(i)\n",
        "PSNR_average = PSNR_average/i\n",
        "print(\"---------------\")\n",
        "print(PSNR_average)"
      ],
      "execution_count": null,
      "outputs": [
        {
          "output_type": "stream",
          "text": [
            "---------------\n",
            "28.070358617703075\n"
          ],
          "name": "stdout"
        }
      ]
    },
    {
      "cell_type": "code",
      "metadata": {
        "colab": {
          "base_uri": "https://localhost:8080/"
        },
        "id": "hK-MSAjyx-qp",
        "outputId": "30dff8a1-c059-4f69-e18f-3e1f70fbf62f"
      },
      "source": [
        "directory_real_class_4 = \"/content/gdrive/My Drive/Kaggle/randomly selected preprocessed/class 0/\"\n",
        "directory_fake = \"/content/gdrive/My Drive/img_retina_Kaggle_class_4_state_of_art_GAN/409/\"\n",
        "PSNR_average = 0\n",
        "i = 0\n",
        "for real_image in os.listdir(directory_real_class_4):\n",
        "  for fake_image in os.listdir(directory_fake):\n",
        "    img_real = cv2.imread(directory_real_class_4 + real_image)\n",
        "    img_fake = cv2.imread(directory_fake + fake_image)\n",
        "    img_real = cv2.resize(img_real, (128, 128))\n",
        "    img_fake = cv2.resize(img_fake, (128, 128))\n",
        "    PSNR_none = PSNR(img_real, img_fake)\n",
        "    PSNR_average += PSNR_none\n",
        "    i+=1\n",
        "    #print(i)\n",
        "PSNR_average = PSNR_average/i\n",
        "print(\"---------------\")\n",
        "print(PSNR_average)"
      ],
      "execution_count": null,
      "outputs": [
        {
          "output_type": "stream",
          "text": [
            "---------------\n",
            "28.075125900643076\n"
          ],
          "name": "stdout"
        }
      ]
    },
    {
      "cell_type": "code",
      "metadata": {
        "colab": {
          "base_uri": "https://localhost:8080/"
        },
        "id": "CC-I4fsex-xi",
        "outputId": "aa2f2263-f175-49b3-b1ad-ba5ec7db59db"
      },
      "source": [
        "directory_real_class_4 = \"/content/gdrive/My Drive/Kaggle/randomly selected preprocessed/class 0/\"\n",
        "directory_fake = \"/content/gdrive/My Drive/img_retina_Kaggle_class_4_state_of_art_GAN/419/\"\n",
        "PSNR_average = 0\n",
        "i = 0\n",
        "for real_image in os.listdir(directory_real_class_4):\n",
        "  for fake_image in os.listdir(directory_fake):\n",
        "    img_real = cv2.imread(directory_real_class_4 + real_image)\n",
        "    img_fake = cv2.imread(directory_fake + fake_image)\n",
        "    img_real = cv2.resize(img_real, (128, 128))\n",
        "    img_fake = cv2.resize(img_fake, (128, 128))\n",
        "    PSNR_none = PSNR(img_real, img_fake)\n",
        "    PSNR_average += PSNR_none\n",
        "    i+=1\n",
        "    #print(i)\n",
        "PSNR_average = PSNR_average/i\n",
        "print(\"---------------\")\n",
        "print(PSNR_average)"
      ],
      "execution_count": null,
      "outputs": [
        {
          "output_type": "stream",
          "text": [
            "---------------\n",
            "28.067168057497174\n"
          ],
          "name": "stdout"
        }
      ]
    },
    {
      "cell_type": "code",
      "metadata": {
        "colab": {
          "base_uri": "https://localhost:8080/"
        },
        "id": "Kupvi9mmx-0S",
        "outputId": "713615a2-595c-460d-8e0c-a3e9be95224c"
      },
      "source": [
        "directory_real_class_4 = \"/content/gdrive/My Drive/Kaggle/randomly selected preprocessed/class 0/\"\n",
        "directory_fake = \"/content/gdrive/My Drive/img_retina_Kaggle_class_4_state_of_art_GAN/429/\"\n",
        "PSNR_average = 0\n",
        "i = 0\n",
        "for real_image in os.listdir(directory_real_class_4):\n",
        "  for fake_image in os.listdir(directory_fake):\n",
        "    img_real = cv2.imread(directory_real_class_4 + real_image)\n",
        "    img_fake = cv2.imread(directory_fake + fake_image)\n",
        "    img_real = cv2.resize(img_real, (128, 128))\n",
        "    img_fake = cv2.resize(img_fake, (128, 128))\n",
        "    PSNR_none = PSNR(img_real, img_fake)\n",
        "    PSNR_average += PSNR_none\n",
        "    i+=1\n",
        "    #print(i)\n",
        "PSNR_average = PSNR_average/i\n",
        "print(\"---------------\")\n",
        "print(PSNR_average)"
      ],
      "execution_count": null,
      "outputs": [
        {
          "output_type": "stream",
          "text": [
            "---------------\n",
            "28.066411734138853\n"
          ],
          "name": "stdout"
        }
      ]
    },
    {
      "cell_type": "code",
      "metadata": {
        "colab": {
          "base_uri": "https://localhost:8080/"
        },
        "id": "dFRxrrkKx-3w",
        "outputId": "9aeafcd6-ada2-4122-f3a8-af32b17ef0aa"
      },
      "source": [
        "directory_real_class_4 = \"/content/gdrive/My Drive/Kaggle/randomly selected preprocessed/class 0/\"\n",
        "directory_fake = \"/content/gdrive/My Drive/img_retina_Kaggle_class_4_state_of_art_GAN/439/\"\n",
        "PSNR_average = 0\n",
        "i = 0\n",
        "for real_image in os.listdir(directory_real_class_4):\n",
        "  for fake_image in os.listdir(directory_fake):\n",
        "    img_real = cv2.imread(directory_real_class_4 + real_image)\n",
        "    img_fake = cv2.imread(directory_fake + fake_image)\n",
        "    img_real = cv2.resize(img_real, (128, 128))\n",
        "    img_fake = cv2.resize(img_fake, (128, 128))\n",
        "    PSNR_none = PSNR(img_real, img_fake)\n",
        "    PSNR_average += PSNR_none\n",
        "    i+=1\n",
        "    #print(i)\n",
        "PSNR_average = PSNR_average/i\n",
        "print(\"---------------\")\n",
        "print(PSNR_average)"
      ],
      "execution_count": null,
      "outputs": [
        {
          "output_type": "stream",
          "text": [
            "---------------\n",
            "28.070572203965906\n"
          ],
          "name": "stdout"
        }
      ]
    },
    {
      "cell_type": "code",
      "metadata": {
        "colab": {
          "base_uri": "https://localhost:8080/"
        },
        "id": "LbuVRfgNyRT6",
        "outputId": "25e1937d-91c4-448e-b6ec-3334d1aebe56"
      },
      "source": [
        "directory_real_class_4 = \"/content/gdrive/My Drive/Kaggle/randomly selected preprocessed/class 0/\"\n",
        "directory_fake = \"/content/gdrive/My Drive/img_retina_Kaggle_class_4_state_of_art_GAN/449/\"\n",
        "PSNR_average = 0\n",
        "i = 0\n",
        "for real_image in os.listdir(directory_real_class_4):\n",
        "  for fake_image in os.listdir(directory_fake):\n",
        "    img_real = cv2.imread(directory_real_class_4 + real_image)\n",
        "    img_fake = cv2.imread(directory_fake + fake_image)\n",
        "    img_real = cv2.resize(img_real, (128, 128))\n",
        "    img_fake = cv2.resize(img_fake, (128, 128))\n",
        "    PSNR_none = PSNR(img_real, img_fake)\n",
        "    PSNR_average += PSNR_none\n",
        "    i+=1\n",
        "    #print(i)\n",
        "PSNR_average = PSNR_average/i\n",
        "print(\"---------------\")\n",
        "print(PSNR_average)"
      ],
      "execution_count": null,
      "outputs": [
        {
          "output_type": "stream",
          "text": [
            "---------------\n",
            "28.059112571146915\n"
          ],
          "name": "stdout"
        }
      ]
    },
    {
      "cell_type": "code",
      "metadata": {
        "colab": {
          "base_uri": "https://localhost:8080/"
        },
        "id": "KRBbj-teyRXq",
        "outputId": "ca8d5046-02f2-4d83-82cd-eb46a0fbee57"
      },
      "source": [
        "directory_real_class_4 = \"/content/gdrive/My Drive/Kaggle/randomly selected preprocessed/class 0/\"\n",
        "directory_fake = \"/content/gdrive/My Drive/img_retina_Kaggle_class_4_state_of_art_GAN/459/\"\n",
        "PSNR_average = 0\n",
        "i = 0\n",
        "for real_image in os.listdir(directory_real_class_4):\n",
        "  for fake_image in os.listdir(directory_fake):\n",
        "    img_real = cv2.imread(directory_real_class_4 + real_image)\n",
        "    img_fake = cv2.imread(directory_fake + fake_image)\n",
        "    img_real = cv2.resize(img_real, (128, 128))\n",
        "    img_fake = cv2.resize(img_fake, (128, 128))\n",
        "    PSNR_none = PSNR(img_real, img_fake)\n",
        "    PSNR_average += PSNR_none\n",
        "    i+=1\n",
        "    #print(i)\n",
        "PSNR_average = PSNR_average/i\n",
        "print(\"---------------\")\n",
        "print(PSNR_average)"
      ],
      "execution_count": null,
      "outputs": [
        {
          "output_type": "stream",
          "text": [
            "---------------\n",
            "28.071819919162884\n"
          ],
          "name": "stdout"
        }
      ]
    },
    {
      "cell_type": "code",
      "metadata": {
        "colab": {
          "base_uri": "https://localhost:8080/"
        },
        "id": "CpJT1Xw1yRa7",
        "outputId": "daa76be1-f33b-457b-b3e6-31c3b03943fc"
      },
      "source": [
        "directory_real_class_4 = \"/content/gdrive/My Drive/Kaggle/randomly selected preprocessed/class 0/\"\n",
        "directory_fake = \"/content/gdrive/My Drive/img_retina_Kaggle_class_4_state_of_art_GAN/469/\"\n",
        "PSNR_average = 0\n",
        "i = 0\n",
        "for real_image in os.listdir(directory_real_class_4):\n",
        "  for fake_image in os.listdir(directory_fake):\n",
        "    img_real = cv2.imread(directory_real_class_4 + real_image)\n",
        "    img_fake = cv2.imread(directory_fake + fake_image)\n",
        "    img_real = cv2.resize(img_real, (128, 128))\n",
        "    img_fake = cv2.resize(img_fake, (128, 128))\n",
        "    PSNR_none = PSNR(img_real, img_fake)\n",
        "    PSNR_average += PSNR_none\n",
        "    i+=1\n",
        "    #print(i)\n",
        "PSNR_average = PSNR_average/i\n",
        "print(\"---------------\")\n",
        "print(PSNR_average)"
      ],
      "execution_count": null,
      "outputs": [
        {
          "output_type": "stream",
          "text": [
            "---------------\n",
            "28.06811837278135\n"
          ],
          "name": "stdout"
        }
      ]
    },
    {
      "cell_type": "code",
      "metadata": {
        "colab": {
          "base_uri": "https://localhost:8080/"
        },
        "id": "C-sg2D4YyReC",
        "outputId": "af942f09-fce9-4e38-9bd2-946ffcbb2207"
      },
      "source": [
        "directory_real_class_4 = \"/content/gdrive/My Drive/Kaggle/randomly selected preprocessed/class 0/\"\n",
        "directory_fake = \"/content/gdrive/My Drive/img_retina_Kaggle_class_4_state_of_art_GAN/479/\"\n",
        "PSNR_average = 0\n",
        "i = 0\n",
        "for real_image in os.listdir(directory_real_class_4):\n",
        "  for fake_image in os.listdir(directory_fake):\n",
        "    img_real = cv2.imread(directory_real_class_4 + real_image)\n",
        "    img_fake = cv2.imread(directory_fake + fake_image)\n",
        "    img_real = cv2.resize(img_real, (128, 128))\n",
        "    img_fake = cv2.resize(img_fake, (128, 128))\n",
        "    PSNR_none = PSNR(img_real, img_fake)\n",
        "    PSNR_average += PSNR_none\n",
        "    i+=1\n",
        "    #print(i)\n",
        "PSNR_average = PSNR_average/i\n",
        "print(\"---------------\")\n",
        "print(PSNR_average)"
      ],
      "execution_count": null,
      "outputs": [
        {
          "output_type": "stream",
          "text": [
            "---------------\n",
            "28.063065760471286\n"
          ],
          "name": "stdout"
        }
      ]
    },
    {
      "cell_type": "code",
      "metadata": {
        "colab": {
          "base_uri": "https://localhost:8080/"
        },
        "id": "6-y_xMQvyRhR",
        "outputId": "7996d40e-d044-4b44-c0e8-cb232d6a1618"
      },
      "source": [
        "directory_real_class_4 = \"/content/gdrive/My Drive/Kaggle/randomly selected preprocessed/class 0/\"\n",
        "directory_fake = \"/content/gdrive/My Drive/img_retina_Kaggle_class_4_state_of_art_GAN/489/\"\n",
        "PSNR_average = 0\n",
        "i = 0\n",
        "for real_image in os.listdir(directory_real_class_4):\n",
        "  for fake_image in os.listdir(directory_fake):\n",
        "    img_real = cv2.imread(directory_real_class_4 + real_image)\n",
        "    img_fake = cv2.imread(directory_fake + fake_image)\n",
        "    img_real = cv2.resize(img_real, (128, 128))\n",
        "    img_fake = cv2.resize(img_fake, (128, 128))\n",
        "    PSNR_none = PSNR(img_real, img_fake)\n",
        "    PSNR_average += PSNR_none\n",
        "    i+=1\n",
        "    #print(i)\n",
        "PSNR_average = PSNR_average/i\n",
        "print(\"---------------\")\n",
        "print(PSNR_average)"
      ],
      "execution_count": null,
      "outputs": [
        {
          "output_type": "stream",
          "text": [
            "---------------\n",
            "28.05720921647149\n"
          ],
          "name": "stdout"
        }
      ]
    },
    {
      "cell_type": "code",
      "metadata": {
        "colab": {
          "base_uri": "https://localhost:8080/"
        },
        "id": "UWm9csrlyRjk",
        "outputId": "408562d6-a794-4279-86a8-a155dd2fc959"
      },
      "source": [
        "directory_real_class_4 = \"/content/gdrive/My Drive/Kaggle/randomly selected preprocessed/class 0/\"\n",
        "directory_fake = \"/content/gdrive/My Drive/img_retina_Kaggle_class_4_state_of_art_GAN/499/\"\n",
        "PSNR_average = 0\n",
        "i = 0\n",
        "for real_image in os.listdir(directory_real_class_4):\n",
        "  for fake_image in os.listdir(directory_fake):\n",
        "    img_real = cv2.imread(directory_real_class_4 + real_image)\n",
        "    img_fake = cv2.imread(directory_fake + fake_image)\n",
        "    img_real = cv2.resize(img_real, (128, 128))\n",
        "    img_fake = cv2.resize(img_fake, (128, 128))\n",
        "    PSNR_none = PSNR(img_real, img_fake)\n",
        "    PSNR_average += PSNR_none\n",
        "    i+=1\n",
        "    #print(i)\n",
        "PSNR_average = PSNR_average/i\n",
        "print(\"---------------\")\n",
        "print(PSNR_average)"
      ],
      "execution_count": null,
      "outputs": [
        {
          "output_type": "stream",
          "text": [
            "---------------\n",
            "28.065816832225345\n"
          ],
          "name": "stdout"
        }
      ]
    },
    {
      "cell_type": "code",
      "metadata": {
        "id": "9CNCXkEEyRmQ"
      },
      "source": [
        ""
      ],
      "execution_count": null,
      "outputs": []
    },
    {
      "cell_type": "code",
      "metadata": {
        "id": "8M2K5_gHyRpv"
      },
      "source": [
        ""
      ],
      "execution_count": null,
      "outputs": []
    }
  ]
}