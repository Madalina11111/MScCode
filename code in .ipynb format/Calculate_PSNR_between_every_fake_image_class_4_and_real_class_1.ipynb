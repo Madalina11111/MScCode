{
  "nbformat": 4,
  "nbformat_minor": 0,
  "metadata": {
    "colab": {
      "name": "Calculate PSNR between every fake image class 4 and real class 1.ipynb",
      "provenance": [],
      "collapsed_sections": []
    },
    "kernelspec": {
      "name": "python3",
      "display_name": "Python 3"
    },
    "language_info": {
      "name": "python"
    }
  },
  "cells": [
    {
      "cell_type": "code",
      "metadata": {
        "id": "B9T9LxjY64qz"
      },
      "source": [
        "from math import log10, sqrt\n",
        "import cv2\n",
        "import numpy as np\n",
        "import os"
      ],
      "execution_count": null,
      "outputs": []
    },
    {
      "cell_type": "code",
      "metadata": {
        "id": "I4R8305n7ESP",
        "colab": {
          "base_uri": "https://localhost:8080/"
        },
        "outputId": "25ec8cdf-4f3b-46e8-b1a3-9b6e08612bf0"
      },
      "source": [
        "from google.colab import drive\n",
        "drive.mount('/content/gdrive')"
      ],
      "execution_count": null,
      "outputs": [
        {
          "output_type": "stream",
          "text": [
            "Mounted at /content/gdrive\n"
          ],
          "name": "stdout"
        }
      ]
    },
    {
      "cell_type": "code",
      "metadata": {
        "id": "MfCgXe9V6yMJ"
      },
      "source": [
        "def PSNR(original, to_compare_with):\n",
        "    mse = np.mean((original - to_compare_with) ** 2)\n",
        "    if(mse == 0):\n",
        "        return 100\n",
        "    max_pixel = 255.0\n",
        "    psnr = 20 * log10(max_pixel / sqrt(mse))\n",
        "    return psnr"
      ],
      "execution_count": null,
      "outputs": []
    },
    {
      "cell_type": "code",
      "metadata": {
        "id": "MzAdT1zc7Jgh",
        "colab": {
          "base_uri": "https://localhost:8080/"
        },
        "outputId": "e7fc40e7-addf-448b-e90e-0df747c107bb"
      },
      "source": [
        "directory_real_class_4 = \"/content/gdrive/My Drive/Kaggle/randomly selected preprocessed/class 1/\"\n",
        "directory_fake = \"/content/gdrive/My Drive/img_retina_Kaggle_class_4_state_of_art_GAN/9/\"\n",
        "psnr_averages = []\n",
        "for fake_image in os.listdir(directory_fake):\n",
        "  PSNR_average = 0\n",
        "  i = 0\n",
        "  for real_image in os.listdir(directory_real_class_4):\n",
        "    img_real = cv2.imread(directory_real_class_4 + real_image)\n",
        "    img_fake = cv2.imread(directory_fake + fake_image)\n",
        "    img_real = cv2.resize(img_real, (128, 128))\n",
        "    img_fake = cv2.resize(img_fake, (128, 128))\n",
        "    PSNR_none = PSNR(img_real, img_fake)\n",
        "    PSNR_average += PSNR_none\n",
        "    i+=1\n",
        "  PSNR_average = PSNR_average/i\n",
        "  psnr_averages.append(PSNR_average)\n",
        "  #print(fake_image + \" \" + str(PSNR_average))\n",
        "print(min(psnr_averages))\n",
        "print(max(psnr_averages))"
      ],
      "execution_count": null,
      "outputs": [
        {
          "output_type": "stream",
          "text": [
            "28.432887609730134\n",
            "28.53055441804742\n"
          ],
          "name": "stdout"
        }
      ]
    },
    {
      "cell_type": "code",
      "metadata": {
        "id": "bP5einoYu5gD",
        "colab": {
          "base_uri": "https://localhost:8080/"
        },
        "outputId": "f17c4c09-6d73-42e5-d344-2e7e9b6b6722"
      },
      "source": [
        "directory_real_class_4 = \"/content/gdrive/My Drive/Kaggle/randomly selected preprocessed/class 1/\"\n",
        "directory_fake = \"/content/gdrive/My Drive/img_retina_Kaggle_class_4_state_of_art_GAN/19/\"\n",
        "psnr_averages = []\n",
        "for fake_image in os.listdir(directory_fake):\n",
        "  PSNR_average = 0\n",
        "  i = 0\n",
        "  for real_image in os.listdir(directory_real_class_4):\n",
        "    img_real = cv2.imread(directory_real_class_4 + real_image)\n",
        "    img_fake = cv2.imread(directory_fake + fake_image)\n",
        "    img_real = cv2.resize(img_real, (128, 128))\n",
        "    img_fake = cv2.resize(img_fake, (128, 128))\n",
        "    PSNR_none = PSNR(img_real, img_fake)\n",
        "    PSNR_average += PSNR_none\n",
        "    i+=1\n",
        "  PSNR_average = PSNR_average/i\n",
        "  psnr_averages.append(PSNR_average)\n",
        "  #print(fake_image + \" \" + str(PSNR_average))\n",
        "print(min(psnr_averages))\n",
        "print(max(psnr_averages))"
      ],
      "execution_count": null,
      "outputs": [
        {
          "output_type": "stream",
          "text": [
            "28.297051846220366\n",
            "28.330543700532463\n"
          ],
          "name": "stdout"
        }
      ]
    },
    {
      "cell_type": "code",
      "metadata": {
        "id": "wMDwKBJ6xA47",
        "colab": {
          "base_uri": "https://localhost:8080/"
        },
        "outputId": "dca5c9c8-5083-45ee-8e18-828a31d149b2"
      },
      "source": [
        "directory_real_class_4 = \"/content/gdrive/My Drive/Kaggle/randomly selected preprocessed/class 1/\"\n",
        "directory_fake = \"/content/gdrive/My Drive/img_retina_Kaggle_class_4_state_of_art_GAN/29/\"\n",
        "psnr_averages = []\n",
        "for fake_image in os.listdir(directory_fake):\n",
        "  PSNR_average = 0\n",
        "  i = 0\n",
        "  for real_image in os.listdir(directory_real_class_4):\n",
        "    img_real = cv2.imread(directory_real_class_4 + real_image)\n",
        "    img_fake = cv2.imread(directory_fake + fake_image)\n",
        "    img_real = cv2.resize(img_real, (128, 128))\n",
        "    img_fake = cv2.resize(img_fake, (128, 128))\n",
        "    PSNR_none = PSNR(img_real, img_fake)\n",
        "    PSNR_average += PSNR_none\n",
        "    i+=1\n",
        "  PSNR_average = PSNR_average/i\n",
        "  psnr_averages.append(PSNR_average)\n",
        "  #print(fake_image + \" \" + str(PSNR_average))\n",
        "print(min(psnr_averages))\n",
        "print(max(psnr_averages))"
      ],
      "execution_count": null,
      "outputs": [
        {
          "output_type": "stream",
          "text": [
            "28.29176780326168\n",
            "28.328008219454173\n"
          ],
          "name": "stdout"
        }
      ]
    },
    {
      "cell_type": "code",
      "metadata": {
        "id": "KcIm71-fxBeH",
        "colab": {
          "base_uri": "https://localhost:8080/"
        },
        "outputId": "64d1fc69-cbe3-4cde-ff97-63d76f58eb46"
      },
      "source": [
        "directory_real_class_4 = \"/content/gdrive/My Drive/Kaggle/randomly selected preprocessed/class 1/\"\n",
        "directory_fake = \"/content/gdrive/My Drive/img_retina_Kaggle_class_4_state_of_art_GAN/39/\"\n",
        "psnr_averages = []\n",
        "for fake_image in os.listdir(directory_fake):\n",
        "  PSNR_average = 0\n",
        "  i = 0\n",
        "  for real_image in os.listdir(directory_real_class_4):\n",
        "    img_real = cv2.imread(directory_real_class_4 + real_image)\n",
        "    img_fake = cv2.imread(directory_fake + fake_image)\n",
        "    img_real = cv2.resize(img_real, (128, 128))\n",
        "    img_fake = cv2.resize(img_fake, (128, 128))\n",
        "    PSNR_none = PSNR(img_real, img_fake)\n",
        "    PSNR_average += PSNR_none\n",
        "    i+=1\n",
        "  PSNR_average = PSNR_average/i\n",
        "  psnr_averages.append(PSNR_average)\n",
        "  #print(fake_image + \" \" + str(PSNR_average))\n",
        "print(min(psnr_averages))\n",
        "print(max(psnr_averages))"
      ],
      "execution_count": null,
      "outputs": [
        {
          "output_type": "stream",
          "text": [
            "28.245214451856036\n",
            "28.280080643481803\n"
          ],
          "name": "stdout"
        }
      ]
    },
    {
      "cell_type": "code",
      "metadata": {
        "id": "tbEIPBoXxB7w",
        "colab": {
          "base_uri": "https://localhost:8080/"
        },
        "outputId": "8a261013-5ec4-4d3a-81df-85b9b439e2c1"
      },
      "source": [
        "directory_real_class_4 = \"/content/gdrive/My Drive/Kaggle/randomly selected preprocessed/class 1/\"\n",
        "directory_fake = \"/content/gdrive/My Drive/img_retina_Kaggle_class_4_state_of_art_GAN/49/\"\n",
        "psnr_averages = []\n",
        "for fake_image in os.listdir(directory_fake):\n",
        "  PSNR_average = 0\n",
        "  i = 0\n",
        "  for real_image in os.listdir(directory_real_class_4):\n",
        "    img_real = cv2.imread(directory_real_class_4 + real_image)\n",
        "    img_fake = cv2.imread(directory_fake + fake_image)\n",
        "    img_real = cv2.resize(img_real, (128, 128))\n",
        "    img_fake = cv2.resize(img_fake, (128, 128))\n",
        "    PSNR_none = PSNR(img_real, img_fake)\n",
        "    PSNR_average += PSNR_none\n",
        "    i+=1\n",
        "  PSNR_average = PSNR_average/i\n",
        "  psnr_averages.append(PSNR_average)\n",
        "  #print(fake_image + \" \" + str(PSNR_average))\n",
        "print(min(psnr_averages))\n",
        "print(max(psnr_averages))"
      ],
      "execution_count": null,
      "outputs": [
        {
          "output_type": "stream",
          "text": [
            "28.10388515012724\n",
            "28.133149244658433\n"
          ],
          "name": "stdout"
        }
      ]
    },
    {
      "cell_type": "code",
      "metadata": {
        "id": "59_e3PnFxCle",
        "colab": {
          "base_uri": "https://localhost:8080/"
        },
        "outputId": "b06c60dc-6695-4353-a7fb-d07681b4a05a"
      },
      "source": [
        "directory_real_class_4 = \"/content/gdrive/My Drive/Kaggle/randomly selected preprocessed/class 1/\"\n",
        "directory_fake = \"/content/gdrive/My Drive/img_retina_Kaggle_class_4_state_of_art_GAN/59/\"\n",
        "psnr_averages = []\n",
        "for fake_image in os.listdir(directory_fake):\n",
        "  PSNR_average = 0\n",
        "  i = 0\n",
        "  for real_image in os.listdir(directory_real_class_4):\n",
        "    img_real = cv2.imread(directory_real_class_4 + real_image)\n",
        "    img_fake = cv2.imread(directory_fake + fake_image)\n",
        "    img_real = cv2.resize(img_real, (128, 128))\n",
        "    img_fake = cv2.resize(img_fake, (128, 128))\n",
        "    PSNR_none = PSNR(img_real, img_fake)\n",
        "    PSNR_average += PSNR_none\n",
        "    i+=1\n",
        "  PSNR_average = PSNR_average/i\n",
        "  psnr_averages.append(PSNR_average)\n",
        "  #print(fake_image + \" \" + str(PSNR_average))\n",
        "print(min(psnr_averages))\n",
        "print(max(psnr_averages))"
      ],
      "execution_count": null,
      "outputs": [
        {
          "output_type": "stream",
          "text": [
            "28.13983015770831\n",
            "28.167942116217418\n"
          ],
          "name": "stdout"
        }
      ]
    },
    {
      "cell_type": "code",
      "metadata": {
        "id": "8ye_5KdzxC8f",
        "colab": {
          "base_uri": "https://localhost:8080/"
        },
        "outputId": "5cb1086e-15ac-4986-a903-97375822299f"
      },
      "source": [
        "directory_real_class_4 = \"/content/gdrive/My Drive/Kaggle/randomly selected preprocessed/class 1/\"\n",
        "directory_fake = \"/content/gdrive/My Drive/img_retina_Kaggle_class_4_state_of_art_GAN/69/\"\n",
        "psnr_averages = []\n",
        "for fake_image in os.listdir(directory_fake):\n",
        "  PSNR_average = 0\n",
        "  i = 0\n",
        "  for real_image in os.listdir(directory_real_class_4):\n",
        "    img_real = cv2.imread(directory_real_class_4 + real_image)\n",
        "    img_fake = cv2.imread(directory_fake + fake_image)\n",
        "    img_real = cv2.resize(img_real, (128, 128))\n",
        "    img_fake = cv2.resize(img_fake, (128, 128))\n",
        "    PSNR_none = PSNR(img_real, img_fake)\n",
        "    PSNR_average += PSNR_none\n",
        "    i+=1\n",
        "  PSNR_average = PSNR_average/i\n",
        "  psnr_averages.append(PSNR_average)\n",
        "  #print(fake_image + \" \" + str(PSNR_average))\n",
        "print(min(psnr_averages))\n",
        "print(max(psnr_averages))"
      ],
      "execution_count": null,
      "outputs": [
        {
          "output_type": "stream",
          "text": [
            "28.140797327132464\n",
            "28.16852575808882\n"
          ],
          "name": "stdout"
        }
      ]
    },
    {
      "cell_type": "code",
      "metadata": {
        "id": "VxlJXLA6xDSq",
        "colab": {
          "base_uri": "https://localhost:8080/"
        },
        "outputId": "7243fbfe-4e17-4f83-dbc8-1fc0e3981c86"
      },
      "source": [
        "directory_real_class_4 = \"/content/gdrive/My Drive/Kaggle/randomly selected preprocessed/class 1/\"\n",
        "directory_fake = \"/content/gdrive/My Drive/img_retina_Kaggle_class_4_state_of_art_GAN/79/\"\n",
        "psnr_averages = []\n",
        "for fake_image in os.listdir(directory_fake):\n",
        "  PSNR_average = 0\n",
        "  i = 0\n",
        "  for real_image in os.listdir(directory_real_class_4):\n",
        "    img_real = cv2.imread(directory_real_class_4 + real_image)\n",
        "    img_fake = cv2.imread(directory_fake + fake_image)\n",
        "    img_real = cv2.resize(img_real, (128, 128))\n",
        "    img_fake = cv2.resize(img_fake, (128, 128))\n",
        "    PSNR_none = PSNR(img_real, img_fake)\n",
        "    PSNR_average += PSNR_none\n",
        "    i+=1\n",
        "  PSNR_average = PSNR_average/i\n",
        "  psnr_averages.append(PSNR_average)\n",
        "  #print(fake_image + \" \" + str(PSNR_average))\n",
        "print(min(psnr_averages))\n",
        "print(max(psnr_averages))"
      ],
      "execution_count": null,
      "outputs": [
        {
          "output_type": "stream",
          "text": [
            "28.133795793279614\n",
            "28.162124098754177\n"
          ],
          "name": "stdout"
        }
      ]
    },
    {
      "cell_type": "code",
      "metadata": {
        "id": "yaSCm2S_xDoV",
        "colab": {
          "base_uri": "https://localhost:8080/"
        },
        "outputId": "8da0ee36-399d-4c0b-d9db-e523b05090cf"
      },
      "source": [
        "directory_real_class_4 = \"/content/gdrive/My Drive/Kaggle/randomly selected preprocessed/class 1/\"\n",
        "directory_fake = \"/content/gdrive/My Drive/img_retina_Kaggle_class_4_state_of_art_GAN/89/\"\n",
        "psnr_averages = []\n",
        "for fake_image in os.listdir(directory_fake):\n",
        "  PSNR_average = 0\n",
        "  i = 0\n",
        "  for real_image in os.listdir(directory_real_class_4):\n",
        "    img_real = cv2.imread(directory_real_class_4 + real_image)\n",
        "    img_fake = cv2.imread(directory_fake + fake_image)\n",
        "    img_real = cv2.resize(img_real, (128, 128))\n",
        "    img_fake = cv2.resize(img_fake, (128, 128))\n",
        "    PSNR_none = PSNR(img_real, img_fake)\n",
        "    PSNR_average += PSNR_none\n",
        "    i+=1\n",
        "  PSNR_average = PSNR_average/i\n",
        "  psnr_averages.append(PSNR_average)\n",
        "  #print(fake_image + \" \" + str(PSNR_average))\n",
        "print(min(psnr_averages))\n",
        "print(max(psnr_averages))"
      ],
      "execution_count": null,
      "outputs": [
        {
          "output_type": "stream",
          "text": [
            "28.102496993004692\n",
            "28.12331801737172\n"
          ],
          "name": "stdout"
        }
      ]
    },
    {
      "cell_type": "code",
      "metadata": {
        "id": "pqgWLvaqxD8a",
        "colab": {
          "base_uri": "https://localhost:8080/"
        },
        "outputId": "fc4c2dc1-44c4-4ccd-b4f9-66200bc5cbf1"
      },
      "source": [
        "directory_real_class_4 = \"/content/gdrive/My Drive/Kaggle/randomly selected preprocessed/class 1/\"\n",
        "directory_fake = \"/content/gdrive/My Drive/img_retina_Kaggle_class_4_state_of_art_GAN/99/\"\n",
        "psnr_averages = []\n",
        "for fake_image in os.listdir(directory_fake):\n",
        "  PSNR_average = 0\n",
        "  i = 0\n",
        "  for real_image in os.listdir(directory_real_class_4):\n",
        "    img_real = cv2.imread(directory_real_class_4 + real_image)\n",
        "    img_fake = cv2.imread(directory_fake + fake_image)\n",
        "    img_real = cv2.resize(img_real, (128, 128))\n",
        "    img_fake = cv2.resize(img_fake, (128, 128))\n",
        "    PSNR_none = PSNR(img_real, img_fake)\n",
        "    PSNR_average += PSNR_none\n",
        "    i+=1\n",
        "  PSNR_average = PSNR_average/i\n",
        "  psnr_averages.append(PSNR_average)\n",
        "  #print(fake_image + \" \" + str(PSNR_average))\n",
        "print(min(psnr_averages))\n",
        "print(max(psnr_averages))"
      ],
      "execution_count": null,
      "outputs": [
        {
          "output_type": "stream",
          "text": [
            "28.086464855442212\n",
            "28.108132213855047\n"
          ],
          "name": "stdout"
        }
      ]
    },
    {
      "cell_type": "code",
      "metadata": {
        "id": "tfrz7fy7xEPy",
        "colab": {
          "base_uri": "https://localhost:8080/"
        },
        "outputId": "72b239e0-6760-4c53-8c6c-1383f4aebd44"
      },
      "source": [
        "directory_real_class_4 = \"/content/gdrive/My Drive/Kaggle/randomly selected preprocessed/class 1/\"\n",
        "directory_fake = \"/content/gdrive/My Drive/img_retina_Kaggle_class_4_state_of_art_GAN/109/\"\n",
        "psnr_averages = []\n",
        "for fake_image in os.listdir(directory_fake):\n",
        "  PSNR_average = 0\n",
        "  i = 0\n",
        "  for real_image in os.listdir(directory_real_class_4):\n",
        "    img_real = cv2.imread(directory_real_class_4 + real_image)\n",
        "    img_fake = cv2.imread(directory_fake + fake_image)\n",
        "    img_real = cv2.resize(img_real, (128, 128))\n",
        "    img_fake = cv2.resize(img_fake, (128, 128))\n",
        "    PSNR_none = PSNR(img_real, img_fake)\n",
        "    PSNR_average += PSNR_none\n",
        "    i+=1\n",
        "  PSNR_average = PSNR_average/i\n",
        "  psnr_averages.append(PSNR_average)\n",
        "  #print(fake_image + \" \" + str(PSNR_average))\n",
        "print(min(psnr_averages))\n",
        "print(max(psnr_averages))"
      ],
      "execution_count": null,
      "outputs": [
        {
          "output_type": "stream",
          "text": [
            "28.11131573669582\n",
            "28.132579249835775\n"
          ],
          "name": "stdout"
        }
      ]
    },
    {
      "cell_type": "code",
      "metadata": {
        "id": "0kIRJph9xE6y",
        "colab": {
          "base_uri": "https://localhost:8080/"
        },
        "outputId": "9bfaeb9d-4932-4ffb-a547-3956fb2fcc97"
      },
      "source": [
        "directory_real_class_4 = \"/content/gdrive/My Drive/Kaggle/randomly selected preprocessed/class 1/\"\n",
        "directory_fake = \"/content/gdrive/My Drive/img_retina_Kaggle_class_4_state_of_art_GAN/119/\"\n",
        "psnr_averages = []\n",
        "for fake_image in os.listdir(directory_fake):\n",
        "  PSNR_average = 0\n",
        "  i = 0\n",
        "  for real_image in os.listdir(directory_real_class_4):\n",
        "    img_real = cv2.imread(directory_real_class_4 + real_image)\n",
        "    img_fake = cv2.imread(directory_fake + fake_image)\n",
        "    img_real = cv2.resize(img_real, (128, 128))\n",
        "    img_fake = cv2.resize(img_fake, (128, 128))\n",
        "    PSNR_none = PSNR(img_real, img_fake)\n",
        "    PSNR_average += PSNR_none\n",
        "    i+=1\n",
        "  PSNR_average = PSNR_average/i\n",
        "  psnr_averages.append(PSNR_average)\n",
        "  #print(fake_image + \" \" + str(PSNR_average))\n",
        "print(min(psnr_averages))\n",
        "print(max(psnr_averages))"
      ],
      "execution_count": null,
      "outputs": [
        {
          "output_type": "stream",
          "text": [
            "28.082209682685157\n",
            "28.104807671468944\n"
          ],
          "name": "stdout"
        }
      ]
    },
    {
      "cell_type": "code",
      "metadata": {
        "id": "N1KV4xl4xGFI",
        "colab": {
          "base_uri": "https://localhost:8080/"
        },
        "outputId": "9a8f454d-f0e5-4c3c-85e8-b0483ffdd45e"
      },
      "source": [
        "directory_real_class_4 = \"/content/gdrive/My Drive/Kaggle/randomly selected preprocessed/class 1/\"\n",
        "directory_fake = \"/content/gdrive/My Drive/img_retina_Kaggle_class_4_state_of_art_GAN/129/\"\n",
        "psnr_averages = []\n",
        "for fake_image in os.listdir(directory_fake):\n",
        "  PSNR_average = 0\n",
        "  i = 0\n",
        "  for real_image in os.listdir(directory_real_class_4):\n",
        "    img_real = cv2.imread(directory_real_class_4 + real_image)\n",
        "    img_fake = cv2.imread(directory_fake + fake_image)\n",
        "    img_real = cv2.resize(img_real, (128, 128))\n",
        "    img_fake = cv2.resize(img_fake, (128, 128))\n",
        "    PSNR_none = PSNR(img_real, img_fake)\n",
        "    PSNR_average += PSNR_none\n",
        "    i+=1\n",
        "  PSNR_average = PSNR_average/i\n",
        "  psnr_averages.append(PSNR_average)\n",
        "  #print(fake_image + \" \" + str(PSNR_average))\n",
        "print(min(psnr_averages))\n",
        "print(max(psnr_averages))"
      ],
      "execution_count": null,
      "outputs": [
        {
          "output_type": "stream",
          "text": [
            "28.06975649857694\n",
            "28.090686596533978\n"
          ],
          "name": "stdout"
        }
      ]
    },
    {
      "cell_type": "code",
      "metadata": {
        "id": "P7hDmKSLxGba",
        "colab": {
          "base_uri": "https://localhost:8080/"
        },
        "outputId": "688a62f8-d09d-4d8c-d385-60c08596cf19"
      },
      "source": [
        "directory_real_class_4 = \"/content/gdrive/My Drive/Kaggle/randomly selected preprocessed/class 1/\"\n",
        "directory_fake = \"/content/gdrive/My Drive/img_retina_Kaggle_class_4_state_of_art_GAN/139/\"\n",
        "psnr_averages = []\n",
        "for fake_image in os.listdir(directory_fake):\n",
        "  PSNR_average = 0\n",
        "  i = 0\n",
        "  for real_image in os.listdir(directory_real_class_4):\n",
        "    img_real = cv2.imread(directory_real_class_4 + real_image)\n",
        "    img_fake = cv2.imread(directory_fake + fake_image)\n",
        "    img_real = cv2.resize(img_real, (128, 128))\n",
        "    img_fake = cv2.resize(img_fake, (128, 128))\n",
        "    PSNR_none = PSNR(img_real, img_fake)\n",
        "    PSNR_average += PSNR_none\n",
        "    i+=1\n",
        "  PSNR_average = PSNR_average/i\n",
        "  psnr_averages.append(PSNR_average)\n",
        "  #print(fake_image + \" \" + str(PSNR_average))\n",
        "print(min(psnr_averages))\n",
        "print(max(psnr_averages))"
      ],
      "execution_count": null,
      "outputs": [
        {
          "output_type": "stream",
          "text": [
            "28.076000715264616\n",
            "28.095927844565864\n"
          ],
          "name": "stdout"
        }
      ]
    },
    {
      "cell_type": "code",
      "metadata": {
        "id": "gjTM3y96xG4e",
        "colab": {
          "base_uri": "https://localhost:8080/"
        },
        "outputId": "c148d17c-851f-4d50-c8eb-22d5174653e4"
      },
      "source": [
        "directory_real_class_4 = \"/content/gdrive/My Drive/Kaggle/randomly selected preprocessed/class 1/\"\n",
        "directory_fake = \"/content/gdrive/My Drive/img_retina_Kaggle_class_4_state_of_art_GAN/149/\"\n",
        "psnr_averages = []\n",
        "for fake_image in os.listdir(directory_fake):\n",
        "  PSNR_average = 0\n",
        "  i = 0\n",
        "  for real_image in os.listdir(directory_real_class_4):\n",
        "    img_real = cv2.imread(directory_real_class_4 + real_image)\n",
        "    img_fake = cv2.imread(directory_fake + fake_image)\n",
        "    img_real = cv2.resize(img_real, (128, 128))\n",
        "    img_fake = cv2.resize(img_fake, (128, 128))\n",
        "    PSNR_none = PSNR(img_real, img_fake)\n",
        "    PSNR_average += PSNR_none\n",
        "    i+=1\n",
        "  PSNR_average = PSNR_average/i\n",
        "  psnr_averages.append(PSNR_average)\n",
        "  #print(fake_image + \" \" + str(PSNR_average))\n",
        "print(min(psnr_averages))\n",
        "print(max(psnr_averages))"
      ],
      "execution_count": null,
      "outputs": [
        {
          "output_type": "stream",
          "text": [
            "28.083047128889202\n",
            "28.10028231999921\n"
          ],
          "name": "stdout"
        }
      ]
    },
    {
      "cell_type": "code",
      "metadata": {
        "id": "6C7tk-mXxVSO",
        "colab": {
          "base_uri": "https://localhost:8080/"
        },
        "outputId": "9bb3f17b-7752-4e6b-8155-c8e5b8c32479"
      },
      "source": [
        "directory_real_class_4 = \"/content/gdrive/My Drive/Kaggle/randomly selected preprocessed/class 1/\"\n",
        "directory_fake = \"/content/gdrive/My Drive/img_retina_Kaggle_class_4_state_of_art_GAN/159/\"\n",
        "psnr_averages = []\n",
        "for fake_image in os.listdir(directory_fake):\n",
        "  PSNR_average = 0\n",
        "  i = 0\n",
        "  for real_image in os.listdir(directory_real_class_4):\n",
        "    img_real = cv2.imread(directory_real_class_4 + real_image)\n",
        "    img_fake = cv2.imread(directory_fake + fake_image)\n",
        "    img_real = cv2.resize(img_real, (128, 128))\n",
        "    img_fake = cv2.resize(img_fake, (128, 128))\n",
        "    PSNR_none = PSNR(img_real, img_fake)\n",
        "    PSNR_average += PSNR_none\n",
        "    i+=1\n",
        "  PSNR_average = PSNR_average/i\n",
        "  psnr_averages.append(PSNR_average)\n",
        "  #print(fake_image + \" \" + str(PSNR_average))\n",
        "print(min(psnr_averages))\n",
        "print(max(psnr_averages))"
      ],
      "execution_count": null,
      "outputs": [
        {
          "output_type": "stream",
          "text": [
            "28.0862518407285\n",
            "28.107743929623272\n"
          ],
          "name": "stdout"
        }
      ]
    },
    {
      "cell_type": "code",
      "metadata": {
        "id": "YG8qL6CIxVdd",
        "colab": {
          "base_uri": "https://localhost:8080/"
        },
        "outputId": "7b1b4976-8aaa-4c2a-f4e7-b42aa9ba9211"
      },
      "source": [
        "directory_real_class_4 = \"/content/gdrive/My Drive/Kaggle/randomly selected preprocessed/class 1/\"\n",
        "directory_fake = \"/content/gdrive/My Drive/img_retina_Kaggle_class_4_state_of_art_GAN/169/\"\n",
        "psnr_averages = []\n",
        "for fake_image in os.listdir(directory_fake):\n",
        "  PSNR_average = 0\n",
        "  i = 0\n",
        "  for real_image in os.listdir(directory_real_class_4):\n",
        "    img_real = cv2.imread(directory_real_class_4 + real_image)\n",
        "    img_fake = cv2.imread(directory_fake + fake_image)\n",
        "    img_real = cv2.resize(img_real, (128, 128))\n",
        "    img_fake = cv2.resize(img_fake, (128, 128))\n",
        "    PSNR_none = PSNR(img_real, img_fake)\n",
        "    PSNR_average += PSNR_none\n",
        "    i+=1\n",
        "  PSNR_average = PSNR_average/i\n",
        "  psnr_averages.append(PSNR_average)\n",
        "  #print(fake_image + \" \" + str(PSNR_average))\n",
        "print(min(psnr_averages))\n",
        "print(max(psnr_averages))"
      ],
      "execution_count": null,
      "outputs": [
        {
          "output_type": "stream",
          "text": [
            "28.093683081516225\n",
            "28.11275424391154\n"
          ],
          "name": "stdout"
        }
      ]
    },
    {
      "cell_type": "code",
      "metadata": {
        "id": "Ccd_vlzmxVhv",
        "colab": {
          "base_uri": "https://localhost:8080/"
        },
        "outputId": "9b0c594a-36a9-4c66-e1ff-e84898f4b3cf"
      },
      "source": [
        "directory_real_class_4 = \"/content/gdrive/My Drive/Kaggle/randomly selected preprocessed/class 1/\"\n",
        "directory_fake = \"/content/gdrive/My Drive/img_retina_Kaggle_class_4_state_of_art_GAN/179/\"\n",
        "psnr_averages = []\n",
        "for fake_image in os.listdir(directory_fake):\n",
        "  PSNR_average = 0\n",
        "  i = 0\n",
        "  for real_image in os.listdir(directory_real_class_4):\n",
        "    img_real = cv2.imread(directory_real_class_4 + real_image)\n",
        "    img_fake = cv2.imread(directory_fake + fake_image)\n",
        "    img_real = cv2.resize(img_real, (128, 128))\n",
        "    img_fake = cv2.resize(img_fake, (128, 128))\n",
        "    PSNR_none = PSNR(img_real, img_fake)\n",
        "    PSNR_average += PSNR_none\n",
        "    i+=1\n",
        "  PSNR_average = PSNR_average/i\n",
        "  psnr_averages.append(PSNR_average)\n",
        "  #print(fake_image + \" \" + str(PSNR_average))\n",
        "print(min(psnr_averages))\n",
        "print(max(psnr_averages))"
      ],
      "execution_count": null,
      "outputs": [
        {
          "output_type": "stream",
          "text": [
            "28.09629174092986\n",
            "28.113514293183176\n"
          ],
          "name": "stdout"
        }
      ]
    },
    {
      "cell_type": "code",
      "metadata": {
        "id": "IjtwX928xVkt",
        "colab": {
          "base_uri": "https://localhost:8080/"
        },
        "outputId": "bdf3cce6-6c62-445c-b5e2-1e7dd4aac0cc"
      },
      "source": [
        "directory_real_class_4 = \"/content/gdrive/My Drive/Kaggle/randomly selected preprocessed/class 1/\"\n",
        "directory_fake = \"/content/gdrive/My Drive/img_retina_Kaggle_class_4_state_of_art_GAN/189/\"\n",
        "psnr_averages = []\n",
        "for fake_image in os.listdir(directory_fake):\n",
        "  PSNR_average = 0\n",
        "  i = 0\n",
        "  for real_image in os.listdir(directory_real_class_4):\n",
        "    img_real = cv2.imread(directory_real_class_4 + real_image)\n",
        "    img_fake = cv2.imread(directory_fake + fake_image)\n",
        "    img_real = cv2.resize(img_real, (128, 128))\n",
        "    img_fake = cv2.resize(img_fake, (128, 128))\n",
        "    PSNR_none = PSNR(img_real, img_fake)\n",
        "    PSNR_average += PSNR_none\n",
        "    i+=1\n",
        "  PSNR_average = PSNR_average/i\n",
        "  psnr_averages.append(PSNR_average)\n",
        "  #print(fake_image + \" \" + str(PSNR_average))\n",
        "print(min(psnr_averages))\n",
        "print(max(psnr_averages))"
      ],
      "execution_count": null,
      "outputs": [
        {
          "output_type": "stream",
          "text": [
            "28.109386256877407\n",
            "28.131365256943646\n"
          ],
          "name": "stdout"
        }
      ]
    },
    {
      "cell_type": "code",
      "metadata": {
        "id": "raZoJYUuxVn-",
        "colab": {
          "base_uri": "https://localhost:8080/"
        },
        "outputId": "05905677-5224-49be-c2e2-ddcd499737d8"
      },
      "source": [
        "directory_real_class_4 = \"/content/gdrive/My Drive/Kaggle/randomly selected preprocessed/class 1/\"\n",
        "directory_fake = \"/content/gdrive/My Drive/img_retina_Kaggle_class_4_state_of_art_GAN/199/\"\n",
        "psnr_averages = []\n",
        "for fake_image in os.listdir(directory_fake):\n",
        "  PSNR_average = 0\n",
        "  i = 0\n",
        "  for real_image in os.listdir(directory_real_class_4):\n",
        "    img_real = cv2.imread(directory_real_class_4 + real_image)\n",
        "    img_fake = cv2.imread(directory_fake + fake_image)\n",
        "    img_real = cv2.resize(img_real, (128, 128))\n",
        "    img_fake = cv2.resize(img_fake, (128, 128))\n",
        "    PSNR_none = PSNR(img_real, img_fake)\n",
        "    PSNR_average += PSNR_none\n",
        "    i+=1\n",
        "  PSNR_average = PSNR_average/i\n",
        "  psnr_averages.append(PSNR_average)\n",
        "  #print(fake_image + \" \" + str(PSNR_average))\n",
        "print(min(psnr_averages))\n",
        "print(max(psnr_averages))"
      ],
      "execution_count": null,
      "outputs": [
        {
          "output_type": "stream",
          "text": [
            "28.11314502224945\n",
            "28.13170398524284\n"
          ],
          "name": "stdout"
        }
      ]
    },
    {
      "cell_type": "code",
      "metadata": {
        "id": "rmbqOSTkxVqx",
        "colab": {
          "base_uri": "https://localhost:8080/"
        },
        "outputId": "c8a0f5c1-1271-4f47-cf8c-b26b1bbb7055"
      },
      "source": [
        "directory_real_class_4 = \"/content/gdrive/My Drive/Kaggle/randomly selected preprocessed/class 1/\"\n",
        "directory_fake = \"/content/gdrive/My Drive/img_retina_Kaggle_class_4_state_of_art_GAN/209/\"\n",
        "psnr_averages = []\n",
        "for fake_image in os.listdir(directory_fake):\n",
        "  PSNR_average = 0\n",
        "  i = 0\n",
        "  for real_image in os.listdir(directory_real_class_4):\n",
        "    img_real = cv2.imread(directory_real_class_4 + real_image)\n",
        "    img_fake = cv2.imread(directory_fake + fake_image)\n",
        "    img_real = cv2.resize(img_real, (128, 128))\n",
        "    img_fake = cv2.resize(img_fake, (128, 128))\n",
        "    PSNR_none = PSNR(img_real, img_fake)\n",
        "    PSNR_average += PSNR_none\n",
        "    i+=1\n",
        "  PSNR_average = PSNR_average/i\n",
        "  psnr_averages.append(PSNR_average)\n",
        "  #print(fake_image + \" \" + str(PSNR_average))\n",
        "print(min(psnr_averages))\n",
        "print(max(psnr_averages))"
      ],
      "execution_count": null,
      "outputs": [
        {
          "output_type": "stream",
          "text": [
            "28.11085804999313\n",
            "28.130169689385408\n"
          ],
          "name": "stdout"
        }
      ]
    },
    {
      "cell_type": "code",
      "metadata": {
        "id": "HCF1QHtyxVte",
        "colab": {
          "base_uri": "https://localhost:8080/"
        },
        "outputId": "92f97023-6957-41ec-d7d5-dc5dfc66836d"
      },
      "source": [
        "directory_real_class_4 = \"/content/gdrive/My Drive/Kaggle/randomly selected preprocessed/class 1/\"\n",
        "directory_fake = \"/content/gdrive/My Drive/img_retina_Kaggle_class_4_state_of_art_GAN/219/\"\n",
        "psnr_averages = []\n",
        "for fake_image in os.listdir(directory_fake):\n",
        "  PSNR_average = 0\n",
        "  i = 0\n",
        "  for real_image in os.listdir(directory_real_class_4):\n",
        "    img_real = cv2.imread(directory_real_class_4 + real_image)\n",
        "    img_fake = cv2.imread(directory_fake + fake_image)\n",
        "    img_real = cv2.resize(img_real, (128, 128))\n",
        "    img_fake = cv2.resize(img_fake, (128, 128))\n",
        "    PSNR_none = PSNR(img_real, img_fake)\n",
        "    PSNR_average += PSNR_none\n",
        "    i+=1\n",
        "  PSNR_average = PSNR_average/i\n",
        "  psnr_averages.append(PSNR_average)\n",
        "  #print(fake_image + \" \" + str(PSNR_average))\n",
        "print(min(psnr_averages))\n",
        "print(max(psnr_averages))"
      ],
      "execution_count": null,
      "outputs": [
        {
          "output_type": "stream",
          "text": [
            "28.11418828587229\n",
            "28.1335405595826\n"
          ],
          "name": "stdout"
        }
      ]
    },
    {
      "cell_type": "code",
      "metadata": {
        "id": "mOEH9P-fxVwO",
        "colab": {
          "base_uri": "https://localhost:8080/"
        },
        "outputId": "ddc1043f-a4bc-4728-b79c-e84329c6e607"
      },
      "source": [
        "directory_real_class_4 = \"/content/gdrive/My Drive/Kaggle/randomly selected preprocessed/class 1/\"\n",
        "directory_fake = \"/content/gdrive/My Drive/img_retina_Kaggle_class_4_state_of_art_GAN/229/\"\n",
        "psnr_averages = []\n",
        "for fake_image in os.listdir(directory_fake):\n",
        "  PSNR_average = 0\n",
        "  i = 0\n",
        "  for real_image in os.listdir(directory_real_class_4):\n",
        "    img_real = cv2.imread(directory_real_class_4 + real_image)\n",
        "    img_fake = cv2.imread(directory_fake + fake_image)\n",
        "    img_real = cv2.resize(img_real, (128, 128))\n",
        "    img_fake = cv2.resize(img_fake, (128, 128))\n",
        "    PSNR_none = PSNR(img_real, img_fake)\n",
        "    PSNR_average += PSNR_none\n",
        "    i+=1\n",
        "  PSNR_average = PSNR_average/i\n",
        "  psnr_averages.append(PSNR_average)\n",
        "  #print(fake_image + \" \" + str(PSNR_average))\n",
        "print(min(psnr_averages))\n",
        "print(max(psnr_averages))"
      ],
      "execution_count": null,
      "outputs": [
        {
          "output_type": "stream",
          "text": [
            "28.10947534445605\n",
            "28.124050965741404\n"
          ],
          "name": "stdout"
        }
      ]
    },
    {
      "cell_type": "code",
      "metadata": {
        "id": "j0zCT8cFxVzO",
        "colab": {
          "base_uri": "https://localhost:8080/"
        },
        "outputId": "76ac5cbc-c2e2-4593-f59c-934c338f001e"
      },
      "source": [
        "directory_real_class_4 = \"/content/gdrive/My Drive/Kaggle/randomly selected preprocessed/class 1/\"\n",
        "directory_fake = \"/content/gdrive/My Drive/img_retina_Kaggle_class_4_state_of_art_GAN/239/\"\n",
        "psnr_averages = []\n",
        "for fake_image in os.listdir(directory_fake):\n",
        "  PSNR_average = 0\n",
        "  i = 0\n",
        "  for real_image in os.listdir(directory_real_class_4):\n",
        "    img_real = cv2.imread(directory_real_class_4 + real_image)\n",
        "    img_fake = cv2.imread(directory_fake + fake_image)\n",
        "    img_real = cv2.resize(img_real, (128, 128))\n",
        "    img_fake = cv2.resize(img_fake, (128, 128))\n",
        "    PSNR_none = PSNR(img_real, img_fake)\n",
        "    PSNR_average += PSNR_none\n",
        "    i+=1\n",
        "  PSNR_average = PSNR_average/i\n",
        "  psnr_averages.append(PSNR_average)\n",
        "  #print(fake_image + \" \" + str(PSNR_average))\n",
        "print(min(psnr_averages))\n",
        "print(max(psnr_averages))"
      ],
      "execution_count": null,
      "outputs": [
        {
          "output_type": "stream",
          "text": [
            "28.106558156372152\n",
            "28.122836719988456\n"
          ],
          "name": "stdout"
        }
      ]
    },
    {
      "cell_type": "code",
      "metadata": {
        "id": "7Yq8OMPRxbk5",
        "colab": {
          "base_uri": "https://localhost:8080/"
        },
        "outputId": "f8b8122a-991d-4f7b-eebc-3b926e98474e"
      },
      "source": [
        "directory_real_class_4 = \"/content/gdrive/My Drive/Kaggle/randomly selected preprocessed/class 1/\"\n",
        "directory_fake = \"/content/gdrive/My Drive/img_retina_Kaggle_class_4_state_of_art_GAN/249/\"\n",
        "psnr_averages = []\n",
        "for fake_image in os.listdir(directory_fake):\n",
        "  PSNR_average = 0\n",
        "  i = 0\n",
        "  for real_image in os.listdir(directory_real_class_4):\n",
        "    img_real = cv2.imread(directory_real_class_4 + real_image)\n",
        "    img_fake = cv2.imread(directory_fake + fake_image)\n",
        "    img_real = cv2.resize(img_real, (128, 128))\n",
        "    img_fake = cv2.resize(img_fake, (128, 128))\n",
        "    PSNR_none = PSNR(img_real, img_fake)\n",
        "    PSNR_average += PSNR_none\n",
        "    i+=1\n",
        "  PSNR_average = PSNR_average/i\n",
        "  psnr_averages.append(PSNR_average)\n",
        "  #print(fake_image + \" \" + str(PSNR_average))\n",
        "print(min(psnr_averages))\n",
        "print(max(psnr_averages))"
      ],
      "execution_count": null,
      "outputs": [
        {
          "output_type": "stream",
          "text": [
            "28.099835953554525\n",
            "28.11656213819297\n"
          ],
          "name": "stdout"
        }
      ]
    },
    {
      "cell_type": "code",
      "metadata": {
        "id": "PgBvVxZ2xbqM",
        "colab": {
          "base_uri": "https://localhost:8080/"
        },
        "outputId": "fd7d27b7-8eb2-4969-8963-42fc349f13ef"
      },
      "source": [
        "directory_real_class_4 = \"/content/gdrive/My Drive/Kaggle/randomly selected preprocessed/class 1/\"\n",
        "directory_fake = \"/content/gdrive/My Drive/img_retina_Kaggle_class_4_state_of_art_GAN/259/\"\n",
        "psnr_averages = []\n",
        "for fake_image in os.listdir(directory_fake):\n",
        "  PSNR_average = 0\n",
        "  i = 0\n",
        "  for real_image in os.listdir(directory_real_class_4):\n",
        "    img_real = cv2.imread(directory_real_class_4 + real_image)\n",
        "    img_fake = cv2.imread(directory_fake + fake_image)\n",
        "    img_real = cv2.resize(img_real, (128, 128))\n",
        "    img_fake = cv2.resize(img_fake, (128, 128))\n",
        "    PSNR_none = PSNR(img_real, img_fake)\n",
        "    PSNR_average += PSNR_none\n",
        "    i+=1\n",
        "  PSNR_average = PSNR_average/i\n",
        "  psnr_averages.append(PSNR_average)\n",
        "  #print(fake_image + \" \" + str(PSNR_average))\n",
        "print(min(psnr_averages))\n",
        "print(max(psnr_averages))"
      ],
      "execution_count": null,
      "outputs": [
        {
          "output_type": "stream",
          "text": [
            "28.095134142792652\n",
            "28.11462927957346\n"
          ],
          "name": "stdout"
        }
      ]
    },
    {
      "cell_type": "code",
      "metadata": {
        "id": "Rhtw26Huxbs6",
        "colab": {
          "base_uri": "https://localhost:8080/"
        },
        "outputId": "d3e24141-1217-41c8-c66c-200786594671"
      },
      "source": [
        "directory_real_class_4 = \"/content/gdrive/My Drive/Kaggle/randomly selected preprocessed/class 1/\"\n",
        "directory_fake = \"/content/gdrive/My Drive/img_retina_Kaggle_class_4_state_of_art_GAN/269/\"\n",
        "psnr_averages = []\n",
        "for fake_image in os.listdir(directory_fake):\n",
        "  PSNR_average = 0\n",
        "  i = 0\n",
        "  for real_image in os.listdir(directory_real_class_4):\n",
        "    img_real = cv2.imread(directory_real_class_4 + real_image)\n",
        "    img_fake = cv2.imread(directory_fake + fake_image)\n",
        "    img_real = cv2.resize(img_real, (128, 128))\n",
        "    img_fake = cv2.resize(img_fake, (128, 128))\n",
        "    PSNR_none = PSNR(img_real, img_fake)\n",
        "    PSNR_average += PSNR_none\n",
        "    i+=1\n",
        "  PSNR_average = PSNR_average/i\n",
        "  psnr_averages.append(PSNR_average)\n",
        "  #print(fake_image + \" \" + str(PSNR_average))\n",
        "print(min(psnr_averages))\n",
        "print(max(psnr_averages))"
      ],
      "execution_count": null,
      "outputs": [
        {
          "output_type": "stream",
          "text": [
            "28.106063999827597\n",
            "28.12563099892813\n"
          ],
          "name": "stdout"
        }
      ]
    },
    {
      "cell_type": "code",
      "metadata": {
        "id": "dqUjF0_9xbvt",
        "colab": {
          "base_uri": "https://localhost:8080/"
        },
        "outputId": "219a7e7e-7bb1-45a0-a9f2-7f0c74866222"
      },
      "source": [
        "directory_real_class_4 = \"/content/gdrive/My Drive/Kaggle/randomly selected preprocessed/class 1/\"\n",
        "directory_fake = \"/content/gdrive/My Drive/img_retina_Kaggle_class_4_state_of_art_GAN/279/\"\n",
        "psnr_averages = []\n",
        "for fake_image in os.listdir(directory_fake):\n",
        "  PSNR_average = 0\n",
        "  i = 0\n",
        "  for real_image in os.listdir(directory_real_class_4):\n",
        "    img_real = cv2.imread(directory_real_class_4 + real_image)\n",
        "    img_fake = cv2.imread(directory_fake + fake_image)\n",
        "    img_real = cv2.resize(img_real, (128, 128))\n",
        "    img_fake = cv2.resize(img_fake, (128, 128))\n",
        "    PSNR_none = PSNR(img_real, img_fake)\n",
        "    PSNR_average += PSNR_none\n",
        "    i+=1\n",
        "  PSNR_average = PSNR_average/i\n",
        "  psnr_averages.append(PSNR_average)\n",
        "  #print(fake_image + \" \" + str(PSNR_average))\n",
        "print(min(psnr_averages))\n",
        "print(max(psnr_averages))"
      ],
      "execution_count": null,
      "outputs": [
        {
          "output_type": "stream",
          "text": [
            "28.105228775276355\n",
            "28.123312486952685\n"
          ],
          "name": "stdout"
        }
      ]
    },
    {
      "cell_type": "code",
      "metadata": {
        "id": "T_R4llCvxbya",
        "colab": {
          "base_uri": "https://localhost:8080/"
        },
        "outputId": "922bde3e-a2e8-492c-c7da-372e4f8b2d7b"
      },
      "source": [
        "directory_real_class_4 = \"/content/gdrive/My Drive/Kaggle/randomly selected preprocessed/class 1/\"\n",
        "directory_fake = \"/content/gdrive/My Drive/img_retina_Kaggle_class_4_state_of_art_GAN/289/\"\n",
        "psnr_averages = []\n",
        "for fake_image in os.listdir(directory_fake):\n",
        "  PSNR_average = 0\n",
        "  i = 0\n",
        "  for real_image in os.listdir(directory_real_class_4):\n",
        "    img_real = cv2.imread(directory_real_class_4 + real_image)\n",
        "    img_fake = cv2.imread(directory_fake + fake_image)\n",
        "    img_real = cv2.resize(img_real, (128, 128))\n",
        "    img_fake = cv2.resize(img_fake, (128, 128))\n",
        "    PSNR_none = PSNR(img_real, img_fake)\n",
        "    PSNR_average += PSNR_none\n",
        "    i+=1\n",
        "  PSNR_average = PSNR_average/i\n",
        "  psnr_averages.append(PSNR_average)\n",
        "  #print(fake_image + \" \" + str(PSNR_average))\n",
        "print(min(psnr_averages))\n",
        "print(max(psnr_averages))"
      ],
      "execution_count": null,
      "outputs": [
        {
          "output_type": "stream",
          "text": [
            "28.101137074915084\n",
            "28.119893319858456\n"
          ],
          "name": "stdout"
        }
      ]
    },
    {
      "cell_type": "code",
      "metadata": {
        "id": "hn21Kxesxegn",
        "colab": {
          "base_uri": "https://localhost:8080/"
        },
        "outputId": "4c6ae1b5-187c-4588-aa92-24fcc273e795"
      },
      "source": [
        "directory_real_class_4 = \"/content/gdrive/My Drive/Kaggle/randomly selected preprocessed/class 1/\"\n",
        "directory_fake = \"/content/gdrive/My Drive/img_retina_Kaggle_class_4_state_of_art_GAN/299/\"\n",
        "psnr_averages = []\n",
        "for fake_image in os.listdir(directory_fake):\n",
        "  PSNR_average = 0\n",
        "  i = 0\n",
        "  for real_image in os.listdir(directory_real_class_4):\n",
        "    img_real = cv2.imread(directory_real_class_4 + real_image)\n",
        "    img_fake = cv2.imread(directory_fake + fake_image)\n",
        "    img_real = cv2.resize(img_real, (128, 128))\n",
        "    img_fake = cv2.resize(img_fake, (128, 128))\n",
        "    PSNR_none = PSNR(img_real, img_fake)\n",
        "    PSNR_average += PSNR_none\n",
        "    i+=1\n",
        "  PSNR_average = PSNR_average/i\n",
        "  psnr_averages.append(PSNR_average)\n",
        "  #print(fake_image + \" \" + str(PSNR_average))\n",
        "print(min(psnr_averages))\n",
        "print(max(psnr_averages))"
      ],
      "execution_count": null,
      "outputs": [
        {
          "output_type": "stream",
          "text": [
            "28.102179401930687\n",
            "28.119496541279176\n"
          ],
          "name": "stdout"
        }
      ]
    },
    {
      "cell_type": "code",
      "metadata": {
        "id": "oMZjUWmcxen9",
        "colab": {
          "base_uri": "https://localhost:8080/"
        },
        "outputId": "81eccdee-87b7-45e4-efc8-67a21a3cb8db"
      },
      "source": [
        "directory_real_class_4 = \"/content/gdrive/My Drive/Kaggle/randomly selected preprocessed/class 1/\"\n",
        "directory_fake = \"/content/gdrive/My Drive/img_retina_Kaggle_class_4_state_of_art_GAN/309/\"\n",
        "psnr_averages = []\n",
        "for fake_image in os.listdir(directory_fake):\n",
        "  PSNR_average = 0\n",
        "  i = 0\n",
        "  for real_image in os.listdir(directory_real_class_4):\n",
        "    img_real = cv2.imread(directory_real_class_4 + real_image)\n",
        "    img_fake = cv2.imread(directory_fake + fake_image)\n",
        "    img_real = cv2.resize(img_real, (128, 128))\n",
        "    img_fake = cv2.resize(img_fake, (128, 128))\n",
        "    PSNR_none = PSNR(img_real, img_fake)\n",
        "    PSNR_average += PSNR_none\n",
        "    i+=1\n",
        "  PSNR_average = PSNR_average/i\n",
        "  psnr_averages.append(PSNR_average)\n",
        "  #print(fake_image + \" \" + str(PSNR_average))\n",
        "print(min(psnr_averages))\n",
        "print(max(psnr_averages))"
      ],
      "execution_count": null,
      "outputs": [
        {
          "output_type": "stream",
          "text": [
            "28.092521840283386\n",
            "28.111946146552544\n"
          ],
          "name": "stdout"
        }
      ]
    },
    {
      "cell_type": "code",
      "metadata": {
        "id": "aEugmaNLxgRP",
        "colab": {
          "base_uri": "https://localhost:8080/"
        },
        "outputId": "9f797763-671b-4a1a-912a-42f7b7f262e6"
      },
      "source": [
        "directory_real_class_4 = \"/content/gdrive/My Drive/Kaggle/randomly selected preprocessed/class 1/\"\n",
        "directory_fake = \"/content/gdrive/My Drive/img_retina_Kaggle_class_4_state_of_art_GAN/319/\"\n",
        "psnr_averages = []\n",
        "for fake_image in os.listdir(directory_fake):\n",
        "  PSNR_average = 0\n",
        "  i = 0\n",
        "  for real_image in os.listdir(directory_real_class_4):\n",
        "    img_real = cv2.imread(directory_real_class_4 + real_image)\n",
        "    img_fake = cv2.imread(directory_fake + fake_image)\n",
        "    img_real = cv2.resize(img_real, (128, 128))\n",
        "    img_fake = cv2.resize(img_fake, (128, 128))\n",
        "    PSNR_none = PSNR(img_real, img_fake)\n",
        "    PSNR_average += PSNR_none\n",
        "    i+=1\n",
        "  PSNR_average = PSNR_average/i\n",
        "  psnr_averages.append(PSNR_average)\n",
        "  #print(fake_image + \" \" + str(PSNR_average))\n",
        "print(min(psnr_averages))\n",
        "print(max(psnr_averages))"
      ],
      "execution_count": null,
      "outputs": [
        {
          "output_type": "stream",
          "text": [
            "28.098464596824968\n",
            "28.11499511826168\n"
          ],
          "name": "stdout"
        }
      ]
    },
    {
      "cell_type": "code",
      "metadata": {
        "id": "YcJebbTfxgXd",
        "colab": {
          "base_uri": "https://localhost:8080/"
        },
        "outputId": "cb128691-d21d-4915-a327-ab54dce210ca"
      },
      "source": [
        "directory_real_class_4 = \"/content/gdrive/My Drive/Kaggle/randomly selected preprocessed/class 1/\"\n",
        "directory_fake = \"/content/gdrive/My Drive/img_retina_Kaggle_class_4_state_of_art_GAN/329/\"\n",
        "psnr_averages = []\n",
        "for fake_image in os.listdir(directory_fake):\n",
        "  PSNR_average = 0\n",
        "  i = 0\n",
        "  for real_image in os.listdir(directory_real_class_4):\n",
        "    img_real = cv2.imread(directory_real_class_4 + real_image)\n",
        "    img_fake = cv2.imread(directory_fake + fake_image)\n",
        "    img_real = cv2.resize(img_real, (128, 128))\n",
        "    img_fake = cv2.resize(img_fake, (128, 128))\n",
        "    PSNR_none = PSNR(img_real, img_fake)\n",
        "    PSNR_average += PSNR_none\n",
        "    i+=1\n",
        "  PSNR_average = PSNR_average/i\n",
        "  psnr_averages.append(PSNR_average)\n",
        "  #print(fake_image + \" \" + str(PSNR_average))\n",
        "print(min(psnr_averages))\n",
        "print(max(psnr_averages))"
      ],
      "execution_count": null,
      "outputs": [
        {
          "output_type": "stream",
          "text": [
            "28.082567307710747\n",
            "28.09857429663493\n"
          ],
          "name": "stdout"
        }
      ]
    },
    {
      "cell_type": "code",
      "metadata": {
        "id": "JddEmfPYx6kT",
        "colab": {
          "base_uri": "https://localhost:8080/"
        },
        "outputId": "87816f0d-2e4d-435d-99ce-8107e9b6523b"
      },
      "source": [
        "directory_real_class_4 = \"/content/gdrive/My Drive/Kaggle/randomly selected preprocessed/class 1/\"\n",
        "directory_fake = \"/content/gdrive/My Drive/img_retina_Kaggle_class_4_state_of_art_GAN/339/\"\n",
        "psnr_averages = []\n",
        "for fake_image in os.listdir(directory_fake):\n",
        "  PSNR_average = 0\n",
        "  i = 0\n",
        "  for real_image in os.listdir(directory_real_class_4):\n",
        "    img_real = cv2.imread(directory_real_class_4 + real_image)\n",
        "    img_fake = cv2.imread(directory_fake + fake_image)\n",
        "    img_real = cv2.resize(img_real, (128, 128))\n",
        "    img_fake = cv2.resize(img_fake, (128, 128))\n",
        "    PSNR_none = PSNR(img_real, img_fake)\n",
        "    PSNR_average += PSNR_none\n",
        "    i+=1\n",
        "  PSNR_average = PSNR_average/i\n",
        "  psnr_averages.append(PSNR_average)\n",
        "  #print(fake_image + \" \" + str(PSNR_average))\n",
        "print(min(psnr_averages))\n",
        "print(max(psnr_averages))"
      ],
      "execution_count": null,
      "outputs": [
        {
          "output_type": "stream",
          "text": [
            "28.083786736168232\n",
            "28.10443098691944\n"
          ],
          "name": "stdout"
        }
      ]
    },
    {
      "cell_type": "code",
      "metadata": {
        "id": "U8Ne2po5x6t6",
        "colab": {
          "base_uri": "https://localhost:8080/"
        },
        "outputId": "37b37706-dc78-455e-a9a7-e42b4e02268d"
      },
      "source": [
        "directory_real_class_4 = \"/content/gdrive/My Drive/Kaggle/randomly selected preprocessed/class 1/\"\n",
        "directory_fake = \"/content/gdrive/My Drive/img_retina_Kaggle_class_4_state_of_art_GAN/349/\"\n",
        "psnr_averages = []\n",
        "for fake_image in os.listdir(directory_fake):\n",
        "  PSNR_average = 0\n",
        "  i = 0\n",
        "  for real_image in os.listdir(directory_real_class_4):\n",
        "    img_real = cv2.imread(directory_real_class_4 + real_image)\n",
        "    img_fake = cv2.imread(directory_fake + fake_image)\n",
        "    img_real = cv2.resize(img_real, (128, 128))\n",
        "    img_fake = cv2.resize(img_fake, (128, 128))\n",
        "    PSNR_none = PSNR(img_real, img_fake)\n",
        "    PSNR_average += PSNR_none\n",
        "    i+=1\n",
        "  PSNR_average = PSNR_average/i\n",
        "  psnr_averages.append(PSNR_average)\n",
        "  #print(fake_image + \" \" + str(PSNR_average))\n",
        "print(min(psnr_averages))\n",
        "print(max(psnr_averages))"
      ],
      "execution_count": null,
      "outputs": [
        {
          "output_type": "stream",
          "text": [
            "28.082763049320256\n",
            "28.099212391846546\n"
          ],
          "name": "stdout"
        }
      ]
    },
    {
      "cell_type": "code",
      "metadata": {
        "id": "UeNb2a1ox60O",
        "colab": {
          "base_uri": "https://localhost:8080/"
        },
        "outputId": "195f4acd-9b35-4caf-ba24-256b8eb8b40c"
      },
      "source": [
        "directory_real_class_4 = \"/content/gdrive/My Drive/Kaggle/randomly selected preprocessed/class 1/\"\n",
        "directory_fake = \"/content/gdrive/My Drive/img_retina_Kaggle_class_4_state_of_art_GAN/359/\"\n",
        "psnr_averages = []\n",
        "for fake_image in os.listdir(directory_fake):\n",
        "  PSNR_average = 0\n",
        "  i = 0\n",
        "  for real_image in os.listdir(directory_real_class_4):\n",
        "    img_real = cv2.imread(directory_real_class_4 + real_image)\n",
        "    img_fake = cv2.imread(directory_fake + fake_image)\n",
        "    img_real = cv2.resize(img_real, (128, 128))\n",
        "    img_fake = cv2.resize(img_fake, (128, 128))\n",
        "    PSNR_none = PSNR(img_real, img_fake)\n",
        "    PSNR_average += PSNR_none\n",
        "    i+=1\n",
        "  PSNR_average = PSNR_average/i\n",
        "  psnr_averages.append(PSNR_average)\n",
        "  #print(fake_image + \" \" + str(PSNR_average))\n",
        "print(min(psnr_averages))\n",
        "print(max(psnr_averages))"
      ],
      "execution_count": null,
      "outputs": [
        {
          "output_type": "stream",
          "text": [
            "28.07261102308615\n",
            "28.088902849826592\n"
          ],
          "name": "stdout"
        }
      ]
    },
    {
      "cell_type": "code",
      "metadata": {
        "id": "FjF-NCfox64M",
        "colab": {
          "base_uri": "https://localhost:8080/"
        },
        "outputId": "48cb115b-c1b0-4448-8be4-7889eae899d9"
      },
      "source": [
        "directory_real_class_4 = \"/content/gdrive/My Drive/Kaggle/randomly selected preprocessed/class 1/\"\n",
        "directory_fake = \"/content/gdrive/My Drive/img_retina_Kaggle_class_4_state_of_art_GAN/369/\"\n",
        "psnr_averages = []\n",
        "for fake_image in os.listdir(directory_fake):\n",
        "  PSNR_average = 0\n",
        "  i = 0\n",
        "  for real_image in os.listdir(directory_real_class_4):\n",
        "    img_real = cv2.imread(directory_real_class_4 + real_image)\n",
        "    img_fake = cv2.imread(directory_fake + fake_image)\n",
        "    img_real = cv2.resize(img_real, (128, 128))\n",
        "    img_fake = cv2.resize(img_fake, (128, 128))\n",
        "    PSNR_none = PSNR(img_real, img_fake)\n",
        "    PSNR_average += PSNR_none\n",
        "    i+=1\n",
        "  PSNR_average = PSNR_average/i\n",
        "  psnr_averages.append(PSNR_average)\n",
        "  #print(fake_image + \" \" + str(PSNR_average))\n",
        "print(min(psnr_averages))\n",
        "print(max(psnr_averages))"
      ],
      "execution_count": null,
      "outputs": [
        {
          "output_type": "stream",
          "text": [
            "28.077912411509224\n",
            "28.094721373436645\n"
          ],
          "name": "stdout"
        }
      ]
    },
    {
      "cell_type": "code",
      "metadata": {
        "id": "WND_DsQZx6_D",
        "colab": {
          "base_uri": "https://localhost:8080/"
        },
        "outputId": "0fcb0add-0a5c-4f5b-8ea6-c0aa20351429"
      },
      "source": [
        "directory_real_class_4 = \"/content/gdrive/My Drive/Kaggle/randomly selected preprocessed/class 1/\"\n",
        "directory_fake = \"/content/gdrive/My Drive/img_retina_Kaggle_class_4_state_of_art_GAN/379/\"\n",
        "psnr_averages = []\n",
        "for fake_image in os.listdir(directory_fake):\n",
        "  PSNR_average = 0\n",
        "  i = 0\n",
        "  for real_image in os.listdir(directory_real_class_4):\n",
        "    img_real = cv2.imread(directory_real_class_4 + real_image)\n",
        "    img_fake = cv2.imread(directory_fake + fake_image)\n",
        "    img_real = cv2.resize(img_real, (128, 128))\n",
        "    img_fake = cv2.resize(img_fake, (128, 128))\n",
        "    PSNR_none = PSNR(img_real, img_fake)\n",
        "    PSNR_average += PSNR_none\n",
        "    i+=1\n",
        "  PSNR_average = PSNR_average/i\n",
        "  psnr_averages.append(PSNR_average)\n",
        "  #print(fake_image + \" \" + str(PSNR_average))\n",
        "print(min(psnr_averages))\n",
        "print(max(psnr_averages))"
      ],
      "execution_count": null,
      "outputs": [
        {
          "output_type": "stream",
          "text": [
            "28.072893304207597\n",
            "28.08961370508009\n"
          ],
          "name": "stdout"
        }
      ]
    },
    {
      "cell_type": "code",
      "metadata": {
        "id": "0RTh-eRtx7F8",
        "colab": {
          "base_uri": "https://localhost:8080/"
        },
        "outputId": "c8b7a821-6ffd-442e-f8ba-a37cd7591927"
      },
      "source": [
        "directory_real_class_4 = \"/content/gdrive/My Drive/Kaggle/randomly selected preprocessed/class 1/\"\n",
        "directory_fake = \"/content/gdrive/My Drive/img_retina_Kaggle_class_4_state_of_art_GAN/389/\"\n",
        "psnr_averages = []\n",
        "for fake_image in os.listdir(directory_fake):\n",
        "  PSNR_average = 0\n",
        "  i = 0\n",
        "  for real_image in os.listdir(directory_real_class_4):\n",
        "    img_real = cv2.imread(directory_real_class_4 + real_image)\n",
        "    img_fake = cv2.imread(directory_fake + fake_image)\n",
        "    img_real = cv2.resize(img_real, (128, 128))\n",
        "    img_fake = cv2.resize(img_fake, (128, 128))\n",
        "    PSNR_none = PSNR(img_real, img_fake)\n",
        "    PSNR_average += PSNR_none\n",
        "    i+=1\n",
        "  PSNR_average = PSNR_average/i\n",
        "  psnr_averages.append(PSNR_average)\n",
        "  #print(fake_image + \" \" + str(PSNR_average))\n",
        "print(min(psnr_averages))\n",
        "print(max(psnr_averages))"
      ],
      "execution_count": null,
      "outputs": [
        {
          "output_type": "stream",
          "text": [
            "28.07089449926127\n",
            "28.08952329710244\n"
          ],
          "name": "stdout"
        }
      ]
    },
    {
      "cell_type": "code",
      "metadata": {
        "id": "267IxTqvx-ia",
        "colab": {
          "base_uri": "https://localhost:8080/"
        },
        "outputId": "8655c885-8b78-45d4-d11b-9b9ac92a972f"
      },
      "source": [
        "directory_real_class_4 = \"/content/gdrive/My Drive/Kaggle/randomly selected preprocessed/class 1/\"\n",
        "directory_fake = \"/content/gdrive/My Drive/img_retina_Kaggle_class_4_state_of_art_GAN/399/\"\n",
        "psnr_averages = []\n",
        "for fake_image in os.listdir(directory_fake):\n",
        "  PSNR_average = 0\n",
        "  i = 0\n",
        "  for real_image in os.listdir(directory_real_class_4):\n",
        "    img_real = cv2.imread(directory_real_class_4 + real_image)\n",
        "    img_fake = cv2.imread(directory_fake + fake_image)\n",
        "    img_real = cv2.resize(img_real, (128, 128))\n",
        "    img_fake = cv2.resize(img_fake, (128, 128))\n",
        "    PSNR_none = PSNR(img_real, img_fake)\n",
        "    PSNR_average += PSNR_none\n",
        "    i+=1\n",
        "  PSNR_average = PSNR_average/i\n",
        "  psnr_averages.append(PSNR_average)\n",
        "  #print(fake_image + \" \" + str(PSNR_average))\n",
        "print(min(psnr_averages))\n",
        "print(max(psnr_averages))"
      ],
      "execution_count": null,
      "outputs": [
        {
          "output_type": "stream",
          "text": [
            "28.063522125714858\n",
            "28.084773735491062\n"
          ],
          "name": "stdout"
        }
      ]
    },
    {
      "cell_type": "code",
      "metadata": {
        "id": "hK-MSAjyx-qp",
        "colab": {
          "base_uri": "https://localhost:8080/"
        },
        "outputId": "f9a15886-4b06-488f-8d13-47e40420b953"
      },
      "source": [
        "directory_real_class_4 = \"/content/gdrive/My Drive/Kaggle/randomly selected preprocessed/class 1/\"\n",
        "directory_fake = \"/content/gdrive/My Drive/img_retina_Kaggle_class_4_state_of_art_GAN/409/\"\n",
        "psnr_averages = []\n",
        "for fake_image in os.listdir(directory_fake):\n",
        "  PSNR_average = 0\n",
        "  i = 0\n",
        "  for real_image in os.listdir(directory_real_class_4):\n",
        "    img_real = cv2.imread(directory_real_class_4 + real_image)\n",
        "    img_fake = cv2.imread(directory_fake + fake_image)\n",
        "    img_real = cv2.resize(img_real, (128, 128))\n",
        "    img_fake = cv2.resize(img_fake, (128, 128))\n",
        "    PSNR_none = PSNR(img_real, img_fake)\n",
        "    PSNR_average += PSNR_none\n",
        "    i+=1\n",
        "  PSNR_average = PSNR_average/i\n",
        "  psnr_averages.append(PSNR_average)\n",
        "  #print(fake_image + \" \" + str(PSNR_average))\n",
        "print(min(psnr_averages))\n",
        "print(max(psnr_averages))"
      ],
      "execution_count": null,
      "outputs": [
        {
          "output_type": "stream",
          "text": [
            "28.06778417957617\n",
            "28.089579760238\n"
          ],
          "name": "stdout"
        }
      ]
    },
    {
      "cell_type": "code",
      "metadata": {
        "id": "CC-I4fsex-xi",
        "colab": {
          "base_uri": "https://localhost:8080/"
        },
        "outputId": "2ed3324b-ca45-4d2e-b204-21facae0411b"
      },
      "source": [
        "directory_real_class_4 = \"/content/gdrive/My Drive/Kaggle/randomly selected preprocessed/class 1/\"\n",
        "directory_fake = \"/content/gdrive/My Drive/img_retina_Kaggle_class_4_state_of_art_GAN/419/\"\n",
        "psnr_averages = []\n",
        "for fake_image in os.listdir(directory_fake):\n",
        "  PSNR_average = 0\n",
        "  i = 0\n",
        "  for real_image in os.listdir(directory_real_class_4):\n",
        "    img_real = cv2.imread(directory_real_class_4 + real_image)\n",
        "    img_fake = cv2.imread(directory_fake + fake_image)\n",
        "    img_real = cv2.resize(img_real, (128, 128))\n",
        "    img_fake = cv2.resize(img_fake, (128, 128))\n",
        "    PSNR_none = PSNR(img_real, img_fake)\n",
        "    PSNR_average += PSNR_none\n",
        "    i+=1\n",
        "  PSNR_average = PSNR_average/i\n",
        "  psnr_averages.append(PSNR_average)\n",
        "  #print(fake_image + \" \" + str(PSNR_average))\n",
        "print(min(psnr_averages))\n",
        "print(max(psnr_averages))"
      ],
      "execution_count": null,
      "outputs": [
        {
          "output_type": "stream",
          "text": [
            "28.06434457680325\n",
            "28.080246116203124\n"
          ],
          "name": "stdout"
        }
      ]
    },
    {
      "cell_type": "code",
      "metadata": {
        "id": "Kupvi9mmx-0S",
        "colab": {
          "base_uri": "https://localhost:8080/"
        },
        "outputId": "7509e43c-7728-4dd2-96ac-0c475bc64892"
      },
      "source": [
        "directory_real_class_4 = \"/content/gdrive/My Drive/Kaggle/randomly selected preprocessed/class 1/\"\n",
        "directory_fake = \"/content/gdrive/My Drive/img_retina_Kaggle_class_4_state_of_art_GAN/429/\"\n",
        "psnr_averages = []\n",
        "for fake_image in os.listdir(directory_fake):\n",
        "  PSNR_average = 0\n",
        "  i = 0\n",
        "  for real_image in os.listdir(directory_real_class_4):\n",
        "    img_real = cv2.imread(directory_real_class_4 + real_image)\n",
        "    img_fake = cv2.imread(directory_fake + fake_image)\n",
        "    img_real = cv2.resize(img_real, (128, 128))\n",
        "    img_fake = cv2.resize(img_fake, (128, 128))\n",
        "    PSNR_none = PSNR(img_real, img_fake)\n",
        "    PSNR_average += PSNR_none\n",
        "    i+=1\n",
        "  PSNR_average = PSNR_average/i\n",
        "  psnr_averages.append(PSNR_average)\n",
        "  #print(fake_image + \" \" + str(PSNR_average))\n",
        "print(min(psnr_averages))\n",
        "print(max(psnr_averages))"
      ],
      "execution_count": null,
      "outputs": [
        {
          "output_type": "stream",
          "text": [
            "28.06382743866103\n",
            "28.080849787265816\n"
          ],
          "name": "stdout"
        }
      ]
    },
    {
      "cell_type": "code",
      "metadata": {
        "id": "dFRxrrkKx-3w",
        "colab": {
          "base_uri": "https://localhost:8080/"
        },
        "outputId": "a5ed15ee-c06d-48ac-c0fc-66d60db1560d"
      },
      "source": [
        "directory_real_class_4 = \"/content/gdrive/My Drive/Kaggle/randomly selected preprocessed/class 1/\"\n",
        "directory_fake = \"/content/gdrive/My Drive/img_retina_Kaggle_class_4_state_of_art_GAN/439/\"\n",
        "psnr_averages = []\n",
        "for fake_image in os.listdir(directory_fake):\n",
        "  PSNR_average = 0\n",
        "  i = 0\n",
        "  for real_image in os.listdir(directory_real_class_4):\n",
        "    img_real = cv2.imread(directory_real_class_4 + real_image)\n",
        "    img_fake = cv2.imread(directory_fake + fake_image)\n",
        "    img_real = cv2.resize(img_real, (128, 128))\n",
        "    img_fake = cv2.resize(img_fake, (128, 128))\n",
        "    PSNR_none = PSNR(img_real, img_fake)\n",
        "    PSNR_average += PSNR_none\n",
        "    i+=1\n",
        "  PSNR_average = PSNR_average/i\n",
        "  psnr_averages.append(PSNR_average)\n",
        "  #print(fake_image + \" \" + str(PSNR_average))\n",
        "print(min(psnr_averages))\n",
        "print(max(psnr_averages))"
      ],
      "execution_count": null,
      "outputs": [
        {
          "output_type": "stream",
          "text": [
            "28.066040363072737\n",
            "28.083008531030664\n"
          ],
          "name": "stdout"
        }
      ]
    },
    {
      "cell_type": "code",
      "metadata": {
        "id": "LbuVRfgNyRT6",
        "colab": {
          "base_uri": "https://localhost:8080/"
        },
        "outputId": "9cbbdbc9-beb6-4046-fdf5-46b314c806b4"
      },
      "source": [
        "directory_real_class_4 = \"/content/gdrive/My Drive/Kaggle/randomly selected preprocessed/class 1/\"\n",
        "directory_fake = \"/content/gdrive/My Drive/img_retina_Kaggle_class_4_state_of_art_GAN/449/\"\n",
        "psnr_averages = []\n",
        "for fake_image in os.listdir(directory_fake):\n",
        "  PSNR_average = 0\n",
        "  i = 0\n",
        "  for real_image in os.listdir(directory_real_class_4):\n",
        "    img_real = cv2.imread(directory_real_class_4 + real_image)\n",
        "    img_fake = cv2.imread(directory_fake + fake_image)\n",
        "    img_real = cv2.resize(img_real, (128, 128))\n",
        "    img_fake = cv2.resize(img_fake, (128, 128))\n",
        "    PSNR_none = PSNR(img_real, img_fake)\n",
        "    PSNR_average += PSNR_none\n",
        "    i+=1\n",
        "  PSNR_average = PSNR_average/i\n",
        "  psnr_averages.append(PSNR_average)\n",
        "  #print(fake_image + \" \" + str(PSNR_average))\n",
        "print(min(psnr_averages))\n",
        "print(max(psnr_averages))"
      ],
      "execution_count": null,
      "outputs": [
        {
          "output_type": "stream",
          "text": [
            "28.055927939374673\n",
            "28.073837508246125\n"
          ],
          "name": "stdout"
        }
      ]
    },
    {
      "cell_type": "code",
      "metadata": {
        "id": "KRBbj-teyRXq",
        "colab": {
          "base_uri": "https://localhost:8080/"
        },
        "outputId": "c9319503-7765-41cb-e4fb-56ed3d9de54a"
      },
      "source": [
        "directory_real_class_4 = \"/content/gdrive/My Drive/Kaggle/randomly selected preprocessed/class 1/\"\n",
        "directory_fake = \"/content/gdrive/My Drive/img_retina_Kaggle_class_4_state_of_art_GAN/459/\"\n",
        "psnr_averages = []\n",
        "for fake_image in os.listdir(directory_fake):\n",
        "  PSNR_average = 0\n",
        "  i = 0\n",
        "  for real_image in os.listdir(directory_real_class_4):\n",
        "    img_real = cv2.imread(directory_real_class_4 + real_image)\n",
        "    img_fake = cv2.imread(directory_fake + fake_image)\n",
        "    img_real = cv2.resize(img_real, (128, 128))\n",
        "    img_fake = cv2.resize(img_fake, (128, 128))\n",
        "    PSNR_none = PSNR(img_real, img_fake)\n",
        "    PSNR_average += PSNR_none\n",
        "    i+=1\n",
        "  PSNR_average = PSNR_average/i\n",
        "  psnr_averages.append(PSNR_average)\n",
        "  #print(fake_image + \" \" + str(PSNR_average))\n",
        "print(min(psnr_averages))\n",
        "print(max(psnr_averages))"
      ],
      "execution_count": null,
      "outputs": [
        {
          "output_type": "stream",
          "text": [
            "28.070839040697592\n",
            "28.084813703705457\n"
          ],
          "name": "stdout"
        }
      ]
    },
    {
      "cell_type": "code",
      "metadata": {
        "id": "CpJT1Xw1yRa7",
        "colab": {
          "base_uri": "https://localhost:8080/"
        },
        "outputId": "f800a968-e896-49df-b3e3-ac7cd2ace981"
      },
      "source": [
        "directory_real_class_4 = \"/content/gdrive/My Drive/Kaggle/randomly selected preprocessed/class 1/\"\n",
        "directory_fake = \"/content/gdrive/My Drive/img_retina_Kaggle_class_4_state_of_art_GAN/469/\"\n",
        "psnr_averages = []\n",
        "for fake_image in os.listdir(directory_fake):\n",
        "  PSNR_average = 0\n",
        "  i = 0\n",
        "  for real_image in os.listdir(directory_real_class_4):\n",
        "    img_real = cv2.imread(directory_real_class_4 + real_image)\n",
        "    img_fake = cv2.imread(directory_fake + fake_image)\n",
        "    img_real = cv2.resize(img_real, (128, 128))\n",
        "    img_fake = cv2.resize(img_fake, (128, 128))\n",
        "    PSNR_none = PSNR(img_real, img_fake)\n",
        "    PSNR_average += PSNR_none\n",
        "    i+=1\n",
        "  PSNR_average = PSNR_average/i\n",
        "  psnr_averages.append(PSNR_average)\n",
        "  #print(fake_image + \" \" + str(PSNR_average))\n",
        "print(min(psnr_averages))\n",
        "print(max(psnr_averages))"
      ],
      "execution_count": null,
      "outputs": [
        {
          "output_type": "stream",
          "text": [
            "28.06408989692782\n",
            "28.084855731327902\n"
          ],
          "name": "stdout"
        }
      ]
    },
    {
      "cell_type": "code",
      "metadata": {
        "id": "C-sg2D4YyReC",
        "colab": {
          "base_uri": "https://localhost:8080/"
        },
        "outputId": "4850b3e3-e563-4e0f-ee7c-1f3d41ac595a"
      },
      "source": [
        "directory_real_class_4 = \"/content/gdrive/My Drive/Kaggle/randomly selected preprocessed/class 1/\"\n",
        "directory_fake = \"/content/gdrive/My Drive/img_retina_Kaggle_class_4_state_of_art_GAN/479/\"\n",
        "psnr_averages = []\n",
        "for fake_image in os.listdir(directory_fake):\n",
        "  PSNR_average = 0\n",
        "  i = 0\n",
        "  for real_image in os.listdir(directory_real_class_4):\n",
        "    img_real = cv2.imread(directory_real_class_4 + real_image)\n",
        "    img_fake = cv2.imread(directory_fake + fake_image)\n",
        "    img_real = cv2.resize(img_real, (128, 128))\n",
        "    img_fake = cv2.resize(img_fake, (128, 128))\n",
        "    PSNR_none = PSNR(img_real, img_fake)\n",
        "    PSNR_average += PSNR_none\n",
        "    i+=1\n",
        "  PSNR_average = PSNR_average/i\n",
        "  psnr_averages.append(PSNR_average)\n",
        "  #print(fake_image + \" \" + str(PSNR_average))\n",
        "print(min(psnr_averages))\n",
        "print(max(psnr_averages))"
      ],
      "execution_count": null,
      "outputs": [
        {
          "output_type": "stream",
          "text": [
            "28.061199126077664\n",
            "28.078650063510253\n"
          ],
          "name": "stdout"
        }
      ]
    },
    {
      "cell_type": "code",
      "metadata": {
        "id": "6-y_xMQvyRhR",
        "colab": {
          "base_uri": "https://localhost:8080/"
        },
        "outputId": "18eacad5-949a-41c4-d637-8e721af00bad"
      },
      "source": [
        "directory_real_class_4 = \"/content/gdrive/My Drive/Kaggle/randomly selected preprocessed/class 1/\"\n",
        "directory_fake = \"/content/gdrive/My Drive/img_retina_Kaggle_class_4_state_of_art_GAN/489/\"\n",
        "psnr_averages = []\n",
        "for fake_image in os.listdir(directory_fake):\n",
        "  PSNR_average = 0\n",
        "  i = 0\n",
        "  for real_image in os.listdir(directory_real_class_4):\n",
        "    img_real = cv2.imread(directory_real_class_4 + real_image)\n",
        "    img_fake = cv2.imread(directory_fake + fake_image)\n",
        "    img_real = cv2.resize(img_real, (128, 128))\n",
        "    img_fake = cv2.resize(img_fake, (128, 128))\n",
        "    PSNR_none = PSNR(img_real, img_fake)\n",
        "    PSNR_average += PSNR_none\n",
        "    i+=1\n",
        "  PSNR_average = PSNR_average/i\n",
        "  psnr_averages.append(PSNR_average)\n",
        "  #print(fake_image + \" \" + str(PSNR_average))\n",
        "print(min(psnr_averages))\n",
        "print(max(psnr_averages))"
      ],
      "execution_count": null,
      "outputs": [
        {
          "output_type": "stream",
          "text": [
            "28.051000654784545\n",
            "28.070398337880295\n"
          ],
          "name": "stdout"
        }
      ]
    },
    {
      "cell_type": "code",
      "metadata": {
        "id": "UWm9csrlyRjk",
        "colab": {
          "base_uri": "https://localhost:8080/"
        },
        "outputId": "e52323df-d958-440f-c898-35831731d956"
      },
      "source": [
        "directory_real_class_4 = \"/content/gdrive/My Drive/Kaggle/randomly selected preprocessed/class 1/\"\n",
        "directory_fake = \"/content/gdrive/My Drive/img_retina_Kaggle_class_4_state_of_art_GAN/499/\"\n",
        "psnr_averages = []\n",
        "for fake_image in os.listdir(directory_fake):\n",
        "  PSNR_average = 0\n",
        "  i = 0\n",
        "  for real_image in os.listdir(directory_real_class_4):\n",
        "    img_real = cv2.imread(directory_real_class_4 + real_image)\n",
        "    img_fake = cv2.imread(directory_fake + fake_image)\n",
        "    img_real = cv2.resize(img_real, (128, 128))\n",
        "    img_fake = cv2.resize(img_fake, (128, 128))\n",
        "    PSNR_none = PSNR(img_real, img_fake)\n",
        "    PSNR_average += PSNR_none\n",
        "    i+=1\n",
        "  PSNR_average = PSNR_average/i\n",
        "  psnr_averages.append(PSNR_average)\n",
        "  #print(fake_image + \" \" + str(PSNR_average))\n",
        "print(min(psnr_averages))\n",
        "print(max(psnr_averages))"
      ],
      "execution_count": null,
      "outputs": [
        {
          "output_type": "stream",
          "text": [
            "28.062351470437992\n",
            "28.08016247700333\n"
          ],
          "name": "stdout"
        }
      ]
    }
  ]
}