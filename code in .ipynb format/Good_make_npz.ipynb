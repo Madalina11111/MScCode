{
  "nbformat": 4,
  "nbformat_minor": 0,
  "metadata": {
    "colab": {
      "name": "Good make npz.ipynb",
      "provenance": [],
      "collapsed_sections": []
    },
    "kernelspec": {
      "display_name": "Python 3",
      "name": "python3"
    },
    "language_info": {
      "name": "python"
    }
  },
  "cells": [
    {
      "cell_type": "code",
      "metadata": {
        "id": "-0EI8ccZmnkY"
      },
      "source": [
        "from keras.layers import AveragePooling2D\n",
        "from keras.layers import LeakyReLU\n",
        "from keras.layers import Layer\n",
        "from keras.layers import Add\n",
        "from keras.constraints import max_norm\n",
        "from keras.initializers import RandomNormal\n",
        "from keras import backend\n",
        "from matplotlib import pyplot\n",
        "import numpy as np\n",
        "from os import listdir\n",
        "from numpy import savez_compressed\n",
        "from PIL import Image\n",
        "from PIL import ImageFile\n",
        "ImageFile.LOAD_TRUNCATED_IMAGES = True\n",
        "import cv2\n",
        "import matplotlib.pyplot as plt\n",
        "import matplotlib.image as mpimg\n",
        "from numpy import asarray"
      ],
      "execution_count": null,
      "outputs": []
    },
    {
      "cell_type": "code",
      "metadata": {
        "colab": {
          "base_uri": "https://localhost:8080/"
        },
        "id": "jhlfUGCCm-7d",
        "outputId": "61363e2e-57fb-4e3a-c3a7-1da3140ae24a"
      },
      "source": [
        "from google.colab import drive\n",
        "drive.mount('/content/gdrive', force_remount=True)"
      ],
      "execution_count": null,
      "outputs": [
        {
          "output_type": "stream",
          "text": [
            "Mounted at /content/gdrive\n"
          ],
          "name": "stdout"
        }
      ]
    },
    {
      "cell_type": "code",
      "metadata": {
        "id": "ZQon3w3RnB8m"
      },
      "source": [
        "def load_images(directory):\n",
        "    resized_images = list()\n",
        "    f = open(\"preprocessed_IDRID_real_class_1.txt\", \"w\")\n",
        "    i = 0\n",
        "    for filename in listdir(directory):\n",
        "          img2 = cv2.imread(directory + filename)\n",
        "          img3 = cv2.cvtColor(img2, cv2.COLOR_BGR2RGB)\n",
        "          resized = cv2.resize(img3, (128,128))\n",
        "          ratio = (255.0/np.amax(resized))\n",
        "          int_ratio = int(ratio)        \n",
        "          new_pixels = resized*int_ratio\n",
        "          i += 1\n",
        "          print(i)\n",
        "          resized_images.append(new_pixels)\n",
        "          f.write(\"\\\"\" + filename + \"\\\", \")\n",
        "    f.close()\n",
        "    return asarray(resized_images)"
      ],
      "execution_count": null,
      "outputs": []
    },
    {
      "cell_type": "code",
      "metadata": {
        "id": "JlAhIKWPncTq"
      },
      "source": [
        "directory = r\"/content/gdrive/My Drive/Kaggle/randomly selected training preprocessed/\"\n",
        "\n",
        "all_faces = load_images(directory)\n",
        "savez_compressed('training_preprocessed_real_plus_fake_selected_708_each_class.npz', all_faces)"
      ],
      "execution_count": null,
      "outputs": []
    },
    {
      "cell_type": "code",
      "metadata": {
        "id": "p3l5RExThmLG"
      },
      "source": [
        ""
      ],
      "execution_count": null,
      "outputs": []
    },
    {
      "cell_type": "code",
      "metadata": {
        "id": "7GSJtlYthmUz"
      },
      "source": [
        "directory = r\"/content/gdrive/My Drive/Kaggle/randomly selected preprocessed 2/class 0/\"\n",
        "\n",
        "all_faces = load_images(directory)\n",
        "savez_compressed('random_selected_preprocessed_real_class_0_2nd_time.npz', all_faces)"
      ],
      "execution_count": null,
      "outputs": []
    },
    {
      "cell_type": "code",
      "metadata": {
        "id": "tce-UbkNhmX1"
      },
      "source": [
        "directory = r\"/content/gdrive/My Drive/Kaggle/randomly selected preprocessed 2/class 1/\"\n",
        "\n",
        "all_faces = load_images(directory)\n",
        "savez_compressed('random_selected_preprocessed_real_class_1_2nd_time.npz', all_faces)"
      ],
      "execution_count": null,
      "outputs": []
    },
    {
      "cell_type": "code",
      "metadata": {
        "id": "H8I0PmqShmd1"
      },
      "source": [
        "directory = r\"/content/gdrive/My Drive/Kaggle/randomly selected preprocessed 2/class 2/\"\n",
        "\n",
        "all_faces = load_images(directory)\n",
        "savez_compressed('random_selected_preprocessed_real_class_2_2nd_time.npz', all_faces)"
      ],
      "execution_count": null,
      "outputs": []
    },
    {
      "cell_type": "code",
      "metadata": {
        "id": "y4tCsj1xhmg1"
      },
      "source": [
        "directory = r\"/content/gdrive/My Drive/Kaggle/randomly selected preprocessed 2/class 3/\"\n",
        "\n",
        "all_faces = load_images(directory)\n",
        "savez_compressed('random_selected_preprocessed_real_class_3_2nd_time.npz', all_faces)"
      ],
      "execution_count": null,
      "outputs": []
    },
    {
      "cell_type": "code",
      "metadata": {
        "id": "0lI2U5Zvhmjs"
      },
      "source": [
        "directory = r\"/content/gdrive/My Drive/Kaggle/randomly selected preprocessed 2/class 4/\"\n",
        "\n",
        "all_faces = load_images(directory)\n",
        "savez_compressed('random_selected_preprocessed_real_class_4_2nd_time.npz', all_faces)"
      ],
      "execution_count": null,
      "outputs": []
    },
    {
      "cell_type": "code",
      "metadata": {
        "id": "MaMaJzGOk3hf"
      },
      "source": [
        ""
      ],
      "execution_count": null,
      "outputs": []
    },
    {
      "cell_type": "code",
      "metadata": {
        "id": "lT5IVnGDk3s0"
      },
      "source": [
        "directory = r\"/content/gdrive/My Drive/Kaggle/randomly selected preprocessed 3/class 0/\"\n",
        "\n",
        "all_faces = load_images(directory)\n",
        "savez_compressed('random_selected_preprocessed_real_class_0_3nd_time.npz', all_faces)"
      ],
      "execution_count": null,
      "outputs": []
    },
    {
      "cell_type": "code",
      "metadata": {
        "id": "c8UIgv8pk3v5"
      },
      "source": [
        "directory = r\"/content/gdrive/My Drive/Kaggle/randomly selected preprocessed 3/class 1/\"\n",
        "\n",
        "all_faces = load_images(directory)\n",
        "savez_compressed('random_selected_preprocessed_real_class_1_3rd_time.npz', all_faces)"
      ],
      "execution_count": null,
      "outputs": []
    },
    {
      "cell_type": "code",
      "metadata": {
        "id": "aaOBjkOmk3yM"
      },
      "source": [
        "directory = r\"/content/gdrive/My Drive/Kaggle/randomly selected preprocessed 3/class 2/\"\n",
        "\n",
        "all_faces = load_images(directory)\n",
        "savez_compressed('random_selected_preprocessed_real_class_2_3rd_time.npz', all_faces)"
      ],
      "execution_count": null,
      "outputs": []
    },
    {
      "cell_type": "code",
      "metadata": {
        "id": "IyfXRGick31X"
      },
      "source": [
        "directory = r\"/content/gdrive/My Drive/Kaggle/randomly selected preprocessed 3/class 3/\"\n",
        "\n",
        "all_faces = load_images(directory)\n",
        "savez_compressed('random_selected_preprocessed_real_class_3_3rd_time.npz', all_faces)"
      ],
      "execution_count": null,
      "outputs": []
    },
    {
      "cell_type": "code",
      "metadata": {
        "id": "8g4gEXYjlDrO"
      },
      "source": [
        "directory = r\"/content/gdrive/My Drive/Kaggle/randomly selected preprocessed 3/class 4/\"\n",
        "\n",
        "all_faces = load_images(directory)\n",
        "savez_compressed('random_selected_preprocessed_real_class_4_3rd_time.npz', all_faces)"
      ],
      "execution_count": null,
      "outputs": []
    },
    {
      "cell_type": "code",
      "metadata": {
        "id": "DNd0u4joyw46"
      },
      "source": [
        ""
      ],
      "execution_count": null,
      "outputs": []
    },
    {
      "cell_type": "code",
      "metadata": {
        "id": "zrHWKOxgyxB8"
      },
      "source": [
        "directory = r\"/content/gdrive/My Drive/Kaggle/randomly selected preprocessed 4/class 0/\"\n",
        "\n",
        "all_faces = load_images(directory)\n",
        "savez_compressed('random_selected_preprocessed_real_class_0_4th_time.npz', all_faces)"
      ],
      "execution_count": null,
      "outputs": []
    },
    {
      "cell_type": "code",
      "metadata": {
        "id": "YjWwXWhKy23G"
      },
      "source": [
        "directory = r\"/content/gdrive/My Drive/Kaggle/randomly selected preprocessed 4/class 1/\"\n",
        "\n",
        "all_faces = load_images(directory)\n",
        "savez_compressed('random_selected_preprocessed_real_class_1_4th_time.npz', all_faces)"
      ],
      "execution_count": null,
      "outputs": []
    },
    {
      "cell_type": "code",
      "metadata": {
        "id": "H93FKHCKzd2v"
      },
      "source": [
        "directory = r\"/content/gdrive/My Drive/Kaggle/randomly selected preprocessed 4/class 2/\"\n",
        "\n",
        "all_faces = load_images(directory)\n",
        "savez_compressed('random_selected_preprocessed_real_class_2_4th_time.npz', all_faces)"
      ],
      "execution_count": null,
      "outputs": []
    },
    {
      "cell_type": "code",
      "metadata": {
        "id": "S8sjb3YTzd-K"
      },
      "source": [
        "directory = r\"/content/gdrive/My Drive/Kaggle/randomly selected preprocessed 4/class 3/\"\n",
        "\n",
        "all_faces = load_images(directory)\n",
        "savez_compressed('random_selected_preprocessed_real_class_3_4th_time.npz', all_faces)"
      ],
      "execution_count": null,
      "outputs": []
    },
    {
      "cell_type": "code",
      "metadata": {
        "id": "BWXJIzKhzeBd"
      },
      "source": [
        "directory = r\"/content/gdrive/My Drive/Kaggle/randomly selected preprocessed 4/class 4/\"\n",
        "\n",
        "all_faces = load_images(directory)\n",
        "savez_compressed('random_selected_preprocessed_real_class_4_4th_time.npz', all_faces)"
      ],
      "execution_count": null,
      "outputs": []
    }
  ]
}