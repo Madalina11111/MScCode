{
  "nbformat": 4,
  "nbformat_minor": 0,
  "metadata": {
    "colab": {
      "name": "Calculate average cosine distance.ipynb",
      "provenance": [],
      "collapsed_sections": [],
      "machine_shape": "hm"
    },
    "kernelspec": {
      "name": "python3",
      "display_name": "Python 3"
    },
    "language_info": {
      "name": "python"
    },
    "accelerator": "GPU"
  },
  "cells": [
    {
      "cell_type": "code",
      "metadata": {
        "id": "kwOep8QyaFAr"
      },
      "source": [
        "import warnings\n",
        "warnings.filterwarnings('ignore')\n",
        "\n",
        "import numpy as np \n",
        "import pandas as pd\n",
        "import matplotlib.pyplot as plt\n",
        "\n",
        "from keras.preprocessing.image import ImageDataGenerator\n",
        "from keras.preprocessing.image import img_to_array\n",
        "from keras.preprocessing.image import load_img\n",
        "import cv2\n",
        "\n",
        "from keras.applications import inception_v3\n",
        "from keras.applications.inception_v3 import InceptionV3\n",
        "\n",
        "from keras.layers import Dense, GlobalAveragePooling2D\n",
        "from keras.models import Model\n",
        "\n",
        "from numpy import load\n",
        "\n",
        "from sklearn.metrics.pairwise import cosine_similarity\n",
        "\n",
        "from tensorflow.keras.preprocessing import image\n",
        "from tensorflow.keras.applications.inception_v3 import preprocess_input\n",
        "\n",
        "import os"
      ],
      "execution_count": null,
      "outputs": []
    },
    {
      "cell_type": "code",
      "metadata": {
        "colab": {
          "base_uri": "https://localhost:8080/"
        },
        "id": "DX-0SjjSb2kM",
        "outputId": "d866b664-157d-474a-982c-fbde94b2c8d6"
      },
      "source": [
        "from google.colab import drive\n",
        "drive.mount('/content/gdrive', force_remount=True)"
      ],
      "execution_count": null,
      "outputs": [
        {
          "output_type": "stream",
          "text": [
            "Mounted at /content/gdrive\n"
          ],
          "name": "stdout"
        }
      ]
    },
    {
      "cell_type": "code",
      "metadata": {
        "id": "l1nZusYtfQPp"
      },
      "source": [
        "#load images from npz\n",
        "def load_real_samples(filename):\n",
        "  data = load(filename)\n",
        "  X = data['arr_0']\n",
        "  print(X.shape)\n",
        "  X = X.astype('float32')\n",
        "  return X"
      ],
      "execution_count": null,
      "outputs": []
    },
    {
      "cell_type": "code",
      "metadata": {
        "id": "Oas2dN3idPNk"
      },
      "source": [
        "#one way of extracting features\n",
        "#base_model = InceptionV3(weights = 'imagenet', include_top = False, input_shape=(128, 128, 3) , pooling=\"avg\", classifier_activation=\"softmax\")\n",
        "\n",
        "#predictions_all_images = []\n",
        "#all_x = []\n",
        "#proli_dir = \"/content/gdrive/My Drive/Kaggle/proli\"\n",
        "#for new_img in os.listdir(proli_dir):\n",
        "\n",
        "#  img_path = proli_dir + \"/\" + new_img\n",
        "#  img = image.load_img(img_path) #, target_size=(128, 128))\n",
        "#  x = image.img_to_array(img)\n",
        "#  #x = np.expand_dims(x, axis=0)\n",
        "#  all_x.append(x)\n",
        "#all_x = np.asarray(all_x)\n",
        "\n",
        "#predictions = base_model.predict(all_x)"
      ],
      "execution_count": null,
      "outputs": []
    },
    {
      "cell_type": "code",
      "metadata": {
        "id": "VjuCmZZLmK7z"
      },
      "source": [
        ""
      ],
      "execution_count": null,
      "outputs": []
    },
    {
      "cell_type": "code",
      "metadata": {
        "colab": {
          "base_uri": "https://localhost:8080/"
        },
        "id": "4faOmmlNGe6U",
        "outputId": "a8d678de-e6f6-4ba1-fb94-be696ddd9039"
      },
      "source": [
        "#another way of extracting features. This is better\n",
        "base_model = InceptionV3(weights = 'imagenet', include_top = False, input_shape=(128, 128, 3) , pooling=\"avg\", classifier_activation=\"softmax\")\n",
        "class4 = load_real_samples(\"/content/gdrive/My Drive/MSc. project/npz files conference/Kaggle_training_images_in_order_preprocessed_class4_normalized3.npz\")\n",
        "predictions_class4 = base_model.predict(class4)\n",
        "\n",
        "from scipy.spatial import distance\n",
        "cosine_distance_sum = 0\n",
        "for i in range (predictions_class4.shape[0]):\n",
        "  for j in range(predictions_class4.shape[0]):\n",
        "    if(i != j):\n",
        "      cosine_distance_sum += distance.cosine(predictions_class4[i], predictions_class4[j])\n",
        "print(cosine_distance_sum/(predictions_class4.shape[0] * predictions_class4.shape[0] - predictions_class4.shape[0]))"
      ],
      "execution_count": null,
      "outputs": [
        {
          "output_type": "stream",
          "text": [
            "(708, 128, 128, 3)\n",
            "0.17810196917688373\n"
          ],
          "name": "stdout"
        }
      ]
    },
    {
      "cell_type": "code",
      "metadata": {
        "id": "BGGLp0PlGw9x"
      },
      "source": [
        ""
      ],
      "execution_count": null,
      "outputs": []
    },
    {
      "cell_type": "code",
      "metadata": {
        "colab": {
          "base_uri": "https://localhost:8080/"
        },
        "id": "Ov2DtptoqBCA",
        "outputId": "ec0bf158-90f4-45b3-b512-44d074ed475b"
      },
      "source": [
        "#another way of extracting features. This is better\n",
        "base_model = InceptionV3(weights = 'imagenet', include_top = False, input_shape=(128, 128, 3) , pooling=\"avg\", classifier_activation=\"softmax\")\n",
        "class0 = load_real_samples(\"/content/gdrive/My Drive/MSc. project/npz files conference/training_preprocessed_fake_class_4.npz\")\n",
        "predictions_class0 = base_model.predict(class0)\n",
        "\n",
        "class1 = load_real_samples(\"/content/gdrive/My Drive/MSc. project/npz files conference/randomly selected Kaggle preprocessed 2/random_selected_preprocessed_real_class_0_2nd_time.npz\")\n",
        "predictions_class1 = base_model.predict(class1)\n",
        "\n",
        "from scipy.spatial import distance\n",
        "cosine_distance_sum = 0\n",
        "for i in range (predictions_class0.shape[0]):\n",
        "  for j in range(predictions_class1.shape[0]):\n",
        "    cosine_distance_sum += distance.cosine(predictions_class0[i], predictions_class1[j])\n",
        "print(cosine_distance_sum/(predictions_class0.shape[0] * predictions_class1.shape[0]))"
      ],
      "execution_count": null,
      "outputs": [
        {
          "output_type": "stream",
          "text": [
            "Downloading data from https://storage.googleapis.com/tensorflow/keras-applications/inception_v3/inception_v3_weights_tf_dim_ordering_tf_kernels_notop.h5\n",
            "87916544/87910968 [==============================] - 1s 0us/step\n",
            "(165, 128, 128, 3)\n",
            "(100, 128, 128, 3)\n",
            "0.15199482933318975\n"
          ],
          "name": "stdout"
        }
      ]
    },
    {
      "cell_type": "code",
      "metadata": {
        "colab": {
          "base_uri": "https://localhost:8080/"
        },
        "id": "I7cIw6lgqBFa",
        "outputId": "6fbf8b31-5ff3-462f-d0a8-bd18ed552bf5"
      },
      "source": [
        "#another way of extracting features. This is better\n",
        "base_model = InceptionV3(weights = 'imagenet', include_top = False, input_shape=(128, 128, 3) , pooling=\"avg\", classifier_activation=\"softmax\")\n",
        "class0 = load_real_samples(\"/content/gdrive/My Drive/MSc. project/npz files conference/training_preprocessed_fake_class_4.npz\")\n",
        "predictions_class0 = base_model.predict(class0)\n",
        "\n",
        "class1 = load_real_samples(\"/content/gdrive/My Drive/MSc. project/npz files conference/randomly selected Kaggle preprocessed 2/random_selected_preprocessed_real_class_1_2nd_time.npz\")\n",
        "predictions_class1 = base_model.predict(class1)\n",
        "\n",
        "from scipy.spatial import distance\n",
        "cosine_distance_sum = 0\n",
        "for i in range (predictions_class0.shape[0]):\n",
        "  for j in range(predictions_class1.shape[0]):\n",
        "    cosine_distance_sum += distance.cosine(predictions_class0[i], predictions_class1[j])\n",
        "print(cosine_distance_sum/(predictions_class0.shape[0] * predictions_class1.shape[0]))"
      ],
      "execution_count": null,
      "outputs": [
        {
          "output_type": "stream",
          "text": [
            "(165, 128, 128, 3)\n",
            "(100, 128, 128, 3)\n",
            "0.16582276451226435\n"
          ],
          "name": "stdout"
        }
      ]
    },
    {
      "cell_type": "code",
      "metadata": {
        "colab": {
          "base_uri": "https://localhost:8080/"
        },
        "id": "UC6yHfqSqBIn",
        "outputId": "9db64cbc-a532-45db-c165-86aef7727507"
      },
      "source": [
        "#another way of extracting features. This is better\n",
        "base_model = InceptionV3(weights = 'imagenet', include_top = False, input_shape=(128, 128, 3) , pooling=\"avg\", classifier_activation=\"softmax\")\n",
        "class0 = load_real_samples(\"/content/gdrive/My Drive/MSc. project/npz files conference/training_preprocessed_fake_class_4.npz\")\n",
        "predictions_class0 = base_model.predict(class0)\n",
        "\n",
        "class1 = load_real_samples(\"/content/gdrive/My Drive/MSc. project/npz files conference/randomly selected Kaggle preprocessed 2/random_selected_preprocessed_real_class_2_2nd_time.npz\")\n",
        "predictions_class1 = base_model.predict(class1)\n",
        "\n",
        "from scipy.spatial import distance\n",
        "cosine_distance_sum = 0\n",
        "for i in range (predictions_class0.shape[0]):\n",
        "  for j in range(predictions_class1.shape[0]):\n",
        "    cosine_distance_sum += distance.cosine(predictions_class0[i], predictions_class1[j])\n",
        "print(cosine_distance_sum/(predictions_class0.shape[0] * predictions_class1.shape[0]))"
      ],
      "execution_count": null,
      "outputs": [
        {
          "output_type": "stream",
          "text": [
            "(165, 128, 128, 3)\n",
            "(100, 128, 128, 3)\n",
            "0.15744113652092037\n"
          ],
          "name": "stdout"
        }
      ]
    },
    {
      "cell_type": "code",
      "metadata": {
        "colab": {
          "base_uri": "https://localhost:8080/"
        },
        "id": "8hQq9WGQqBLu",
        "outputId": "acbceb38-5d47-43f3-f794-f4baa8d48f0d"
      },
      "source": [
        "#another way of extracting features. This is better\n",
        "base_model = InceptionV3(weights = 'imagenet', include_top = False, input_shape=(128, 128, 3) , pooling=\"avg\", classifier_activation=\"softmax\")\n",
        "class0 = load_real_samples(\"/content/gdrive/My Drive/MSc. project/npz files conference/training_preprocessed_fake_class_4.npz\")\n",
        "predictions_class0 = base_model.predict(class0)\n",
        "\n",
        "class1 = load_real_samples(\"/content/gdrive/My Drive/MSc. project/npz files conference/randomly selected Kaggle preprocessed 2/random_selected_preprocessed_real_class_3_2nd_time.npz\")\n",
        "predictions_class1 = base_model.predict(class1)\n",
        "\n",
        "from scipy.spatial import distance\n",
        "cosine_distance_sum = 0\n",
        "for i in range (predictions_class0.shape[0]):\n",
        "  for j in range(predictions_class1.shape[0]):\n",
        "    cosine_distance_sum += distance.cosine(predictions_class0[i], predictions_class1[j])\n",
        "print(cosine_distance_sum/(predictions_class0.shape[0] * predictions_class1.shape[0]))"
      ],
      "execution_count": null,
      "outputs": [
        {
          "output_type": "stream",
          "text": [
            "(165, 128, 128, 3)\n",
            "(100, 128, 128, 3)\n",
            "0.15737411452784683\n"
          ],
          "name": "stdout"
        }
      ]
    },
    {
      "cell_type": "code",
      "metadata": {
        "colab": {
          "base_uri": "https://localhost:8080/"
        },
        "id": "yy_X2kTzqeNz",
        "outputId": "a9c6748b-9c41-4ef5-9b45-b2e26f2337d8"
      },
      "source": [
        "#another way of extracting features. This is better\n",
        "base_model = InceptionV3(weights = 'imagenet', include_top = False, input_shape=(128, 128, 3) , pooling=\"avg\", classifier_activation=\"softmax\")\n",
        "class0 = load_real_samples(\"/content/gdrive/My Drive/MSc. project/npz files conference/training_preprocessed_fake_class_4.npz\")\n",
        "predictions_class0 = base_model.predict(class0)\n",
        "\n",
        "class1 = load_real_samples(\"/content/gdrive/My Drive/MSc. project/npz files conference/randomly selected Kaggle preprocessed 2/random_selected_preprocessed_real_class_4_2nd_time.npz\")\n",
        "predictions_class1 = base_model.predict(class1)\n",
        "\n",
        "from scipy.spatial import distance\n",
        "cosine_distance_sum = 0\n",
        "for i in range (predictions_class0.shape[0]):\n",
        "  for j in range(predictions_class1.shape[0]):\n",
        "    cosine_distance_sum += distance.cosine(predictions_class0[i], predictions_class1[j])\n",
        "print(cosine_distance_sum/(predictions_class0.shape[0] * predictions_class1.shape[0]))"
      ],
      "execution_count": null,
      "outputs": [
        {
          "output_type": "stream",
          "text": [
            "(165, 128, 128, 3)\n",
            "(100, 128, 128, 3)\n",
            "0.15462772517132037\n"
          ],
          "name": "stdout"
        }
      ]
    },
    {
      "cell_type": "code",
      "metadata": {
        "colab": {
          "base_uri": "https://localhost:8080/"
        },
        "id": "zbX8aVzQqeV3",
        "outputId": "58aefa36-4298-401a-a77b-028b89372aea"
      },
      "source": [
        "#another way of extracting features. This is better\n",
        "base_model = InceptionV3(weights = 'imagenet', include_top = False, input_shape=(128, 128, 3) , pooling=\"avg\", classifier_activation=\"softmax\")\n",
        "class0 = load_real_samples(\"/content/gdrive/My Drive/MSc. project/npz files conference/training_preprocessed_fake_class_4.npz\")\n",
        "predictions_class0 = base_model.predict(class0)\n",
        "\n",
        "class1 = load_real_samples(\"/content/gdrive/My Drive/MSc. project/npz files conference/randomly selected Kaggle preprocessed 2/random_selected_preprocessed_real_class_0_3nd_time.npz\")\n",
        "predictions_class1 = base_model.predict(class1)\n",
        "\n",
        "from scipy.spatial import distance\n",
        "cosine_distance_sum = 0\n",
        "for i in range (predictions_class0.shape[0]):\n",
        "  for j in range(predictions_class1.shape[0]):\n",
        "    cosine_distance_sum += distance.cosine(predictions_class0[i], predictions_class1[j])\n",
        "print(cosine_distance_sum/(predictions_class0.shape[0] * predictions_class1.shape[0]))"
      ],
      "execution_count": null,
      "outputs": [
        {
          "output_type": "stream",
          "text": [
            "(165, 128, 128, 3)\n",
            "(100, 128, 128, 3)\n",
            "0.16436353605443782\n"
          ],
          "name": "stdout"
        }
      ]
    },
    {
      "cell_type": "code",
      "metadata": {
        "colab": {
          "base_uri": "https://localhost:8080/"
        },
        "id": "hvbWYWcHqeYw",
        "outputId": "ec38978f-7caf-41c3-c676-93d658529094"
      },
      "source": [
        "#another way of extracting features. This is better\n",
        "base_model = InceptionV3(weights = 'imagenet', include_top = False, input_shape=(128, 128, 3) , pooling=\"avg\", classifier_activation=\"softmax\")\n",
        "class0 = load_real_samples(\"/content/gdrive/My Drive/MSc. project/npz files conference/training_preprocessed_fake_class_4.npz\")\n",
        "predictions_class0 = base_model.predict(class0)\n",
        "\n",
        "class1 = load_real_samples(\"/content/gdrive/My Drive/MSc. project/npz files conference/randomly selected Kaggle preprocessed 2/random_selected_preprocessed_real_class_1_3rd_time.npz\")\n",
        "predictions_class1 = base_model.predict(class1)\n",
        "\n",
        "from scipy.spatial import distance\n",
        "cosine_distance_sum = 0\n",
        "for i in range (predictions_class0.shape[0]):\n",
        "  for j in range(predictions_class1.shape[0]):\n",
        "    cosine_distance_sum += distance.cosine(predictions_class0[i], predictions_class1[j])\n",
        "print(cosine_distance_sum/(predictions_class0.shape[0] * predictions_class1.shape[0]))"
      ],
      "execution_count": null,
      "outputs": [
        {
          "output_type": "stream",
          "text": [
            "(165, 128, 128, 3)\n",
            "(100, 128, 128, 3)\n",
            "0.1539619139649651\n"
          ],
          "name": "stdout"
        }
      ]
    },
    {
      "cell_type": "code",
      "metadata": {
        "colab": {
          "base_uri": "https://localhost:8080/"
        },
        "id": "idkKiQwUqeby",
        "outputId": "b289995f-1976-4ace-f117-62d037189d98"
      },
      "source": [
        "#another way of extracting features. This is better\n",
        "base_model = InceptionV3(weights = 'imagenet', include_top = False, input_shape=(128, 128, 3) , pooling=\"avg\", classifier_activation=\"softmax\")\n",
        "class0 = load_real_samples(\"/content/gdrive/My Drive/MSc. project/npz files conference/training_preprocessed_fake_class_4.npz\")\n",
        "predictions_class0 = base_model.predict(class0)\n",
        "\n",
        "class1 = load_real_samples(\"/content/gdrive/My Drive/MSc. project/npz files conference/randomly selected Kaggle preprocessed 2/random_selected_preprocessed_real_class_2_3rd_time.npz\")\n",
        "predictions_class1 = base_model.predict(class1)\n",
        "\n",
        "from scipy.spatial import distance\n",
        "cosine_distance_sum = 0\n",
        "for i in range (predictions_class0.shape[0]):\n",
        "  for j in range(predictions_class1.shape[0]):\n",
        "    cosine_distance_sum += distance.cosine(predictions_class0[i], predictions_class1[j])\n",
        "print(cosine_distance_sum/(predictions_class0.shape[0] * predictions_class1.shape[0]))"
      ],
      "execution_count": null,
      "outputs": [
        {
          "output_type": "stream",
          "text": [
            "(165, 128, 128, 3)\n",
            "(100, 128, 128, 3)\n",
            "0.1524023445501472\n"
          ],
          "name": "stdout"
        }
      ]
    },
    {
      "cell_type": "code",
      "metadata": {
        "colab": {
          "base_uri": "https://localhost:8080/"
        },
        "id": "HdAMVJfvqeeL",
        "outputId": "5a6c3067-4504-4f6c-f98c-7e0ad5c74c23"
      },
      "source": [
        "#another way of extracting features. This is better\n",
        "base_model = InceptionV3(weights = 'imagenet', include_top = False, input_shape=(128, 128, 3) , pooling=\"avg\", classifier_activation=\"softmax\")\n",
        "class0 = load_real_samples(\"/content/gdrive/My Drive/MSc. project/npz files conference/training_preprocessed_fake_class_4.npz\")\n",
        "predictions_class0 = base_model.predict(class0)\n",
        "\n",
        "class1 = load_real_samples(\"/content/gdrive/My Drive/MSc. project/npz files conference/randomly selected Kaggle preprocessed 2/random_selected_preprocessed_real_class_3_3rd_time.npz\")\n",
        "predictions_class1 = base_model.predict(class1)\n",
        "\n",
        "from scipy.spatial import distance\n",
        "cosine_distance_sum = 0\n",
        "for i in range (predictions_class0.shape[0]):\n",
        "  for j in range(predictions_class1.shape[0]):\n",
        "    cosine_distance_sum += distance.cosine(predictions_class0[i], predictions_class1[j])\n",
        "print(cosine_distance_sum/(predictions_class0.shape[0] * predictions_class1.shape[0]))"
      ],
      "execution_count": null,
      "outputs": [
        {
          "output_type": "stream",
          "text": [
            "(165, 128, 128, 3)\n",
            "(100, 128, 128, 3)\n",
            "0.16298973182114687\n"
          ],
          "name": "stdout"
        }
      ]
    },
    {
      "cell_type": "code",
      "metadata": {
        "colab": {
          "base_uri": "https://localhost:8080/"
        },
        "id": "Ej0cMVRmqehS",
        "outputId": "2d961103-e6fe-494a-91e9-3a241f6ba774"
      },
      "source": [
        "#another way of extracting features. This is better\n",
        "base_model = InceptionV3(weights = 'imagenet', include_top = False, input_shape=(128, 128, 3) , pooling=\"avg\", classifier_activation=\"softmax\")\n",
        "class0 = load_real_samples(\"/content/gdrive/My Drive/MSc. project/npz files conference/training_preprocessed_fake_class_4.npz\")\n",
        "predictions_class0 = base_model.predict(class0)\n",
        "\n",
        "class1 = load_real_samples(\"/content/gdrive/My Drive/MSc. project/npz files conference/randomly selected Kaggle preprocessed 2/random_selected_preprocessed_real_class_4_3rd_time.npz\")\n",
        "predictions_class1 = base_model.predict(class1)\n",
        "\n",
        "from scipy.spatial import distance\n",
        "cosine_distance_sum = 0\n",
        "for i in range (predictions_class0.shape[0]):\n",
        "  for j in range(predictions_class1.shape[0]):\n",
        "    cosine_distance_sum += distance.cosine(predictions_class0[i], predictions_class1[j])\n",
        "print(cosine_distance_sum/(predictions_class0.shape[0] * predictions_class1.shape[0]))"
      ],
      "execution_count": null,
      "outputs": [
        {
          "output_type": "stream",
          "text": [
            "(165, 128, 128, 3)\n",
            "(100, 128, 128, 3)\n",
            "0.15643258292205406\n"
          ],
          "name": "stdout"
        }
      ]
    },
    {
      "cell_type": "code",
      "metadata": {
        "id": "MzMecjbmyKnX"
      },
      "source": [
        ""
      ],
      "execution_count": null,
      "outputs": []
    },
    {
      "cell_type": "code",
      "metadata": {
        "colab": {
          "base_uri": "https://localhost:8080/"
        },
        "id": "Qe8HBgepyKq6",
        "outputId": "de9cd207-ecd7-4949-cab7-a150b9829f02"
      },
      "source": [
        "#another way of extracting features. This is better\n",
        "base_model = InceptionV3(weights = 'imagenet', include_top = False, input_shape=(128, 128, 3) , pooling=\"avg\", classifier_activation=\"softmax\")\n",
        "class0 = load_real_samples(\"/content/gdrive/My Drive/MSc. project/npz files conference/training_preprocessed_fake_class_4.npz\")\n",
        "predictions_class0 = base_model.predict(class0)\n",
        "\n",
        "class1 = load_real_samples(\"/content/gdrive/My Drive/MSc. project/npz files conference/randomly selected Kaggle preprocessed 2/random_selected_preprocessed_real_class_0_4th_time.npz\")\n",
        "predictions_class1 = base_model.predict(class1)\n",
        "\n",
        "from scipy.spatial import distance\n",
        "cosine_distance_sum = 0\n",
        "for i in range (predictions_class0.shape[0]):\n",
        "  for j in range(predictions_class1.shape[0]):\n",
        "    cosine_distance_sum += distance.cosine(predictions_class0[i], predictions_class1[j])\n",
        "print(cosine_distance_sum/(predictions_class0.shape[0] * predictions_class1.shape[0]))"
      ],
      "execution_count": null,
      "outputs": [
        {
          "output_type": "stream",
          "text": [
            "(165, 128, 128, 3)\n",
            "(100, 128, 128, 3)\n",
            "0.1523513043757641\n"
          ],
          "name": "stdout"
        }
      ]
    },
    {
      "cell_type": "code",
      "metadata": {
        "colab": {
          "base_uri": "https://localhost:8080/"
        },
        "id": "T-7BDNhT1Dik",
        "outputId": "e745759f-efbb-4996-95d8-1602a555d631"
      },
      "source": [
        "#another way of extracting features. This is better\n",
        "base_model = InceptionV3(weights = 'imagenet', include_top = False, input_shape=(128, 128, 3) , pooling=\"avg\", classifier_activation=\"softmax\")\n",
        "class0 = load_real_samples(\"/content/gdrive/My Drive/MSc. project/npz files conference/training_preprocessed_fake_class_4.npz\")\n",
        "predictions_class0 = base_model.predict(class0)\n",
        "\n",
        "class1 = load_real_samples(\"/content/gdrive/My Drive/MSc. project/npz files conference/randomly selected Kaggle preprocessed 2/random_selected_preprocessed_real_class_1_4th_time.npz\")\n",
        "predictions_class1 = base_model.predict(class1)\n",
        "\n",
        "from scipy.spatial import distance\n",
        "cosine_distance_sum = 0\n",
        "for i in range (predictions_class0.shape[0]):\n",
        "  for j in range(predictions_class1.shape[0]):\n",
        "    cosine_distance_sum += distance.cosine(predictions_class0[i], predictions_class1[j])\n",
        "print(cosine_distance_sum/(predictions_class0.shape[0] * predictions_class1.shape[0]))"
      ],
      "execution_count": null,
      "outputs": [
        {
          "output_type": "stream",
          "text": [
            "(165, 128, 128, 3)\n",
            "(100, 128, 128, 3)\n",
            "0.15710745374903534\n"
          ],
          "name": "stdout"
        }
      ]
    },
    {
      "cell_type": "code",
      "metadata": {
        "colab": {
          "base_uri": "https://localhost:8080/"
        },
        "id": "ks7CtyH5yKyr",
        "outputId": "15c57a2e-cb14-43b9-dfd4-b76bc234fe9c"
      },
      "source": [
        "#another way of extracting features. This is better\n",
        "base_model = InceptionV3(weights = 'imagenet', include_top = False, input_shape=(128, 128, 3) , pooling=\"avg\", classifier_activation=\"softmax\")\n",
        "class0 = load_real_samples(\"/content/gdrive/My Drive/MSc. project/npz files conference/training_preprocessed_fake_class_4.npz\")\n",
        "predictions_class0 = base_model.predict(class0)\n",
        "\n",
        "class1 = load_real_samples(\"/content/gdrive/My Drive/MSc. project/npz files conference/randomly selected Kaggle preprocessed 2/random_selected_preprocessed_real_class_2_4th_time.npz\")\n",
        "predictions_class1 = base_model.predict(class1)\n",
        "\n",
        "from scipy.spatial import distance\n",
        "cosine_distance_sum = 0\n",
        "for i in range (predictions_class0.shape[0]):\n",
        "  for j in range(predictions_class1.shape[0]):\n",
        "    cosine_distance_sum += distance.cosine(predictions_class0[i], predictions_class1[j])\n",
        "print(cosine_distance_sum/(predictions_class0.shape[0] * predictions_class1.shape[0]))"
      ],
      "execution_count": null,
      "outputs": [
        {
          "output_type": "stream",
          "text": [
            "(165, 128, 128, 3)\n",
            "(100, 128, 128, 3)\n",
            "0.14814265296314702\n"
          ],
          "name": "stdout"
        }
      ]
    },
    {
      "cell_type": "code",
      "metadata": {
        "colab": {
          "base_uri": "https://localhost:8080/"
        },
        "id": "KhWIp8r9qekE",
        "outputId": "ceb0d3a4-8cbc-4cd6-f59d-75e3fd3df961"
      },
      "source": [
        "#another way of extracting features. This is better\n",
        "base_model = InceptionV3(weights = 'imagenet', include_top = False, input_shape=(128, 128, 3) , pooling=\"avg\", classifier_activation=\"softmax\")\n",
        "class0 = load_real_samples(\"/content/gdrive/My Drive/MSc. project/npz files conference/training_preprocessed_fake_class_4.npz\")\n",
        "predictions_class0 = base_model.predict(class0)\n",
        "\n",
        "class1 = load_real_samples(\"/content/gdrive/My Drive/MSc. project/npz files conference/randomly selected Kaggle preprocessed 2/random_selected_preprocessed_real_class_3_4th_time.npz\")\n",
        "predictions_class1 = base_model.predict(class1)\n",
        "\n",
        "from scipy.spatial import distance\n",
        "cosine_distance_sum = 0\n",
        "for i in range (predictions_class0.shape[0]):\n",
        "  for j in range(predictions_class1.shape[0]):\n",
        "    cosine_distance_sum += distance.cosine(predictions_class0[i], predictions_class1[j])\n",
        "print(cosine_distance_sum/(predictions_class0.shape[0] * predictions_class1.shape[0]))"
      ],
      "execution_count": null,
      "outputs": [
        {
          "output_type": "stream",
          "text": [
            "(165, 128, 128, 3)\n",
            "(100, 128, 128, 3)\n",
            "0.15391347534006292\n"
          ],
          "name": "stdout"
        }
      ]
    },
    {
      "cell_type": "code",
      "metadata": {
        "colab": {
          "base_uri": "https://localhost:8080/"
        },
        "id": "8QgLlCozqBPy",
        "outputId": "f8a59104-1adb-40eb-fb03-7f9f30e53cad"
      },
      "source": [
        "#another way of extracting features. This is better\n",
        "base_model = InceptionV3(weights = 'imagenet', include_top = False, input_shape=(128, 128, 3) , pooling=\"avg\", classifier_activation=\"softmax\")\n",
        "class0 = load_real_samples(\"/content/gdrive/My Drive/MSc. project/npz files conference/training_preprocessed_fake_class_4.npz\")\n",
        "predictions_class0 = base_model.predict(class0)\n",
        "\n",
        "class1 = load_real_samples(\"/content/gdrive/My Drive/MSc. project/npz files conference/randomly selected Kaggle preprocessed 2/random_selected_preprocessed_real_class_4_4th_time.npz\")\n",
        "predictions_class1 = base_model.predict(class1)\n",
        "\n",
        "from scipy.spatial import distance\n",
        "cosine_distance_sum = 0\n",
        "for i in range (predictions_class0.shape[0]):\n",
        "  for j in range(predictions_class1.shape[0]):\n",
        "    cosine_distance_sum += distance.cosine(predictions_class0[i], predictions_class1[j])\n",
        "print(cosine_distance_sum/(predictions_class0.shape[0] * predictions_class1.shape[0]))"
      ],
      "execution_count": null,
      "outputs": [
        {
          "output_type": "stream",
          "text": [
            "(165, 128, 128, 3)\n",
            "(100, 128, 128, 3)\n",
            "0.15504175103433204\n"
          ],
          "name": "stdout"
        }
      ]
    },
    {
      "cell_type": "code",
      "metadata": {
        "id": "nmTUyuTuyNyz"
      },
      "source": [
        ""
      ],
      "execution_count": null,
      "outputs": []
    },
    {
      "cell_type": "code",
      "metadata": {
        "id": "uRHWBdw7yN11"
      },
      "source": [
        ""
      ],
      "execution_count": null,
      "outputs": []
    },
    {
      "cell_type": "code",
      "metadata": {
        "id": "mvvaaYUJyN4l"
      },
      "source": [
        ""
      ],
      "execution_count": null,
      "outputs": []
    },
    {
      "cell_type": "code",
      "metadata": {
        "id": "E2ianDbsyN7P"
      },
      "source": [
        ""
      ],
      "execution_count": null,
      "outputs": []
    },
    {
      "cell_type": "code",
      "metadata": {
        "colab": {
          "base_uri": "https://localhost:8080/"
        },
        "id": "w-O0WDDDBxzK",
        "outputId": "9ac4df90-ea75-4183-a2c5-30ab814dc280"
      },
      "source": [
        "#another way of extracting features. This is better\n",
        "base_model = InceptionV3(weights = 'imagenet', include_top = False, input_shape=(128, 128, 3) , pooling=\"avg\", classifier_activation=\"softmax\")\n",
        "class0 = load_real_samples(\"/content/gdrive/My Drive/MSc. project/npz files conference/training_preprocessed_fake_class_4.npz\")\n",
        "predictions_class0 = base_model.predict(class0)\n",
        "\n",
        "class1 = load_real_samples(\"/content/gdrive/My Drive/MSc. project/npz files conference/randomly selected Kaggle preprocessed/training_preprocessed_real_randomly_selected_class_0.npz\")\n",
        "predictions_class1 = base_model.predict(class1)\n",
        "\n",
        "from scipy.spatial import distance\n",
        "cosine_distance_sum = 0\n",
        "for i in range (predictions_class0.shape[0]):\n",
        "  for j in range(predictions_class1.shape[0]):\n",
        "    cosine_distance_sum += distance.cosine(predictions_class0[i], predictions_class1[j])\n",
        "print(cosine_distance_sum/(predictions_class0.shape[0] * predictions_class1.shape[0]))\n",
        "\n",
        "\n"
      ],
      "execution_count": null,
      "outputs": [
        {
          "output_type": "stream",
          "text": [
            "(165, 128, 128, 3)\n",
            "(100, 128, 128, 3)\n",
            "0.15662074797803704\n"
          ],
          "name": "stdout"
        }
      ]
    },
    {
      "cell_type": "code",
      "metadata": {
        "colab": {
          "base_uri": "https://localhost:8080/"
        },
        "id": "gmzb1MDz0HvV",
        "outputId": "b50b9fa1-aaf8-4247-ac7b-15e2463f1064"
      },
      "source": [
        "#another way of extracting features. This is better\n",
        "base_model = InceptionV3(weights = 'imagenet', include_top = False, input_shape=(128, 128, 3) , pooling=\"avg\", classifier_activation=\"softmax\")\n",
        "trainX = load_real_samples(\"/content/gdrive/My Drive/MSc. project/npz files conference/real + fake IDRiD/real+fake_IDRID_epoch_9.npz\")\n",
        "predictions = base_model.predict(trainX)\n",
        "\n",
        "from scipy.spatial import distance\n",
        "cosine_distance_sum = 0\n",
        "for i in range (predictions.shape[0]):\n",
        "  for j in range(predictions.shape[0]):\n",
        "    cosine_distance_sum += distance.cosine(predictions[i], predictions[j])\n",
        "print(cosine_distance_sum/(predictions.shape[0] * predictions.shape[0]))\n"
      ],
      "execution_count": null,
      "outputs": [
        {
          "output_type": "stream",
          "text": [
            "(49, 128, 128, 3)\n",
            "0.3623259531016749\n"
          ],
          "name": "stdout"
        }
      ]
    },
    {
      "cell_type": "code",
      "metadata": {
        "colab": {
          "base_uri": "https://localhost:8080/"
        },
        "id": "Q_aVHo3YyRIn",
        "outputId": "89f8b511-8d9b-46a3-ddad-5aabadb7ca2f"
      },
      "source": [
        "#another way of extracting features. This is better\n",
        "base_model = InceptionV3(weights = 'imagenet', include_top = False, input_shape=(128, 128, 3) , pooling=\"avg\", classifier_activation=\"softmax\")\n",
        "trainX = load_real_samples(\"/content/gdrive/My Drive/MSc. project/npz files conference/real + fake IDRiD/real+fake_IDRID_epoch_19.npz\")\n",
        "predictions = base_model.predict(trainX)\n",
        "\n",
        "from scipy.spatial import distance\n",
        "cosine_distance_sum = 0\n",
        "for i in range (predictions.shape[0]):\n",
        "  for j in range(predictions.shape[0]):\n",
        "    cosine_distance_sum += distance.cosine(predictions[i], predictions[j])\n",
        "print(cosine_distance_sum/(predictions.shape[0] * predictions.shape[0]))\n"
      ],
      "execution_count": null,
      "outputs": [
        {
          "output_type": "stream",
          "text": [
            "(49, 128, 128, 3)\n",
            "0.3623259531016749\n"
          ],
          "name": "stdout"
        }
      ]
    },
    {
      "cell_type": "code",
      "metadata": {
        "id": "wqe8pFrsW8Iq",
        "colab": {
          "base_uri": "https://localhost:8080/"
        },
        "outputId": "12cf26f6-31c5-4240-dddb-73a3fba5a46e"
      },
      "source": [
        "#another way of extracting features. This is better\n",
        "base_model = InceptionV3(weights = 'imagenet', include_top = False, input_shape=(128, 128, 3) , pooling=\"avg\", classifier_activation=\"softmax\")\n",
        "trainX = load_real_samples(\"/content/gdrive/My Drive/MSc. project/npz files conference/real + fake IDRiD/real+fake_IDRID_epoch_29.npz\")\n",
        "predictions = base_model.predict(trainX)\n",
        "\n",
        "from scipy.spatial import distance\n",
        "cosine_distance_sum = 0\n",
        "for i in range (predictions.shape[0]):\n",
        "  for j in range(predictions.shape[0]):\n",
        "    cosine_distance_sum += distance.cosine(predictions[i], predictions[j])\n",
        "print(cosine_distance_sum/(predictions.shape[0] * predictions.shape[0]))\n"
      ],
      "execution_count": null,
      "outputs": [
        {
          "output_type": "stream",
          "text": [
            "(49, 128, 128, 3)\n",
            "0.20093804898236206\n"
          ],
          "name": "stdout"
        }
      ]
    },
    {
      "cell_type": "code",
      "metadata": {
        "id": "MwnYqle38ZsZ",
        "colab": {
          "base_uri": "https://localhost:8080/"
        },
        "outputId": "39c22b92-964d-43d1-b6a5-1fe64b664bce"
      },
      "source": [
        "#another way of extracting features. This is better\n",
        "base_model = InceptionV3(weights = 'imagenet', include_top = False, input_shape=(128, 128, 3) , pooling=\"avg\", classifier_activation=\"softmax\")\n",
        "trainX = load_real_samples(\"/content/gdrive/My Drive/MSc. project/npz files conference/real + fake IDRiD/real+fake_IDRID_epoch_39.npz\")\n",
        "predictions = base_model.predict(trainX)\n",
        "\n",
        "from scipy.spatial import distance\n",
        "cosine_distance_sum = 0\n",
        "for i in range (predictions.shape[0]):\n",
        "  for j in range(predictions.shape[0]):\n",
        "    cosine_distance_sum += distance.cosine(predictions[i], predictions[j])\n",
        "print(cosine_distance_sum/(predictions.shape[0] * predictions.shape[0]))\n"
      ],
      "execution_count": null,
      "outputs": [
        {
          "output_type": "stream",
          "text": [
            "(49, 128, 128, 3)\n",
            "WARNING:tensorflow:5 out of the last 8 calls to <function Model.make_predict_function.<locals>.predict_function at 0x7f66f4467710> triggered tf.function retracing. Tracing is expensive and the excessive number of tracings could be due to (1) creating @tf.function repeatedly in a loop, (2) passing tensors with different shapes, (3) passing Python objects instead of tensors. For (1), please define your @tf.function outside of the loop. For (2), @tf.function has experimental_relax_shapes=True option that relaxes argument shapes that can avoid unnecessary retracing. For (3), please refer to https://www.tensorflow.org/guide/function#controlling_retracing and https://www.tensorflow.org/api_docs/python/tf/function for  more details.\n",
            "0.3623259531016749\n"
          ],
          "name": "stdout"
        }
      ]
    },
    {
      "cell_type": "code",
      "metadata": {
        "colab": {
          "base_uri": "https://localhost:8080/"
        },
        "id": "3xaps_tPPBvK",
        "outputId": "05063c5c-0ff0-4a62-8afc-37a74077aba9"
      },
      "source": [
        "#another way of extracting features. This is better\n",
        "base_model = InceptionV3(weights = 'imagenet', include_top = False, input_shape=(128, 128, 3) , pooling=\"avg\", classifier_activation=\"softmax\")\n",
        "trainX = load_real_samples(\"/content/gdrive/My Drive/MSc. project/npz files conference/real + fake IDRiD/real+fake_IDRID_epoch_49.npz\")\n",
        "predictions = base_model.predict(trainX)\n",
        "\n",
        "from scipy.spatial import distance\n",
        "cosine_distance_sum = 0\n",
        "for i in range (predictions.shape[0]):\n",
        "  for j in range(predictions.shape[0]):\n",
        "    cosine_distance_sum += distance.cosine(predictions[i], predictions[j])\n",
        "print(cosine_distance_sum/(predictions.shape[0] * predictions.shape[0]))\n"
      ],
      "execution_count": null,
      "outputs": [
        {
          "output_type": "stream",
          "text": [
            "(49, 128, 128, 3)\n",
            "WARNING:tensorflow:6 out of the last 10 calls to <function Model.make_predict_function.<locals>.predict_function at 0x7f66f5e4f5f0> triggered tf.function retracing. Tracing is expensive and the excessive number of tracings could be due to (1) creating @tf.function repeatedly in a loop, (2) passing tensors with different shapes, (3) passing Python objects instead of tensors. For (1), please define your @tf.function outside of the loop. For (2), @tf.function has experimental_relax_shapes=True option that relaxes argument shapes that can avoid unnecessary retracing. For (3), please refer to https://www.tensorflow.org/guide/function#controlling_retracing and https://www.tensorflow.org/api_docs/python/tf/function for  more details.\n",
            "0.43253778721183006\n"
          ],
          "name": "stdout"
        }
      ]
    },
    {
      "cell_type": "code",
      "metadata": {
        "colab": {
          "base_uri": "https://localhost:8080/"
        },
        "id": "QQwiuIu0PB0g",
        "outputId": "5f00303f-3dc1-4342-a70e-a5d6df1fccb1"
      },
      "source": [
        "#another way of extracting features. This is better\n",
        "base_model = InceptionV3(weights = 'imagenet', include_top = False, input_shape=(128, 128, 3) , pooling=\"avg\", classifier_activation=\"softmax\")\n",
        "trainX = load_real_samples(\"/content/gdrive/My Drive/MSc. project/npz files conference/real + fake IDRiD/real+fake_IDRID_epoch_59.npz\")\n",
        "predictions = base_model.predict(trainX)\n",
        "\n",
        "from scipy.spatial import distance\n",
        "cosine_distance_sum = 0\n",
        "for i in range (predictions.shape[0]):\n",
        "  for j in range(predictions.shape[0]):\n",
        "    cosine_distance_sum += distance.cosine(predictions[i], predictions[j])\n",
        "print(cosine_distance_sum/(predictions.shape[0] * predictions.shape[0]))\n"
      ],
      "execution_count": null,
      "outputs": [
        {
          "output_type": "stream",
          "text": [
            "(49, 128, 128, 3)\n",
            "WARNING:tensorflow:6 out of the last 11 calls to <function Model.make_predict_function.<locals>.predict_function at 0x7f66f91a1320> triggered tf.function retracing. Tracing is expensive and the excessive number of tracings could be due to (1) creating @tf.function repeatedly in a loop, (2) passing tensors with different shapes, (3) passing Python objects instead of tensors. For (1), please define your @tf.function outside of the loop. For (2), @tf.function has experimental_relax_shapes=True option that relaxes argument shapes that can avoid unnecessary retracing. For (3), please refer to https://www.tensorflow.org/guide/function#controlling_retracing and https://www.tensorflow.org/api_docs/python/tf/function for  more details.\n",
            "0.4174648237844052\n"
          ],
          "name": "stdout"
        }
      ]
    },
    {
      "cell_type": "code",
      "metadata": {
        "colab": {
          "base_uri": "https://localhost:8080/"
        },
        "id": "l9KnNF6CPB3L",
        "outputId": "3e9e6320-df36-4492-a85e-59b2b0349582"
      },
      "source": [
        "#another way of extracting features. This is better\n",
        "base_model = InceptionV3(weights = 'imagenet', include_top = False, input_shape=(128, 128, 3) , pooling=\"avg\", classifier_activation=\"softmax\")\n",
        "trainX = load_real_samples(\"/content/gdrive/My Drive/MSc. project/npz files conference/real + fake IDRiD/real+fake_IDRID_epoch_69.npz\")\n",
        "predictions = base_model.predict(trainX)\n",
        "\n",
        "from scipy.spatial import distance\n",
        "cosine_distance_sum = 0\n",
        "for i in range (predictions.shape[0]):\n",
        "  for j in range(predictions.shape[0]):\n",
        "    cosine_distance_sum += distance.cosine(predictions[i], predictions[j])\n",
        "print(cosine_distance_sum/(predictions.shape[0] * predictions.shape[0]))\n"
      ],
      "execution_count": null,
      "outputs": [
        {
          "output_type": "stream",
          "text": [
            "(49, 128, 128, 3)\n",
            "WARNING:tensorflow:6 out of the last 11 calls to <function Model.make_predict_function.<locals>.predict_function at 0x7f66f5075dd0> triggered tf.function retracing. Tracing is expensive and the excessive number of tracings could be due to (1) creating @tf.function repeatedly in a loop, (2) passing tensors with different shapes, (3) passing Python objects instead of tensors. For (1), please define your @tf.function outside of the loop. For (2), @tf.function has experimental_relax_shapes=True option that relaxes argument shapes that can avoid unnecessary retracing. For (3), please refer to https://www.tensorflow.org/guide/function#controlling_retracing and https://www.tensorflow.org/api_docs/python/tf/function for  more details.\n",
            "0.13739718923167554\n"
          ],
          "name": "stdout"
        }
      ]
    },
    {
      "cell_type": "code",
      "metadata": {
        "colab": {
          "base_uri": "https://localhost:8080/"
        },
        "id": "rqk2Da_zPB6I",
        "outputId": "6d67c7b2-5ff2-4276-e45d-7987900704f7"
      },
      "source": [
        "#another way of extracting features. This is better\n",
        "base_model = InceptionV3(weights = 'imagenet', include_top = False, input_shape=(128, 128, 3) , pooling=\"avg\", classifier_activation=\"softmax\")\n",
        "trainX = load_real_samples(\"/content/gdrive/My Drive/MSc. project/npz files conference/real + fake IDRiD/real+fake_IDRID_epoch_79.npz\")\n",
        "predictions = base_model.predict(trainX)\n",
        "\n",
        "from scipy.spatial import distance\n",
        "cosine_distance_sum = 0\n",
        "for i in range (predictions.shape[0]):\n",
        "  for j in range(predictions.shape[0]):\n",
        "    cosine_distance_sum += distance.cosine(predictions[i], predictions[j])\n",
        "print(cosine_distance_sum/(predictions.shape[0] * predictions.shape[0]))\n"
      ],
      "execution_count": null,
      "outputs": [
        {
          "output_type": "stream",
          "text": [
            "(49, 128, 128, 3)\n",
            "WARNING:tensorflow:6 out of the last 11 calls to <function Model.make_predict_function.<locals>.predict_function at 0x7f66f51d7ef0> triggered tf.function retracing. Tracing is expensive and the excessive number of tracings could be due to (1) creating @tf.function repeatedly in a loop, (2) passing tensors with different shapes, (3) passing Python objects instead of tensors. For (1), please define your @tf.function outside of the loop. For (2), @tf.function has experimental_relax_shapes=True option that relaxes argument shapes that can avoid unnecessary retracing. For (3), please refer to https://www.tensorflow.org/guide/function#controlling_retracing and https://www.tensorflow.org/api_docs/python/tf/function for  more details.\n",
            "0.10963583633036775\n"
          ],
          "name": "stdout"
        }
      ]
    },
    {
      "cell_type": "code",
      "metadata": {
        "colab": {
          "base_uri": "https://localhost:8080/"
        },
        "id": "uQwDLHmRPB-7",
        "outputId": "226f30a6-344f-485a-ee33-9ccd68063ad1"
      },
      "source": [
        "#another way of extracting features. This is better\n",
        "base_model = InceptionV3(weights = 'imagenet', include_top = False, input_shape=(128, 128, 3) , pooling=\"avg\", classifier_activation=\"softmax\")\n",
        "trainX = load_real_samples(\"/content/gdrive/My Drive/MSc. project/npz files conference/real + fake IDRiD/real+fake_IDRID_epoch_89.npz\")\n",
        "predictions = base_model.predict(trainX)\n",
        "\n",
        "from scipy.spatial import distance\n",
        "cosine_distance_sum = 0\n",
        "for i in range (predictions.shape[0]):\n",
        "  for j in range(predictions.shape[0]):\n",
        "    cosine_distance_sum += distance.cosine(predictions[i], predictions[j])\n",
        "print(cosine_distance_sum/(predictions.shape[0] * predictions.shape[0]))\n"
      ],
      "execution_count": null,
      "outputs": [
        {
          "output_type": "stream",
          "text": [
            "(49, 128, 128, 3)\n",
            "WARNING:tensorflow:6 out of the last 11 calls to <function Model.make_predict_function.<locals>.predict_function at 0x7f66f4f2c4d0> triggered tf.function retracing. Tracing is expensive and the excessive number of tracings could be due to (1) creating @tf.function repeatedly in a loop, (2) passing tensors with different shapes, (3) passing Python objects instead of tensors. For (1), please define your @tf.function outside of the loop. For (2), @tf.function has experimental_relax_shapes=True option that relaxes argument shapes that can avoid unnecessary retracing. For (3), please refer to https://www.tensorflow.org/guide/function#controlling_retracing and https://www.tensorflow.org/api_docs/python/tf/function for  more details.\n",
            "0.13007761934606893\n"
          ],
          "name": "stdout"
        }
      ]
    },
    {
      "cell_type": "code",
      "metadata": {
        "colab": {
          "base_uri": "https://localhost:8080/"
        },
        "id": "_CHlKKdEPCBa",
        "outputId": "045931e3-7601-4274-ff20-6f3fdaba09b3"
      },
      "source": [
        "#another way of extracting features. This is better\n",
        "base_model = InceptionV3(weights = 'imagenet', include_top = False, input_shape=(128, 128, 3) , pooling=\"avg\", classifier_activation=\"softmax\")\n",
        "trainX = load_real_samples(\"/content/gdrive/My Drive/MSc. project/npz files conference/real + fake IDRiD/real+fake_IDRID_epoch_99.npz\")\n",
        "predictions = base_model.predict(trainX)\n",
        "\n",
        "from scipy.spatial import distance\n",
        "cosine_distance_sum = 0\n",
        "for i in range (predictions.shape[0]):\n",
        "  for j in range(predictions.shape[0]):\n",
        "    cosine_distance_sum += distance.cosine(predictions[i], predictions[j])\n",
        "print(cosine_distance_sum/(predictions.shape[0] * predictions.shape[0]))\n"
      ],
      "execution_count": null,
      "outputs": [
        {
          "output_type": "stream",
          "text": [
            "(49, 128, 128, 3)\n",
            "WARNING:tensorflow:6 out of the last 11 calls to <function Model.make_predict_function.<locals>.predict_function at 0x7f66f61359e0> triggered tf.function retracing. Tracing is expensive and the excessive number of tracings could be due to (1) creating @tf.function repeatedly in a loop, (2) passing tensors with different shapes, (3) passing Python objects instead of tensors. For (1), please define your @tf.function outside of the loop. For (2), @tf.function has experimental_relax_shapes=True option that relaxes argument shapes that can avoid unnecessary retracing. For (3), please refer to https://www.tensorflow.org/guide/function#controlling_retracing and https://www.tensorflow.org/api_docs/python/tf/function for  more details.\n",
            "0.09147865794093249\n"
          ],
          "name": "stdout"
        }
      ]
    },
    {
      "cell_type": "code",
      "metadata": {
        "colab": {
          "base_uri": "https://localhost:8080/"
        },
        "id": "DFQj96CJPCD6",
        "outputId": "6d6d4479-aa8f-428f-89e1-fe05fd1ca93f"
      },
      "source": [
        "#another way of extracting features. This is better\n",
        "base_model = InceptionV3(weights = 'imagenet', include_top = False, input_shape=(128, 128, 3) , pooling=\"avg\", classifier_activation=\"softmax\")\n",
        "trainX = load_real_samples(\"/content/gdrive/My Drive/MSc. project/npz files conference/real + fake IDRiD/real+fake_IDRID_epoch_109.npz\")\n",
        "predictions = base_model.predict(trainX)\n",
        "\n",
        "from scipy.spatial import distance\n",
        "cosine_distance_sum = 0\n",
        "for i in range (predictions.shape[0]):\n",
        "  for j in range(predictions.shape[0]):\n",
        "    cosine_distance_sum += distance.cosine(predictions[i], predictions[j])\n",
        "print(cosine_distance_sum/(predictions.shape[0] * predictions.shape[0]))\n"
      ],
      "execution_count": null,
      "outputs": [
        {
          "output_type": "stream",
          "text": [
            "(49, 128, 128, 3)\n",
            "WARNING:tensorflow:6 out of the last 11 calls to <function Model.make_predict_function.<locals>.predict_function at 0x7f66f7f32d40> triggered tf.function retracing. Tracing is expensive and the excessive number of tracings could be due to (1) creating @tf.function repeatedly in a loop, (2) passing tensors with different shapes, (3) passing Python objects instead of tensors. For (1), please define your @tf.function outside of the loop. For (2), @tf.function has experimental_relax_shapes=True option that relaxes argument shapes that can avoid unnecessary retracing. For (3), please refer to https://www.tensorflow.org/guide/function#controlling_retracing and https://www.tensorflow.org/api_docs/python/tf/function for  more details.\n",
            "0.11287233800701378\n"
          ],
          "name": "stdout"
        }
      ]
    },
    {
      "cell_type": "code",
      "metadata": {
        "colab": {
          "base_uri": "https://localhost:8080/"
        },
        "id": "5jBniL-OPCGt",
        "outputId": "a73fe132-81a8-452d-cb8d-63e78cce8145"
      },
      "source": [
        "#another way of extracting features. This is better\n",
        "base_model = InceptionV3(weights = 'imagenet', include_top = False, input_shape=(128, 128, 3) , pooling=\"avg\", classifier_activation=\"softmax\")\n",
        "trainX = load_real_samples(\"/content/gdrive/My Drive/MSc. project/npz files conference/real + fake IDRiD/real+fake_IDRID_epoch_119.npz\")\n",
        "predictions = base_model.predict(trainX)\n",
        "\n",
        "from scipy.spatial import distance\n",
        "cosine_distance_sum = 0\n",
        "for i in range (predictions.shape[0]):\n",
        "  for j in range(predictions.shape[0]):\n",
        "    cosine_distance_sum += distance.cosine(predictions[i], predictions[j])\n",
        "print(cosine_distance_sum/(predictions.shape[0] * predictions.shape[0]))\n"
      ],
      "execution_count": null,
      "outputs": [
        {
          "output_type": "stream",
          "text": [
            "(49, 128, 128, 3)\n",
            "WARNING:tensorflow:6 out of the last 11 calls to <function Model.make_predict_function.<locals>.predict_function at 0x7f66f43aa950> triggered tf.function retracing. Tracing is expensive and the excessive number of tracings could be due to (1) creating @tf.function repeatedly in a loop, (2) passing tensors with different shapes, (3) passing Python objects instead of tensors. For (1), please define your @tf.function outside of the loop. For (2), @tf.function has experimental_relax_shapes=True option that relaxes argument shapes that can avoid unnecessary retracing. For (3), please refer to https://www.tensorflow.org/guide/function#controlling_retracing and https://www.tensorflow.org/api_docs/python/tf/function for  more details.\n",
            "0.0984079949014736\n"
          ],
          "name": "stdout"
        }
      ]
    },
    {
      "cell_type": "code",
      "metadata": {
        "colab": {
          "base_uri": "https://localhost:8080/"
        },
        "id": "nRV5AxqKPCJc",
        "outputId": "f6b5c260-d5f7-485f-feb9-724150cb38ec"
      },
      "source": [
        "#another way of extracting features. This is better\n",
        "base_model = InceptionV3(weights = 'imagenet', include_top = False, input_shape=(128, 128, 3) , pooling=\"avg\", classifier_activation=\"softmax\")\n",
        "trainX = load_real_samples(\"/content/gdrive/My Drive/MSc. project/npz files conference/real + fake IDRiD/real+fake_IDRID_epoch_129.npz\")\n",
        "predictions = base_model.predict(trainX)\n",
        "\n",
        "from scipy.spatial import distance\n",
        "cosine_distance_sum = 0\n",
        "for i in range (predictions.shape[0]):\n",
        "  for j in range(predictions.shape[0]):\n",
        "    cosine_distance_sum += distance.cosine(predictions[i], predictions[j])\n",
        "print(cosine_distance_sum/(predictions.shape[0] * predictions.shape[0]))\n"
      ],
      "execution_count": null,
      "outputs": [
        {
          "output_type": "stream",
          "text": [
            "(49, 128, 128, 3)\n",
            "WARNING:tensorflow:6 out of the last 11 calls to <function Model.make_predict_function.<locals>.predict_function at 0x7f66f7dd8b90> triggered tf.function retracing. Tracing is expensive and the excessive number of tracings could be due to (1) creating @tf.function repeatedly in a loop, (2) passing tensors with different shapes, (3) passing Python objects instead of tensors. For (1), please define your @tf.function outside of the loop. For (2), @tf.function has experimental_relax_shapes=True option that relaxes argument shapes that can avoid unnecessary retracing. For (3), please refer to https://www.tensorflow.org/guide/function#controlling_retracing and https://www.tensorflow.org/api_docs/python/tf/function for  more details.\n",
            "0.12470629209282497\n"
          ],
          "name": "stdout"
        }
      ]
    },
    {
      "cell_type": "code",
      "metadata": {
        "colab": {
          "base_uri": "https://localhost:8080/"
        },
        "id": "GVJHArSSPVnZ",
        "outputId": "905ad971-554a-42ee-f376-0af4905972b5"
      },
      "source": [
        "#another way of extracting features. This is better\n",
        "base_model = InceptionV3(weights = 'imagenet', include_top = False, input_shape=(128, 128, 3) , pooling=\"avg\", classifier_activation=\"softmax\")\n",
        "trainX = load_real_samples(\"/content/gdrive/My Drive/MSc. project/npz files conference/real + fake IDRiD/real+fake_IDRID_epoch_139.npz\")\n",
        "predictions = base_model.predict(trainX)\n",
        "\n",
        "from scipy.spatial import distance\n",
        "cosine_distance_sum = 0\n",
        "for i in range (predictions.shape[0]):\n",
        "  for j in range(predictions.shape[0]):\n",
        "    cosine_distance_sum += distance.cosine(predictions[i], predictions[j])\n",
        "print(cosine_distance_sum/(predictions.shape[0] * predictions.shape[0]))\n"
      ],
      "execution_count": null,
      "outputs": [
        {
          "output_type": "stream",
          "text": [
            "(49, 128, 128, 3)\n",
            "WARNING:tensorflow:6 out of the last 11 calls to <function Model.make_predict_function.<locals>.predict_function at 0x7f66f91a8b90> triggered tf.function retracing. Tracing is expensive and the excessive number of tracings could be due to (1) creating @tf.function repeatedly in a loop, (2) passing tensors with different shapes, (3) passing Python objects instead of tensors. For (1), please define your @tf.function outside of the loop. For (2), @tf.function has experimental_relax_shapes=True option that relaxes argument shapes that can avoid unnecessary retracing. For (3), please refer to https://www.tensorflow.org/guide/function#controlling_retracing and https://www.tensorflow.org/api_docs/python/tf/function for  more details.\n",
            "0.08470105002791323\n"
          ],
          "name": "stdout"
        }
      ]
    },
    {
      "cell_type": "code",
      "metadata": {
        "colab": {
          "base_uri": "https://localhost:8080/"
        },
        "id": "9LecOrkCPVtY",
        "outputId": "4e3506dc-95dd-4173-968b-1e6bebcbbe7a"
      },
      "source": [
        "#another way of extracting features. This is better\n",
        "base_model = InceptionV3(weights = 'imagenet', include_top = False, input_shape=(128, 128, 3) , pooling=\"avg\", classifier_activation=\"softmax\")\n",
        "trainX = load_real_samples(\"/content/gdrive/My Drive/MSc. project/npz files conference/real + fake IDRiD/real+fake_IDRID_epoch_149.npz\")\n",
        "predictions = base_model.predict(trainX)\n",
        "\n",
        "from scipy.spatial import distance\n",
        "cosine_distance_sum = 0\n",
        "for i in range (predictions.shape[0]):\n",
        "  for j in range(predictions.shape[0]):\n",
        "    cosine_distance_sum += distance.cosine(predictions[i], predictions[j])\n",
        "print(cosine_distance_sum/(predictions.shape[0] * predictions.shape[0]))\n"
      ],
      "execution_count": null,
      "outputs": [
        {
          "output_type": "stream",
          "text": [
            "(49, 128, 128, 3)\n",
            "WARNING:tensorflow:6 out of the last 11 calls to <function Model.make_predict_function.<locals>.predict_function at 0x7f66f7ebc050> triggered tf.function retracing. Tracing is expensive and the excessive number of tracings could be due to (1) creating @tf.function repeatedly in a loop, (2) passing tensors with different shapes, (3) passing Python objects instead of tensors. For (1), please define your @tf.function outside of the loop. For (2), @tf.function has experimental_relax_shapes=True option that relaxes argument shapes that can avoid unnecessary retracing. For (3), please refer to https://www.tensorflow.org/guide/function#controlling_retracing and https://www.tensorflow.org/api_docs/python/tf/function for  more details.\n",
            "0.07755435466369158\n"
          ],
          "name": "stdout"
        }
      ]
    },
    {
      "cell_type": "code",
      "metadata": {
        "colab": {
          "base_uri": "https://localhost:8080/"
        },
        "id": "0-bHyQ7cPVwb",
        "outputId": "770694ca-c8f2-411c-8137-1e3ce469ef4d"
      },
      "source": [
        "#another way of extracting features. This is better\n",
        "base_model = InceptionV3(weights = 'imagenet', include_top = False, input_shape=(128, 128, 3) , pooling=\"avg\", classifier_activation=\"softmax\")\n",
        "trainX = load_real_samples(\"/content/gdrive/My Drive/MSc. project/npz files conference/real + fake IDRiD/real+fake_IDRID_epoch_159.npz\")\n",
        "predictions = base_model.predict(trainX)\n",
        "\n",
        "from scipy.spatial import distance\n",
        "cosine_distance_sum = 0\n",
        "for i in range (predictions.shape[0]):\n",
        "  for j in range(predictions.shape[0]):\n",
        "    cosine_distance_sum += distance.cosine(predictions[i], predictions[j])\n",
        "print(cosine_distance_sum/(predictions.shape[0] * predictions.shape[0]))\n"
      ],
      "execution_count": null,
      "outputs": [
        {
          "output_type": "stream",
          "text": [
            "(49, 128, 128, 3)\n",
            "WARNING:tensorflow:6 out of the last 11 calls to <function Model.make_predict_function.<locals>.predict_function at 0x7f66f7f32b90> triggered tf.function retracing. Tracing is expensive and the excessive number of tracings could be due to (1) creating @tf.function repeatedly in a loop, (2) passing tensors with different shapes, (3) passing Python objects instead of tensors. For (1), please define your @tf.function outside of the loop. For (2), @tf.function has experimental_relax_shapes=True option that relaxes argument shapes that can avoid unnecessary retracing. For (3), please refer to https://www.tensorflow.org/guide/function#controlling_retracing and https://www.tensorflow.org/api_docs/python/tf/function for  more details.\n",
            "0.07429447108534463\n"
          ],
          "name": "stdout"
        }
      ]
    },
    {
      "cell_type": "code",
      "metadata": {
        "colab": {
          "base_uri": "https://localhost:8080/"
        },
        "id": "D0Ps0MXdPVzb",
        "outputId": "3e21a328-2687-4dac-a349-b30b8a0de95d"
      },
      "source": [
        "#another way of extracting features. This is better\n",
        "base_model = InceptionV3(weights = 'imagenet', include_top = False, input_shape=(128, 128, 3) , pooling=\"avg\", classifier_activation=\"softmax\")\n",
        "trainX = load_real_samples(\"/content/gdrive/My Drive/MSc. project/npz files conference/real + fake IDRiD/real+fake_IDRID_epoch_169.npz\")\n",
        "predictions = base_model.predict(trainX)\n",
        "\n",
        "from scipy.spatial import distance\n",
        "cosine_distance_sum = 0\n",
        "for i in range (predictions.shape[0]):\n",
        "  for j in range(predictions.shape[0]):\n",
        "    cosine_distance_sum += distance.cosine(predictions[i], predictions[j])\n",
        "print(cosine_distance_sum/(predictions.shape[0] * predictions.shape[0]))\n"
      ],
      "execution_count": null,
      "outputs": [
        {
          "output_type": "stream",
          "text": [
            "(49, 128, 128, 3)\n",
            "WARNING:tensorflow:6 out of the last 11 calls to <function Model.make_predict_function.<locals>.predict_function at 0x7f66f7c22ef0> triggered tf.function retracing. Tracing is expensive and the excessive number of tracings could be due to (1) creating @tf.function repeatedly in a loop, (2) passing tensors with different shapes, (3) passing Python objects instead of tensors. For (1), please define your @tf.function outside of the loop. For (2), @tf.function has experimental_relax_shapes=True option that relaxes argument shapes that can avoid unnecessary retracing. For (3), please refer to https://www.tensorflow.org/guide/function#controlling_retracing and https://www.tensorflow.org/api_docs/python/tf/function for  more details.\n",
            "0.06609382231202736\n"
          ],
          "name": "stdout"
        }
      ]
    },
    {
      "cell_type": "code",
      "metadata": {
        "colab": {
          "base_uri": "https://localhost:8080/"
        },
        "id": "p4Q27QfcPV2K",
        "outputId": "300f568c-1f6b-4ff8-e067-06ec80d4f8de"
      },
      "source": [
        "#another way of extracting features. This is better\n",
        "base_model = InceptionV3(weights = 'imagenet', include_top = False, input_shape=(128, 128, 3) , pooling=\"avg\", classifier_activation=\"softmax\")\n",
        "trainX = load_real_samples(\"/content/gdrive/My Drive/MSc. project/npz files conference/real + fake IDRiD/real+fake_IDRID_epoch_179.npz\")\n",
        "predictions = base_model.predict(trainX)\n",
        "\n",
        "from scipy.spatial import distance\n",
        "cosine_distance_sum = 0\n",
        "for i in range (predictions.shape[0]):\n",
        "  for j in range(predictions.shape[0]):\n",
        "    cosine_distance_sum += distance.cosine(predictions[i], predictions[j])\n",
        "print(cosine_distance_sum/(predictions.shape[0] * predictions.shape[0]))\n"
      ],
      "execution_count": null,
      "outputs": [
        {
          "output_type": "stream",
          "text": [
            "(49, 128, 128, 3)\n",
            "WARNING:tensorflow:6 out of the last 11 calls to <function Model.make_predict_function.<locals>.predict_function at 0x7f66f90e9320> triggered tf.function retracing. Tracing is expensive and the excessive number of tracings could be due to (1) creating @tf.function repeatedly in a loop, (2) passing tensors with different shapes, (3) passing Python objects instead of tensors. For (1), please define your @tf.function outside of the loop. For (2), @tf.function has experimental_relax_shapes=True option that relaxes argument shapes that can avoid unnecessary retracing. For (3), please refer to https://www.tensorflow.org/guide/function#controlling_retracing and https://www.tensorflow.org/api_docs/python/tf/function for  more details.\n",
            "0.0759960620019\n"
          ],
          "name": "stdout"
        }
      ]
    },
    {
      "cell_type": "code",
      "metadata": {
        "colab": {
          "base_uri": "https://localhost:8080/"
        },
        "id": "U6SCiaLtPV46",
        "outputId": "d695e6dd-b1be-4b35-b77a-b2929a6314d1"
      },
      "source": [
        "#another way of extracting features. This is better\n",
        "base_model = InceptionV3(weights = 'imagenet', include_top = False, input_shape=(128, 128, 3) , pooling=\"avg\", classifier_activation=\"softmax\")\n",
        "trainX = load_real_samples(\"/content/gdrive/My Drive/MSc. project/npz files conference/real + fake IDRiD/real+fake_IDRID_epoch_189.npz\")\n",
        "predictions = base_model.predict(trainX)\n",
        "\n",
        "from scipy.spatial import distance\n",
        "cosine_distance_sum = 0\n",
        "for i in range (predictions.shape[0]):\n",
        "  for j in range(predictions.shape[0]):\n",
        "    cosine_distance_sum += distance.cosine(predictions[i], predictions[j])\n",
        "print(cosine_distance_sum/(predictions.shape[0] * predictions.shape[0]))\n"
      ],
      "execution_count": null,
      "outputs": [
        {
          "output_type": "stream",
          "text": [
            "(49, 128, 128, 3)\n",
            "WARNING:tensorflow:6 out of the last 11 calls to <function Model.make_predict_function.<locals>.predict_function at 0x7f66f605d950> triggered tf.function retracing. Tracing is expensive and the excessive number of tracings could be due to (1) creating @tf.function repeatedly in a loop, (2) passing tensors with different shapes, (3) passing Python objects instead of tensors. For (1), please define your @tf.function outside of the loop. For (2), @tf.function has experimental_relax_shapes=True option that relaxes argument shapes that can avoid unnecessary retracing. For (3), please refer to https://www.tensorflow.org/guide/function#controlling_retracing and https://www.tensorflow.org/api_docs/python/tf/function for  more details.\n",
            "0.07012322737444743\n"
          ],
          "name": "stdout"
        }
      ]
    },
    {
      "cell_type": "code",
      "metadata": {
        "colab": {
          "base_uri": "https://localhost:8080/"
        },
        "id": "zVZlKRDnPV7w",
        "outputId": "47bcbe3e-1f74-4cad-861d-539be50812eb"
      },
      "source": [
        "#another way of extracting features. This is better\n",
        "base_model = InceptionV3(weights = 'imagenet', include_top = False, input_shape=(128, 128, 3) , pooling=\"avg\", classifier_activation=\"softmax\")\n",
        "trainX = load_real_samples(\"/content/gdrive/My Drive/MSc. project/npz files conference/real + fake IDRiD/real+fake_IDRID_epoch_199.npz\")\n",
        "predictions = base_model.predict(trainX)\n",
        "\n",
        "from scipy.spatial import distance\n",
        "cosine_distance_sum = 0\n",
        "for i in range (predictions.shape[0]):\n",
        "  for j in range(predictions.shape[0]):\n",
        "    cosine_distance_sum += distance.cosine(predictions[i], predictions[j])\n",
        "print(cosine_distance_sum/(predictions.shape[0] * predictions.shape[0]))\n"
      ],
      "execution_count": null,
      "outputs": [
        {
          "output_type": "stream",
          "text": [
            "(49, 128, 128, 3)\n",
            "WARNING:tensorflow:6 out of the last 11 calls to <function Model.make_predict_function.<locals>.predict_function at 0x7f66f93d5050> triggered tf.function retracing. Tracing is expensive and the excessive number of tracings could be due to (1) creating @tf.function repeatedly in a loop, (2) passing tensors with different shapes, (3) passing Python objects instead of tensors. For (1), please define your @tf.function outside of the loop. For (2), @tf.function has experimental_relax_shapes=True option that relaxes argument shapes that can avoid unnecessary retracing. For (3), please refer to https://www.tensorflow.org/guide/function#controlling_retracing and https://www.tensorflow.org/api_docs/python/tf/function for  more details.\n",
            "0.07405487932994037\n"
          ],
          "name": "stdout"
        }
      ]
    },
    {
      "cell_type": "code",
      "metadata": {
        "colab": {
          "base_uri": "https://localhost:8080/"
        },
        "id": "EiezcoIUPV-e",
        "outputId": "4d743daf-d256-4e2c-ba32-fb5fd2567248"
      },
      "source": [
        "#another way of extracting features. This is better\n",
        "base_model = InceptionV3(weights = 'imagenet', include_top = False, input_shape=(128, 128, 3) , pooling=\"avg\", classifier_activation=\"softmax\")\n",
        "trainX = load_real_samples(\"/content/gdrive/My Drive/MSc. project/npz files conference/real + fake IDRiD/real+fake_IDRID_epoch_209.npz\")\n",
        "predictions = base_model.predict(trainX)\n",
        "\n",
        "from scipy.spatial import distance\n",
        "cosine_distance_sum = 0\n",
        "for i in range (predictions.shape[0]):\n",
        "  for j in range(predictions.shape[0]):\n",
        "    cosine_distance_sum += distance.cosine(predictions[i], predictions[j])\n",
        "print(cosine_distance_sum/(predictions.shape[0] * predictions.shape[0]))\n"
      ],
      "execution_count": null,
      "outputs": [
        {
          "output_type": "stream",
          "text": [
            "(49, 128, 128, 3)\n",
            "WARNING:tensorflow:6 out of the last 11 calls to <function Model.make_predict_function.<locals>.predict_function at 0x7f671be80830> triggered tf.function retracing. Tracing is expensive and the excessive number of tracings could be due to (1) creating @tf.function repeatedly in a loop, (2) passing tensors with different shapes, (3) passing Python objects instead of tensors. For (1), please define your @tf.function outside of the loop. For (2), @tf.function has experimental_relax_shapes=True option that relaxes argument shapes that can avoid unnecessary retracing. For (3), please refer to https://www.tensorflow.org/guide/function#controlling_retracing and https://www.tensorflow.org/api_docs/python/tf/function for  more details.\n",
            "0.07086909879798046\n"
          ],
          "name": "stdout"
        }
      ]
    },
    {
      "cell_type": "code",
      "metadata": {
        "colab": {
          "base_uri": "https://localhost:8080/"
        },
        "id": "uIgSXPaYPWBN",
        "outputId": "026d5761-3242-4597-ed20-10dfc86e2276"
      },
      "source": [
        "#another way of extracting features. This is better\n",
        "base_model = InceptionV3(weights = 'imagenet', include_top = False, input_shape=(128, 128, 3) , pooling=\"avg\", classifier_activation=\"softmax\")\n",
        "trainX = load_real_samples(\"/content/gdrive/My Drive/MSc. project/npz files conference/real + fake IDRiD/real+fake_IDRID_epoch_219.npz\")\n",
        "predictions = base_model.predict(trainX)\n",
        "\n",
        "from scipy.spatial import distance\n",
        "cosine_distance_sum = 0\n",
        "for i in range (predictions.shape[0]):\n",
        "  for j in range(predictions.shape[0]):\n",
        "    cosine_distance_sum += distance.cosine(predictions[i], predictions[j])\n",
        "print(cosine_distance_sum/(predictions.shape[0] * predictions.shape[0]))\n"
      ],
      "execution_count": null,
      "outputs": [
        {
          "output_type": "stream",
          "text": [
            "(49, 128, 128, 3)\n",
            "WARNING:tensorflow:6 out of the last 11 calls to <function Model.make_predict_function.<locals>.predict_function at 0x7f66f5ec6950> triggered tf.function retracing. Tracing is expensive and the excessive number of tracings could be due to (1) creating @tf.function repeatedly in a loop, (2) passing tensors with different shapes, (3) passing Python objects instead of tensors. For (1), please define your @tf.function outside of the loop. For (2), @tf.function has experimental_relax_shapes=True option that relaxes argument shapes that can avoid unnecessary retracing. For (3), please refer to https://www.tensorflow.org/guide/function#controlling_retracing and https://www.tensorflow.org/api_docs/python/tf/function for  more details.\n",
            "0.13780293833062532\n"
          ],
          "name": "stdout"
        }
      ]
    },
    {
      "cell_type": "code",
      "metadata": {
        "colab": {
          "base_uri": "https://localhost:8080/"
        },
        "id": "TQJplTjKPlYJ",
        "outputId": "ba8b8e43-76ce-474f-9d69-381afc33de97"
      },
      "source": [
        "#another way of extracting features. This is better\n",
        "base_model = InceptionV3(weights = 'imagenet', include_top = False, input_shape=(128, 128, 3) , pooling=\"avg\", classifier_activation=\"softmax\")\n",
        "trainX = load_real_samples(\"/content/gdrive/My Drive/MSc. project/npz files conference/real + fake IDRiD/real+fake_IDRID_epoch_229.npz\")\n",
        "predictions = base_model.predict(trainX)\n",
        "\n",
        "from scipy.spatial import distance\n",
        "cosine_distance_sum = 0\n",
        "for i in range (predictions.shape[0]):\n",
        "  for j in range(predictions.shape[0]):\n",
        "    cosine_distance_sum += distance.cosine(predictions[i], predictions[j])\n",
        "print(cosine_distance_sum/(predictions.shape[0] * predictions.shape[0]))\n"
      ],
      "execution_count": null,
      "outputs": [
        {
          "output_type": "stream",
          "text": [
            "(49, 128, 128, 3)\n",
            "WARNING:tensorflow:6 out of the last 11 calls to <function Model.make_predict_function.<locals>.predict_function at 0x7f66f43e6dd0> triggered tf.function retracing. Tracing is expensive and the excessive number of tracings could be due to (1) creating @tf.function repeatedly in a loop, (2) passing tensors with different shapes, (3) passing Python objects instead of tensors. For (1), please define your @tf.function outside of the loop. For (2), @tf.function has experimental_relax_shapes=True option that relaxes argument shapes that can avoid unnecessary retracing. For (3), please refer to https://www.tensorflow.org/guide/function#controlling_retracing and https://www.tensorflow.org/api_docs/python/tf/function for  more details.\n",
            "0.11493902239189799\n"
          ],
          "name": "stdout"
        }
      ]
    },
    {
      "cell_type": "code",
      "metadata": {
        "colab": {
          "base_uri": "https://localhost:8080/"
        },
        "id": "BZlZ_CxnPlg6",
        "outputId": "69cc45d9-f131-4a74-8abd-aaf2d5b46934"
      },
      "source": [
        "#another way of extracting features. This is better\n",
        "base_model = InceptionV3(weights = 'imagenet', include_top = False, input_shape=(128, 128, 3) , pooling=\"avg\", classifier_activation=\"softmax\")\n",
        "trainX = load_real_samples(\"/content/gdrive/My Drive/MSc. project/npz files conference/real + fake IDRiD/real+fake_IDRID_epoch_239.npz\")\n",
        "predictions = base_model.predict(trainX)\n",
        "\n",
        "from scipy.spatial import distance\n",
        "cosine_distance_sum = 0\n",
        "for i in range (predictions.shape[0]):\n",
        "  for j in range(predictions.shape[0]):\n",
        "    cosine_distance_sum += distance.cosine(predictions[i], predictions[j])\n",
        "print(cosine_distance_sum/(predictions.shape[0] * predictions.shape[0]))\n"
      ],
      "execution_count": null,
      "outputs": [
        {
          "output_type": "stream",
          "text": [
            "(49, 128, 128, 3)\n",
            "WARNING:tensorflow:6 out of the last 11 calls to <function Model.make_predict_function.<locals>.predict_function at 0x7f66f43e6050> triggered tf.function retracing. Tracing is expensive and the excessive number of tracings could be due to (1) creating @tf.function repeatedly in a loop, (2) passing tensors with different shapes, (3) passing Python objects instead of tensors. For (1), please define your @tf.function outside of the loop. For (2), @tf.function has experimental_relax_shapes=True option that relaxes argument shapes that can avoid unnecessary retracing. For (3), please refer to https://www.tensorflow.org/guide/function#controlling_retracing and https://www.tensorflow.org/api_docs/python/tf/function for  more details.\n",
            "0.09193872422389515\n"
          ],
          "name": "stdout"
        }
      ]
    },
    {
      "cell_type": "code",
      "metadata": {
        "colab": {
          "base_uri": "https://localhost:8080/"
        },
        "id": "TlsOdYqSPlkN",
        "outputId": "e8bd4db3-3d60-41fd-fcc6-040282ec1f4d"
      },
      "source": [
        "#another way of extracting features. This is better\n",
        "base_model = InceptionV3(weights = 'imagenet', include_top = False, input_shape=(128, 128, 3) , pooling=\"avg\", classifier_activation=\"softmax\")\n",
        "trainX = load_real_samples(\"/content/gdrive/My Drive/MSc. project/npz files conference/real + fake IDRiD/real+fake_IDRID_epoch_249.npz\")\n",
        "predictions = base_model.predict(trainX)\n",
        "\n",
        "from scipy.spatial import distance\n",
        "cosine_distance_sum = 0\n",
        "for i in range (predictions.shape[0]):\n",
        "  for j in range(predictions.shape[0]):\n",
        "    cosine_distance_sum += distance.cosine(predictions[i], predictions[j])\n",
        "print(cosine_distance_sum/(predictions.shape[0] * predictions.shape[0]))\n"
      ],
      "execution_count": null,
      "outputs": [
        {
          "output_type": "stream",
          "text": [
            "(49, 128, 128, 3)\n",
            "WARNING:tensorflow:6 out of the last 11 calls to <function Model.make_predict_function.<locals>.predict_function at 0x7f66f605db00> triggered tf.function retracing. Tracing is expensive and the excessive number of tracings could be due to (1) creating @tf.function repeatedly in a loop, (2) passing tensors with different shapes, (3) passing Python objects instead of tensors. For (1), please define your @tf.function outside of the loop. For (2), @tf.function has experimental_relax_shapes=True option that relaxes argument shapes that can avoid unnecessary retracing. For (3), please refer to https://www.tensorflow.org/guide/function#controlling_retracing and https://www.tensorflow.org/api_docs/python/tf/function for  more details.\n",
            "0.09090127089975875\n"
          ],
          "name": "stdout"
        }
      ]
    },
    {
      "cell_type": "code",
      "metadata": {
        "colab": {
          "base_uri": "https://localhost:8080/"
        },
        "id": "xDsJFFulPlm8",
        "outputId": "3a89e736-e3ff-4c91-d241-66bc4cea3ae8"
      },
      "source": [
        "#another way of extracting features. This is better\n",
        "base_model = InceptionV3(weights = 'imagenet', include_top = False, input_shape=(128, 128, 3) , pooling=\"avg\", classifier_activation=\"softmax\")\n",
        "trainX = load_real_samples(\"/content/gdrive/My Drive/MSc. project/npz files conference/real + fake IDRiD/real+fake_IDRID_epoch_259.npz\")\n",
        "predictions = base_model.predict(trainX)\n",
        "\n",
        "from scipy.spatial import distance\n",
        "cosine_distance_sum = 0\n",
        "for i in range (predictions.shape[0]):\n",
        "  for j in range(predictions.shape[0]):\n",
        "    cosine_distance_sum += distance.cosine(predictions[i], predictions[j])\n",
        "print(cosine_distance_sum/(predictions.shape[0] * predictions.shape[0]))\n"
      ],
      "execution_count": null,
      "outputs": [
        {
          "output_type": "stream",
          "text": [
            "(49, 128, 128, 3)\n",
            "WARNING:tensorflow:6 out of the last 11 calls to <function Model.make_predict_function.<locals>.predict_function at 0x7f66f4eb8950> triggered tf.function retracing. Tracing is expensive and the excessive number of tracings could be due to (1) creating @tf.function repeatedly in a loop, (2) passing tensors with different shapes, (3) passing Python objects instead of tensors. For (1), please define your @tf.function outside of the loop. For (2), @tf.function has experimental_relax_shapes=True option that relaxes argument shapes that can avoid unnecessary retracing. For (3), please refer to https://www.tensorflow.org/guide/function#controlling_retracing and https://www.tensorflow.org/api_docs/python/tf/function for  more details.\n",
            "0.09666477755078272\n"
          ],
          "name": "stdout"
        }
      ]
    },
    {
      "cell_type": "code",
      "metadata": {
        "colab": {
          "base_uri": "https://localhost:8080/"
        },
        "id": "3VNJZskePlpy",
        "outputId": "9da8f2a0-fd73-43fe-efb6-7592f70edfab"
      },
      "source": [
        "#another way of extracting features. This is better\n",
        "base_model = InceptionV3(weights = 'imagenet', include_top = False, input_shape=(128, 128, 3) , pooling=\"avg\", classifier_activation=\"softmax\")\n",
        "trainX = load_real_samples(\"/content/gdrive/My Drive/MSc. project/npz files conference/real + fake IDRiD/real+fake_IDRID_epoch_269.npz\")\n",
        "predictions = base_model.predict(trainX)\n",
        "\n",
        "from scipy.spatial import distance\n",
        "cosine_distance_sum = 0\n",
        "for i in range (predictions.shape[0]):\n",
        "  for j in range(predictions.shape[0]):\n",
        "    cosine_distance_sum += distance.cosine(predictions[i], predictions[j])\n",
        "print(cosine_distance_sum/(predictions.shape[0] * predictions.shape[0]))\n"
      ],
      "execution_count": null,
      "outputs": [
        {
          "output_type": "stream",
          "text": [
            "(49, 128, 128, 3)\n",
            "WARNING:tensorflow:6 out of the last 11 calls to <function Model.make_predict_function.<locals>.predict_function at 0x7f66f5d28f80> triggered tf.function retracing. Tracing is expensive and the excessive number of tracings could be due to (1) creating @tf.function repeatedly in a loop, (2) passing tensors with different shapes, (3) passing Python objects instead of tensors. For (1), please define your @tf.function outside of the loop. For (2), @tf.function has experimental_relax_shapes=True option that relaxes argument shapes that can avoid unnecessary retracing. For (3), please refer to https://www.tensorflow.org/guide/function#controlling_retracing and https://www.tensorflow.org/api_docs/python/tf/function for  more details.\n",
            "0.09177936369654835\n"
          ],
          "name": "stdout"
        }
      ]
    },
    {
      "cell_type": "code",
      "metadata": {
        "colab": {
          "base_uri": "https://localhost:8080/"
        },
        "id": "bLNYe9nzPlsg",
        "outputId": "c453961f-0ab4-4591-bdbe-a1ce6b875e29"
      },
      "source": [
        "#another way of extracting features. This is better\n",
        "base_model = InceptionV3(weights = 'imagenet', include_top = False, input_shape=(128, 128, 3) , pooling=\"avg\", classifier_activation=\"softmax\")\n",
        "trainX = load_real_samples(\"/content/gdrive/My Drive/MSc. project/npz files conference/real + fake IDRiD/real+fake_IDRID_epoch_279.npz\")\n",
        "predictions = base_model.predict(trainX)\n",
        "\n",
        "from scipy.spatial import distance\n",
        "cosine_distance_sum = 0\n",
        "for i in range (predictions.shape[0]):\n",
        "  for j in range(predictions.shape[0]):\n",
        "    cosine_distance_sum += distance.cosine(predictions[i], predictions[j])\n",
        "print(cosine_distance_sum/(predictions.shape[0] * predictions.shape[0]))\n"
      ],
      "execution_count": null,
      "outputs": [
        {
          "output_type": "stream",
          "text": [
            "(49, 128, 128, 3)\n",
            "WARNING:tensorflow:6 out of the last 11 calls to <function Model.make_predict_function.<locals>.predict_function at 0x7f66f7d93f80> triggered tf.function retracing. Tracing is expensive and the excessive number of tracings could be due to (1) creating @tf.function repeatedly in a loop, (2) passing tensors with different shapes, (3) passing Python objects instead of tensors. For (1), please define your @tf.function outside of the loop. For (2), @tf.function has experimental_relax_shapes=True option that relaxes argument shapes that can avoid unnecessary retracing. For (3), please refer to https://www.tensorflow.org/guide/function#controlling_retracing and https://www.tensorflow.org/api_docs/python/tf/function for  more details.\n",
            "0.09063994189393068\n"
          ],
          "name": "stdout"
        }
      ]
    },
    {
      "cell_type": "code",
      "metadata": {
        "colab": {
          "base_uri": "https://localhost:8080/"
        },
        "id": "Iq97SyOrPlyJ",
        "outputId": "3b6d1552-42f3-47ea-d166-556a6813fc70"
      },
      "source": [
        "#another way of extracting features. This is better\n",
        "base_model = InceptionV3(weights = 'imagenet', include_top = False, input_shape=(128, 128, 3) , pooling=\"avg\", classifier_activation=\"softmax\")\n",
        "trainX = load_real_samples(\"/content/gdrive/My Drive/MSc. project/npz files conference/real + fake IDRiD/real+fake_IDRID_epoch_289.npz\")\n",
        "predictions = base_model.predict(trainX)\n",
        "\n",
        "from scipy.spatial import distance\n",
        "cosine_distance_sum = 0\n",
        "for i in range (predictions.shape[0]):\n",
        "  for j in range(predictions.shape[0]):\n",
        "    cosine_distance_sum += distance.cosine(predictions[i], predictions[j])\n",
        "print(cosine_distance_sum/(predictions.shape[0] * predictions.shape[0]))\n"
      ],
      "execution_count": null,
      "outputs": [
        {
          "output_type": "stream",
          "text": [
            "(49, 128, 128, 3)\n",
            "WARNING:tensorflow:6 out of the last 11 calls to <function Model.make_predict_function.<locals>.predict_function at 0x7f66f7ca93b0> triggered tf.function retracing. Tracing is expensive and the excessive number of tracings could be due to (1) creating @tf.function repeatedly in a loop, (2) passing tensors with different shapes, (3) passing Python objects instead of tensors. For (1), please define your @tf.function outside of the loop. For (2), @tf.function has experimental_relax_shapes=True option that relaxes argument shapes that can avoid unnecessary retracing. For (3), please refer to https://www.tensorflow.org/guide/function#controlling_retracing and https://www.tensorflow.org/api_docs/python/tf/function for  more details.\n",
            "0.08625213050286207\n"
          ],
          "name": "stdout"
        }
      ]
    },
    {
      "cell_type": "code",
      "metadata": {
        "colab": {
          "base_uri": "https://localhost:8080/"
        },
        "id": "2IJA-lCnPl0v",
        "outputId": "cd2e9565-5c1c-4ca0-bb6a-0728b050a64a"
      },
      "source": [
        "#another way of extracting features. This is better\n",
        "base_model = InceptionV3(weights = 'imagenet', include_top = False, input_shape=(128, 128, 3) , pooling=\"avg\", classifier_activation=\"softmax\")\n",
        "trainX = load_real_samples(\"/content/gdrive/My Drive/MSc. project/npz files conference/real + fake IDRiD/real+fake_IDRID_epoch_299.npz\")\n",
        "predictions = base_model.predict(trainX)\n",
        "\n",
        "from scipy.spatial import distance\n",
        "cosine_distance_sum = 0\n",
        "for i in range (predictions.shape[0]):\n",
        "  for j in range(predictions.shape[0]):\n",
        "    cosine_distance_sum += distance.cosine(predictions[i], predictions[j])\n",
        "print(cosine_distance_sum/(predictions.shape[0] * predictions.shape[0]))\n"
      ],
      "execution_count": null,
      "outputs": [
        {
          "output_type": "stream",
          "text": [
            "(49, 128, 128, 3)\n",
            "WARNING:tensorflow:6 out of the last 11 calls to <function Model.make_predict_function.<locals>.predict_function at 0x7f66f4fc48c0> triggered tf.function retracing. Tracing is expensive and the excessive number of tracings could be due to (1) creating @tf.function repeatedly in a loop, (2) passing tensors with different shapes, (3) passing Python objects instead of tensors. For (1), please define your @tf.function outside of the loop. For (2), @tf.function has experimental_relax_shapes=True option that relaxes argument shapes that can avoid unnecessary retracing. For (3), please refer to https://www.tensorflow.org/guide/function#controlling_retracing and https://www.tensorflow.org/api_docs/python/tf/function for  more details.\n",
            "0.0801476067873102\n"
          ],
          "name": "stdout"
        }
      ]
    },
    {
      "cell_type": "code",
      "metadata": {
        "colab": {
          "base_uri": "https://localhost:8080/"
        },
        "id": "g0z17oyvPl59",
        "outputId": "a0bee928-5c34-416a-f5e7-8d7ea47a41da"
      },
      "source": [
        "#another way of extracting features. This is better\n",
        "base_model = InceptionV3(weights = 'imagenet', include_top = False, input_shape=(128, 128, 3) , pooling=\"avg\", classifier_activation=\"softmax\")\n",
        "trainX = load_real_samples(\"/content/gdrive/My Drive/MSc. project/npz files conference/real + fake IDRiD/real+fake_IDRID_epoch_309.npz\")\n",
        "predictions = base_model.predict(trainX)\n",
        "\n",
        "from scipy.spatial import distance\n",
        "cosine_distance_sum = 0\n",
        "for i in range (predictions.shape[0]):\n",
        "  for j in range(predictions.shape[0]):\n",
        "    cosine_distance_sum += distance.cosine(predictions[i], predictions[j])\n",
        "print(cosine_distance_sum/(predictions.shape[0] * predictions.shape[0]))\n"
      ],
      "execution_count": null,
      "outputs": [
        {
          "output_type": "stream",
          "text": [
            "(49, 128, 128, 3)\n",
            "WARNING:tensorflow:6 out of the last 11 calls to <function Model.make_predict_function.<locals>.predict_function at 0x7f66f5cb80e0> triggered tf.function retracing. Tracing is expensive and the excessive number of tracings could be due to (1) creating @tf.function repeatedly in a loop, (2) passing tensors with different shapes, (3) passing Python objects instead of tensors. For (1), please define your @tf.function outside of the loop. For (2), @tf.function has experimental_relax_shapes=True option that relaxes argument shapes that can avoid unnecessary retracing. For (3), please refer to https://www.tensorflow.org/guide/function#controlling_retracing and https://www.tensorflow.org/api_docs/python/tf/function for  more details.\n",
            "0.08414440207658137\n"
          ],
          "name": "stdout"
        }
      ]
    },
    {
      "cell_type": "code",
      "metadata": {
        "colab": {
          "base_uri": "https://localhost:8080/"
        },
        "id": "KAKKjo97PWHN",
        "outputId": "1a86d776-3644-4091-d290-6631e9b3e62a"
      },
      "source": [
        "#another way of extracting features. This is better\n",
        "base_model = InceptionV3(weights = 'imagenet', include_top = False, input_shape=(128, 128, 3) , pooling=\"avg\", classifier_activation=\"softmax\")\n",
        "trainX = load_real_samples(\"/content/gdrive/My Drive/MSc. project/npz files conference/real + fake IDRiD/real+fake_IDRID_epoch_319.npz\")\n",
        "predictions = base_model.predict(trainX)\n",
        "\n",
        "from scipy.spatial import distance\n",
        "cosine_distance_sum = 0\n",
        "for i in range (predictions.shape[0]):\n",
        "  for j in range(predictions.shape[0]):\n",
        "    cosine_distance_sum += distance.cosine(predictions[i], predictions[j])\n",
        "print(cosine_distance_sum/(predictions.shape[0] * predictions.shape[0]))\n"
      ],
      "execution_count": null,
      "outputs": [
        {
          "output_type": "stream",
          "text": [
            "(49, 128, 128, 3)\n",
            "WARNING:tensorflow:6 out of the last 11 calls to <function Model.make_predict_function.<locals>.predict_function at 0x7f66f4f2c440> triggered tf.function retracing. Tracing is expensive and the excessive number of tracings could be due to (1) creating @tf.function repeatedly in a loop, (2) passing tensors with different shapes, (3) passing Python objects instead of tensors. For (1), please define your @tf.function outside of the loop. For (2), @tf.function has experimental_relax_shapes=True option that relaxes argument shapes that can avoid unnecessary retracing. For (3), please refer to https://www.tensorflow.org/guide/function#controlling_retracing and https://www.tensorflow.org/api_docs/python/tf/function for  more details.\n",
            "0.08948490714987135\n"
          ],
          "name": "stdout"
        }
      ]
    },
    {
      "cell_type": "code",
      "metadata": {
        "colab": {
          "base_uri": "https://localhost:8080/"
        },
        "id": "XPKNJjWWP4ed",
        "outputId": "b17395c4-c7e7-4c43-c138-2a5cabd33a54"
      },
      "source": [
        "#another way of extracting features. This is better\n",
        "base_model = InceptionV3(weights = 'imagenet', include_top = False, input_shape=(128, 128, 3) , pooling=\"avg\", classifier_activation=\"softmax\")\n",
        "trainX = load_real_samples(\"/content/gdrive/My Drive/MSc. project/npz files conference/real + fake IDRiD/real+fake_IDRID_epoch_329.npz\")\n",
        "predictions = base_model.predict(trainX)\n",
        "\n",
        "from scipy.spatial import distance\n",
        "cosine_distance_sum = 0\n",
        "for i in range (predictions.shape[0]):\n",
        "  for j in range(predictions.shape[0]):\n",
        "    cosine_distance_sum += distance.cosine(predictions[i], predictions[j])\n",
        "print(cosine_distance_sum/(predictions.shape[0] * predictions.shape[0]))\n"
      ],
      "execution_count": null,
      "outputs": [
        {
          "output_type": "stream",
          "text": [
            "(49, 128, 128, 3)\n",
            "WARNING:tensorflow:6 out of the last 11 calls to <function Model.make_predict_function.<locals>.predict_function at 0x7f66f6185050> triggered tf.function retracing. Tracing is expensive and the excessive number of tracings could be due to (1) creating @tf.function repeatedly in a loop, (2) passing tensors with different shapes, (3) passing Python objects instead of tensors. For (1), please define your @tf.function outside of the loop. For (2), @tf.function has experimental_relax_shapes=True option that relaxes argument shapes that can avoid unnecessary retracing. For (3), please refer to https://www.tensorflow.org/guide/function#controlling_retracing and https://www.tensorflow.org/api_docs/python/tf/function for  more details.\n",
            "0.12688266372045146\n"
          ],
          "name": "stdout"
        }
      ]
    },
    {
      "cell_type": "code",
      "metadata": {
        "colab": {
          "base_uri": "https://localhost:8080/"
        },
        "id": "xhajF-RiP4hs",
        "outputId": "b05c7623-d1f4-493b-cc3c-f6cc2d3dcf6f"
      },
      "source": [
        "#another way of extracting features. This is better\n",
        "base_model = InceptionV3(weights = 'imagenet', include_top = False, input_shape=(128, 128, 3) , pooling=\"avg\", classifier_activation=\"softmax\")\n",
        "trainX = load_real_samples(\"/content/gdrive/My Drive/MSc. project/npz files conference/real + fake IDRiD/real+fake_IDRID_epoch_339.npz\")\n",
        "predictions = base_model.predict(trainX)\n",
        "\n",
        "from scipy.spatial import distance\n",
        "cosine_distance_sum = 0\n",
        "for i in range (predictions.shape[0]):\n",
        "  for j in range(predictions.shape[0]):\n",
        "    cosine_distance_sum += distance.cosine(predictions[i], predictions[j])\n",
        "print(cosine_distance_sum/(predictions.shape[0] * predictions.shape[0]))\n"
      ],
      "execution_count": null,
      "outputs": [
        {
          "output_type": "stream",
          "text": [
            "(49, 128, 128, 3)\n",
            "WARNING:tensorflow:6 out of the last 11 calls to <function Model.make_predict_function.<locals>.predict_function at 0x7f66f5075ef0> triggered tf.function retracing. Tracing is expensive and the excessive number of tracings could be due to (1) creating @tf.function repeatedly in a loop, (2) passing tensors with different shapes, (3) passing Python objects instead of tensors. For (1), please define your @tf.function outside of the loop. For (2), @tf.function has experimental_relax_shapes=True option that relaxes argument shapes that can avoid unnecessary retracing. For (3), please refer to https://www.tensorflow.org/guide/function#controlling_retracing and https://www.tensorflow.org/api_docs/python/tf/function for  more details.\n",
            "0.10226626492499907\n"
          ],
          "name": "stdout"
        }
      ]
    },
    {
      "cell_type": "code",
      "metadata": {
        "colab": {
          "base_uri": "https://localhost:8080/"
        },
        "id": "8crH2clIP4lN",
        "outputId": "3bb222b6-5baa-4864-803a-27aabc5ba0bd"
      },
      "source": [
        "#another way of extracting features. This is better\n",
        "base_model = InceptionV3(weights = 'imagenet', include_top = False, input_shape=(128, 128, 3) , pooling=\"avg\", classifier_activation=\"softmax\")\n",
        "trainX = load_real_samples(\"/content/gdrive/My Drive/MSc. project/npz files conference/real + fake IDRiD/real+fake_IDRID_epoch_349.npz\")\n",
        "predictions = base_model.predict(trainX)\n",
        "\n",
        "from scipy.spatial import distance\n",
        "cosine_distance_sum = 0\n",
        "for i in range (predictions.shape[0]):\n",
        "  for j in range(predictions.shape[0]):\n",
        "    cosine_distance_sum += distance.cosine(predictions[i], predictions[j])\n",
        "print(cosine_distance_sum/(predictions.shape[0] * predictions.shape[0]))\n"
      ],
      "execution_count": null,
      "outputs": [
        {
          "output_type": "stream",
          "text": [
            "(49, 128, 128, 3)\n",
            "WARNING:tensorflow:6 out of the last 11 calls to <function Model.make_predict_function.<locals>.predict_function at 0x7f66f7de6b00> triggered tf.function retracing. Tracing is expensive and the excessive number of tracings could be due to (1) creating @tf.function repeatedly in a loop, (2) passing tensors with different shapes, (3) passing Python objects instead of tensors. For (1), please define your @tf.function outside of the loop. For (2), @tf.function has experimental_relax_shapes=True option that relaxes argument shapes that can avoid unnecessary retracing. For (3), please refer to https://www.tensorflow.org/guide/function#controlling_retracing and https://www.tensorflow.org/api_docs/python/tf/function for  more details.\n",
            "0.0976990571572154\n"
          ],
          "name": "stdout"
        }
      ]
    },
    {
      "cell_type": "code",
      "metadata": {
        "colab": {
          "base_uri": "https://localhost:8080/"
        },
        "id": "tzyr_a-XP4ns",
        "outputId": "a7d4c14a-adfc-4827-8aef-8027a2356ce7"
      },
      "source": [
        "#another way of extracting features. This is better\n",
        "base_model = InceptionV3(weights = 'imagenet', include_top = False, input_shape=(128, 128, 3) , pooling=\"avg\", classifier_activation=\"softmax\")\n",
        "trainX = load_real_samples(\"/content/gdrive/My Drive/MSc. project/npz files conference/real + fake IDRiD/real+fake_IDRID_epoch_359.npz\")\n",
        "predictions = base_model.predict(trainX)\n",
        "\n",
        "from scipy.spatial import distance\n",
        "cosine_distance_sum = 0\n",
        "for i in range (predictions.shape[0]):\n",
        "  for j in range(predictions.shape[0]):\n",
        "    cosine_distance_sum += distance.cosine(predictions[i], predictions[j])\n",
        "print(cosine_distance_sum/(predictions.shape[0] * predictions.shape[0]))\n"
      ],
      "execution_count": null,
      "outputs": [
        {
          "output_type": "stream",
          "text": [
            "(49, 128, 128, 3)\n",
            "WARNING:tensorflow:6 out of the last 11 calls to <function Model.make_predict_function.<locals>.predict_function at 0x7f66f7de6950> triggered tf.function retracing. Tracing is expensive and the excessive number of tracings could be due to (1) creating @tf.function repeatedly in a loop, (2) passing tensors with different shapes, (3) passing Python objects instead of tensors. For (1), please define your @tf.function outside of the loop. For (2), @tf.function has experimental_relax_shapes=True option that relaxes argument shapes that can avoid unnecessary retracing. For (3), please refer to https://www.tensorflow.org/guide/function#controlling_retracing and https://www.tensorflow.org/api_docs/python/tf/function for  more details.\n",
            "0.09368861530880687\n"
          ],
          "name": "stdout"
        }
      ]
    },
    {
      "cell_type": "code",
      "metadata": {
        "colab": {
          "base_uri": "https://localhost:8080/"
        },
        "id": "pgUMa_qpP4tM",
        "outputId": "2fa26e79-72e4-4f77-db73-c6ada8e9a435"
      },
      "source": [
        "#another way of extracting features. This is better\n",
        "base_model = InceptionV3(weights = 'imagenet', include_top = False, input_shape=(128, 128, 3) , pooling=\"avg\", classifier_activation=\"softmax\")\n",
        "trainX = load_real_samples(\"/content/gdrive/My Drive/MSc. project/npz files conference/real + fake IDRiD/real+fake_IDRID_epoch_369.npz\")\n",
        "predictions = base_model.predict(trainX)\n",
        "\n",
        "from scipy.spatial import distance\n",
        "cosine_distance_sum = 0\n",
        "for i in range (predictions.shape[0]):\n",
        "  for j in range(predictions.shape[0]):\n",
        "    cosine_distance_sum += distance.cosine(predictions[i], predictions[j])\n",
        "print(cosine_distance_sum/(predictions.shape[0] * predictions.shape[0]))\n"
      ],
      "execution_count": null,
      "outputs": [
        {
          "output_type": "stream",
          "text": [
            "(49, 128, 128, 3)\n",
            "WARNING:tensorflow:6 out of the last 11 calls to <function Model.make_predict_function.<locals>.predict_function at 0x7f66f52a93b0> triggered tf.function retracing. Tracing is expensive and the excessive number of tracings could be due to (1) creating @tf.function repeatedly in a loop, (2) passing tensors with different shapes, (3) passing Python objects instead of tensors. For (1), please define your @tf.function outside of the loop. For (2), @tf.function has experimental_relax_shapes=True option that relaxes argument shapes that can avoid unnecessary retracing. For (3), please refer to https://www.tensorflow.org/guide/function#controlling_retracing and https://www.tensorflow.org/api_docs/python/tf/function for  more details.\n",
            "0.09907122012825123\n"
          ],
          "name": "stdout"
        }
      ]
    },
    {
      "cell_type": "code",
      "metadata": {
        "colab": {
          "base_uri": "https://localhost:8080/"
        },
        "id": "f5Y-YkZJP4wA",
        "outputId": "00cb139c-27cf-42c6-f41f-caa208f5452f"
      },
      "source": [
        "#another way of extracting features. This is better\n",
        "base_model = InceptionV3(weights = 'imagenet', include_top = False, input_shape=(128, 128, 3) , pooling=\"avg\", classifier_activation=\"softmax\")\n",
        "trainX = load_real_samples(\"/content/gdrive/My Drive/MSc. project/npz files conference/real + fake IDRiD/real+fake_IDRID_epoch_379.npz\")\n",
        "predictions = base_model.predict(trainX)\n",
        "\n",
        "from scipy.spatial import distance\n",
        "cosine_distance_sum = 0\n",
        "for i in range (predictions.shape[0]):\n",
        "  for j in range(predictions.shape[0]):\n",
        "    cosine_distance_sum += distance.cosine(predictions[i], predictions[j])\n",
        "print(cosine_distance_sum/(predictions.shape[0] * predictions.shape[0]))\n"
      ],
      "execution_count": null,
      "outputs": [
        {
          "output_type": "stream",
          "text": [
            "(49, 128, 128, 3)\n",
            "WARNING:tensorflow:6 out of the last 11 calls to <function Model.make_predict_function.<locals>.predict_function at 0x7f66f7dd8950> triggered tf.function retracing. Tracing is expensive and the excessive number of tracings could be due to (1) creating @tf.function repeatedly in a loop, (2) passing tensors with different shapes, (3) passing Python objects instead of tensors. For (1), please define your @tf.function outside of the loop. For (2), @tf.function has experimental_relax_shapes=True option that relaxes argument shapes that can avoid unnecessary retracing. For (3), please refer to https://www.tensorflow.org/guide/function#controlling_retracing and https://www.tensorflow.org/api_docs/python/tf/function for  more details.\n",
            "0.0864310782931835\n"
          ],
          "name": "stdout"
        }
      ]
    },
    {
      "cell_type": "code",
      "metadata": {
        "colab": {
          "base_uri": "https://localhost:8080/"
        },
        "id": "Zx5ynsP5P4yx",
        "outputId": "ae3fd6fa-79d3-471a-b144-03db6b4c8e0a"
      },
      "source": [
        "#another way of extracting features. This is better\n",
        "base_model = InceptionV3(weights = 'imagenet', include_top = False, input_shape=(128, 128, 3) , pooling=\"avg\", classifier_activation=\"softmax\")\n",
        "trainX = load_real_samples(\"/content/gdrive/My Drive/MSc. project/npz files conference/real + fake IDRiD/real+fake_IDRID_epoch_389.npz\")\n",
        "predictions = base_model.predict(trainX)\n",
        "\n",
        "from scipy.spatial import distance\n",
        "cosine_distance_sum = 0\n",
        "for i in range (predictions.shape[0]):\n",
        "  for j in range(predictions.shape[0]):\n",
        "    cosine_distance_sum += distance.cosine(predictions[i], predictions[j])\n",
        "print(cosine_distance_sum/(predictions.shape[0] * predictions.shape[0]))\n"
      ],
      "execution_count": null,
      "outputs": [
        {
          "output_type": "stream",
          "text": [
            "(49, 128, 128, 3)\n",
            "WARNING:tensorflow:6 out of the last 11 calls to <function Model.make_predict_function.<locals>.predict_function at 0x7f66f7c227a0> triggered tf.function retracing. Tracing is expensive and the excessive number of tracings could be due to (1) creating @tf.function repeatedly in a loop, (2) passing tensors with different shapes, (3) passing Python objects instead of tensors. For (1), please define your @tf.function outside of the loop. For (2), @tf.function has experimental_relax_shapes=True option that relaxes argument shapes that can avoid unnecessary retracing. For (3), please refer to https://www.tensorflow.org/guide/function#controlling_retracing and https://www.tensorflow.org/api_docs/python/tf/function for  more details.\n",
            "0.06980557994810753\n"
          ],
          "name": "stdout"
        }
      ]
    },
    {
      "cell_type": "code",
      "metadata": {
        "colab": {
          "base_uri": "https://localhost:8080/"
        },
        "id": "sVQnOwh7P478",
        "outputId": "2dc3421a-71ab-4cd6-a66b-36f877ab910c"
      },
      "source": [
        "#another way of extracting features. This is better\n",
        "base_model = InceptionV3(weights = 'imagenet', include_top = False, input_shape=(128, 128, 3) , pooling=\"avg\", classifier_activation=\"softmax\")\n",
        "trainX = load_real_samples(\"/content/gdrive/My Drive/MSc. project/npz files conference/real + fake IDRiD/real+fake_IDRID_epoch_399.npz\")\n",
        "predictions = base_model.predict(trainX)\n",
        "\n",
        "from scipy.spatial import distance\n",
        "cosine_distance_sum = 0\n",
        "for i in range (predictions.shape[0]):\n",
        "  for j in range(predictions.shape[0]):\n",
        "    cosine_distance_sum += distance.cosine(predictions[i], predictions[j])\n",
        "print(cosine_distance_sum/(predictions.shape[0] * predictions.shape[0]))\n"
      ],
      "execution_count": null,
      "outputs": [
        {
          "output_type": "stream",
          "text": [
            "(49, 128, 128, 3)\n",
            "WARNING:tensorflow:6 out of the last 11 calls to <function Model.make_predict_function.<locals>.predict_function at 0x7f66f605d950> triggered tf.function retracing. Tracing is expensive and the excessive number of tracings could be due to (1) creating @tf.function repeatedly in a loop, (2) passing tensors with different shapes, (3) passing Python objects instead of tensors. For (1), please define your @tf.function outside of the loop. For (2), @tf.function has experimental_relax_shapes=True option that relaxes argument shapes that can avoid unnecessary retracing. For (3), please refer to https://www.tensorflow.org/guide/function#controlling_retracing and https://www.tensorflow.org/api_docs/python/tf/function for  more details.\n",
            "0.08877206360087302\n"
          ],
          "name": "stdout"
        }
      ]
    },
    {
      "cell_type": "code",
      "metadata": {
        "colab": {
          "base_uri": "https://localhost:8080/"
        },
        "id": "N3STp9B3P4_n",
        "outputId": "b4b4e767-3507-4890-927f-cd45dbc1573d"
      },
      "source": [
        "#another way of extracting features. This is better\n",
        "base_model = InceptionV3(weights = 'imagenet', include_top = False, input_shape=(128, 128, 3) , pooling=\"avg\", classifier_activation=\"softmax\")\n",
        "trainX = load_real_samples(\"/content/gdrive/My Drive/MSc. project/npz files conference/real + fake IDRiD/real+fake_IDRID_epoch_409.npz\")\n",
        "predictions = base_model.predict(trainX)\n",
        "\n",
        "from scipy.spatial import distance\n",
        "cosine_distance_sum = 0\n",
        "for i in range (predictions.shape[0]):\n",
        "  for j in range(predictions.shape[0]):\n",
        "    cosine_distance_sum += distance.cosine(predictions[i], predictions[j])\n",
        "print(cosine_distance_sum/(predictions.shape[0] * predictions.shape[0]))\n"
      ],
      "execution_count": null,
      "outputs": [
        {
          "output_type": "stream",
          "text": [
            "(49, 128, 128, 3)\n",
            "WARNING:tensorflow:6 out of the last 11 calls to <function Model.make_predict_function.<locals>.predict_function at 0x7f66f605d5f0> triggered tf.function retracing. Tracing is expensive and the excessive number of tracings could be due to (1) creating @tf.function repeatedly in a loop, (2) passing tensors with different shapes, (3) passing Python objects instead of tensors. For (1), please define your @tf.function outside of the loop. For (2), @tf.function has experimental_relax_shapes=True option that relaxes argument shapes that can avoid unnecessary retracing. For (3), please refer to https://www.tensorflow.org/guide/function#controlling_retracing and https://www.tensorflow.org/api_docs/python/tf/function for  more details.\n",
            "0.15628502196145524\n"
          ],
          "name": "stdout"
        }
      ]
    },
    {
      "cell_type": "code",
      "metadata": {
        "colab": {
          "base_uri": "https://localhost:8080/"
        },
        "id": "LBgW3DlNP5CR",
        "outputId": "f8564aa5-ca1e-448c-a2d2-a1840b839139"
      },
      "source": [
        "#another way of extracting features. This is better\n",
        "base_model = InceptionV3(weights = 'imagenet', include_top = False, input_shape=(128, 128, 3) , pooling=\"avg\", classifier_activation=\"softmax\")\n",
        "trainX = load_real_samples(\"/content/gdrive/My Drive/MSc. project/npz files conference/real + fake IDRiD/real+fake_IDRID_epoch_419.npz\")\n",
        "predictions = base_model.predict(trainX)\n",
        "\n",
        "from scipy.spatial import distance\n",
        "cosine_distance_sum = 0\n",
        "for i in range (predictions.shape[0]):\n",
        "  for j in range(predictions.shape[0]):\n",
        "    cosine_distance_sum += distance.cosine(predictions[i], predictions[j])\n",
        "print(cosine_distance_sum/(predictions.shape[0] * predictions.shape[0]))\n"
      ],
      "execution_count": null,
      "outputs": [
        {
          "output_type": "stream",
          "text": [
            "(49, 128, 128, 3)\n",
            "WARNING:tensorflow:6 out of the last 11 calls to <function Model.make_predict_function.<locals>.predict_function at 0x7f66f5d28f80> triggered tf.function retracing. Tracing is expensive and the excessive number of tracings could be due to (1) creating @tf.function repeatedly in a loop, (2) passing tensors with different shapes, (3) passing Python objects instead of tensors. For (1), please define your @tf.function outside of the loop. For (2), @tf.function has experimental_relax_shapes=True option that relaxes argument shapes that can avoid unnecessary retracing. For (3), please refer to https://www.tensorflow.org/guide/function#controlling_retracing and https://www.tensorflow.org/api_docs/python/tf/function for  more details.\n",
            "0.08119750981130286\n"
          ],
          "name": "stdout"
        }
      ]
    },
    {
      "cell_type": "code",
      "metadata": {
        "colab": {
          "base_uri": "https://localhost:8080/"
        },
        "id": "3oRYrnEAP5Ex",
        "outputId": "93aa29e0-64ab-4e56-910b-3696a5bdcf94"
      },
      "source": [
        "#another way of extracting features. This is better\n",
        "base_model = InceptionV3(weights = 'imagenet', include_top = False, input_shape=(128, 128, 3) , pooling=\"avg\", classifier_activation=\"softmax\")\n",
        "trainX = load_real_samples(\"/content/gdrive/My Drive/MSc. project/npz files conference/real + fake IDRiD/real+fake_IDRID_epoch_429.npz\")\n",
        "predictions = base_model.predict(trainX)\n",
        "\n",
        "from scipy.spatial import distance\n",
        "cosine_distance_sum = 0\n",
        "for i in range (predictions.shape[0]):\n",
        "  for j in range(predictions.shape[0]):\n",
        "    cosine_distance_sum += distance.cosine(predictions[i], predictions[j])\n",
        "print(cosine_distance_sum/(predictions.shape[0] * predictions.shape[0]))\n"
      ],
      "execution_count": null,
      "outputs": [
        {
          "output_type": "stream",
          "text": [
            "(49, 128, 128, 3)\n",
            "WARNING:tensorflow:6 out of the last 11 calls to <function Model.make_predict_function.<locals>.predict_function at 0x7f66f93b1680> triggered tf.function retracing. Tracing is expensive and the excessive number of tracings could be due to (1) creating @tf.function repeatedly in a loop, (2) passing tensors with different shapes, (3) passing Python objects instead of tensors. For (1), please define your @tf.function outside of the loop. For (2), @tf.function has experimental_relax_shapes=True option that relaxes argument shapes that can avoid unnecessary retracing. For (3), please refer to https://www.tensorflow.org/guide/function#controlling_retracing and https://www.tensorflow.org/api_docs/python/tf/function for  more details.\n",
            "0.06657660320270861\n"
          ],
          "name": "stdout"
        }
      ]
    },
    {
      "cell_type": "code",
      "metadata": {
        "colab": {
          "base_uri": "https://localhost:8080/"
        },
        "id": "D4sW51xjP5H8",
        "outputId": "4ae89501-a2b6-48be-edc6-f6badcd7af71"
      },
      "source": [
        "#another way of extracting features. This is better\n",
        "base_model = InceptionV3(weights = 'imagenet', include_top = False, input_shape=(128, 128, 3) , pooling=\"avg\", classifier_activation=\"softmax\")\n",
        "trainX = load_real_samples(\"/content/gdrive/My Drive/MSc. project/npz files conference/real + fake IDRiD/real+fake_IDRID_epoch_439.npz\")\n",
        "predictions = base_model.predict(trainX)\n",
        "\n",
        "from scipy.spatial import distance\n",
        "cosine_distance_sum = 0\n",
        "for i in range (predictions.shape[0]):\n",
        "  for j in range(predictions.shape[0]):\n",
        "    cosine_distance_sum += distance.cosine(predictions[i], predictions[j])\n",
        "print(cosine_distance_sum/(predictions.shape[0] * predictions.shape[0]))\n"
      ],
      "execution_count": null,
      "outputs": [
        {
          "output_type": "stream",
          "text": [
            "(49, 128, 128, 3)\n",
            "WARNING:tensorflow:6 out of the last 11 calls to <function Model.make_predict_function.<locals>.predict_function at 0x7f66f7bb0cb0> triggered tf.function retracing. Tracing is expensive and the excessive number of tracings could be due to (1) creating @tf.function repeatedly in a loop, (2) passing tensors with different shapes, (3) passing Python objects instead of tensors. For (1), please define your @tf.function outside of the loop. For (2), @tf.function has experimental_relax_shapes=True option that relaxes argument shapes that can avoid unnecessary retracing. For (3), please refer to https://www.tensorflow.org/guide/function#controlling_retracing and https://www.tensorflow.org/api_docs/python/tf/function for  more details.\n",
            "0.08760011921024283\n"
          ],
          "name": "stdout"
        }
      ]
    },
    {
      "cell_type": "code",
      "metadata": {
        "colab": {
          "base_uri": "https://localhost:8080/"
        },
        "id": "pHRANJouP5KM",
        "outputId": "ade02ec8-9ac1-49aa-fbf6-9215d1b8c79a"
      },
      "source": [
        "#another way of extracting features. This is better\n",
        "base_model = InceptionV3(weights = 'imagenet', include_top = False, input_shape=(128, 128, 3) , pooling=\"avg\", classifier_activation=\"softmax\")\n",
        "trainX = load_real_samples(\"/content/gdrive/My Drive/MSc. project/npz files conference/real + fake IDRiD/real+fake_IDRID_epoch_449.npz\")\n",
        "predictions = base_model.predict(trainX)\n",
        "\n",
        "from scipy.spatial import distance\n",
        "cosine_distance_sum = 0\n",
        "for i in range (predictions.shape[0]):\n",
        "  for j in range(predictions.shape[0]):\n",
        "    cosine_distance_sum += distance.cosine(predictions[i], predictions[j])\n",
        "print(cosine_distance_sum/(predictions.shape[0] * predictions.shape[0]))\n"
      ],
      "execution_count": null,
      "outputs": [
        {
          "output_type": "stream",
          "text": [
            "(49, 128, 128, 3)\n",
            "WARNING:tensorflow:6 out of the last 11 calls to <function Model.make_predict_function.<locals>.predict_function at 0x7f66f828aef0> triggered tf.function retracing. Tracing is expensive and the excessive number of tracings could be due to (1) creating @tf.function repeatedly in a loop, (2) passing tensors with different shapes, (3) passing Python objects instead of tensors. For (1), please define your @tf.function outside of the loop. For (2), @tf.function has experimental_relax_shapes=True option that relaxes argument shapes that can avoid unnecessary retracing. For (3), please refer to https://www.tensorflow.org/guide/function#controlling_retracing and https://www.tensorflow.org/api_docs/python/tf/function for  more details.\n",
            "0.08369929797447805\n"
          ],
          "name": "stdout"
        }
      ]
    },
    {
      "cell_type": "code",
      "metadata": {
        "colab": {
          "base_uri": "https://localhost:8080/"
        },
        "id": "3o3E3SW0P5M-",
        "outputId": "b60bddf2-3e7a-45a8-e557-d66ff3daa1a3"
      },
      "source": [
        "#another way of extracting features. This is better\n",
        "base_model = InceptionV3(weights = 'imagenet', include_top = False, input_shape=(128, 128, 3) , pooling=\"avg\", classifier_activation=\"softmax\")\n",
        "trainX = load_real_samples(\"/content/gdrive/My Drive/MSc. project/npz files conference/real + fake IDRiD/real+fake_IDRID_epoch_459.npz\")\n",
        "predictions = base_model.predict(trainX)\n",
        "\n",
        "from scipy.spatial import distance\n",
        "cosine_distance_sum = 0\n",
        "for i in range (predictions.shape[0]):\n",
        "  for j in range(predictions.shape[0]):\n",
        "    cosine_distance_sum += distance.cosine(predictions[i], predictions[j])\n",
        "print(cosine_distance_sum/(predictions.shape[0] * predictions.shape[0]))\n"
      ],
      "execution_count": null,
      "outputs": [
        {
          "output_type": "stream",
          "text": [
            "(49, 128, 128, 3)\n",
            "WARNING:tensorflow:6 out of the last 11 calls to <function Model.make_predict_function.<locals>.predict_function at 0x7f66f6074950> triggered tf.function retracing. Tracing is expensive and the excessive number of tracings could be due to (1) creating @tf.function repeatedly in a loop, (2) passing tensors with different shapes, (3) passing Python objects instead of tensors. For (1), please define your @tf.function outside of the loop. For (2), @tf.function has experimental_relax_shapes=True option that relaxes argument shapes that can avoid unnecessary retracing. For (3), please refer to https://www.tensorflow.org/guide/function#controlling_retracing and https://www.tensorflow.org/api_docs/python/tf/function for  more details.\n",
            "0.08478032872360083\n"
          ],
          "name": "stdout"
        }
      ]
    },
    {
      "cell_type": "code",
      "metadata": {
        "colab": {
          "base_uri": "https://localhost:8080/"
        },
        "id": "HdpBo95FQAyt",
        "outputId": "2920c4e8-b4e6-41b2-d708-3e868b0adc58"
      },
      "source": [
        "#another way of extracting features. This is better\n",
        "base_model = InceptionV3(weights = 'imagenet', include_top = False, input_shape=(128, 128, 3) , pooling=\"avg\", classifier_activation=\"softmax\")\n",
        "trainX = load_real_samples(\"/content/gdrive/My Drive/MSc. project/npz files conference/real + fake IDRiD/real+fake_IDRID_epoch_469.npz\")\n",
        "predictions = base_model.predict(trainX)\n",
        "\n",
        "from scipy.spatial import distance\n",
        "cosine_distance_sum = 0\n",
        "for i in range (predictions.shape[0]):\n",
        "  for j in range(predictions.shape[0]):\n",
        "    cosine_distance_sum += distance.cosine(predictions[i], predictions[j])\n",
        "print(cosine_distance_sum/(predictions.shape[0] * predictions.shape[0]))\n"
      ],
      "execution_count": null,
      "outputs": [
        {
          "output_type": "stream",
          "text": [
            "(49, 128, 128, 3)\n",
            "WARNING:tensorflow:6 out of the last 11 calls to <function Model.make_predict_function.<locals>.predict_function at 0x7f66f52a9320> triggered tf.function retracing. Tracing is expensive and the excessive number of tracings could be due to (1) creating @tf.function repeatedly in a loop, (2) passing tensors with different shapes, (3) passing Python objects instead of tensors. For (1), please define your @tf.function outside of the loop. For (2), @tf.function has experimental_relax_shapes=True option that relaxes argument shapes that can avoid unnecessary retracing. For (3), please refer to https://www.tensorflow.org/guide/function#controlling_retracing and https://www.tensorflow.org/api_docs/python/tf/function for  more details.\n",
            "0.06729320618868967\n"
          ],
          "name": "stdout"
        }
      ]
    },
    {
      "cell_type": "code",
      "metadata": {
        "colab": {
          "base_uri": "https://localhost:8080/"
        },
        "id": "mJqF8X39QA9B",
        "outputId": "50c3a63b-f1cd-42f0-f224-c74d4b2468c0"
      },
      "source": [
        "#another way of extracting features. This is better\n",
        "base_model = InceptionV3(weights = 'imagenet', include_top = False, input_shape=(128, 128, 3) , pooling=\"avg\", classifier_activation=\"softmax\")\n",
        "trainX = load_real_samples(\"/content/gdrive/My Drive/MSc. project/npz files conference/real + fake IDRiD/real+fake_IDRID_epoch_479.npz\")\n",
        "predictions = base_model.predict(trainX)\n",
        "\n",
        "from scipy.spatial import distance\n",
        "cosine_distance_sum = 0\n",
        "for i in range (predictions.shape[0]):\n",
        "  for j in range(predictions.shape[0]):\n",
        "    cosine_distance_sum += distance.cosine(predictions[i], predictions[j])\n",
        "print(cosine_distance_sum/(predictions.shape[0] * predictions.shape[0]))\n"
      ],
      "execution_count": null,
      "outputs": [
        {
          "output_type": "stream",
          "text": [
            "(49, 128, 128, 3)\n",
            "WARNING:tensorflow:6 out of the last 11 calls to <function Model.make_predict_function.<locals>.predict_function at 0x7f66f7bd4ef0> triggered tf.function retracing. Tracing is expensive and the excessive number of tracings could be due to (1) creating @tf.function repeatedly in a loop, (2) passing tensors with different shapes, (3) passing Python objects instead of tensors. For (1), please define your @tf.function outside of the loop. For (2), @tf.function has experimental_relax_shapes=True option that relaxes argument shapes that can avoid unnecessary retracing. For (3), please refer to https://www.tensorflow.org/guide/function#controlling_retracing and https://www.tensorflow.org/api_docs/python/tf/function for  more details.\n",
            "0.06860685979063835\n"
          ],
          "name": "stdout"
        }
      ]
    },
    {
      "cell_type": "code",
      "metadata": {
        "colab": {
          "base_uri": "https://localhost:8080/"
        },
        "id": "oFzomhwuQBAi",
        "outputId": "18f762fa-35b2-42e1-dddf-db39c30e4647"
      },
      "source": [
        "#another way of extracting features. This is better\n",
        "base_model = InceptionV3(weights = 'imagenet', include_top = False, input_shape=(128, 128, 3) , pooling=\"avg\", classifier_activation=\"softmax\")\n",
        "trainX = load_real_samples(\"/content/gdrive/My Drive/MSc. project/npz files conference/real + fake IDRiD/real+fake_IDRID_epoch_489.npz\")\n",
        "predictions = base_model.predict(trainX)\n",
        "\n",
        "from scipy.spatial import distance\n",
        "cosine_distance_sum = 0\n",
        "for i in range (predictions.shape[0]):\n",
        "  for j in range(predictions.shape[0]):\n",
        "    cosine_distance_sum += distance.cosine(predictions[i], predictions[j])\n",
        "print(cosine_distance_sum/(predictions.shape[0] * predictions.shape[0]))\n"
      ],
      "execution_count": null,
      "outputs": [
        {
          "output_type": "stream",
          "text": [
            "(49, 128, 128, 3)\n",
            "WARNING:tensorflow:6 out of the last 11 calls to <function Model.make_predict_function.<locals>.predict_function at 0x7f66f93d5d40> triggered tf.function retracing. Tracing is expensive and the excessive number of tracings could be due to (1) creating @tf.function repeatedly in a loop, (2) passing tensors with different shapes, (3) passing Python objects instead of tensors. For (1), please define your @tf.function outside of the loop. For (2), @tf.function has experimental_relax_shapes=True option that relaxes argument shapes that can avoid unnecessary retracing. For (3), please refer to https://www.tensorflow.org/guide/function#controlling_retracing and https://www.tensorflow.org/api_docs/python/tf/function for  more details.\n",
            "0.06793142804896916\n"
          ],
          "name": "stdout"
        }
      ]
    },
    {
      "cell_type": "code",
      "metadata": {
        "colab": {
          "base_uri": "https://localhost:8080/"
        },
        "id": "7zb7jR4zQBDy",
        "outputId": "9f362f46-b590-4634-cab0-d6cc5988b8d4"
      },
      "source": [
        "#another way of extracting features. This is better\n",
        "base_model = InceptionV3(weights = 'imagenet', include_top = False, input_shape=(128, 128, 3) , pooling=\"avg\", classifier_activation=\"softmax\")\n",
        "trainX = load_real_samples(\"/content/gdrive/My Drive/MSc. project/npz files conference/real + fake IDRiD/real+fake_IDRID_epoch_499.npz\")\n",
        "predictions = base_model.predict(trainX)\n",
        "\n",
        "from scipy.spatial import distance\n",
        "cosine_distance_sum = 0\n",
        "for i in range (predictions.shape[0]):\n",
        "  for j in range(predictions.shape[0]):\n",
        "    cosine_distance_sum += distance.cosine(predictions[i], predictions[j])\n",
        "print(cosine_distance_sum/(predictions.shape[0] * predictions.shape[0]))\n"
      ],
      "execution_count": null,
      "outputs": [
        {
          "output_type": "stream",
          "text": [
            "(49, 128, 128, 3)\n",
            "WARNING:tensorflow:6 out of the last 11 calls to <function Model.make_predict_function.<locals>.predict_function at 0x7f66f6135f80> triggered tf.function retracing. Tracing is expensive and the excessive number of tracings could be due to (1) creating @tf.function repeatedly in a loop, (2) passing tensors with different shapes, (3) passing Python objects instead of tensors. For (1), please define your @tf.function outside of the loop. For (2), @tf.function has experimental_relax_shapes=True option that relaxes argument shapes that can avoid unnecessary retracing. For (3), please refer to https://www.tensorflow.org/guide/function#controlling_retracing and https://www.tensorflow.org/api_docs/python/tf/function for  more details.\n",
            "0.07902267405213241\n"
          ],
          "name": "stdout"
        }
      ]
    }
  ]
}